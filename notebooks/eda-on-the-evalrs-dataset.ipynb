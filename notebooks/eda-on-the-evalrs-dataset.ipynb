{
 "cells": [
  {
   "cell_type": "markdown",
   "metadata": {
    "id": "nkF_4ePZHNzg"
   },
   "source": [
    "# Exploring the EvalRS dataset\n",
    "\n",
    "This notebook provides some basic EDA on the dataset of the [EvalRS 2023](https://reclist.io/kdd2023-cup/) hackathon.\n",
    "Please refer to [our paper](https://arxiv.org/abs/2304.07145) for all the details.\n",
    "\n",
    "With the goal of building a *all-around* recommender system, we likely want to understand how users, tracks and listening events are distributed, with a special case to *long tails* and rare (or new events). Yeah, you can thank us for the tip later.\n",
    "\n",
    "Before we start, we need to check we are inside the right virtual environment"
   ]
  },
  {
   "cell_type": "code",
   "execution_count": 1,
   "metadata": {
    "execution": {
     "iopub.execute_input": "2022-08-04T18:34:13.645302Z",
     "iopub.status.busy": "2022-08-04T18:34:13.644435Z",
     "iopub.status.idle": "2022-08-04T18:35:00.150666Z",
     "shell.execute_reply": "2022-08-04T18:35:00.148978Z",
     "shell.execute_reply.started": "2022-08-04T18:34:13.645133Z"
    },
    "id": "dljiNmSJjr-u"
   },
   "outputs": [],
   "source": [
    "%%capture\n",
    "# check we are using the right interpreter with the right RecList version\n",
    "!which python\n",
    "!pip install -r ../requirements.txt"
   ]
  },
  {
   "cell_type": "code",
   "execution_count": 1,
   "metadata": {
    "id": "Mv-L2X8Fj0fw",
    "tags": []
   },
   "outputs": [],
   "source": [
    "import os\n",
    "import sys\n",
    "sys.path.insert(0, '../evaluation')"
   ]
  },
  {
   "cell_type": "code",
   "execution_count": 89,
   "metadata": {
    "id": "_-FxCXfaoFNU",
    "tags": []
   },
   "outputs": [],
   "source": [
    "from EvalRSRunner import ChallengeDataset\n",
    "\n",
    "import gc\n",
    "import pandas as pd\n",
    "import numpy as np\n",
    "import os\n",
    "import matplotlib.pyplot as plt\n",
    "import seaborn as sns\n",
    "import pyarrow.parquet as pq\n",
    "\n",
    "sns.set_theme(\"notebook\")"
   ]
  },
  {
   "cell_type": "markdown",
   "metadata": {},
   "source": [
    "Next, we have to download the dataset (~1.6GB) -- actually, you'll download it just the first time!"
   ]
  },
  {
   "cell_type": "code",
   "execution_count": 3,
   "metadata": {
    "id": "hij5x-hOoHKx",
    "outputId": "857b78b1-e056-4836-8442-877deb0e721f"
   },
   "outputs": [
    {
     "name": "stdout",
     "output_type": "stream",
     "text": [
      "/Users/mala/Library/Caches/evalrs/evalrs_dataset_KDD_2023\n",
      "Downloading LFM dataset...\n",
      "Downloading to /Users/mala/Library/Caches/evalrs/evalrs_dataset.zip...\n"
     ]
    },
    {
     "name": "stderr",
     "output_type": "stream",
     "text": [
      "evalrs_dataset_KDD_2023.zip: 100%|██████████████████████████████████████████████████████████████████████████████████████████████████████████████| 1.60G/1.60G [14:55<00:00, 1.92MB/s]\n"
     ]
    },
    {
     "name": "stdout",
     "output_type": "stream",
     "text": [
      "Loading dataset.\n",
      "Generating Train/Test Split.\n",
      "Generating dataset hashes.\n"
     ]
    }
   ],
   "source": [
    "dataset = ChallengeDataset()"
   ]
  },
  {
   "cell_type": "markdown",
   "metadata": {},
   "source": [
    "And get a sample fold (see details on our Bootstrapping Cross-Validation evaluation strategy to know more about folds)."
   ]
  },
  {
   "cell_type": "code",
   "execution_count": 4,
   "metadata": {
    "id": "K-UJp05VoJVD",
    "outputId": "6d6f97fc-dcf8-4904-86b5-5d6853945ac0"
   },
   "outputs": [
    {
     "data": {
      "text/plain": [
       "((6902066, 6), (29725, 2))"
      ]
     },
     "execution_count": 4,
     "metadata": {},
     "output_type": "execute_result"
    }
   ],
   "source": [
    "train, test = dataset.get_sample_train_test()\n",
    "train.shape, test.shape"
   ]
  },
  {
   "cell_type": "code",
   "execution_count": 5,
   "metadata": {
    "id": "n5z3WQ1iQF_Z",
    "outputId": "71918ba2-f965-44fd-9068-7bd28cec7d53"
   },
   "outputs": [
    {
     "name": "stdout",
     "output_type": "stream",
     "text": [
      "<class 'pandas.core.frame.DataFrame'>\n",
      "Index: 6902066 entries, 751 to 37926116\n",
      "Data columns (total 6 columns):\n",
      " #   Column            Dtype\n",
      "---  ------            -----\n",
      " 0   user_id           int64\n",
      " 1   artist_id         int64\n",
      " 2   album_id          int64\n",
      " 3   track_id          int64\n",
      " 4   timestamp         int64\n",
      " 5   user_track_count  int64\n",
      "dtypes: int64(6)\n",
      "memory usage: 368.6 MB\n"
     ]
    }
   ],
   "source": [
    "train.info()"
   ]
  },
  {
   "cell_type": "markdown",
   "metadata": {},
   "source": [
    "So. We have ~7M training listening records. Each tells us who (*user_id*) listened to what (*track_id*), when (*timestamp*), and how many times (*user_track_count*).\n",
    "\n",
    "Let's now run some preprocessing to get started."
   ]
  },
  {
   "cell_type": "code",
   "execution_count": 6,
   "metadata": {},
   "outputs": [],
   "source": [
    "# convert the timestamp in a more convenient format\n",
    "train[\"timestamp\"] = pd.to_datetime(train[\"timestamp\"], unit=\"s\")"
   ]
  },
  {
   "cell_type": "code",
   "execution_count": 7,
   "metadata": {},
   "outputs": [],
   "source": [
    "# add a column for Hour Of the Day\n",
    "train[\"hod\"] = train[\"timestamp\"].dt.hour"
   ]
  },
  {
   "cell_type": "markdown",
   "metadata": {},
   "source": [
    "We are ready to do some EDA."
   ]
  },
  {
   "cell_type": "markdown",
   "metadata": {
    "id": "yxlmpAMSQAYD"
   },
   "source": [
    "## EDA on Tracks\n",
    "\n",
    "Let's begin with a few statistics about tracks. We can inspect how many *unique* tracks are there! "
   ]
  },
  {
   "cell_type": "code",
   "execution_count": 8,
   "metadata": {},
   "outputs": [],
   "source": [
    "percentiles = np.arange(1, step=0.1)\n",
    "gb_track = train.groupby(\"track_id\")"
   ]
  },
  {
   "cell_type": "markdown",
   "metadata": {},
   "source": [
    "**Q0: what's the Track distribution?**"
   ]
  },
  {
   "cell_type": "code",
   "execution_count": 9,
   "metadata": {},
   "outputs": [
    {
     "data": {
      "text/plain": [
       "count    228997.000000\n",
       "mean         30.140421\n",
       "std          41.823156\n",
       "min           8.000000\n",
       "0%            8.000000\n",
       "10%          10.000000\n",
       "20%          12.000000\n",
       "30%          13.000000\n",
       "40%          15.000000\n",
       "50%          17.000000\n",
       "60%          21.000000\n",
       "70%          26.000000\n",
       "80%          36.000000\n",
       "90%          59.000000\n",
       "max        1585.000000\n",
       "dtype: float64"
      ]
     },
     "execution_count": 9,
     "metadata": {},
     "output_type": "execute_result"
    }
   ],
   "source": [
    "track_records = gb_track.size()\n",
    "track_records.describe(percentiles)"
   ]
  },
  {
   "cell_type": "markdown",
   "metadata": {},
   "source": [
    "There are ~230K distinct tracks. But wait. We know there is a `timestamp` feature, does that mean that a user can play the same track multiple times? Programmatically, we should check if the pair <`user`,`track`> does appear multiple times."
   ]
  },
  {
   "cell_type": "code",
   "execution_count": 10,
   "metadata": {},
   "outputs": [
    {
     "data": {
      "text/plain": [
       "True"
      ]
     },
     "execution_count": 10,
     "metadata": {},
     "output_type": "execute_result"
    }
   ],
   "source": [
    "len(train.groupby([\"user_id\", \"track_id\"]).size()) == train.shape[0]"
   ]
  },
  {
   "cell_type": "code",
   "execution_count": 11,
   "metadata": {},
   "outputs": [
    {
     "data": {
      "text/html": [
       "<div>\n",
       "<style scoped>\n",
       "    .dataframe tbody tr th:only-of-type {\n",
       "        vertical-align: middle;\n",
       "    }\n",
       "\n",
       "    .dataframe tbody tr th {\n",
       "        vertical-align: top;\n",
       "    }\n",
       "\n",
       "    .dataframe thead th {\n",
       "        text-align: right;\n",
       "    }\n",
       "</style>\n",
       "<table border=\"1\" class=\"dataframe\">\n",
       "  <thead>\n",
       "    <tr style=\"text-align: right;\">\n",
       "      <th></th>\n",
       "      <th>user_id</th>\n",
       "      <th>artist_id</th>\n",
       "      <th>album_id</th>\n",
       "      <th>track_id</th>\n",
       "      <th>timestamp</th>\n",
       "      <th>user_track_count</th>\n",
       "      <th>hod</th>\n",
       "    </tr>\n",
       "  </thead>\n",
       "  <tbody>\n",
       "    <tr>\n",
       "      <th>751</th>\n",
       "      <td>50931921</td>\n",
       "      <td>3887</td>\n",
       "      <td>1168550</td>\n",
       "      <td>21882383</td>\n",
       "      <td>2014-01-08 17:07:16</td>\n",
       "      <td>1</td>\n",
       "      <td>17</td>\n",
       "    </tr>\n",
       "    <tr>\n",
       "      <th>752</th>\n",
       "      <td>50931921</td>\n",
       "      <td>3887</td>\n",
       "      <td>1168550</td>\n",
       "      <td>123627</td>\n",
       "      <td>2014-01-08 17:07:13</td>\n",
       "      <td>3</td>\n",
       "      <td>17</td>\n",
       "    </tr>\n",
       "    <tr>\n",
       "      <th>753</th>\n",
       "      <td>50931921</td>\n",
       "      <td>3887</td>\n",
       "      <td>630816</td>\n",
       "      <td>5065782</td>\n",
       "      <td>2013-12-06 18:17:02</td>\n",
       "      <td>1</td>\n",
       "      <td>18</td>\n",
       "    </tr>\n",
       "    <tr>\n",
       "      <th>754</th>\n",
       "      <td>50931921</td>\n",
       "      <td>279</td>\n",
       "      <td>4451359</td>\n",
       "      <td>37612</td>\n",
       "      <td>2013-12-01 11:33:44</td>\n",
       "      <td>1</td>\n",
       "      <td>11</td>\n",
       "    </tr>\n",
       "    <tr>\n",
       "      <th>755</th>\n",
       "      <td>50931921</td>\n",
       "      <td>4166</td>\n",
       "      <td>29770</td>\n",
       "      <td>85498</td>\n",
       "      <td>2013-11-17 11:53:59</td>\n",
       "      <td>1</td>\n",
       "      <td>11</td>\n",
       "    </tr>\n",
       "  </tbody>\n",
       "</table>\n",
       "</div>"
      ],
      "text/plain": [
       "      user_id  artist_id  album_id  track_id           timestamp  \\\n",
       "751  50931921       3887   1168550  21882383 2014-01-08 17:07:16   \n",
       "752  50931921       3887   1168550    123627 2014-01-08 17:07:13   \n",
       "753  50931921       3887    630816   5065782 2013-12-06 18:17:02   \n",
       "754  50931921        279   4451359     37612 2013-12-01 11:33:44   \n",
       "755  50931921       4166     29770     85498 2013-11-17 11:53:59   \n",
       "\n",
       "     user_track_count  hod  \n",
       "751                 1   17  \n",
       "752                 3   17  \n",
       "753                 1   18  \n",
       "754                 1   11  \n",
       "755                 1   11  "
      ]
     },
     "execution_count": 11,
     "metadata": {},
     "output_type": "execute_result"
    }
   ],
   "source": [
    "train.head()"
   ]
  },
  {
   "cell_type": "markdown",
   "metadata": {},
   "source": [
    "The two sizes correspond: we can assume there are no <`user`,`track`> duplicates. Indeed, the `user_track_count` value lets us know the play count!\n",
    "\n",
    "We also obtained a new information: `track_records` contains the number of distinct users that played a given track. Let's now observe the distribution graphically."
   ]
  },
  {
   "cell_type": "code",
   "execution_count": 12,
   "metadata": {},
   "outputs": [
    {
     "data": {
      "text/plain": [
       "Text(0, 0.5, 'Track Count (log)')"
      ]
     },
     "execution_count": 12,
     "metadata": {},
     "output_type": "execute_result"
    },
    {
     "data": {
      "image/png": "[encoded data removed]",
      "text/plain": [
       "<Figure size 1200x800 with 1 Axes>"
      ]
     },
     "metadata": {},
     "output_type": "display_data"
    }
   ],
   "source": [
    "fig, ax = plt.subplots(figsize=(12,8))\n",
    "ax.hist(track_records)\n",
    "ax.set_yscale(\"log\")\n",
    "ax.set_xlabel(\"Distinct Users\")\n",
    "ax.set_ylabel(\"Track Count (log)\")"
   ]
  },
  {
   "cell_type": "markdown",
   "metadata": {},
   "source": [
    "Let's look at the distribution in percentiles again. "
   ]
  },
  {
   "cell_type": "code",
   "execution_count": 13,
   "metadata": {
    "id": "nQk3NbVYpsE2",
    "outputId": "1bd40fd4-a366-43da-e316-6449648beca0"
   },
   "outputs": [
    {
     "data": {
      "text/plain": [
       "count    228997.000000\n",
       "mean         30.140421\n",
       "std          41.823156\n",
       "min           8.000000\n",
       "0%            8.000000\n",
       "10%          10.000000\n",
       "20%          12.000000\n",
       "30%          13.000000\n",
       "40%          15.000000\n",
       "50%          17.000000\n",
       "60%          21.000000\n",
       "70%          26.000000\n",
       "80%          36.000000\n",
       "90%          59.000000\n",
       "max        1585.000000\n",
       "dtype: float64"
      ]
     },
     "execution_count": 13,
     "metadata": {},
     "output_type": "execute_result"
    }
   ],
   "source": [
    "track_records.describe(percentiles)"
   ]
  },
  {
   "cell_type": "markdown",
   "metadata": {},
   "source": [
    "Tracks are listened by 30 distinct users on the average, and 90% of them has less than 59 distinct users that played it. Further, there are some outliers: the maximum number of users is ~1600. Is this a very popular track or a dataset artifact? Let's find out.   "
   ]
  },
  {
   "cell_type": "code",
   "execution_count": 15,
   "metadata": {},
   "outputs": [
    {
     "data": {
      "text/html": [
       "<div>\n",
       "<style scoped>\n",
       "    .dataframe tbody tr th:only-of-type {\n",
       "        vertical-align: middle;\n",
       "    }\n",
       "\n",
       "    .dataframe tbody tr th {\n",
       "        vertical-align: top;\n",
       "    }\n",
       "\n",
       "    .dataframe thead th {\n",
       "        text-align: right;\n",
       "    }\n",
       "</style>\n",
       "<table border=\"1\" class=\"dataframe\">\n",
       "  <thead>\n",
       "    <tr style=\"text-align: right;\">\n",
       "      <th></th>\n",
       "      <th>track</th>\n",
       "      <th>artist_id</th>\n",
       "      <th>artist</th>\n",
       "      <th>albums_id</th>\n",
       "      <th>albums</th>\n",
       "      <th>urlSong</th>\n",
       "      <th>arousal_predicted</th>\n",
       "      <th>valence_predicted</th>\n",
       "      <th>lastfm_id</th>\n",
       "      <th>has_emotion_tags</th>\n",
       "      <th>has_social_tags</th>\n",
       "      <th>isClassic</th>\n",
       "      <th>distinct_user_count</th>\n",
       "    </tr>\n",
       "    <tr>\n",
       "      <th>track_id</th>\n",
       "      <th></th>\n",
       "      <th></th>\n",
       "      <th></th>\n",
       "      <th></th>\n",
       "      <th></th>\n",
       "      <th></th>\n",
       "      <th></th>\n",
       "      <th></th>\n",
       "      <th></th>\n",
       "      <th></th>\n",
       "      <th></th>\n",
       "      <th></th>\n",
       "      <th></th>\n",
       "    </tr>\n",
       "  </thead>\n",
       "  <tbody>\n",
       "    <tr>\n",
       "      <th>4868</th>\n",
       "      <td>Rolling in the Deep</td>\n",
       "      <td>504</td>\n",
       "      <td>Adele</td>\n",
       "      <td>[1518, 18942, 64876, 66600, 80986, 93573, 9761...</td>\n",
       "      <td>['21', '19', '21 (Deluxe Edition)', 'monday_pl...</td>\n",
       "      <td>http://lyrics.wikia.com/Adele:Rolling_In_The_Deep</td>\n",
       "      <td>0.390623</td>\n",
       "      <td>-0.263898</td>\n",
       "      <td>None</td>\n",
       "      <td>None</td>\n",
       "      <td>None</td>\n",
       "      <td>True</td>\n",
       "      <td>1585</td>\n",
       "    </tr>\n",
       "    <tr>\n",
       "      <th>26142</th>\n",
       "      <td>We Are Young (feat. Janelle Monáe)</td>\n",
       "      <td>3151</td>\n",
       "      <td>fun.</td>\n",
       "      <td>[6907, 9619, 53139, 162664, 238945, 246098, 27...</td>\n",
       "      <td>['Some Nights', 'We Are Young', nan, 'The Best...</td>\n",
       "      <td>None</td>\n",
       "      <td>NaN</td>\n",
       "      <td>NaN</td>\n",
       "      <td>None</td>\n",
       "      <td>None</td>\n",
       "      <td>None</td>\n",
       "      <td>None</td>\n",
       "      <td>1500</td>\n",
       "    </tr>\n",
       "    <tr>\n",
       "      <th>11393952</th>\n",
       "      <td>Somebody That I Used to Know</td>\n",
       "      <td>3085</td>\n",
       "      <td>Gotye</td>\n",
       "      <td>[20107, 33321, 90034, 103479, 107493, 158828, ...</td>\n",
       "      <td>['Making Mirrors (Deluxe Edition)', 'Somebody ...</td>\n",
       "      <td>http://lyrics.wikia.com/Gotye:Somebody_That_I_...</td>\n",
       "      <td>-0.383686</td>\n",
       "      <td>-0.720571</td>\n",
       "      <td>None</td>\n",
       "      <td>None</td>\n",
       "      <td>None</td>\n",
       "      <td>True</td>\n",
       "      <td>1402</td>\n",
       "    </tr>\n",
       "    <tr>\n",
       "      <th>16110</th>\n",
       "      <td>Get Lucky (feat. Pharrell Williams)</td>\n",
       "      <td>320</td>\n",
       "      <td>Daft Punk</td>\n",
       "      <td>[5331, 10200, 11728, 40809, 84112, 95892, 1237...</td>\n",
       "      <td>['Random Access Memories', 'Get Lucky', 'Homew...</td>\n",
       "      <td>None</td>\n",
       "      <td>NaN</td>\n",
       "      <td>NaN</td>\n",
       "      <td>None</td>\n",
       "      <td>None</td>\n",
       "      <td>None</td>\n",
       "      <td>None</td>\n",
       "      <td>1349</td>\n",
       "    </tr>\n",
       "    <tr>\n",
       "      <th>14034</th>\n",
       "      <td>We Found Love (feat. Calvin Harris)</td>\n",
       "      <td>355</td>\n",
       "      <td>Rihanna</td>\n",
       "      <td>[4961, 6808, 14253, 18206, 18254, 19802, 40014...</td>\n",
       "      <td>['We Found Love', 'The Official Uk Top 40 Sing...</td>\n",
       "      <td>None</td>\n",
       "      <td>NaN</td>\n",
       "      <td>NaN</td>\n",
       "      <td>None</td>\n",
       "      <td>None</td>\n",
       "      <td>None</td>\n",
       "      <td>None</td>\n",
       "      <td>1248</td>\n",
       "    </tr>\n",
       "    <tr>\n",
       "      <th>51176</th>\n",
       "      <td>Titanium (feat. Sia)</td>\n",
       "      <td>1935</td>\n",
       "      <td>David Guetta</td>\n",
       "      <td>[16065, 18345, 18845, 32658, 40236, 80698, 875...</td>\n",
       "      <td>['Best of...', 'Nothing but the Beat 2.0', 'No...</td>\n",
       "      <td>None</td>\n",
       "      <td>NaN</td>\n",
       "      <td>NaN</td>\n",
       "      <td>None</td>\n",
       "      <td>None</td>\n",
       "      <td>None</td>\n",
       "      <td>None</td>\n",
       "      <td>1134</td>\n",
       "    </tr>\n",
       "    <tr>\n",
       "      <th>28847</th>\n",
       "      <td>Get Lucky (Radio Edit) [feat. Pharrell Williams]</td>\n",
       "      <td>320</td>\n",
       "      <td>Daft Punk</td>\n",
       "      <td>[10200, 19277, 136209, 188202, 269754, 361728,...</td>\n",
       "      <td>['Get Lucky', nan, 'Random Access Memories', '...</td>\n",
       "      <td>None</td>\n",
       "      <td>NaN</td>\n",
       "      <td>NaN</td>\n",
       "      <td>None</td>\n",
       "      <td>None</td>\n",
       "      <td>None</td>\n",
       "      <td>None</td>\n",
       "      <td>1110</td>\n",
       "    </tr>\n",
       "    <tr>\n",
       "      <th>572665</th>\n",
       "      <td>Set Fire to the Rain</td>\n",
       "      <td>504</td>\n",
       "      <td>Adele</td>\n",
       "      <td>[1518, 64876, 93573, 98525, 116649, 143113, 14...</td>\n",
       "      <td>['21', '21 (Deluxe Edition)', 'Rolling in the ...</td>\n",
       "      <td>http://lyrics.wikia.com/Adele:Set_Fire_To_The_...</td>\n",
       "      <td>-0.428821</td>\n",
       "      <td>-0.415065</td>\n",
       "      <td>None</td>\n",
       "      <td>None</td>\n",
       "      <td>None</td>\n",
       "      <td>False</td>\n",
       "      <td>1081</td>\n",
       "    </tr>\n",
       "    <tr>\n",
       "      <th>29375</th>\n",
       "      <td>Lights</td>\n",
       "      <td>4091</td>\n",
       "      <td>Ellie Goulding</td>\n",
       "      <td>[9086, 9174, 10388, 10389, 12804, 19124, 35773...</td>\n",
       "      <td>['Halcyon (Deluxe Edition)', 'Halcyon Days', '...</td>\n",
       "      <td>http://lyrics.wikia.com/Ellie_Goulding:Lights</td>\n",
       "      <td>-0.272432</td>\n",
       "      <td>-0.724689</td>\n",
       "      <td>None</td>\n",
       "      <td>None</td>\n",
       "      <td>None</td>\n",
       "      <td>False</td>\n",
       "      <td>996</td>\n",
       "    </tr>\n",
       "    <tr>\n",
       "      <th>2498</th>\n",
       "      <td>Blue Jeans</td>\n",
       "      <td>402</td>\n",
       "      <td>Lana Del Rey</td>\n",
       "      <td>[1066, 4509, 12831, 20462, 20475, 20735, 79820...</td>\n",
       "      <td>['Born to Die', 'Born to Die - The Paradise Ed...</td>\n",
       "      <td>http://lyrics.wikia.com/Lana_Del_Rey:Blue_Jeans</td>\n",
       "      <td>0.278431</td>\n",
       "      <td>-0.109800</td>\n",
       "      <td>None</td>\n",
       "      <td>None</td>\n",
       "      <td>None</td>\n",
       "      <td>False</td>\n",
       "      <td>990</td>\n",
       "    </tr>\n",
       "  </tbody>\n",
       "</table>\n",
       "</div>"
      ],
      "text/plain": [
       "                                                     track  artist_id  \\\n",
       "track_id                                                                \n",
       "4868                                   Rolling in the Deep        504   \n",
       "26142                   We Are Young (feat. Janelle Monáe)       3151   \n",
       "11393952                      Somebody That I Used to Know       3085   \n",
       "16110                  Get Lucky (feat. Pharrell Williams)        320   \n",
       "14034                  We Found Love (feat. Calvin Harris)        355   \n",
       "51176                                 Titanium (feat. Sia)       1935   \n",
       "28847     Get Lucky (Radio Edit) [feat. Pharrell Williams]        320   \n",
       "572665                                Set Fire to the Rain        504   \n",
       "29375                                               Lights       4091   \n",
       "2498                                            Blue Jeans        402   \n",
       "\n",
       "                  artist                                          albums_id  \\\n",
       "track_id                                                                      \n",
       "4868               Adele  [1518, 18942, 64876, 66600, 80986, 93573, 9761...   \n",
       "26142               fun.  [6907, 9619, 53139, 162664, 238945, 246098, 27...   \n",
       "11393952           Gotye  [20107, 33321, 90034, 103479, 107493, 158828, ...   \n",
       "16110          Daft Punk  [5331, 10200, 11728, 40809, 84112, 95892, 1237...   \n",
       "14034            Rihanna  [4961, 6808, 14253, 18206, 18254, 19802, 40014...   \n",
       "51176       David Guetta  [16065, 18345, 18845, 32658, 40236, 80698, 875...   \n",
       "28847          Daft Punk  [10200, 19277, 136209, 188202, 269754, 361728,...   \n",
       "572665             Adele  [1518, 64876, 93573, 98525, 116649, 143113, 14...   \n",
       "29375     Ellie Goulding  [9086, 9174, 10388, 10389, 12804, 19124, 35773...   \n",
       "2498        Lana Del Rey  [1066, 4509, 12831, 20462, 20475, 20735, 79820...   \n",
       "\n",
       "                                                     albums  \\\n",
       "track_id                                                      \n",
       "4868      ['21', '19', '21 (Deluxe Edition)', 'monday_pl...   \n",
       "26142     ['Some Nights', 'We Are Young', nan, 'The Best...   \n",
       "11393952  ['Making Mirrors (Deluxe Edition)', 'Somebody ...   \n",
       "16110     ['Random Access Memories', 'Get Lucky', 'Homew...   \n",
       "14034     ['We Found Love', 'The Official Uk Top 40 Sing...   \n",
       "51176     ['Best of...', 'Nothing but the Beat 2.0', 'No...   \n",
       "28847     ['Get Lucky', nan, 'Random Access Memories', '...   \n",
       "572665    ['21', '21 (Deluxe Edition)', 'Rolling in the ...   \n",
       "29375     ['Halcyon (Deluxe Edition)', 'Halcyon Days', '...   \n",
       "2498      ['Born to Die', 'Born to Die - The Paradise Ed...   \n",
       "\n",
       "                                                    urlSong  \\\n",
       "track_id                                                      \n",
       "4868      http://lyrics.wikia.com/Adele:Rolling_In_The_Deep   \n",
       "26142                                                  None   \n",
       "11393952  http://lyrics.wikia.com/Gotye:Somebody_That_I_...   \n",
       "16110                                                  None   \n",
       "14034                                                  None   \n",
       "51176                                                  None   \n",
       "28847                                                  None   \n",
       "572665    http://lyrics.wikia.com/Adele:Set_Fire_To_The_...   \n",
       "29375         http://lyrics.wikia.com/Ellie_Goulding:Lights   \n",
       "2498        http://lyrics.wikia.com/Lana_Del_Rey:Blue_Jeans   \n",
       "\n",
       "          arousal_predicted  valence_predicted lastfm_id has_emotion_tags  \\\n",
       "track_id                                                                    \n",
       "4868               0.390623          -0.263898      None             None   \n",
       "26142                   NaN                NaN      None             None   \n",
       "11393952          -0.383686          -0.720571      None             None   \n",
       "16110                   NaN                NaN      None             None   \n",
       "14034                   NaN                NaN      None             None   \n",
       "51176                   NaN                NaN      None             None   \n",
       "28847                   NaN                NaN      None             None   \n",
       "572665            -0.428821          -0.415065      None             None   \n",
       "29375             -0.272432          -0.724689      None             None   \n",
       "2498               0.278431          -0.109800      None             None   \n",
       "\n",
       "         has_social_tags isClassic  distinct_user_count  \n",
       "track_id                                                 \n",
       "4868                None      True                 1585  \n",
       "26142               None      None                 1500  \n",
       "11393952            None      True                 1402  \n",
       "16110               None      None                 1349  \n",
       "14034               None      None                 1248  \n",
       "51176               None      None                 1134  \n",
       "28847               None      None                 1110  \n",
       "572665              None     False                 1081  \n",
       "29375               None     False                  996  \n",
       "2498                None     False                  990  "
      ]
     },
     "execution_count": 15,
     "metadata": {},
     "output_type": "execute_result"
    }
   ],
   "source": [
    "K = 10\n",
    "top_by_user = track_records.iloc[track_records.argsort().values[:-(K+1):-1]]\n",
    "top_by_user.name = \"distinct_user_count\"\n",
    "\n",
    "# Retrieve the task information from the `dataset` handler variable\n",
    "dataset.df_tracks.loc[top_by_user.index].join(top_by_user)"
   ]
  },
  {
   "cell_type": "markdown",
   "metadata": {},
   "source": [
    "Well, these song seem pretty popular, right? But something more came up... look at position **3** and **6**: there are two different versions of *Get Lucky*. Is this something you want your model to factor in at training time? "
   ]
  },
  {
   "cell_type": "markdown",
   "metadata": {},
   "source": [
    "**Q1: How many times does a user play the same song?**\n",
    "\n",
    "We can use the handy `user_track_count` to measure how frequently users get engaged by songs (remember to take a look at all the columns in `dataset.df_users`, there are very userful variable there)."
   ]
  },
  {
   "cell_type": "code",
   "execution_count": 16,
   "metadata": {},
   "outputs": [
    {
     "data": {
      "text/plain": [
       "count    228997.000000\n",
       "mean          2.577950\n",
       "std           2.499551\n",
       "min           1.000000\n",
       "0%            1.000000\n",
       "10%           1.250000\n",
       "20%           1.416667\n",
       "30%           1.590909\n",
       "40%           1.772727\n",
       "50%           2.000000\n",
       "60%           2.250000\n",
       "70%           2.615385\n",
       "80%           3.176471\n",
       "90%           4.286157\n",
       "max         231.333333\n",
       "Name: user_track_count, dtype: float64"
      ]
     },
     "execution_count": 16,
     "metadata": {},
     "output_type": "execute_result"
    }
   ],
   "source": [
    "avg_play_count = gb_track[\"user_track_count\"].mean()\n",
    "avg_play_count.describe(percentiles)"
   ]
  },
  {
   "cell_type": "markdown",
   "metadata": {},
   "source": [
    "On the average, a user repeats a given track ~2.6 times. Again, let's inspect our tail."
   ]
  },
  {
   "cell_type": "code",
   "execution_count": 17,
   "metadata": {},
   "outputs": [
    {
     "data": {
      "text/html": [
       "<div>\n",
       "<style scoped>\n",
       "    .dataframe tbody tr th:only-of-type {\n",
       "        vertical-align: middle;\n",
       "    }\n",
       "\n",
       "    .dataframe tbody tr th {\n",
       "        vertical-align: top;\n",
       "    }\n",
       "\n",
       "    .dataframe thead th {\n",
       "        text-align: right;\n",
       "    }\n",
       "</style>\n",
       "<table border=\"1\" class=\"dataframe\">\n",
       "  <thead>\n",
       "    <tr style=\"text-align: right;\">\n",
       "      <th></th>\n",
       "      <th>track</th>\n",
       "      <th>artist_id</th>\n",
       "      <th>artist</th>\n",
       "      <th>albums_id</th>\n",
       "      <th>albums</th>\n",
       "      <th>urlSong</th>\n",
       "      <th>arousal_predicted</th>\n",
       "      <th>valence_predicted</th>\n",
       "      <th>lastfm_id</th>\n",
       "      <th>has_emotion_tags</th>\n",
       "      <th>has_social_tags</th>\n",
       "      <th>isClassic</th>\n",
       "      <th>avg_play_count</th>\n",
       "    </tr>\n",
       "    <tr>\n",
       "      <th>track_id</th>\n",
       "      <th></th>\n",
       "      <th></th>\n",
       "      <th></th>\n",
       "      <th></th>\n",
       "      <th></th>\n",
       "      <th></th>\n",
       "      <th></th>\n",
       "      <th></th>\n",
       "      <th></th>\n",
       "      <th></th>\n",
       "      <th></th>\n",
       "      <th></th>\n",
       "      <th></th>\n",
       "    </tr>\n",
       "  </thead>\n",
       "  <tbody>\n",
       "    <tr>\n",
       "      <th>87233</th>\n",
       "      <td>Final Hour</td>\n",
       "      <td>14527</td>\n",
       "      <td>X-Ray Dog</td>\n",
       "      <td>[37565, 129840, 159281]</td>\n",
       "      <td>['Night Hounds', nan, 'Harry Potter']</td>\n",
       "      <td>None</td>\n",
       "      <td>NaN</td>\n",
       "      <td>NaN</td>\n",
       "      <td>None</td>\n",
       "      <td>None</td>\n",
       "      <td>None</td>\n",
       "      <td>None</td>\n",
       "      <td>231.333333</td>\n",
       "    </tr>\n",
       "    <tr>\n",
       "      <th>190112</th>\n",
       "      <td>Asleep</td>\n",
       "      <td>15738</td>\n",
       "      <td>Agua de Annique</td>\n",
       "      <td>[44908]</td>\n",
       "      <td>['Air']</td>\n",
       "      <td>http://lyrics.wikia.com/Agua_De_Annique:Asleep</td>\n",
       "      <td>-0.270782</td>\n",
       "      <td>0.108086</td>\n",
       "      <td>None</td>\n",
       "      <td>None</td>\n",
       "      <td>None</td>\n",
       "      <td>False</td>\n",
       "      <td>146.454545</td>\n",
       "    </tr>\n",
       "    <tr>\n",
       "      <th>583120</th>\n",
       "      <td>Rubik's Cube</td>\n",
       "      <td>10017</td>\n",
       "      <td>Athlete</td>\n",
       "      <td>[194694, 206508]</td>\n",
       "      <td>['Black Swan', 'Singles 01-10']</td>\n",
       "      <td>http://lyrics.wikia.com/Athlete:Rubik%27s_Cube</td>\n",
       "      <td>-0.214444</td>\n",
       "      <td>-0.143472</td>\n",
       "      <td>TRGPGZL128F9330871</td>\n",
       "      <td>False</td>\n",
       "      <td>True</td>\n",
       "      <td>False</td>\n",
       "      <td>122.928571</td>\n",
       "    </tr>\n",
       "    <tr>\n",
       "      <th>11741477</th>\n",
       "      <td>Dear Darlin'</td>\n",
       "      <td>9699</td>\n",
       "      <td>Olly Murs</td>\n",
       "      <td>[152172, 680866, 699780, 1075749, 2277719, 448...</td>\n",
       "      <td>['Right Place Right Time (Deluxe Edition)', 'R...</td>\n",
       "      <td>http://lyrics.wikia.com/Olly_Murs:Dear_Darlin%27</td>\n",
       "      <td>-0.226224</td>\n",
       "      <td>-0.783971</td>\n",
       "      <td>None</td>\n",
       "      <td>None</td>\n",
       "      <td>None</td>\n",
       "      <td>False</td>\n",
       "      <td>122.300000</td>\n",
       "    </tr>\n",
       "    <tr>\n",
       "      <th>100848</th>\n",
       "      <td>Slow Me Down</td>\n",
       "      <td>15692</td>\n",
       "      <td>Anneke van Giersbergen</td>\n",
       "      <td>[33336, 7100104]</td>\n",
       "      <td>['Everything Is Changing', 'Everything Is Chan...</td>\n",
       "      <td>http://lyrics.wikia.com/Anneke_Van_Giersbergen...</td>\n",
       "      <td>-0.119751</td>\n",
       "      <td>-0.049463</td>\n",
       "      <td>None</td>\n",
       "      <td>None</td>\n",
       "      <td>None</td>\n",
       "      <td>False</td>\n",
       "      <td>122.062500</td>\n",
       "    </tr>\n",
       "    <tr>\n",
       "      <th>102757</th>\n",
       "      <td>Entombed in Butchered Bodies</td>\n",
       "      <td>15795</td>\n",
       "      <td>Cerebral Bore</td>\n",
       "      <td>[33636]</td>\n",
       "      <td>['Maniacal Miscreation']</td>\n",
       "      <td>http://lyrics.wikia.com/Cerebral_Bore:Entombed...</td>\n",
       "      <td>0.519996</td>\n",
       "      <td>-1.059996</td>\n",
       "      <td>None</td>\n",
       "      <td>None</td>\n",
       "      <td>None</td>\n",
       "      <td>False</td>\n",
       "      <td>121.181818</td>\n",
       "    </tr>\n",
       "    <tr>\n",
       "      <th>764985</th>\n",
       "      <td>Flesh Reflects the Madness</td>\n",
       "      <td>15795</td>\n",
       "      <td>Cerebral Bore</td>\n",
       "      <td>[33636, 2707275]</td>\n",
       "      <td>['Maniacal Miscreation', 'The Dead Flesh Archi...</td>\n",
       "      <td>http://lyrics.wikia.com/Cerebral_Bore:Flesh_Re...</td>\n",
       "      <td>0.866363</td>\n",
       "      <td>-0.560911</td>\n",
       "      <td>None</td>\n",
       "      <td>None</td>\n",
       "      <td>None</td>\n",
       "      <td>False</td>\n",
       "      <td>119.818182</td>\n",
       "    </tr>\n",
       "    <tr>\n",
       "      <th>764984</th>\n",
       "      <td>Maniacal Miscreation</td>\n",
       "      <td>15795</td>\n",
       "      <td>Cerebral Bore</td>\n",
       "      <td>[33636]</td>\n",
       "      <td>['Maniacal Miscreation']</td>\n",
       "      <td>http://lyrics.wikia.com/Cerebral_Bore:Maniacal...</td>\n",
       "      <td>0.742891</td>\n",
       "      <td>-0.777889</td>\n",
       "      <td>None</td>\n",
       "      <td>None</td>\n",
       "      <td>None</td>\n",
       "      <td>False</td>\n",
       "      <td>119.545455</td>\n",
       "    </tr>\n",
       "    <tr>\n",
       "      <th>3130123</th>\n",
       "      <td>Everything We Touch</td>\n",
       "      <td>2001</td>\n",
       "      <td>Say Lou Lou</td>\n",
       "      <td>[174522, 5112993, 8791457, 9090677, 13248338]</td>\n",
       "      <td>[nan, 'Everything We Touch', 'Everything We To...</td>\n",
       "      <td>http://lyrics.wikia.com/Say_Lou_Lou:Everything...</td>\n",
       "      <td>-0.228184</td>\n",
       "      <td>-0.180018</td>\n",
       "      <td>None</td>\n",
       "      <td>None</td>\n",
       "      <td>None</td>\n",
       "      <td>False</td>\n",
       "      <td>116.421053</td>\n",
       "    </tr>\n",
       "    <tr>\n",
       "      <th>2645787</th>\n",
       "      <td>Main Menu</td>\n",
       "      <td>2566</td>\n",
       "      <td>Jesper Kyd</td>\n",
       "      <td>[82574, 83385, 121124, 127995, 2035355, 242793...</td>\n",
       "      <td>['Borderlands 2 Original Soundtrack', 'Borderl...</td>\n",
       "      <td>None</td>\n",
       "      <td>NaN</td>\n",
       "      <td>NaN</td>\n",
       "      <td>None</td>\n",
       "      <td>None</td>\n",
       "      <td>None</td>\n",
       "      <td>None</td>\n",
       "      <td>114.181818</td>\n",
       "    </tr>\n",
       "  </tbody>\n",
       "</table>\n",
       "</div>"
      ],
      "text/plain": [
       "                                 track  artist_id                  artist  \\\n",
       "track_id                                                                    \n",
       "87233                       Final Hour      14527               X-Ray Dog   \n",
       "190112                          Asleep      15738         Agua de Annique   \n",
       "583120                    Rubik's Cube      10017                 Athlete   \n",
       "11741477                  Dear Darlin'       9699               Olly Murs   \n",
       "100848                    Slow Me Down      15692  Anneke van Giersbergen   \n",
       "102757    Entombed in Butchered Bodies      15795           Cerebral Bore   \n",
       "764985      Flesh Reflects the Madness      15795           Cerebral Bore   \n",
       "764984            Maniacal Miscreation      15795           Cerebral Bore   \n",
       "3130123            Everything We Touch       2001             Say Lou Lou   \n",
       "2645787                      Main Menu       2566              Jesper Kyd   \n",
       "\n",
       "                                                  albums_id  \\\n",
       "track_id                                                      \n",
       "87233                               [37565, 129840, 159281]   \n",
       "190112                                              [44908]   \n",
       "583120                                     [194694, 206508]   \n",
       "11741477  [152172, 680866, 699780, 1075749, 2277719, 448...   \n",
       "100848                                     [33336, 7100104]   \n",
       "102757                                              [33636]   \n",
       "764985                                     [33636, 2707275]   \n",
       "764984                                              [33636]   \n",
       "3130123       [174522, 5112993, 8791457, 9090677, 13248338]   \n",
       "2645787   [82574, 83385, 121124, 127995, 2035355, 242793...   \n",
       "\n",
       "                                                     albums  \\\n",
       "track_id                                                      \n",
       "87233                 ['Night Hounds', nan, 'Harry Potter']   \n",
       "190112                                              ['Air']   \n",
       "583120                      ['Black Swan', 'Singles 01-10']   \n",
       "11741477  ['Right Place Right Time (Deluxe Edition)', 'R...   \n",
       "100848    ['Everything Is Changing', 'Everything Is Chan...   \n",
       "102757                             ['Maniacal Miscreation']   \n",
       "764985    ['Maniacal Miscreation', 'The Dead Flesh Archi...   \n",
       "764984                             ['Maniacal Miscreation']   \n",
       "3130123   [nan, 'Everything We Touch', 'Everything We To...   \n",
       "2645787   ['Borderlands 2 Original Soundtrack', 'Borderl...   \n",
       "\n",
       "                                                    urlSong  \\\n",
       "track_id                                                      \n",
       "87233                                                  None   \n",
       "190112       http://lyrics.wikia.com/Agua_De_Annique:Asleep   \n",
       "583120       http://lyrics.wikia.com/Athlete:Rubik%27s_Cube   \n",
       "11741477   http://lyrics.wikia.com/Olly_Murs:Dear_Darlin%27   \n",
       "100848    http://lyrics.wikia.com/Anneke_Van_Giersbergen...   \n",
       "102757    http://lyrics.wikia.com/Cerebral_Bore:Entombed...   \n",
       "764985    http://lyrics.wikia.com/Cerebral_Bore:Flesh_Re...   \n",
       "764984    http://lyrics.wikia.com/Cerebral_Bore:Maniacal...   \n",
       "3130123   http://lyrics.wikia.com/Say_Lou_Lou:Everything...   \n",
       "2645787                                                None   \n",
       "\n",
       "          arousal_predicted  valence_predicted           lastfm_id  \\\n",
       "track_id                                                             \n",
       "87233                   NaN                NaN                None   \n",
       "190112            -0.270782           0.108086                None   \n",
       "583120            -0.214444          -0.143472  TRGPGZL128F9330871   \n",
       "11741477          -0.226224          -0.783971                None   \n",
       "100848            -0.119751          -0.049463                None   \n",
       "102757             0.519996          -1.059996                None   \n",
       "764985             0.866363          -0.560911                None   \n",
       "764984             0.742891          -0.777889                None   \n",
       "3130123           -0.228184          -0.180018                None   \n",
       "2645787                 NaN                NaN                None   \n",
       "\n",
       "         has_emotion_tags has_social_tags isClassic  avg_play_count  \n",
       "track_id                                                             \n",
       "87233                None            None      None      231.333333  \n",
       "190112               None            None     False      146.454545  \n",
       "583120              False            True     False      122.928571  \n",
       "11741477             None            None     False      122.300000  \n",
       "100848               None            None     False      122.062500  \n",
       "102757               None            None     False      121.181818  \n",
       "764985               None            None     False      119.818182  \n",
       "764984               None            None     False      119.545455  \n",
       "3130123              None            None     False      116.421053  \n",
       "2645787              None            None      None      114.181818  "
      ]
     },
     "execution_count": 17,
     "metadata": {},
     "output_type": "execute_result"
    }
   ],
   "source": [
    "top_by_user = avg_play_count.iloc[avg_play_count.argsort().values[:-(K+1):-1]]\n",
    "top_by_user.name = \"avg_play_count\"\n",
    "dataset.df_tracks.loc[top_by_user.index].join(top_by_user)"
   ]
  },
  {
   "cell_type": "markdown",
   "metadata": {},
   "source": [
    "Here it is a new piece of information: the top 10 tracks by number of play counts is completely different than the one by number of distinct users."
   ]
  },
  {
   "cell_type": "code",
   "execution_count": 18,
   "metadata": {},
   "outputs": [],
   "source": [
    "# Cleanup..\n",
    "del gb_track\n",
    "del avg_play_count\n",
    "del track_records\n",
    "del top_by_user\n",
    "_ = gc.collect()"
   ]
  },
  {
   "cell_type": "markdown",
   "metadata": {},
   "source": [
    "### Statistics of WASABI features\n",
    "\n",
    "The new features coming from the WASABI dataset are not available for all of our tracks, but they still cover a good part of them! Let us see what the coverage is for each of these features:"
   ]
  },
  {
   "cell_type": "code",
   "execution_count": 19,
   "metadata": {},
   "outputs": [],
   "source": [
    "# NOTE that we only show statistics on train, but as train/test were uniformly\n",
    "#      sampled statistics for the test set are very similar (you can check by\n",
    "#      using \"test.join(...)\" below here\n",
    "train_tracks = train.join(dataset.df_tracks, on=\"track_id\", rsuffix=\"_data\")"
   ]
  },
  {
   "cell_type": "code",
   "execution_count": 20,
   "metadata": {},
   "outputs": [
    {
     "name": "stdout",
     "output_type": "stream",
     "text": [
      "'arousal_predicted': 0.51 tracks, 0.79 events\n",
      "'valence_predicted': 0.51 tracks, 0.79 events\n",
      "'isClassic': 0.51 tracks, 0.79 events\n",
      "'has_social_tags': 0.17 tracks, 0.31 events\n",
      "'has_emotion_tags': 0.17 tracks, 0.31 events\n"
     ]
    }
   ],
   "source": [
    "for feat in ['arousal_predicted', 'valence_predicted',\n",
    "             'isClassic', 'has_social_tags', 'has_emotion_tags']:\n",
    "\n",
    "    perc_tracks = np.sum(dataset.df_tracks[feat].notna())/len(dataset.df_tracks)\n",
    "    perc_events = np.sum(train_tracks[feat].notna())/len(train_tracks)\n",
    "    print(f\"'{feat}': {round(perc_tracks,2)} tracks, {round(perc_events,2)} events\")"
   ]
  },
  {
   "cell_type": "markdown",
   "metadata": {},
   "source": [
    "Similarly, topics features are available for ~69% of samples in train_tracks and song/verse embeddings cover ~78% of the samples:"
   ]
  },
  {
   "cell_type": "code",
   "execution_count": 21,
   "metadata": {},
   "outputs": [
    {
     "data": {
      "text/plain": [
       "0.6915584406176354"
      ]
     },
     "execution_count": 21,
     "metadata": {},
     "output_type": "execute_result"
    }
   ],
   "source": [
    "train_topics = train_tracks.join(dataset.df_topics, on=\"urlSong\", rsuffix=\"_data\")\n",
    "np.sum(train_topics.topics.notna())/len(train_topics)"
   ]
  },
  {
   "cell_type": "code",
   "execution_count": 22,
   "metadata": {},
   "outputs": [
    {
     "data": {
      "text/plain": [
       "0.7794887791568496"
      ]
     },
     "execution_count": 22,
     "metadata": {},
     "output_type": "execute_result"
    }
   ],
   "source": [
    "train_embs = train_tracks.join(dataset.df_song_embeddings, on=\"urlSong\", rsuffix=\"_data\")\n",
    "np.sum(train_embs.song_embedding.notna())/len(train_embs)"
   ]
  },
  {
   "cell_type": "markdown",
   "metadata": {},
   "source": [
    "### Using topics\n",
    "\n",
    "Topics are 60-dimensional descriptors that represent a song wrt its level of membership wrt 60 different topics. We expect songs with similar contents to have similar descriptors. Here is a simple example that shows the quasi-perfect matching of different covers of the same song:"
   ]
  },
  {
   "cell_type": "code",
   "execution_count": 53,
   "metadata": {},
   "outputs": [
    {
     "name": "stdout",
     "output_type": "stream",
     "text": [
      "http://lyrics.wikia.com/Ayreon:Space_Oddity\n",
      "http://lyrics.wikia.com/Chris_Hadfield:Space_Oddity\n",
      "http://lyrics.wikia.com/David_Bowie:Space_Oddity\n",
      "http://lyrics.wikia.com/Helloween:Space_Oddity\n",
      "http://lyrics.wikia.com/Powerman_5000:Space_Oddity\n",
      "http://lyrics.wikia.com/Tangerine_Dream:Space_Oddity\n"
     ]
    }
   ],
   "source": [
    "descr = []\n",
    "for urlSong in list(dataset.df_topics[dataset.df_topics.index.str.contains(\"Space_Oddity\")].index):\n",
    "    print(urlSong)\n",
    "    descr.append(dataset.df_topics[dataset.df_topics.index==urlSong].topics.iloc[0])"
   ]
  },
  {
   "cell_type": "code",
   "execution_count": 54,
   "metadata": {},
   "outputs": [
    {
     "data": {
      "image/png": "[encoded data removed]",
      "text/plain": [
       "<Figure size 640x480 with 1 Axes>"
      ]
     },
     "metadata": {},
     "output_type": "display_data"
    }
   ],
   "source": [
    "x = range(len(descr[0]))\n",
    "for d in descr:\n",
    "    plt.plot(x,d)"
   ]
  },
  {
   "cell_type": "markdown",
   "metadata": {},
   "source": [
    "Here is, instead, the descriptor for a random song in the dataset plotted in black together with the above:"
   ]
  },
  {
   "cell_type": "code",
   "execution_count": 57,
   "metadata": {},
   "outputs": [
    {
     "data": {
      "text/plain": [
       "[<matplotlib.lines.Line2D at 0x7fef3c9c4dc0>]"
      ]
     },
     "execution_count": 57,
     "metadata": {},
     "output_type": "execute_result"
    },
    {
     "data": {
      "image/png": "[encoded data removed]",
      "text/plain": [
       "<Figure size 640x480 with 1 Axes>"
      ]
     },
     "metadata": {},
     "output_type": "display_data"
    }
   ],
   "source": [
    "for d in descr:\n",
    "    plt.plot(x,d)\n",
    "plt.plot(x,dataset.df_topics.topics.iloc[np.random.randint(len(dataset.df_topics))], color='k')"
   ]
  },
  {
   "cell_type": "markdown",
   "metadata": {},
   "source": [
    "### Using song embeddings\n",
    "\n",
    "We can do something similar with song embeddings: here are the song embeddings for a few covers of the same song:"
   ]
  },
  {
   "cell_type": "code",
   "execution_count": 85,
   "metadata": {},
   "outputs": [
    {
     "name": "stdout",
     "output_type": "stream",
     "text": [
      "http://lyrics.wikia.com/David_Bowie:The_Man_Who_Sold_The_World\n",
      "http://lyrics.wikia.com/Lulu:The_Man_Who_Sold_The_World\n",
      "http://lyrics.wikia.com/Midge_Ure:The_Man_Who_Sold_The_World\n",
      "http://lyrics.wikia.com/Nirvana:The_Man_Who_Sold_The_World\n"
     ]
    }
   ],
   "source": [
    "descr = []\n",
    "for urlSong in list(dataset.df_song_embeddings[dataset.df_song_embeddings.index.str.contains(\"The_Man_Who_Sold\")].index):\n",
    "    print(urlSong)\n",
    "    descr.append(dataset.df_song_embeddings[dataset.df_song_embeddings.index==urlSong].song_embedding.iloc[0])"
   ]
  },
  {
   "cell_type": "markdown",
   "metadata": {},
   "source": [
    "... and in the following cell, we add embeddings from 10 random songs and plot all the pairwise distances:"
   ]
  },
  {
   "cell_type": "code",
   "execution_count": 86,
   "metadata": {},
   "outputs": [
    {
     "data": {
      "text/plain": [
       "<matplotlib.image.AxesImage at 0x7fef3d53c6d0>"
      ]
     },
     "execution_count": 86,
     "metadata": {},
     "output_type": "execute_result"
    },
    {
     "data": {
      "image/png": "[encoded data removed]",
      "text/plain": [
       "<Figure size 640x480 with 1 Axes>"
      ]
     },
     "metadata": {},
     "output_type": "display_data"
    }
   ],
   "source": [
    "for i in range(10):\n",
    "    descr.append(dataset.df_song_embeddings.song_embedding.iloc[\n",
    "        np.random.randint(len(dataset.df_song_embeddings))])\n",
    "    \n",
    "descr = np.array(descr)\n",
    "\n",
    "dists = np.linalg.norm(descr[:, None, :] - descr[None, :, :], axis=-1)\n",
    "plt.imshow(dists)"
   ]
  },
  {
   "cell_type": "markdown",
   "metadata": {},
   "source": [
    "### Using verse embeddings\n",
    "\n",
    "With verse embeddings we can do something more, i.e. measure signals *within* each song. For instance, the following code loads lyrics embeddings from Guns'n'Roses' \"Paradise City\" and plots pairwise distances between each pair of verses (note that we'll have to download the lyrics file manually here as due to their size they were not included in the zipped version of the dataset)."
   ]
  },
  {
   "cell_type": "code",
   "execution_count": 87,
   "metadata": {},
   "outputs": [
    {
     "name": "stdout",
     "output_type": "stream",
     "text": [
      "--2023-07-21 12:33:49--  https://evalrs.object.lga1.coreweave.com/evalrs_verse_embeddings_G.parquet\n",
      "Resolving evalrs.object.lga1.coreweave.com (evalrs.object.lga1.coreweave.com)... 216.153.56.63\n",
      "Connecting to evalrs.object.lga1.coreweave.com (evalrs.object.lga1.coreweave.com)|216.153.56.63|:443... connected.\n",
      "HTTP request sent, awaiting response... 200 OK\n",
      "Length: 1284882026 (1,2G) [application/octet-stream]\n",
      "Saving to: ‘evalrs_verse_embeddings_G.parquet’\n",
      "\n",
      "evalrs_verse_embedd 100%[===================>]   1,20G  3,61MB/s    in 8m 40s  \n",
      "\n",
      "2023-07-21 12:42:29 (2,36 MB/s) - ‘evalrs_verse_embeddings_G.parquet’ saved [1284882026/1284882026]\n",
      "\n"
     ]
    }
   ],
   "source": [
    "!wget https://evalrs.object.lga1.coreweave.com/evalrs_verse_embeddings_G.parquet"
   ]
  },
  {
   "cell_type": "code",
   "execution_count": 92,
   "metadata": {},
   "outputs": [
    {
     "data": {
      "text/plain": [
       "(58368,)"
      ]
     },
     "execution_count": 92,
     "metadata": {},
     "output_type": "execute_result"
    }
   ],
   "source": [
    "table = pq.read_table('evalrs_verse_embeddings_G.parquet')\n",
    "df = table.to_pandas()\n",
    "d = df[df.urlSong=='http://lyrics.wikia.com/Guns_N%27_Roses:Paradise_City'].verse_embeddings.iloc[0]\n",
    "d.shape"
   ]
  },
  {
   "cell_type": "markdown",
   "metadata": {},
   "source": [
    "**NOTE** that if you load embeddings for another song you will very likely have a different vector length! How so?\n",
    "\n",
    "For each song, we have a verse embedding for every single line (we used `\\n` as a separator). For parquet to properly store these embeddings we had to concatenate all of them into a single vector, so we have to reshape them to *n* embeddings of size 768. "
   ]
  },
  {
   "cell_type": "code",
   "execution_count": 94,
   "metadata": {},
   "outputs": [
    {
     "data": {
      "text/plain": [
       "(76, 768)"
      ]
     },
     "execution_count": 95,
     "metadata": {},
     "output_type": "execute_result"
    }
   ],
   "source": [
    "descr = d.reshape((-1,768))\n",
    "descr.shape"
   ]
  },
  {
   "cell_type": "code",
   "execution_count": 96,
   "metadata": {},
   "outputs": [
    {
     "data": {
      "text/plain": [
       "<matplotlib.image.AxesImage at 0x7fef3f300d90>"
      ]
     },
     "execution_count": 96,
     "metadata": {},
     "output_type": "execute_result"
    },
    {
     "data": {
      "image/png": "[encoded data removed]",
      "text/plain": [
       "<Figure size 640x480 with 1 Axes>"
      ]
     },
     "metadata": {},
     "output_type": "display_data"
    }
   ],
   "source": [
    "dists = np.linalg.norm(descr[:, None, :] - descr[None, :, :], axis=-1)\n",
    "plt.imshow(dists)"
   ]
  },
  {
   "cell_type": "markdown",
   "metadata": {},
   "source": [
    "You can see the verse pairwise distances above, and compare them with the text of the song below:\n",
    "\n",
    "\n",
    "```\n",
    "Take me down to the paradise city\n",
    "Where the grass is green and the girls are pretty\n",
    "Take me home (Oh, won't you please take me home?)\n",
    "Take me down to the paradise city\n",
    "Where the grass is green and the girls are pretty\n",
    "Take me home (Oh, won't you please take me home?)\n",
    "Just an urchin livin' under the street\n",
    "I'm a hard case that's tough to beat\n",
    "I'm your charity case so buy me somethin' to eat\n",
    "I'll pay you at another time\n",
    "Take it to the end of the line\n",
    "Rags to riches or so they say\n",
    "You gotta keep pushin' for the fortune and fame\n",
    "You know it's, it's all a gamble when it's just a game\n",
    "You treat it like a capital crime\n",
    "Everybody's doin' their time\n",
    "Take me down to the paradise city\n",
    "Where the grass is green and the girls are pretty\n",
    "Oh, won't you please take me home, yeah, yeah?\n",
    "Take me down to the paradise city\n",
    "Where the grass is green and the girls are pretty\n",
    "Take me home\n",
    "Strapped in the chair of the city's gas chamber\n",
    "Why I'm here, I can't quite remember\n",
    "The surgeon general says it's hazardous to breathe\n",
    "I'd have another cigarette but I can't see\n",
    "Tell me who ya gonna believe\n",
    "Take me down to the paradise city\n",
    "Where the grass is green and the girls are pretty\n",
    "Take me home, yeah, yeah\n",
    "Take me down to the paradise city\n",
    "Where the grass is green and the girls are pretty\n",
    "Oh, won't you please take me home, yeah?\n",
    "So far away\n",
    "So far away\n",
    "So far away\n",
    "So far away\n",
    "Captain America's been torn apart\n",
    "Now he's a court jester with a broken heart\n",
    "He said \"Turn me around and take me back to the start\"\n",
    "I must be losin' my mind, are you blind?\n",
    "I've seen it all a million times\n",
    "Take me down to the paradise city\n",
    "Where the grass is green and the girls are pretty\n",
    "Take me home, yeah, yeah\n",
    "Take me down to the paradise city\n",
    "Where the grass is green and the girls are pretty\n",
    "Oh, won't you please take me home?\n",
    "Take me down to the paradise city\n",
    "Where the grass is green and the girls are pretty\n",
    "Take me home, yeah, yeah\n",
    "Take me down to the paradise city\n",
    "Where the grass is green and the girls are pretty\n",
    "Oh, won't you please take me home, home\n",
    "Oh, I want to go, I want to know\n",
    "Oh, won't you please take me home?\n",
    "I want to see how good it can be\n",
    "Oh, won't you please take me home?\n",
    "Take me down to the paradise city\n",
    "Where the grass is green and the girls are pretty\n",
    "Take me home\n",
    "Take me down to the paradise city\n",
    "Where the grass is green and the girls are pretty\n",
    "Oh, won't you please take me home?\n",
    "Take me down, take me down\n",
    "Oh, won't you please take me home?\n",
    "I want to see how good it can be\n",
    "Oh, won't you please take me home?\n",
    "I want to see how good it can be\n",
    "Oh, oh take me home\n",
    "Take me down to the paradise city\n",
    "Where the grass is green and the girls are pretty\n",
    "Oh, won't you please take me home?\n",
    "I want to know, I want to know\n",
    "Oh, won't you please take me home?\n",
    "Yeah, baby\n",
    "```"
   ]
  },
  {
   "cell_type": "code",
   "execution_count": 97,
   "metadata": {},
   "outputs": [],
   "source": [
    "del train_tracks\n",
    "del train_topics\n",
    "del train_embs\n",
    "del table\n",
    "del df\n",
    "del descr\n",
    "del dists\n",
    "\n",
    "_ = gc.collect()"
   ]
  },
  {
   "cell_type": "markdown",
   "metadata": {},
   "source": [
    "## EDA on Users \n",
    "\n",
    "Let's move to users now."
   ]
  },
  {
   "cell_type": "code",
   "execution_count": 19,
   "metadata": {},
   "outputs": [],
   "source": [
    "gb_user = train.groupby(\"user_id\")"
   ]
  },
  {
   "cell_type": "code",
   "execution_count": 20,
   "metadata": {},
   "outputs": [],
   "source": [
    "user_records = gb_user.size()"
   ]
  },
  {
   "cell_type": "code",
   "execution_count": 21,
   "metadata": {},
   "outputs": [
    {
     "data": {
      "text/plain": [
       "count    29717.000000\n",
       "mean       230.488508\n",
       "std        108.455895\n",
       "min          9.000000\n",
       "0%           9.000000\n",
       "10%         75.000000\n",
       "20%        126.000000\n",
       "30%        168.000000\n",
       "40%        204.000000\n",
       "50%        237.000000\n",
       "60%        268.000000\n",
       "70%        299.000000\n",
       "80%        332.000000\n",
       "90%        372.000000\n",
       "max        492.000000\n",
       "dtype: float64"
      ]
     },
     "execution_count": 21,
     "metadata": {},
     "output_type": "execute_result"
    }
   ],
   "source": [
    "user_records.describe(percentiles=percentiles)"
   ]
  },
  {
   "cell_type": "markdown",
   "metadata": {},
   "source": [
    "There are almost 30K distinct users in our dataset. The average number of songs they played is 232 with some binge listener that made it to 494.\n",
    "\n",
    "What about their demographics?"
   ]
  },
  {
   "cell_type": "code",
   "execution_count": 22,
   "metadata": {},
   "outputs": [],
   "source": [
    "train_users = train.join(dataset.df_users, on=\"user_id\", rsuffix=\"_data\")"
   ]
  },
  {
   "cell_type": "code",
   "execution_count": 23,
   "metadata": {},
   "outputs": [],
   "source": [
    "gb_train_users = train_users.groupby(\"user_id\")"
   ]
  },
  {
   "cell_type": "code",
   "execution_count": 24,
   "metadata": {},
   "outputs": [
    {
     "data": {
      "text/plain": [
       "gender\n",
       "n       0.533028\n",
       "m       0.331359\n",
       "f       0.133795\n",
       "None    0.001817\n",
       "Name: proportion, dtype: float64"
      ]
     },
     "execution_count": 24,
     "metadata": {},
     "output_type": "execute_result"
    }
   ],
   "source": [
    "gb_train_users.first().gender.value_counts(normalize=True, dropna=False)"
   ]
  },
  {
   "cell_type": "markdown",
   "metadata": {},
   "source": [
    "Only half of our users are annotated with (binary) gender, and there is a significant skew towards males."
   ]
  },
  {
   "cell_type": "code",
   "execution_count": 25,
   "metadata": {},
   "outputs": [
    {
     "data": {
      "text/plain": [
       "country\n",
       "None    0.540835\n",
       "US      0.084194\n",
       "RU      0.041390\n",
       "DE      0.039338\n",
       "UK      0.037992\n",
       "          ...   \n",
       "AS      0.000034\n",
       "KI      0.000034\n",
       "TD      0.000034\n",
       "GI      0.000034\n",
       "KY      0.000034\n",
       "Name: proportion, Length: 160, dtype: float64"
      ]
     },
     "execution_count": 25,
     "metadata": {},
     "output_type": "execute_result"
    }
   ],
   "source": [
    "users_by_country = gb_train_users.first().country.value_counts(normalize=True, sort=True, ascending=False, dropna=False)\n",
    "users_by_country"
   ]
  },
  {
   "cell_type": "code",
   "execution_count": 26,
   "metadata": {},
   "outputs": [
    {
     "data": {
      "text/plain": [
       "country\n",
       "US    2502\n",
       "RU    1230\n",
       "DE    1169\n",
       "UK    1129\n",
       "PL    1044\n",
       "BR     965\n",
       "NL     378\n",
       "FI     332\n",
       "ES     304\n",
       "SE     293\n",
       "Name: count, dtype: int64"
      ]
     },
     "execution_count": 26,
     "metadata": {},
     "output_type": "execute_result"
    }
   ],
   "source": [
    "top_countries = gb_train_users.first().country.value_counts(dropna=True, sort=True, ascending=False)[:10]\n",
    "top_countries"
   ]
  },
  {
   "cell_type": "code",
   "execution_count": null,
   "metadata": {},
   "outputs": [],
   "source": [
    "fig, ax = plt.subplots(figsize=(12,8))\n",
    "ax.bar(x=top_countries.index, height=top_countries.values)\n",
    "ax.set_xlabel(\"Country\")\n",
    "ax.set_ylabel(\"Count\")"
   ]
  },
  {
   "cell_type": "markdown",
   "metadata": {},
   "source": [
    "There are 158 distinct countries but only half of the users are annotated with that information. Most of the users were logged from the United States."
   ]
  },
  {
   "cell_type": "code",
   "execution_count": 27,
   "metadata": {},
   "outputs": [],
   "source": [
    "del gb_user\n",
    "del gb_train_users\n",
    "del top_countries\n",
    "_ = gc.collect()"
   ]
  },
  {
   "cell_type": "markdown",
   "metadata": {},
   "source": [
    "## Analysis on listening events\n",
    "\n",
    "We have explored relationships between users and tracks. But what about the playing time and hour? \n",
    "\n",
    "For example, one might search for any correlation between listening events and hour of the day. "
   ]
  },
  {
   "cell_type": "markdown",
   "metadata": {},
   "source": [
    "**Q0: Is there any listening pattern across hours of the day?**"
   ]
  },
  {
   "cell_type": "code",
   "execution_count": 28,
   "metadata": {},
   "outputs": [
    {
     "data": {
      "text/plain": [
       "Text(0, 0.5, 'Count')"
      ]
     },
     "execution_count": 28,
     "metadata": {},
     "output_type": "execute_result"
    },
    {
     "data": {
      "image/png": "[encoded data removed]",
      "text/plain": [
       "<Figure size 1200x800 with 1 Axes>"
      ]
     },
     "metadata": {},
     "output_type": "display_data"
    }
   ],
   "source": [
    "fig, ax = plt.subplots(figsize=(12,8))\n",
    "ax = sns.countplot(data=train_users, x=\"hod\")\n",
    "ax.set_xlabel(\"Hour of the Day\")\n",
    "ax.set_ylabel(\"Count\")"
   ]
  },
  {
   "cell_type": "markdown",
   "metadata": {},
   "source": [
    "Remember that the `timestamp` attribute is in Unix time, i.e. it is absolute in terms of timezone. The chart is showing us that events are mainly located in a single timezone, as the events decrease in the morning and increase in late afternoon.   "
   ]
  },
  {
   "cell_type": "markdown",
   "metadata": {},
   "source": [
    "**Q1: Is there any listening pattern across hours of the day, separately by gender?**"
   ]
  },
  {
   "cell_type": "code",
   "execution_count": 29,
   "metadata": {},
   "outputs": [
    {
     "data": {
      "text/plain": [
       "Text(0, 0.5, 'Count')"
      ]
     },
     "execution_count": 29,
     "metadata": {},
     "output_type": "execute_result"
    },
    {
     "data": {
      "image/png": "[encoded data removed]",
      "text/plain": [
       "<Figure size 1200x800 with 1 Axes>"
      ]
     },
     "metadata": {},
     "output_type": "display_data"
    }
   ],
   "source": [
    "fig, ax = plt.subplots(figsize=(12,8))\n",
    "ax = sns.countplot(data=train_users, x=\"hod\", hue=\"gender\")\n",
    "ax.set_xlabel(\"Hour of the Day\")\n",
    "ax.set_ylabel(\"Count\")"
   ]
  },
  {
   "cell_type": "markdown",
   "metadata": {},
   "source": [
    "Judging by the chart, there seem to be no evident difference. Well, beware!"
   ]
  },
  {
   "cell_type": "code",
   "execution_count": null,
   "metadata": {},
   "outputs": [],
   "source": []
  }
 ],
 "metadata": {
  "kernelspec": {
   "display_name": "Python 3 (ipykernel)",
   "language": "python",
   "name": "python3"
  },
  "language_info": {
   "codemirror_mode": {
    "name": "ipython",
    "version": 3
   },
   "file_extension": ".py",
   "mimetype": "text/x-python",
   "name": "python",
   "nbconvert_exporter": "python",
   "pygments_lexer": "ipython3",
   "version": "3.9.5"
  }
 },
 "nbformat": 4,
 "nbformat_minor": 4
}
