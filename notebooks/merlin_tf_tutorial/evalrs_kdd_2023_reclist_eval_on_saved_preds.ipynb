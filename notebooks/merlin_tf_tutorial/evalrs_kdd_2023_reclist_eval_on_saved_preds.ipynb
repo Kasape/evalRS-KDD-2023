{
 "cells": [
  {
   "cell_type": "markdown",
   "metadata": {},
   "source": [
    "# RecSys Tutorial for the EvalRS 2023 hackaton \n",
    "\n",
    "## RecList sample evaluation notebook from saved predictions\n",
    "\n",
    "In this notebook we provide an example on how you can take a parquet file with predictions/recommendations from a model and use [RecList](https://github.com/RecList/reclist) for evaluation.  \n",
    "In this case, the prediction files are output from the models trained on [Merlin tutorial notebook](evalrs_kdd_2023_tutorial_retrieval_models_with_merlin_tf.ipynb)."
   ]
  },
  {
   "cell_type": "markdown",
   "metadata": {},
   "source": [
    "## Setup"
   ]
  },
  {
   "cell_type": "code",
   "execution_count": null,
   "metadata": {},
   "outputs": [],
   "source": [
    "%%sh\n",
    "pushd $HOME/\n",
    "# make a workspace for us\n",
    "mkdir -p reclist_workspace\n",
    "cd reclist_workspace\n",
    "git clone https://github.com/Reclist/reclist/\n",
    "cd reclist\n",
    "echo \"*********installing reclist requirements**************\"\n",
    "pip install -e .\n",
    "popd\n",
    "echo \"*********installing kdd 2023 requirements**************\"\n",
    "pip install -r requirements.txt"
   ]
  },
  {
   "cell_type": "code",
   "execution_count": 2,
   "metadata": {},
   "outputs": [],
   "source": [
    "import os\n",
    "import sys\n",
    "import pandas as pd\n",
    "import numpy as np\n",
    "import shutil\n",
    "from functools import partial\n",
    "sys.path.append(os.path.abspath('../../evaluation'))\n",
    "\n",
    "from EvalRSRunner import ChallengeDataset\n",
    "from EvalRSReclist import EvalRSReclist\n",
    "from reclist.reclist import LOGGER, METADATA_STORE"
   ]
  },
  {
   "cell_type": "markdown",
   "metadata": {},
   "source": [
    "Installing RecList and dependencies"
   ]
  },
  {
   "cell_type": "markdown",
   "metadata": {},
   "source": [
    "## Dataset download and split"
   ]
  },
  {
   "cell_type": "markdown",
   "metadata": {},
   "source": [
    "Let's first download and uncompress the dataset and all its tables.  \n",
    "In order to reduce the dataset for faster and less memory intensive computation, we set `sample_users_perc=0.25` to sample 25% of the users and keep only their events. We also set `min_user_item_freq=10` so that we have users and items with a mininum frequency of 10.  \n",
    "**Please don't change the options of ChallengeDataset, otherwise the set of users won't match the ones we used fo r generating predictions**"
   ]
  },
  {
   "cell_type": "code",
   "execution_count": 9,
   "metadata": {
    "pycharm": {
     "name": "#%%\n"
    }
   },
   "outputs": [
    {
     "name": "stdout",
     "output_type": "stream",
     "text": [
      "Downloading LFM dataset...\n",
      "Downloading to /root/.cache/evalrs/evalrs_dataset.zip...\n"
     ]
    },
    {
     "name": "stderr",
     "output_type": "stream",
     "text": [
      "evalrs_dataset_KDD_2023.zip: 100%|█████████| 1.60G/1.60G [02:15<00:00, 12.6MB/s]\n"
     ]
    },
    {
     "name": "stdout",
     "output_type": "stream",
     "text": [
      "Loading dataset.\n",
      "Generating dataset hashes.\n"
     ]
    }
   ],
   "source": [
    "# note, if YES, the dataset will be donwloaded again\n",
    "dataset = ChallengeDataset(force_download=False, \n",
    "                           folded_dataset_split = False,\n",
    "                           sample_users_perc=0.25,\n",
    "                           min_user_item_freq=10)  "
   ]
  },
  {
   "cell_type": "markdown",
   "metadata": {},
   "source": [
    "The test set is defined as the last interaction for each user. So all users and items in test set are present in test set, as we are not focused in exploring the user/item cold-start problem in this example of music streaming domain."
   ]
  },
  {
   "cell_type": "code",
   "execution_count": 10,
   "metadata": {},
   "outputs": [
    {
     "name": "stdout",
     "output_type": "stream",
     "text": [
      "6869679 29722\n"
     ]
    }
   ],
   "source": [
    "events_train_df, events_test_df = dataset._get_train_set(), dataset._get_test_set()\n",
    "print(len(events_train_df), len(events_test_df))"
   ]
  },
  {
   "cell_type": "markdown",
   "metadata": {},
   "source": [
    "## Predictions download"
   ]
  },
  {
   "cell_type": "markdown",
   "metadata": {},
   "source": [
    "For your convenience, we have already run the above notebook in a V100 GPU and saved the [model prediction parquet files](https://drive.google.com/file/d/1PrFP5KWvU8tlMRgFst_nXPYYq-_2q-sY/view?usp=sharing).  Download that file and uncompress so that files are inside the folder where this notebook is located.\n"
   ]
  },
  {
   "cell_type": "markdown",
   "metadata": {},
   "source": [
    "## Evaluating the prediction file"
   ]
  },
  {
   "cell_type": "markdown",
   "metadata": {},
   "source": [
    "We made available prediction files for the following retrieval models:\n",
    "- `mf_test_preds.parquet` - Matrix Factorization (uses only user id and item id)\n",
    "- `tt_test_preds.parquet` - Two-Tower architecture (uses many user and item features)"
   ]
  },
  {
   "cell_type": "code",
   "execution_count": 11,
   "metadata": {
    "scrolled": true
   },
   "outputs": [
    {
     "data": {
      "text/html": [
       "<div>\n",
       "<style scoped>\n",
       "    .dataframe tbody tr th:only-of-type {\n",
       "        vertical-align: middle;\n",
       "    }\n",
       "\n",
       "    .dataframe tbody tr th {\n",
       "        vertical-align: top;\n",
       "    }\n",
       "\n",
       "    .dataframe thead th {\n",
       "        text-align: right;\n",
       "    }\n",
       "</style>\n",
       "<table border=\"1\" class=\"dataframe\">\n",
       "  <thead>\n",
       "    <tr style=\"text-align: right;\">\n",
       "      <th></th>\n",
       "      <th>0</th>\n",
       "      <th>1</th>\n",
       "      <th>2</th>\n",
       "      <th>3</th>\n",
       "      <th>4</th>\n",
       "      <th>5</th>\n",
       "      <th>6</th>\n",
       "      <th>7</th>\n",
       "      <th>8</th>\n",
       "      <th>9</th>\n",
       "      <th>...</th>\n",
       "      <th>90</th>\n",
       "      <th>91</th>\n",
       "      <th>92</th>\n",
       "      <th>93</th>\n",
       "      <th>94</th>\n",
       "      <th>95</th>\n",
       "      <th>96</th>\n",
       "      <th>97</th>\n",
       "      <th>98</th>\n",
       "      <th>99</th>\n",
       "    </tr>\n",
       "    <tr>\n",
       "      <th>user_id</th>\n",
       "      <th></th>\n",
       "      <th></th>\n",
       "      <th></th>\n",
       "      <th></th>\n",
       "      <th></th>\n",
       "      <th></th>\n",
       "      <th></th>\n",
       "      <th></th>\n",
       "      <th></th>\n",
       "      <th></th>\n",
       "      <th></th>\n",
       "      <th></th>\n",
       "      <th></th>\n",
       "      <th></th>\n",
       "      <th></th>\n",
       "      <th></th>\n",
       "      <th></th>\n",
       "      <th></th>\n",
       "      <th></th>\n",
       "      <th></th>\n",
       "      <th></th>\n",
       "    </tr>\n",
       "  </thead>\n",
       "  <tbody>\n",
       "    <tr>\n",
       "      <th>50967444</th>\n",
       "      <td>15310</td>\n",
       "      <td>20166813</td>\n",
       "      <td>926150</td>\n",
       "      <td>17820138</td>\n",
       "      <td>106622</td>\n",
       "      <td>67791</td>\n",
       "      <td>124951</td>\n",
       "      <td>645045</td>\n",
       "      <td>15306</td>\n",
       "      <td>20166814</td>\n",
       "      <td>...</td>\n",
       "      <td>15314</td>\n",
       "      <td>58863</td>\n",
       "      <td>67583</td>\n",
       "      <td>282393</td>\n",
       "      <td>266914</td>\n",
       "      <td>198971</td>\n",
       "      <td>274461</td>\n",
       "      <td>11263914</td>\n",
       "      <td>284270</td>\n",
       "      <td>136145</td>\n",
       "    </tr>\n",
       "    <tr>\n",
       "      <th>50900118</th>\n",
       "      <td>29448037</td>\n",
       "      <td>114443</td>\n",
       "      <td>114449</td>\n",
       "      <td>700753</td>\n",
       "      <td>109073</td>\n",
       "      <td>41288</td>\n",
       "      <td>29061</td>\n",
       "      <td>109633</td>\n",
       "      <td>602229</td>\n",
       "      <td>614225</td>\n",
       "      <td>...</td>\n",
       "      <td>210911</td>\n",
       "      <td>179201</td>\n",
       "      <td>21897545</td>\n",
       "      <td>12602652</td>\n",
       "      <td>652288</td>\n",
       "      <td>114451</td>\n",
       "      <td>817817</td>\n",
       "      <td>29477042</td>\n",
       "      <td>109118</td>\n",
       "      <td>29450642</td>\n",
       "    </tr>\n",
       "    <tr>\n",
       "      <th>50086315</th>\n",
       "      <td>217676</td>\n",
       "      <td>214609</td>\n",
       "      <td>211420</td>\n",
       "      <td>213432</td>\n",
       "      <td>211529</td>\n",
       "      <td>214756</td>\n",
       "      <td>211425</td>\n",
       "      <td>211527</td>\n",
       "      <td>220022</td>\n",
       "      <td>216227</td>\n",
       "      <td>...</td>\n",
       "      <td>13455577</td>\n",
       "      <td>214490</td>\n",
       "      <td>8166</td>\n",
       "      <td>216264</td>\n",
       "      <td>214642</td>\n",
       "      <td>216256</td>\n",
       "      <td>13455574</td>\n",
       "      <td>211732</td>\n",
       "      <td>215612</td>\n",
       "      <td>212474</td>\n",
       "    </tr>\n",
       "    <tr>\n",
       "      <th>50085736</th>\n",
       "      <td>102667</td>\n",
       "      <td>102663</td>\n",
       "      <td>102640</td>\n",
       "      <td>102659</td>\n",
       "      <td>102658</td>\n",
       "      <td>102642</td>\n",
       "      <td>118966</td>\n",
       "      <td>102662</td>\n",
       "      <td>102668</td>\n",
       "      <td>102648</td>\n",
       "      <td>...</td>\n",
       "      <td>11167153</td>\n",
       "      <td>102594</td>\n",
       "      <td>150747</td>\n",
       "      <td>3540</td>\n",
       "      <td>11167154</td>\n",
       "      <td>108573</td>\n",
       "      <td>106121</td>\n",
       "      <td>17716901</td>\n",
       "      <td>38333</td>\n",
       "      <td>18590</td>\n",
       "    </tr>\n",
       "    <tr>\n",
       "      <th>50083088</th>\n",
       "      <td>91840</td>\n",
       "      <td>95477</td>\n",
       "      <td>78164</td>\n",
       "      <td>90245</td>\n",
       "      <td>93505</td>\n",
       "      <td>90520</td>\n",
       "      <td>247378</td>\n",
       "      <td>91843</td>\n",
       "      <td>78157</td>\n",
       "      <td>78163</td>\n",
       "      <td>...</td>\n",
       "      <td>92220</td>\n",
       "      <td>451166</td>\n",
       "      <td>1374552</td>\n",
       "      <td>91934</td>\n",
       "      <td>93503</td>\n",
       "      <td>115490</td>\n",
       "      <td>98673</td>\n",
       "      <td>98677</td>\n",
       "      <td>94888</td>\n",
       "      <td>90810</td>\n",
       "    </tr>\n",
       "    <tr>\n",
       "      <th>...</th>\n",
       "      <td>...</td>\n",
       "      <td>...</td>\n",
       "      <td>...</td>\n",
       "      <td>...</td>\n",
       "      <td>...</td>\n",
       "      <td>...</td>\n",
       "      <td>...</td>\n",
       "      <td>...</td>\n",
       "      <td>...</td>\n",
       "      <td>...</td>\n",
       "      <td>...</td>\n",
       "      <td>...</td>\n",
       "      <td>...</td>\n",
       "      <td>...</td>\n",
       "      <td>...</td>\n",
       "      <td>...</td>\n",
       "      <td>...</td>\n",
       "      <td>...</td>\n",
       "      <td>...</td>\n",
       "      <td>...</td>\n",
       "      <td>...</td>\n",
       "    </tr>\n",
       "    <tr>\n",
       "      <th>15067</th>\n",
       "      <td>12654389</td>\n",
       "      <td>12654387</td>\n",
       "      <td>12654386</td>\n",
       "      <td>12654388</td>\n",
       "      <td>7894841</td>\n",
       "      <td>12654384</td>\n",
       "      <td>13468147</td>\n",
       "      <td>12654385</td>\n",
       "      <td>12654383</td>\n",
       "      <td>877324</td>\n",
       "      <td>...</td>\n",
       "      <td>7101845</td>\n",
       "      <td>877378</td>\n",
       "      <td>799040</td>\n",
       "      <td>104064</td>\n",
       "      <td>877379</td>\n",
       "      <td>1056660</td>\n",
       "      <td>2275832</td>\n",
       "      <td>297343</td>\n",
       "      <td>245076</td>\n",
       "      <td>608414</td>\n",
       "    </tr>\n",
       "    <tr>\n",
       "      <th>14308</th>\n",
       "      <td>161793</td>\n",
       "      <td>544088</td>\n",
       "      <td>151742</td>\n",
       "      <td>152099</td>\n",
       "      <td>161048</td>\n",
       "      <td>129676</td>\n",
       "      <td>162617</td>\n",
       "      <td>1015443</td>\n",
       "      <td>162626</td>\n",
       "      <td>162621</td>\n",
       "      <td>...</td>\n",
       "      <td>6956</td>\n",
       "      <td>332092</td>\n",
       "      <td>329225</td>\n",
       "      <td>22076</td>\n",
       "      <td>152096</td>\n",
       "      <td>9319564</td>\n",
       "      <td>679190</td>\n",
       "      <td>152093</td>\n",
       "      <td>52692</td>\n",
       "      <td>204425</td>\n",
       "    </tr>\n",
       "    <tr>\n",
       "      <th>12619</th>\n",
       "      <td>17145266</td>\n",
       "      <td>12890610</td>\n",
       "      <td>17145268</td>\n",
       "      <td>17145267</td>\n",
       "      <td>17145264</td>\n",
       "      <td>17145263</td>\n",
       "      <td>17145262</td>\n",
       "      <td>5478591</td>\n",
       "      <td>16592156</td>\n",
       "      <td>799197</td>\n",
       "      <td>...</td>\n",
       "      <td>297344</td>\n",
       "      <td>17145265</td>\n",
       "      <td>13667842</td>\n",
       "      <td>26125385</td>\n",
       "      <td>2036766</td>\n",
       "      <td>16413496</td>\n",
       "      <td>296683</td>\n",
       "      <td>1128056</td>\n",
       "      <td>12288156</td>\n",
       "      <td>26031145</td>\n",
       "    </tr>\n",
       "    <tr>\n",
       "      <th>10879</th>\n",
       "      <td>53645</td>\n",
       "      <td>49656</td>\n",
       "      <td>82547</td>\n",
       "      <td>1744</td>\n",
       "      <td>91521</td>\n",
       "      <td>82548</td>\n",
       "      <td>91522</td>\n",
       "      <td>1746</td>\n",
       "      <td>37988</td>\n",
       "      <td>82306</td>\n",
       "      <td>...</td>\n",
       "      <td>137486</td>\n",
       "      <td>166068</td>\n",
       "      <td>56387</td>\n",
       "      <td>59695</td>\n",
       "      <td>82620</td>\n",
       "      <td>163304</td>\n",
       "      <td>29220</td>\n",
       "      <td>1749</td>\n",
       "      <td>59697</td>\n",
       "      <td>166041</td>\n",
       "    </tr>\n",
       "    <tr>\n",
       "      <th>384</th>\n",
       "      <td>278286</td>\n",
       "      <td>278289</td>\n",
       "      <td>877345</td>\n",
       "      <td>877341</td>\n",
       "      <td>877342</td>\n",
       "      <td>454338</td>\n",
       "      <td>278288</td>\n",
       "      <td>358000</td>\n",
       "      <td>278285</td>\n",
       "      <td>799457</td>\n",
       "      <td>...</td>\n",
       "      <td>140275</td>\n",
       "      <td>140794</td>\n",
       "      <td>454769</td>\n",
       "      <td>548233</td>\n",
       "      <td>426866</td>\n",
       "      <td>417842</td>\n",
       "      <td>140276</td>\n",
       "      <td>44051</td>\n",
       "      <td>44057</td>\n",
       "      <td>879399</td>\n",
       "    </tr>\n",
       "  </tbody>\n",
       "</table>\n",
       "<p>29722 rows × 100 columns</p>\n",
       "</div>"
      ],
      "text/plain": [
       "                 0         1         2         3         4         5  \\\n",
       "user_id                                                                \n",
       "50967444     15310  20166813    926150  17820138    106622     67791   \n",
       "50900118  29448037    114443    114449    700753    109073     41288   \n",
       "50086315    217676    214609    211420    213432    211529    214756   \n",
       "50085736    102667    102663    102640    102659    102658    102642   \n",
       "50083088     91840     95477     78164     90245     93505     90520   \n",
       "...            ...       ...       ...       ...       ...       ...   \n",
       "15067     12654389  12654387  12654386  12654388   7894841  12654384   \n",
       "14308       161793    544088    151742    152099    161048    129676   \n",
       "12619     17145266  12890610  17145268  17145267  17145264  17145263   \n",
       "10879        53645     49656     82547      1744     91521     82548   \n",
       "384         278286    278289    877345    877341    877342    454338   \n",
       "\n",
       "                 6         7         8         9  ...        90        91  \\\n",
       "user_id                                           ...                       \n",
       "50967444    124951    645045     15306  20166814  ...     15314     58863   \n",
       "50900118     29061    109633    602229    614225  ...    210911    179201   \n",
       "50086315    211425    211527    220022    216227  ...  13455577    214490   \n",
       "50085736    118966    102662    102668    102648  ...  11167153    102594   \n",
       "50083088    247378     91843     78157     78163  ...     92220    451166   \n",
       "...            ...       ...       ...       ...  ...       ...       ...   \n",
       "15067     13468147  12654385  12654383    877324  ...   7101845    877378   \n",
       "14308       162617   1015443    162626    162621  ...      6956    332092   \n",
       "12619     17145262   5478591  16592156    799197  ...    297344  17145265   \n",
       "10879        91522      1746     37988     82306  ...    137486    166068   \n",
       "384         278288    358000    278285    799457  ...    140275    140794   \n",
       "\n",
       "                92        93        94        95        96        97  \\\n",
       "user_id                                                                \n",
       "50967444     67583    282393    266914    198971    274461  11263914   \n",
       "50900118  21897545  12602652    652288    114451    817817  29477042   \n",
       "50086315      8166    216264    214642    216256  13455574    211732   \n",
       "50085736    150747      3540  11167154    108573    106121  17716901   \n",
       "50083088   1374552     91934     93503    115490     98673     98677   \n",
       "...            ...       ...       ...       ...       ...       ...   \n",
       "15067       799040    104064    877379   1056660   2275832    297343   \n",
       "14308       329225     22076    152096   9319564    679190    152093   \n",
       "12619     13667842  26125385   2036766  16413496    296683   1128056   \n",
       "10879        56387     59695     82620    163304     29220      1749   \n",
       "384         454769    548233    426866    417842    140276     44051   \n",
       "\n",
       "                98        99  \n",
       "user_id                       \n",
       "50967444    284270    136145  \n",
       "50900118    109118  29450642  \n",
       "50086315    215612    212474  \n",
       "50085736     38333     18590  \n",
       "50083088     94888     90810  \n",
       "...            ...       ...  \n",
       "15067       245076    608414  \n",
       "14308        52692    204425  \n",
       "12619     12288156  26031145  \n",
       "10879        59697    166041  \n",
       "384          44057    879399  \n",
       "\n",
       "[29722 rows x 100 columns]"
      ]
     },
     "execution_count": 11,
     "metadata": {},
     "output_type": "execute_result"
    }
   ],
   "source": [
    "preds_df = pd.read_parquet('evalrs23_model_predictions/model_predictions/mf_test_preds.parquet')\n",
    "preds_df"
   ]
  },
  {
   "cell_type": "markdown",
   "metadata": {},
   "source": [
    "Here are the `RecList` metrics for these predictions on LastFM users last' listened track"
   ]
  },
  {
   "cell_type": "code",
   "execution_count": 12,
   "metadata": {
    "scrolled": false
   },
   "outputs": [
    {
     "data": {
      "text/html": [
       "<pre style=\"white-space:pre;overflow-x:auto;line-height:normal;font-family:Menlo,'DejaVu Sans Mono',consolas,'Courier New',monospace\">/usr/local/lib/python3.8/dist-packages/rich/live.py:231: UserWarning: install \"ipywidgets\" for Jupyter support\n",
       "  warnings.warn('install \"ipywidgets\" for Jupyter support')\n",
       "</pre>\n"
      ],
      "text/plain": [
       "/usr/local/lib/python3.8/dist-packages/rich/live.py:231: UserWarning: install \"ipywidgets\" for Jupyter support\n",
       "  warnings.warn('install \"ipywidgets\" for Jupyter support')\n"
      ]
     },
     "metadata": {},
     "output_type": "display_data"
    },
    {
     "data": {
      "text/html": [
       "<pre style=\"white-space:pre;overflow-x:auto;line-height:normal;font-family:Menlo,'DejaVu Sans Mono',consolas,'Courier New',monospace\"><span style=\"color: #800000; text-decoration-color: #800000; font-style: italic\">stats</span>:<span style=\"font-weight: bold\">{</span><span style=\"color: #008000; text-decoration-color: #008000\">'num_users'</span>: <span style=\"color: #008080; text-decoration-color: #008080; font-weight: bold\">29722</span>, <span style=\"color: #008000; text-decoration-color: #008000\">'max_items'</span>: <span style=\"color: #008080; text-decoration-color: #008080; font-weight: bold\">1</span>, <span style=\"color: #008000; text-decoration-color: #008000\">'min_items'</span>: <span style=\"color: #008080; text-decoration-color: #008080; font-weight: bold\">1</span><span style=\"font-weight: bold\">}</span>\n",
       "</pre>\n"
      ],
      "text/plain": [
       "\u001b[3;31mstats\u001b[0m:\u001b[1m{\u001b[0m\u001b[32m'num_users'\u001b[0m: \u001b[1;36m29722\u001b[0m, \u001b[32m'max_items'\u001b[0m: \u001b[1;36m1\u001b[0m, \u001b[32m'min_items'\u001b[0m: \u001b[1;36m1\u001b[0m\u001b[1m}\u001b[0m\n"
      ]
     },
     "metadata": {},
     "output_type": "display_data"
    },
    {
     "data": {
      "text/html": [
       "<pre style=\"white-space:pre;overflow-x:auto;line-height:normal;font-family:Menlo,'DejaVu Sans Mono',consolas,'Courier New',monospace\">/usr/local/lib/python3.8/dist-packages/rich/live.py:231: UserWarning: install \"ipywidgets\" for Jupyter support\n",
       "  warnings.warn('install \"ipywidgets\" for Jupyter support')\n",
       "</pre>\n"
      ],
      "text/plain": [
       "/usr/local/lib/python3.8/dist-packages/rich/live.py:231: UserWarning: install \"ipywidgets\" for Jupyter support\n",
       "  warnings.warn('install \"ipywidgets\" for Jupyter support')\n"
      ]
     },
     "metadata": {},
     "output_type": "display_data"
    },
    {
     "data": {
      "text/html": [
       "<pre style=\"white-space:pre;overflow-x:auto;line-height:normal;font-family:Menlo,'DejaVu Sans Mono',consolas,'Courier New',monospace\"><span style=\"color: #800000; text-decoration-color: #800000; font-style: italic\">HIT_RAT</span><span style=\"color: #800000; text-decoration-color: #800000; font-weight: bold; font-style: italic\">E</span><span style=\"color: #00ff00; text-decoration-color: #00ff00; font-weight: bold\">:0</span>.<span style=\"color: #008080; text-decoration-color: #008080; font-weight: bold\">036538590942736024</span>\n",
       "</pre>\n"
      ],
      "text/plain": [
       "\u001b[3;31mHIT_RAT\u001b[0m\u001b[1;3;31mE\u001b[0m\u001b[1;92m:0\u001b[0m.\u001b[1;36m036538590942736024\u001b[0m\n"
      ]
     },
     "metadata": {},
     "output_type": "display_data"
    },
    {
     "data": {
      "text/html": [
       "<pre style=\"white-space:pre;overflow-x:auto;line-height:normal;font-family:Menlo,'DejaVu Sans Mono',consolas,'Courier New',monospace\"><span style=\"color: #800000; text-decoration-color: #800000; font-style: italic\">MRR</span>:<span style=\"color: #008080; text-decoration-color: #008080; font-weight: bold\">0.002086258189313134</span>\n",
       "</pre>\n"
      ],
      "text/plain": [
       "\u001b[3;31mMRR\u001b[0m:\u001b[1;36m0.002086258189313134\u001b[0m\n"
      ]
     },
     "metadata": {},
     "output_type": "display_data"
    },
    {
     "data": {
      "text/html": [
       "<pre style=\"white-space:pre;overflow-x:auto;line-height:normal;font-family:Menlo,'DejaVu Sans Mono',consolas,'Courier New',monospace\"><span style=\"color: #800000; text-decoration-color: #800000; font-style: italic\">MRED_COUNTRY</span>:<span style=\"font-weight: bold\">{</span><span style=\"color: #008000; text-decoration-color: #008000\">'mred'</span>: <span style=\"color: #008080; text-decoration-color: #008080; font-weight: bold\">-0.005474417354828247</span>, <span style=\"color: #008000; text-decoration-color: #008000\">'mr'</span>: <span style=\"color: #008080; text-decoration-color: #008080; font-weight: bold\">0.9624871726654252</span>, <span style=\"color: #008000; text-decoration-color: #008000\">'BR'</span>: <span style=\"color: #008080; text-decoration-color: #008080; font-weight: bold\">0.9548717948717949</span>, <span style=\"color: #008000; text-decoration-color: #008000\">'CA'</span>: \n",
       "<span style=\"color: #008080; text-decoration-color: #008080; font-weight: bold\">0.9555555555555556</span>, <span style=\"color: #008000; text-decoration-color: #008000\">'DE'</span>: <span style=\"color: #008080; text-decoration-color: #008080; font-weight: bold\">0.964189794091316</span>, <span style=\"color: #008000; text-decoration-color: #008000\">'ES'</span>: <span style=\"color: #008080; text-decoration-color: #008080; font-weight: bold\">0.9634146341463414</span>, <span style=\"color: #008000; text-decoration-color: #008000\">'FI'</span>: <span style=\"color: #008080; text-decoration-color: #008080; font-weight: bold\">0.9772151898734177</span>, <span style=\"color: #008000; text-decoration-color: #008000\">'FR'</span>: \n",
       "<span style=\"color: #008080; text-decoration-color: #008080; font-weight: bold\">0.9696969696969697</span>, <span style=\"color: #008000; text-decoration-color: #008000\">'NL'</span>: <span style=\"color: #008080; text-decoration-color: #008080; font-weight: bold\">0.9564032697547684</span>, <span style=\"color: #008000; text-decoration-color: #008000\">'NaN'</span>: <span style=\"color: #008080; text-decoration-color: #008080; font-weight: bold\">0.9609110302421885</span>, <span style=\"color: #008000; text-decoration-color: #008000\">'PL'</span>: <span style=\"color: #008080; text-decoration-color: #008080; font-weight: bold\">0.9597806215722121</span>, <span style=\"color: #008000; text-decoration-color: #008000\">'RU'</span>: \n",
       "<span style=\"color: #008080; text-decoration-color: #008080; font-weight: bold\">0.9684542586750788</span>, <span style=\"color: #008000; text-decoration-color: #008000\">'SE'</span>: <span style=\"color: #008080; text-decoration-color: #008080; font-weight: bold\">0.9651567944250871</span>, <span style=\"color: #008000; text-decoration-color: #008000\">'UA'</span>: <span style=\"color: #008080; text-decoration-color: #008080; font-weight: bold\">0.97</span>, <span style=\"color: #008000; text-decoration-color: #008000\">'UK'</span>: <span style=\"color: #008080; text-decoration-color: #008080; font-weight: bold\">0.9599644128113879</span>, <span style=\"color: #008000; text-decoration-color: #008000\">'US'</span>: <span style=\"color: #008080; text-decoration-color: #008080; font-weight: bold\">0.9709752321981424</span><span style=\"font-weight: bold\">}</span>\n",
       "</pre>\n"
      ],
      "text/plain": [
       "\u001b[3;31mMRED_COUNTRY\u001b[0m:\u001b[1m{\u001b[0m\u001b[32m'mred'\u001b[0m: \u001b[1;36m-0.005474417354828247\u001b[0m, \u001b[32m'mr'\u001b[0m: \u001b[1;36m0.9624871726654252\u001b[0m, \u001b[32m'BR'\u001b[0m: \u001b[1;36m0.9548717948717949\u001b[0m, \u001b[32m'CA'\u001b[0m: \n",
       "\u001b[1;36m0.9555555555555556\u001b[0m, \u001b[32m'DE'\u001b[0m: \u001b[1;36m0.964189794091316\u001b[0m, \u001b[32m'ES'\u001b[0m: \u001b[1;36m0.9634146341463414\u001b[0m, \u001b[32m'FI'\u001b[0m: \u001b[1;36m0.9772151898734177\u001b[0m, \u001b[32m'FR'\u001b[0m: \n",
       "\u001b[1;36m0.9696969696969697\u001b[0m, \u001b[32m'NL'\u001b[0m: \u001b[1;36m0.9564032697547684\u001b[0m, \u001b[32m'NaN'\u001b[0m: \u001b[1;36m0.9609110302421885\u001b[0m, \u001b[32m'PL'\u001b[0m: \u001b[1;36m0.9597806215722121\u001b[0m, \u001b[32m'RU'\u001b[0m: \n",
       "\u001b[1;36m0.9684542586750788\u001b[0m, \u001b[32m'SE'\u001b[0m: \u001b[1;36m0.9651567944250871\u001b[0m, \u001b[32m'UA'\u001b[0m: \u001b[1;36m0.97\u001b[0m, \u001b[32m'UK'\u001b[0m: \u001b[1;36m0.9599644128113879\u001b[0m, \u001b[32m'US'\u001b[0m: \u001b[1;36m0.9709752321981424\u001b[0m\u001b[1m}\u001b[0m\n"
      ]
     },
     "metadata": {},
     "output_type": "display_data"
    },
    {
     "data": {
      "text/html": [
       "<pre style=\"white-space:pre;overflow-x:auto;line-height:normal;font-family:Menlo,'DejaVu Sans Mono',consolas,'Courier New',monospace\">/usr/local/lib/python3.8/dist-packages/rich/live.py:231: UserWarning: install \"ipywidgets\" for Jupyter support\n",
       "  warnings.warn('install \"ipywidgets\" for Jupyter support')\n",
       "</pre>\n"
      ],
      "text/plain": [
       "/usr/local/lib/python3.8/dist-packages/rich/live.py:231: UserWarning: install \"ipywidgets\" for Jupyter support\n",
       "  warnings.warn('install \"ipywidgets\" for Jupyter support')\n"
      ]
     },
     "metadata": {},
     "output_type": "display_data"
    },
    {
     "data": {
      "text/html": [
       "<pre style=\"white-space:pre;overflow-x:auto;line-height:normal;font-family:Menlo,'DejaVu Sans Mono',consolas,'Courier New',monospace\">/usr/local/lib/python3.8/dist-packages/rich/live.py:231: UserWarning: install \"ipywidgets\" for Jupyter support\n",
       "  warnings.warn('install \"ipywidgets\" for Jupyter support')\n",
       "</pre>\n"
      ],
      "text/plain": [
       "/usr/local/lib/python3.8/dist-packages/rich/live.py:231: UserWarning: install \"ipywidgets\" for Jupyter support\n",
       "  warnings.warn('install \"ipywidgets\" for Jupyter support')\n"
      ]
     },
     "metadata": {},
     "output_type": "display_data"
    },
    {
     "data": {
      "text/html": [
       "<pre style=\"white-space:pre;overflow-x:auto;line-height:normal;font-family:Menlo,'DejaVu Sans Mono',consolas,'Courier New',monospace\"><span style=\"color: #800000; text-decoration-color: #800000; font-style: italic\">MRED_USER_ACTIVITY</span>:<span style=\"font-weight: bold\">{</span><span style=\"color: #008000; text-decoration-color: #008000\">'mred'</span>: <span style=\"color: #008080; text-decoration-color: #008080; font-weight: bold\">-0.007634940652015569</span>, <span style=\"color: #008000; text-decoration-color: #008000\">'mr'</span>: <span style=\"color: #008080; text-decoration-color: #008080; font-weight: bold\">0.963461409057264</span>, <span style=\"color: #008080; text-decoration-color: #008080; font-weight: bold\">1</span>: <span style=\"color: #008080; text-decoration-color: #008080; font-weight: bold\">0.9452304883614788</span>, <span style=\"color: #008080; text-decoration-color: #008080; font-weight: bold\">100</span>: \n",
       "<span style=\"color: #008080; text-decoration-color: #008080; font-weight: bold\">0.9645244215938303</span>, <span style=\"color: #008080; text-decoration-color: #008080; font-weight: bold\">1000</span>: <span style=\"color: #008080; text-decoration-color: #008080; font-weight: bold\">0.9670722977809592</span><span style=\"font-weight: bold\">}</span>\n",
       "</pre>\n"
      ],
      "text/plain": [
       "\u001b[3;31mMRED_USER_ACTIVITY\u001b[0m:\u001b[1m{\u001b[0m\u001b[32m'mred'\u001b[0m: \u001b[1;36m-0.007634940652015569\u001b[0m, \u001b[32m'mr'\u001b[0m: \u001b[1;36m0.963461409057264\u001b[0m, \u001b[1;36m1\u001b[0m: \u001b[1;36m0.9452304883614788\u001b[0m, \u001b[1;36m100\u001b[0m: \n",
       "\u001b[1;36m0.9645244215938303\u001b[0m, \u001b[1;36m1000\u001b[0m: \u001b[1;36m0.9670722977809592\u001b[0m\u001b[1m}\u001b[0m\n"
      ]
     },
     "metadata": {},
     "output_type": "display_data"
    },
    {
     "data": {
      "text/html": [
       "<pre style=\"white-space:pre;overflow-x:auto;line-height:normal;font-family:Menlo,'DejaVu Sans Mono',consolas,'Courier New',monospace\">/usr/local/lib/python3.8/dist-packages/rich/live.py:231: UserWarning: install \"ipywidgets\" for Jupyter support\n",
       "  warnings.warn('install \"ipywidgets\" for Jupyter support')\n",
       "</pre>\n"
      ],
      "text/plain": [
       "/usr/local/lib/python3.8/dist-packages/rich/live.py:231: UserWarning: install \"ipywidgets\" for Jupyter support\n",
       "  warnings.warn('install \"ipywidgets\" for Jupyter support')\n"
      ]
     },
     "metadata": {},
     "output_type": "display_data"
    },
    {
     "data": {
      "text/html": [
       "<pre style=\"white-space:pre;overflow-x:auto;line-height:normal;font-family:Menlo,'DejaVu Sans Mono',consolas,'Courier New',monospace\">/usr/local/lib/python3.8/dist-packages/rich/live.py:231: UserWarning: install \"ipywidgets\" for Jupyter support\n",
       "  warnings.warn('install \"ipywidgets\" for Jupyter support')\n",
       "</pre>\n"
      ],
      "text/plain": [
       "/usr/local/lib/python3.8/dist-packages/rich/live.py:231: UserWarning: install \"ipywidgets\" for Jupyter support\n",
       "  warnings.warn('install \"ipywidgets\" for Jupyter support')\n"
      ]
     },
     "metadata": {},
     "output_type": "display_data"
    },
    {
     "data": {
      "text/html": [
       "<pre style=\"white-space:pre;overflow-x:auto;line-height:normal;font-family:Menlo,'DejaVu Sans Mono',consolas,'Courier New',monospace\"><span style=\"color: #800000; text-decoration-color: #800000; font-style: italic\">MRED_TRACK_POPULARITY</span>:<span style=\"font-weight: bold\">{</span><span style=\"color: #008000; text-decoration-color: #008000\">'mred'</span>: <span style=\"color: #008080; text-decoration-color: #008080; font-weight: bold\">-0.022659505843915823</span>, <span style=\"color: #008000; text-decoration-color: #008000\">'mr'</span>: <span style=\"color: #008080; text-decoration-color: #008080; font-weight: bold\">0.963461409057264</span>, <span style=\"color: #008080; text-decoration-color: #008080; font-weight: bold\">1</span>: <span style=\"color: #008080; text-decoration-color: #008080; font-weight: bold\">1.0</span>, <span style=\"color: #008080; text-decoration-color: #008080; font-weight: bold\">10</span>: <span style=\"color: #008080; text-decoration-color: #008080; font-weight: bold\">0.9783662586353169</span>, <span style=\"color: #008080; text-decoration-color: #008080; font-weight: bold\">100</span>:\n",
       "<span style=\"color: #008080; text-decoration-color: #008080; font-weight: bold\">0.9445804195804196</span>, <span style=\"color: #008080; text-decoration-color: #008080; font-weight: bold\">1000</span>: <span style=\"color: #008080; text-decoration-color: #008080; font-weight: bold\">0.943147815679234</span><span style=\"font-weight: bold\">}</span>\n",
       "</pre>\n"
      ],
      "text/plain": [
       "\u001b[3;31mMRED_TRACK_POPULARITY\u001b[0m:\u001b[1m{\u001b[0m\u001b[32m'mred'\u001b[0m: \u001b[1;36m-0.022659505843915823\u001b[0m, \u001b[32m'mr'\u001b[0m: \u001b[1;36m0.963461409057264\u001b[0m, \u001b[1;36m1\u001b[0m: \u001b[1;36m1.0\u001b[0m, \u001b[1;36m10\u001b[0m: \u001b[1;36m0.9783662586353169\u001b[0m, \u001b[1;36m100\u001b[0m:\n",
       "\u001b[1;36m0.9445804195804196\u001b[0m, \u001b[1;36m1000\u001b[0m: \u001b[1;36m0.943147815679234\u001b[0m\u001b[1m}\u001b[0m\n"
      ]
     },
     "metadata": {},
     "output_type": "display_data"
    },
    {
     "data": {
      "text/html": [
       "<pre style=\"white-space:pre;overflow-x:auto;line-height:normal;font-family:Menlo,'DejaVu Sans Mono',consolas,'Courier New',monospace\">/usr/local/lib/python3.8/dist-packages/rich/live.py:231: UserWarning: install \"ipywidgets\" for Jupyter support\n",
       "  warnings.warn('install \"ipywidgets\" for Jupyter support')\n",
       "</pre>\n"
      ],
      "text/plain": [
       "/usr/local/lib/python3.8/dist-packages/rich/live.py:231: UserWarning: install \"ipywidgets\" for Jupyter support\n",
       "  warnings.warn('install \"ipywidgets\" for Jupyter support')\n"
      ]
     },
     "metadata": {},
     "output_type": "display_data"
    },
    {
     "data": {
      "text/html": [
       "<pre style=\"white-space:pre;overflow-x:auto;line-height:normal;font-family:Menlo,'DejaVu Sans Mono',consolas,'Courier New',monospace\">/usr/local/lib/python3.8/dist-packages/rich/live.py:231: UserWarning: install \"ipywidgets\" for Jupyter support\n",
       "  warnings.warn('install \"ipywidgets\" for Jupyter support')\n",
       "</pre>\n"
      ],
      "text/plain": [
       "/usr/local/lib/python3.8/dist-packages/rich/live.py:231: UserWarning: install \"ipywidgets\" for Jupyter support\n",
       "  warnings.warn('install \"ipywidgets\" for Jupyter support')\n"
      ]
     },
     "metadata": {},
     "output_type": "display_data"
    },
    {
     "data": {
      "text/html": [
       "<pre style=\"white-space:pre;overflow-x:auto;line-height:normal;font-family:Menlo,'DejaVu Sans Mono',consolas,'Courier New',monospace\"><span style=\"color: #800000; text-decoration-color: #800000; font-style: italic\">MRED_ARTIST_POPULARITY</span>:<span style=\"font-weight: bold\">{</span><span style=\"color: #008000; text-decoration-color: #008000\">'mred'</span>: <span style=\"color: #008080; text-decoration-color: #008080; font-weight: bold\">-0.013465682717596184</span>, <span style=\"color: #008000; text-decoration-color: #008000\">'mr'</span>: <span style=\"color: #008080; text-decoration-color: #008080; font-weight: bold\">0.963461409057264</span>, <span style=\"color: #008080; text-decoration-color: #008080; font-weight: bold\">1</span>: <span style=\"color: #008080; text-decoration-color: #008080; font-weight: bold\">0.9894259818731118</span>, <span style=\"color: #008080; text-decoration-color: #008080; font-weight: bold\">100</span>: \n",
       "<span style=\"color: #008080; text-decoration-color: #008080; font-weight: bold\">0.9695793884836257</span>, <span style=\"color: #008080; text-decoration-color: #008080; font-weight: bold\">1000</span>: <span style=\"color: #008080; text-decoration-color: #008080; font-weight: bold\">0.9684762138704659</span>, <span style=\"color: #008080; text-decoration-color: #008080; font-weight: bold\">10000</span>: <span style=\"color: #008080; text-decoration-color: #008080; font-weight: bold\">0.9466960352422907</span><span style=\"font-weight: bold\">}</span>\n",
       "</pre>\n"
      ],
      "text/plain": [
       "\u001b[3;31mMRED_ARTIST_POPULARITY\u001b[0m:\u001b[1m{\u001b[0m\u001b[32m'mred'\u001b[0m: \u001b[1;36m-0.013465682717596184\u001b[0m, \u001b[32m'mr'\u001b[0m: \u001b[1;36m0.963461409057264\u001b[0m, \u001b[1;36m1\u001b[0m: \u001b[1;36m0.9894259818731118\u001b[0m, \u001b[1;36m100\u001b[0m: \n",
       "\u001b[1;36m0.9695793884836257\u001b[0m, \u001b[1;36m1000\u001b[0m: \u001b[1;36m0.9684762138704659\u001b[0m, \u001b[1;36m10000\u001b[0m: \u001b[1;36m0.9466960352422907\u001b[0m\u001b[1m}\u001b[0m\n"
      ]
     },
     "metadata": {},
     "output_type": "display_data"
    },
    {
     "data": {
      "text/html": [
       "<pre style=\"white-space:pre;overflow-x:auto;line-height:normal;font-family:Menlo,'DejaVu Sans Mono',consolas,'Courier New',monospace\">/usr/local/lib/python3.8/dist-packages/rich/live.py:231: UserWarning: install \"ipywidgets\" for Jupyter support\n",
       "  warnings.warn('install \"ipywidgets\" for Jupyter support')\n",
       "</pre>\n"
      ],
      "text/plain": [
       "/usr/local/lib/python3.8/dist-packages/rich/live.py:231: UserWarning: install \"ipywidgets\" for Jupyter support\n",
       "  warnings.warn('install \"ipywidgets\" for Jupyter support')\n"
      ]
     },
     "metadata": {},
     "output_type": "display_data"
    },
    {
     "data": {
      "text/html": [
       "<pre style=\"white-space:pre;overflow-x:auto;line-height:normal;font-family:Menlo,'DejaVu Sans Mono',consolas,'Courier New',monospace\"><span style=\"color: #800000; text-decoration-color: #800000; font-style: italic\">MRED_GENDER</span>:<span style=\"font-weight: bold\">{</span><span style=\"color: #008000; text-decoration-color: #008000\">'mred'</span>: <span style=\"color: #008080; text-decoration-color: #008080; font-weight: bold\">-0.003095803292233209</span>, <span style=\"color: #008000; text-decoration-color: #008000\">'mr'</span>: <span style=\"color: #008080; text-decoration-color: #008080; font-weight: bold\">0.963461409057264</span>, <span style=\"color: #008000; text-decoration-color: #008000\">'f'</span>: <span style=\"color: #008080; text-decoration-color: #008080; font-weight: bold\">0.9683071373357383</span>, <span style=\"color: #008000; text-decoration-color: #008000\">'m'</span>: \n",
       "<span style=\"color: #008080; text-decoration-color: #008080; font-weight: bold\">0.9654172913543229</span>, <span style=\"color: #008000; text-decoration-color: #008000\">'n'</span>: <span style=\"color: #008080; text-decoration-color: #008080; font-weight: bold\">0.9609756097560975</span><span style=\"font-weight: bold\">}</span>\n",
       "</pre>\n"
      ],
      "text/plain": [
       "\u001b[3;31mMRED_GENDER\u001b[0m:\u001b[1m{\u001b[0m\u001b[32m'mred'\u001b[0m: \u001b[1;36m-0.003095803292233209\u001b[0m, \u001b[32m'mr'\u001b[0m: \u001b[1;36m0.963461409057264\u001b[0m, \u001b[32m'f'\u001b[0m: \u001b[1;36m0.9683071373357383\u001b[0m, \u001b[32m'm'\u001b[0m: \n",
       "\u001b[1;36m0.9654172913543229\u001b[0m, \u001b[32m'n'\u001b[0m: \u001b[1;36m0.9609756097560975\u001b[0m\u001b[1m}\u001b[0m\n"
      ]
     },
     "metadata": {},
     "output_type": "display_data"
    },
    {
     "data": {
      "text/html": [
       "<pre style=\"white-space:pre;overflow-x:auto;line-height:normal;font-family:Menlo,'DejaVu Sans Mono',consolas,'Courier New',monospace\">/usr/local/lib/python3.8/dist-packages/rich/live.py:231: UserWarning: install \"ipywidgets\" for Jupyter support\n",
       "  warnings.warn('install \"ipywidgets\" for Jupyter support')\n",
       "</pre>\n"
      ],
      "text/plain": [
       "/usr/local/lib/python3.8/dist-packages/rich/live.py:231: UserWarning: install \"ipywidgets\" for Jupyter support\n",
       "  warnings.warn('install \"ipywidgets\" for Jupyter support')\n"
      ]
     },
     "metadata": {},
     "output_type": "display_data"
    },
    {
     "data": {
      "text/html": [
       "<pre style=\"white-space:pre;overflow-x:auto;line-height:normal;font-family:Menlo,'DejaVu Sans Mono',consolas,'Courier New',monospace\"></pre>\n"
      ],
      "text/plain": []
     },
     "metadata": {},
     "output_type": "display_data"
    },
    {
     "data": {
      "text/html": [
       "<pre style=\"white-space:pre;overflow-x:auto;line-height:normal;font-family:Menlo,'DejaVu Sans Mono',consolas,'Courier New',monospace\">\n",
       "</pre>\n"
      ],
      "text/plain": [
       "\n"
      ]
     },
     "metadata": {},
     "output_type": "display_data"
    },
    {
     "data": {
      "text/html": [
       "<pre style=\"white-space:pre;overflow-x:auto;line-height:normal;font-family:Menlo,'DejaVu Sans Mono',consolas,'Courier New',monospace\"><span style=\"font-style: italic\">                                EvalRSReclist                                 </span>\n",
       "┏━━━━━━━━━━━━━━━━━━━━━━━━┳━━━━━━━━━━━━━━┳━━━━━━━━━━━━━━━━━━━━━━━━━━━━━━━━━━━━┓\n",
       "┃<span style=\"font-weight: bold\">                   Type </span>┃<span style=\"font-weight: bold\"> Description  </span>┃<span style=\"font-weight: bold\">                             Result </span>┃\n",
       "┡━━━━━━━━━━━━━━━━━━━━━━━━╇━━━━━━━━━━━━━━╇━━━━━━━━━━━━━━━━━━━━━━━━━━━━━━━━━━━━┩\n",
       "│<span style=\"color: #008080; text-decoration-color: #008080\">                  stats </span>│<span style=\"color: #800080; text-decoration-color: #800080\">              </span>│<span style=\"color: #008000; text-decoration-color: #008000\">                                  { </span>│\n",
       "│<span style=\"color: #008080; text-decoration-color: #008080\">                        </span>│<span style=\"color: #800080; text-decoration-color: #800080\">              </span>│<span style=\"color: #008000; text-decoration-color: #008000\">                \"num_users\": 29722, </span>│\n",
       "│<span style=\"color: #008080; text-decoration-color: #008080\">                        </span>│<span style=\"color: #800080; text-decoration-color: #800080\">              </span>│<span style=\"color: #008000; text-decoration-color: #008000\">                    \"max_items\": 1, </span>│\n",
       "│<span style=\"color: #008080; text-decoration-color: #008080\">                        </span>│<span style=\"color: #800080; text-decoration-color: #800080\">              </span>│<span style=\"color: #008000; text-decoration-color: #008000\">                     \"min_items\": 1 </span>│\n",
       "│<span style=\"color: #008080; text-decoration-color: #008080\">                        </span>│<span style=\"color: #800080; text-decoration-color: #800080\">              </span>│<span style=\"color: #008000; text-decoration-color: #008000\">                                  } </span>│\n",
       "│<span style=\"color: #008080; text-decoration-color: #008080\">               HIT_RATE </span>│<span style=\"color: #800080; text-decoration-color: #800080\">              </span>│<span style=\"color: #008000; text-decoration-color: #008000\">                             0.0365 </span>│\n",
       "│<span style=\"color: #008080; text-decoration-color: #008080\">                    MRR </span>│<span style=\"color: #800080; text-decoration-color: #800080\">              </span>│<span style=\"color: #008000; text-decoration-color: #008000\">                             0.0021 </span>│\n",
       "│<span style=\"color: #008080; text-decoration-color: #008080\">           MRED_COUNTRY </span>│<span style=\"color: #800080; text-decoration-color: #800080\">              </span>│<span style=\"color: #008000; text-decoration-color: #008000\">                                  { </span>│\n",
       "│<span style=\"color: #008080; text-decoration-color: #008080\">                        </span>│<span style=\"color: #800080; text-decoration-color: #800080\">              </span>│<span style=\"color: #008000; text-decoration-color: #008000\">     \"mred\": -0.005474417354828247, </span>│\n",
       "│<span style=\"color: #008080; text-decoration-color: #008080\">                        </span>│<span style=\"color: #800080; text-decoration-color: #800080\">              </span>│<span style=\"color: #008000; text-decoration-color: #008000\">          \"mr\": 0.9624871726654252, </span>│\n",
       "│<span style=\"color: #008080; text-decoration-color: #008080\">                        </span>│<span style=\"color: #800080; text-decoration-color: #800080\">              </span>│<span style=\"color: #008000; text-decoration-color: #008000\">          \"BR\": 0.9548717948717949, </span>│\n",
       "│<span style=\"color: #008080; text-decoration-color: #008080\">                        </span>│<span style=\"color: #800080; text-decoration-color: #800080\">              </span>│<span style=\"color: #008000; text-decoration-color: #008000\">          \"CA\": 0.9555555555555556, </span>│\n",
       "│<span style=\"color: #008080; text-decoration-color: #008080\">                        </span>│<span style=\"color: #800080; text-decoration-color: #800080\">              </span>│<span style=\"color: #008000; text-decoration-color: #008000\">           \"DE\": 0.964189794091316, </span>│\n",
       "│<span style=\"color: #008080; text-decoration-color: #008080\">                        </span>│<span style=\"color: #800080; text-decoration-color: #800080\">              </span>│<span style=\"color: #008000; text-decoration-color: #008000\">          \"ES\": 0.9634146341463414, </span>│\n",
       "│<span style=\"color: #008080; text-decoration-color: #008080\">                        </span>│<span style=\"color: #800080; text-decoration-color: #800080\">              </span>│<span style=\"color: #008000; text-decoration-color: #008000\">          \"FI\": 0.9772151898734177, </span>│\n",
       "│<span style=\"color: #008080; text-decoration-color: #008080\">                        </span>│<span style=\"color: #800080; text-decoration-color: #800080\">              </span>│<span style=\"color: #008000; text-decoration-color: #008000\">          \"FR\": 0.9696969696969697, </span>│\n",
       "│<span style=\"color: #008080; text-decoration-color: #008080\">                        </span>│<span style=\"color: #800080; text-decoration-color: #800080\">              </span>│<span style=\"color: #008000; text-decoration-color: #008000\">          \"NL\": 0.9564032697547684, </span>│\n",
       "│<span style=\"color: #008080; text-decoration-color: #008080\">                        </span>│<span style=\"color: #800080; text-decoration-color: #800080\">              </span>│<span style=\"color: #008000; text-decoration-color: #008000\">         \"NaN\": 0.9609110302421885, </span>│\n",
       "│<span style=\"color: #008080; text-decoration-color: #008080\">                        </span>│<span style=\"color: #800080; text-decoration-color: #800080\">              </span>│<span style=\"color: #008000; text-decoration-color: #008000\">          \"PL\": 0.9597806215722121, </span>│\n",
       "│<span style=\"color: #008080; text-decoration-color: #008080\">                        </span>│<span style=\"color: #800080; text-decoration-color: #800080\">              </span>│<span style=\"color: #008000; text-decoration-color: #008000\">          \"RU\": 0.9684542586750788, </span>│\n",
       "│<span style=\"color: #008080; text-decoration-color: #008080\">                        </span>│<span style=\"color: #800080; text-decoration-color: #800080\">              </span>│<span style=\"color: #008000; text-decoration-color: #008000\">          \"SE\": 0.9651567944250871, </span>│\n",
       "│<span style=\"color: #008080; text-decoration-color: #008080\">                        </span>│<span style=\"color: #800080; text-decoration-color: #800080\">              </span>│<span style=\"color: #008000; text-decoration-color: #008000\">                        \"UA\": 0.97, </span>│\n",
       "│<span style=\"color: #008080; text-decoration-color: #008080\">                        </span>│<span style=\"color: #800080; text-decoration-color: #800080\">              </span>│<span style=\"color: #008000; text-decoration-color: #008000\">          \"UK\": 0.9599644128113879, </span>│\n",
       "│<span style=\"color: #008080; text-decoration-color: #008080\">                        </span>│<span style=\"color: #800080; text-decoration-color: #800080\">              </span>│<span style=\"color: #008000; text-decoration-color: #008000\">           \"US\": 0.9709752321981424 </span>│\n",
       "│<span style=\"color: #008080; text-decoration-color: #008080\">                        </span>│<span style=\"color: #800080; text-decoration-color: #800080\">              </span>│<span style=\"color: #008000; text-decoration-color: #008000\">                                  } </span>│\n",
       "│<span style=\"color: #008080; text-decoration-color: #008080\">     MRED_USER_ACTIVITY </span>│<span style=\"color: #800080; text-decoration-color: #800080\">              </span>│<span style=\"color: #008000; text-decoration-color: #008000\">                                  { </span>│\n",
       "│<span style=\"color: #008080; text-decoration-color: #008080\">                        </span>│<span style=\"color: #800080; text-decoration-color: #800080\">              </span>│<span style=\"color: #008000; text-decoration-color: #008000\">     \"mred\": -0.007634940652015569, </span>│\n",
       "│<span style=\"color: #008080; text-decoration-color: #008080\">                        </span>│<span style=\"color: #800080; text-decoration-color: #800080\">              </span>│<span style=\"color: #008000; text-decoration-color: #008000\">           \"mr\": 0.963461409057264, </span>│\n",
       "│<span style=\"color: #008080; text-decoration-color: #008080\">                        </span>│<span style=\"color: #800080; text-decoration-color: #800080\">              </span>│<span style=\"color: #008000; text-decoration-color: #008000\">           \"1\": 0.9452304883614788, </span>│\n",
       "│<span style=\"color: #008080; text-decoration-color: #008080\">                        </span>│<span style=\"color: #800080; text-decoration-color: #800080\">              </span>│<span style=\"color: #008000; text-decoration-color: #008000\">         \"100\": 0.9645244215938303, </span>│\n",
       "│<span style=\"color: #008080; text-decoration-color: #008080\">                        </span>│<span style=\"color: #800080; text-decoration-color: #800080\">              </span>│<span style=\"color: #008000; text-decoration-color: #008000\">         \"1000\": 0.9670722977809592 </span>│\n",
       "│<span style=\"color: #008080; text-decoration-color: #008080\">                        </span>│<span style=\"color: #800080; text-decoration-color: #800080\">              </span>│<span style=\"color: #008000; text-decoration-color: #008000\">                                  } </span>│\n",
       "│<span style=\"color: #008080; text-decoration-color: #008080\">  MRED_TRACK_POPULARITY </span>│<span style=\"color: #800080; text-decoration-color: #800080\">              </span>│<span style=\"color: #008000; text-decoration-color: #008000\">                                  { </span>│\n",
       "│<span style=\"color: #008080; text-decoration-color: #008080\">                        </span>│<span style=\"color: #800080; text-decoration-color: #800080\">              </span>│<span style=\"color: #008000; text-decoration-color: #008000\">     \"mred\": -0.022659505843915823, </span>│\n",
       "│<span style=\"color: #008080; text-decoration-color: #008080\">                        </span>│<span style=\"color: #800080; text-decoration-color: #800080\">              </span>│<span style=\"color: #008000; text-decoration-color: #008000\">           \"mr\": 0.963461409057264, </span>│\n",
       "│<span style=\"color: #008080; text-decoration-color: #008080\">                        </span>│<span style=\"color: #800080; text-decoration-color: #800080\">              </span>│<span style=\"color: #008000; text-decoration-color: #008000\">                          \"1\": 1.0, </span>│\n",
       "│<span style=\"color: #008080; text-decoration-color: #008080\">                        </span>│<span style=\"color: #800080; text-decoration-color: #800080\">              </span>│<span style=\"color: #008000; text-decoration-color: #008000\">          \"10\": 0.9783662586353169, </span>│\n",
       "│<span style=\"color: #008080; text-decoration-color: #008080\">                        </span>│<span style=\"color: #800080; text-decoration-color: #800080\">              </span>│<span style=\"color: #008000; text-decoration-color: #008000\">         \"100\": 0.9445804195804196, </span>│\n",
       "│<span style=\"color: #008080; text-decoration-color: #008080\">                        </span>│<span style=\"color: #800080; text-decoration-color: #800080\">              </span>│<span style=\"color: #008000; text-decoration-color: #008000\">          \"1000\": 0.943147815679234 </span>│\n",
       "│<span style=\"color: #008080; text-decoration-color: #008080\">                        </span>│<span style=\"color: #800080; text-decoration-color: #800080\">              </span>│<span style=\"color: #008000; text-decoration-color: #008000\">                                  } </span>│\n",
       "│<span style=\"color: #008080; text-decoration-color: #008080\"> MRED_ARTIST_POPULARITY </span>│<span style=\"color: #800080; text-decoration-color: #800080\">              </span>│<span style=\"color: #008000; text-decoration-color: #008000\">                                  { </span>│\n",
       "│<span style=\"color: #008080; text-decoration-color: #008080\">                        </span>│<span style=\"color: #800080; text-decoration-color: #800080\">              </span>│<span style=\"color: #008000; text-decoration-color: #008000\">     \"mred\": -0.013465682717596184, </span>│\n",
       "│<span style=\"color: #008080; text-decoration-color: #008080\">                        </span>│<span style=\"color: #800080; text-decoration-color: #800080\">              </span>│<span style=\"color: #008000; text-decoration-color: #008000\">           \"mr\": 0.963461409057264, </span>│\n",
       "│<span style=\"color: #008080; text-decoration-color: #008080\">                        </span>│<span style=\"color: #800080; text-decoration-color: #800080\">              </span>│<span style=\"color: #008000; text-decoration-color: #008000\">           \"1\": 0.9894259818731118, </span>│\n",
       "│<span style=\"color: #008080; text-decoration-color: #008080\">                        </span>│<span style=\"color: #800080; text-decoration-color: #800080\">              </span>│<span style=\"color: #008000; text-decoration-color: #008000\">         \"100\": 0.9695793884836257, </span>│\n",
       "│<span style=\"color: #008080; text-decoration-color: #008080\">                        </span>│<span style=\"color: #800080; text-decoration-color: #800080\">              </span>│<span style=\"color: #008000; text-decoration-color: #008000\">        \"1000\": 0.9684762138704659, </span>│\n",
       "│<span style=\"color: #008080; text-decoration-color: #008080\">                        </span>│<span style=\"color: #800080; text-decoration-color: #800080\">              </span>│<span style=\"color: #008000; text-decoration-color: #008000\">        \"10000\": 0.9466960352422907 </span>│\n",
       "│<span style=\"color: #008080; text-decoration-color: #008080\">                        </span>│<span style=\"color: #800080; text-decoration-color: #800080\">              </span>│<span style=\"color: #008000; text-decoration-color: #008000\">                                  } </span>│\n",
       "│<span style=\"color: #008080; text-decoration-color: #008080\">            MRED_GENDER </span>│<span style=\"color: #800080; text-decoration-color: #800080\">              </span>│<span style=\"color: #008000; text-decoration-color: #008000\">                                  { </span>│\n",
       "│<span style=\"color: #008080; text-decoration-color: #008080\">                        </span>│<span style=\"color: #800080; text-decoration-color: #800080\">              </span>│<span style=\"color: #008000; text-decoration-color: #008000\">     \"mred\": -0.003095803292233209, </span>│\n",
       "│<span style=\"color: #008080; text-decoration-color: #008080\">                        </span>│<span style=\"color: #800080; text-decoration-color: #800080\">              </span>│<span style=\"color: #008000; text-decoration-color: #008000\">           \"mr\": 0.963461409057264, </span>│\n",
       "│<span style=\"color: #008080; text-decoration-color: #008080\">                        </span>│<span style=\"color: #800080; text-decoration-color: #800080\">              </span>│<span style=\"color: #008000; text-decoration-color: #008000\">           \"f\": 0.9683071373357383, </span>│\n",
       "│<span style=\"color: #008080; text-decoration-color: #008080\">                        </span>│<span style=\"color: #800080; text-decoration-color: #800080\">              </span>│<span style=\"color: #008000; text-decoration-color: #008000\">           \"m\": 0.9654172913543229, </span>│\n",
       "│<span style=\"color: #008080; text-decoration-color: #008080\">                        </span>│<span style=\"color: #800080; text-decoration-color: #800080\">              </span>│<span style=\"color: #008000; text-decoration-color: #008000\">            \"n\": 0.9609756097560975 </span>│\n",
       "│<span style=\"color: #008080; text-decoration-color: #008080\">                        </span>│<span style=\"color: #800080; text-decoration-color: #800080\">              </span>│<span style=\"color: #008000; text-decoration-color: #008000\">                                  } </span>│\n",
       "└────────────────────────┴──────────────┴────────────────────────────────────┘\n",
       "</pre>\n"
      ],
      "text/plain": [
       "\u001b[3m                                EvalRSReclist                                 \u001b[0m\n",
       "┏━━━━━━━━━━━━━━━━━━━━━━━━┳━━━━━━━━━━━━━━┳━━━━━━━━━━━━━━━━━━━━━━━━━━━━━━━━━━━━┓\n",
       "┃\u001b[1m \u001b[0m\u001b[1m                  Type\u001b[0m\u001b[1m \u001b[0m┃\u001b[1m \u001b[0m\u001b[1mDescription \u001b[0m\u001b[1m \u001b[0m┃\u001b[1m \u001b[0m\u001b[1m                            Result\u001b[0m\u001b[1m \u001b[0m┃\n",
       "┡━━━━━━━━━━━━━━━━━━━━━━━━╇━━━━━━━━━━━━━━╇━━━━━━━━━━━━━━━━━━━━━━━━━━━━━━━━━━━━┩\n",
       "│\u001b[36m \u001b[0m\u001b[36m                 stats\u001b[0m\u001b[36m \u001b[0m│\u001b[35m \u001b[0m\u001b[35m            \u001b[0m\u001b[35m \u001b[0m│\u001b[32m \u001b[0m\u001b[32m                                 {\u001b[0m\u001b[32m \u001b[0m│\n",
       "│\u001b[36m                        \u001b[0m│\u001b[35m              \u001b[0m│\u001b[32m \u001b[0m\u001b[32m               \"num_users\": 29722,\u001b[0m\u001b[32m \u001b[0m│\n",
       "│\u001b[36m                        \u001b[0m│\u001b[35m              \u001b[0m│\u001b[32m \u001b[0m\u001b[32m                   \"max_items\": 1,\u001b[0m\u001b[32m \u001b[0m│\n",
       "│\u001b[36m                        \u001b[0m│\u001b[35m              \u001b[0m│\u001b[32m \u001b[0m\u001b[32m                    \"min_items\": 1\u001b[0m\u001b[32m \u001b[0m│\n",
       "│\u001b[36m                        \u001b[0m│\u001b[35m              \u001b[0m│\u001b[32m \u001b[0m\u001b[32m                                 }\u001b[0m\u001b[32m \u001b[0m│\n",
       "│\u001b[36m \u001b[0m\u001b[36m              HIT_RATE\u001b[0m\u001b[36m \u001b[0m│\u001b[35m \u001b[0m\u001b[35m            \u001b[0m\u001b[35m \u001b[0m│\u001b[32m \u001b[0m\u001b[32m                            0.0365\u001b[0m\u001b[32m \u001b[0m│\n",
       "│\u001b[36m \u001b[0m\u001b[36m                   MRR\u001b[0m\u001b[36m \u001b[0m│\u001b[35m \u001b[0m\u001b[35m            \u001b[0m\u001b[35m \u001b[0m│\u001b[32m \u001b[0m\u001b[32m                            0.0021\u001b[0m\u001b[32m \u001b[0m│\n",
       "│\u001b[36m \u001b[0m\u001b[36m          MRED_COUNTRY\u001b[0m\u001b[36m \u001b[0m│\u001b[35m \u001b[0m\u001b[35m            \u001b[0m\u001b[35m \u001b[0m│\u001b[32m \u001b[0m\u001b[32m                                 {\u001b[0m\u001b[32m \u001b[0m│\n",
       "│\u001b[36m                        \u001b[0m│\u001b[35m              \u001b[0m│\u001b[32m \u001b[0m\u001b[32m    \"mred\": -0.005474417354828247,\u001b[0m\u001b[32m \u001b[0m│\n",
       "│\u001b[36m                        \u001b[0m│\u001b[35m              \u001b[0m│\u001b[32m \u001b[0m\u001b[32m         \"mr\": 0.9624871726654252,\u001b[0m\u001b[32m \u001b[0m│\n",
       "│\u001b[36m                        \u001b[0m│\u001b[35m              \u001b[0m│\u001b[32m \u001b[0m\u001b[32m         \"BR\": 0.9548717948717949,\u001b[0m\u001b[32m \u001b[0m│\n",
       "│\u001b[36m                        \u001b[0m│\u001b[35m              \u001b[0m│\u001b[32m \u001b[0m\u001b[32m         \"CA\": 0.9555555555555556,\u001b[0m\u001b[32m \u001b[0m│\n",
       "│\u001b[36m                        \u001b[0m│\u001b[35m              \u001b[0m│\u001b[32m \u001b[0m\u001b[32m          \"DE\": 0.964189794091316,\u001b[0m\u001b[32m \u001b[0m│\n",
       "│\u001b[36m                        \u001b[0m│\u001b[35m              \u001b[0m│\u001b[32m \u001b[0m\u001b[32m         \"ES\": 0.9634146341463414,\u001b[0m\u001b[32m \u001b[0m│\n",
       "│\u001b[36m                        \u001b[0m│\u001b[35m              \u001b[0m│\u001b[32m \u001b[0m\u001b[32m         \"FI\": 0.9772151898734177,\u001b[0m\u001b[32m \u001b[0m│\n",
       "│\u001b[36m                        \u001b[0m│\u001b[35m              \u001b[0m│\u001b[32m \u001b[0m\u001b[32m         \"FR\": 0.9696969696969697,\u001b[0m\u001b[32m \u001b[0m│\n",
       "│\u001b[36m                        \u001b[0m│\u001b[35m              \u001b[0m│\u001b[32m \u001b[0m\u001b[32m         \"NL\": 0.9564032697547684,\u001b[0m\u001b[32m \u001b[0m│\n",
       "│\u001b[36m                        \u001b[0m│\u001b[35m              \u001b[0m│\u001b[32m \u001b[0m\u001b[32m        \"NaN\": 0.9609110302421885,\u001b[0m\u001b[32m \u001b[0m│\n",
       "│\u001b[36m                        \u001b[0m│\u001b[35m              \u001b[0m│\u001b[32m \u001b[0m\u001b[32m         \"PL\": 0.9597806215722121,\u001b[0m\u001b[32m \u001b[0m│\n",
       "│\u001b[36m                        \u001b[0m│\u001b[35m              \u001b[0m│\u001b[32m \u001b[0m\u001b[32m         \"RU\": 0.9684542586750788,\u001b[0m\u001b[32m \u001b[0m│\n",
       "│\u001b[36m                        \u001b[0m│\u001b[35m              \u001b[0m│\u001b[32m \u001b[0m\u001b[32m         \"SE\": 0.9651567944250871,\u001b[0m\u001b[32m \u001b[0m│\n",
       "│\u001b[36m                        \u001b[0m│\u001b[35m              \u001b[0m│\u001b[32m \u001b[0m\u001b[32m                       \"UA\": 0.97,\u001b[0m\u001b[32m \u001b[0m│\n",
       "│\u001b[36m                        \u001b[0m│\u001b[35m              \u001b[0m│\u001b[32m \u001b[0m\u001b[32m         \"UK\": 0.9599644128113879,\u001b[0m\u001b[32m \u001b[0m│\n",
       "│\u001b[36m                        \u001b[0m│\u001b[35m              \u001b[0m│\u001b[32m \u001b[0m\u001b[32m          \"US\": 0.9709752321981424\u001b[0m\u001b[32m \u001b[0m│\n",
       "│\u001b[36m                        \u001b[0m│\u001b[35m              \u001b[0m│\u001b[32m \u001b[0m\u001b[32m                                 }\u001b[0m\u001b[32m \u001b[0m│\n",
       "│\u001b[36m \u001b[0m\u001b[36m    MRED_USER_ACTIVITY\u001b[0m\u001b[36m \u001b[0m│\u001b[35m \u001b[0m\u001b[35m            \u001b[0m\u001b[35m \u001b[0m│\u001b[32m \u001b[0m\u001b[32m                                 {\u001b[0m\u001b[32m \u001b[0m│\n",
       "│\u001b[36m                        \u001b[0m│\u001b[35m              \u001b[0m│\u001b[32m \u001b[0m\u001b[32m    \"mred\": -0.007634940652015569,\u001b[0m\u001b[32m \u001b[0m│\n",
       "│\u001b[36m                        \u001b[0m│\u001b[35m              \u001b[0m│\u001b[32m \u001b[0m\u001b[32m          \"mr\": 0.963461409057264,\u001b[0m\u001b[32m \u001b[0m│\n",
       "│\u001b[36m                        \u001b[0m│\u001b[35m              \u001b[0m│\u001b[32m \u001b[0m\u001b[32m          \"1\": 0.9452304883614788,\u001b[0m\u001b[32m \u001b[0m│\n",
       "│\u001b[36m                        \u001b[0m│\u001b[35m              \u001b[0m│\u001b[32m \u001b[0m\u001b[32m        \"100\": 0.9645244215938303,\u001b[0m\u001b[32m \u001b[0m│\n",
       "│\u001b[36m                        \u001b[0m│\u001b[35m              \u001b[0m│\u001b[32m \u001b[0m\u001b[32m        \"1000\": 0.9670722977809592\u001b[0m\u001b[32m \u001b[0m│\n",
       "│\u001b[36m                        \u001b[0m│\u001b[35m              \u001b[0m│\u001b[32m \u001b[0m\u001b[32m                                 }\u001b[0m\u001b[32m \u001b[0m│\n",
       "│\u001b[36m \u001b[0m\u001b[36m MRED_TRACK_POPULARITY\u001b[0m\u001b[36m \u001b[0m│\u001b[35m \u001b[0m\u001b[35m            \u001b[0m\u001b[35m \u001b[0m│\u001b[32m \u001b[0m\u001b[32m                                 {\u001b[0m\u001b[32m \u001b[0m│\n",
       "│\u001b[36m                        \u001b[0m│\u001b[35m              \u001b[0m│\u001b[32m \u001b[0m\u001b[32m    \"mred\": -0.022659505843915823,\u001b[0m\u001b[32m \u001b[0m│\n",
       "│\u001b[36m                        \u001b[0m│\u001b[35m              \u001b[0m│\u001b[32m \u001b[0m\u001b[32m          \"mr\": 0.963461409057264,\u001b[0m\u001b[32m \u001b[0m│\n",
       "│\u001b[36m                        \u001b[0m│\u001b[35m              \u001b[0m│\u001b[32m \u001b[0m\u001b[32m                         \"1\": 1.0,\u001b[0m\u001b[32m \u001b[0m│\n",
       "│\u001b[36m                        \u001b[0m│\u001b[35m              \u001b[0m│\u001b[32m \u001b[0m\u001b[32m         \"10\": 0.9783662586353169,\u001b[0m\u001b[32m \u001b[0m│\n",
       "│\u001b[36m                        \u001b[0m│\u001b[35m              \u001b[0m│\u001b[32m \u001b[0m\u001b[32m        \"100\": 0.9445804195804196,\u001b[0m\u001b[32m \u001b[0m│\n",
       "│\u001b[36m                        \u001b[0m│\u001b[35m              \u001b[0m│\u001b[32m \u001b[0m\u001b[32m         \"1000\": 0.943147815679234\u001b[0m\u001b[32m \u001b[0m│\n",
       "│\u001b[36m                        \u001b[0m│\u001b[35m              \u001b[0m│\u001b[32m \u001b[0m\u001b[32m                                 }\u001b[0m\u001b[32m \u001b[0m│\n",
       "│\u001b[36m \u001b[0m\u001b[36mMRED_ARTIST_POPULARITY\u001b[0m\u001b[36m \u001b[0m│\u001b[35m \u001b[0m\u001b[35m            \u001b[0m\u001b[35m \u001b[0m│\u001b[32m \u001b[0m\u001b[32m                                 {\u001b[0m\u001b[32m \u001b[0m│\n",
       "│\u001b[36m                        \u001b[0m│\u001b[35m              \u001b[0m│\u001b[32m \u001b[0m\u001b[32m    \"mred\": -0.013465682717596184,\u001b[0m\u001b[32m \u001b[0m│\n",
       "│\u001b[36m                        \u001b[0m│\u001b[35m              \u001b[0m│\u001b[32m \u001b[0m\u001b[32m          \"mr\": 0.963461409057264,\u001b[0m\u001b[32m \u001b[0m│\n",
       "│\u001b[36m                        \u001b[0m│\u001b[35m              \u001b[0m│\u001b[32m \u001b[0m\u001b[32m          \"1\": 0.9894259818731118,\u001b[0m\u001b[32m \u001b[0m│\n",
       "│\u001b[36m                        \u001b[0m│\u001b[35m              \u001b[0m│\u001b[32m \u001b[0m\u001b[32m        \"100\": 0.9695793884836257,\u001b[0m\u001b[32m \u001b[0m│\n",
       "│\u001b[36m                        \u001b[0m│\u001b[35m              \u001b[0m│\u001b[32m \u001b[0m\u001b[32m       \"1000\": 0.9684762138704659,\u001b[0m\u001b[32m \u001b[0m│\n",
       "│\u001b[36m                        \u001b[0m│\u001b[35m              \u001b[0m│\u001b[32m \u001b[0m\u001b[32m       \"10000\": 0.9466960352422907\u001b[0m\u001b[32m \u001b[0m│\n",
       "│\u001b[36m                        \u001b[0m│\u001b[35m              \u001b[0m│\u001b[32m \u001b[0m\u001b[32m                                 }\u001b[0m\u001b[32m \u001b[0m│\n",
       "│\u001b[36m \u001b[0m\u001b[36m           MRED_GENDER\u001b[0m\u001b[36m \u001b[0m│\u001b[35m \u001b[0m\u001b[35m            \u001b[0m\u001b[35m \u001b[0m│\u001b[32m \u001b[0m\u001b[32m                                 {\u001b[0m\u001b[32m \u001b[0m│\n",
       "│\u001b[36m                        \u001b[0m│\u001b[35m              \u001b[0m│\u001b[32m \u001b[0m\u001b[32m    \"mred\": -0.003095803292233209,\u001b[0m\u001b[32m \u001b[0m│\n",
       "│\u001b[36m                        \u001b[0m│\u001b[35m              \u001b[0m│\u001b[32m \u001b[0m\u001b[32m          \"mr\": 0.963461409057264,\u001b[0m\u001b[32m \u001b[0m│\n",
       "│\u001b[36m                        \u001b[0m│\u001b[35m              \u001b[0m│\u001b[32m \u001b[0m\u001b[32m          \"f\": 0.9683071373357383,\u001b[0m\u001b[32m \u001b[0m│\n",
       "│\u001b[36m                        \u001b[0m│\u001b[35m              \u001b[0m│\u001b[32m \u001b[0m\u001b[32m          \"m\": 0.9654172913543229,\u001b[0m\u001b[32m \u001b[0m│\n",
       "│\u001b[36m                        \u001b[0m│\u001b[35m              \u001b[0m│\u001b[32m \u001b[0m\u001b[32m           \"n\": 0.9609756097560975\u001b[0m\u001b[32m \u001b[0m│\n",
       "│\u001b[36m                        \u001b[0m│\u001b[35m              \u001b[0m│\u001b[32m \u001b[0m\u001b[32m                                 }\u001b[0m\u001b[32m \u001b[0m│\n",
       "└────────────────────────┴──────────────┴────────────────────────────────────┘\n"
      ]
     },
     "metadata": {},
     "output_type": "display_data"
    }
   ],
   "source": [
    "# initialize with everything\n",
    "cdf = EvalRSReclist(\n",
    "    dataset=dataset,\n",
    "    model_name=\"SimpleModel\",\n",
    "    predictions=preds_df,\n",
    "    logger=LOGGER.LOCAL,\n",
    "    metadata_store=METADATA_STORE.LOCAL,\n",
    ")\n",
    "\n",
    "# run reclist\n",
    "cdf(verbose=True)"
   ]
  },
  {
   "cell_type": "code",
   "execution_count": null,
   "metadata": {},
   "outputs": [],
   "source": []
  }
 ],
 "metadata": {
  "kernelspec": {
   "display_name": "Python 3 (ipykernel)",
   "language": "python",
   "name": "python3"
  },
  "language_info": {
   "codemirror_mode": {
    "name": "ipython",
    "version": 3
   },
   "file_extension": ".py",
   "mimetype": "text/x-python",
   "name": "python",
   "nbconvert_exporter": "python",
   "pygments_lexer": "ipython3",
   "version": "3.8.10"
  }
 },
 "nbformat": 4,
 "nbformat_minor": 1
}
