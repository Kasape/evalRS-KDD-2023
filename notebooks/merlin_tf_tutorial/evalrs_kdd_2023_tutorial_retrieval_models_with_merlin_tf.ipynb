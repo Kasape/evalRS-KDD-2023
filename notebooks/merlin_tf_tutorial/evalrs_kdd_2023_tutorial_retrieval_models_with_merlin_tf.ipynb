{
 "cells": [
  {
   "cell_type": "markdown",
   "metadata": {},
   "source": [
    "## RecSys Tutorial for the EvalRS 2023 hackaton \n",
    "# Retrieval models with Merlin and Tensorflow on LastFM dataset\n",
    "\n",
    "In this notebook, we present a tutorial on how to use the open-source [NVIDIA Merlin](https://github.com/NVIDIA-Merlin/) framework, on top of Tensorflow, to build and train a retrieval model for EvalRS hackaton using LastFM dataset. It uses the [NVTabular](https://github.com/NVIDIA-Merlin/NVTabular) library for preprocessing and [Merlin Models](https://github.com/NVIDIA-Merlin/models) library for building and training Tensorflow-based retrieval models.\n",
    "\n",
    "### Retrieval models and Two-stage RecSys\n",
    "Retrieval models are recsys scalable models that are able to retrieve a large number of candidate items for recommendation. They are typically used in two-stage recsys pipelines, where the retrieval stage scores hundreds of thousands or millions of items and then the ranking stage model rescores the candidate items, using for that more features or with a more powerful architecture.  \n",
    "For ML-based candidate retrieval model, as it needs to quickly score millions of items for a given user, the retrieval models typically produce recommendation scores by just computing the dot product between user and item representations. Popular choices of such models are Matrix Factorization, which learns low-rank user and item embeddings, and the Two-Tower architecture, which is a neural network with two MLP towers where both user and item features are fed to generate user and item embeddings in the output.  \n",
    "\n",
    "In this notebook you will learn how to implement a pipeline for the hackaton that preprocess the available categorical, continuous and the song lyrics pre-trained embedding features in a suitable format for neural networks and trains retrieval models (Matrix Factorization and Two-Tower architecture)."
   ]
  },
  {
   "cell_type": "code",
   "execution_count": 1,
   "metadata": {},
   "outputs": [
    {
     "name": "stderr",
     "output_type": "stream",
     "text": [
      "2023-07-20 22:59:53.561585: I tensorflow/core/util/port.cc:110] oneDNN custom operations are on. You may see slightly different numerical results due to floating-point round-off errors from different computation orders. To turn them off, set the environment variable `TF_ENABLE_ONEDNN_OPTS=0`.\n",
      "2023-07-20 22:59:53.598948: I tensorflow/core/platform/cpu_feature_guard.cc:183] This TensorFlow binary is optimized to use available CPU instructions in performance-critical operations.\n",
      "To enable the following instructions: SSE3 SSE4.1 SSE4.2 AVX, in other operations, rebuild TensorFlow with the appropriate compiler flags.\n",
      "/usr/local/lib/python3.8/dist-packages/merlin/dtypes/mappings/torch.py:43: UserWarning: PyTorch dtype mappings did not load successfully due to an error: No module named 'torch'\n",
      "  warn(f\"PyTorch dtype mappings did not load successfully due to an error: {exc.msg}\")\n"
     ]
    }
   ],
   "source": [
    "import os\n",
    "import sys\n",
    "import pandas as pd\n",
    "import numpy as np\n",
    "import shutil\n",
    "from functools import partial\n",
    "sys.path.append(os.path.abspath('../../evaluation'))\n",
    "\n",
    "from EvalRSRunner import ChallengeDataset\n",
    "from EvalRSReclist import EvalRSReclist\n",
    "from reclist.reclist import LOGGER, METADATA_STORE\n",
    "from merlin.io.dataset import Dataset"
   ]
  },
  {
   "cell_type": "code",
   "execution_count": 2,
   "metadata": {},
   "outputs": [],
   "source": [
    "# If None the dataset will be saved to a temporary cache folder\n",
    "DATASET_OUT_PATH = '/data'"
   ]
  },
  {
   "cell_type": "code",
   "execution_count": 3,
   "metadata": {},
   "outputs": [],
   "source": [
    "PREPROC_DATASET_OUT_PATH = os.path.join(DATASET_OUT_PATH, \"evalrs_2023_dataset_preproc\")\n",
    "CATEG_MAPPING_FOLDER = os.path.join(PREPROC_DATASET_OUT_PATH, 'categories/')"
   ]
  },
  {
   "cell_type": "markdown",
   "metadata": {},
   "source": [
    "## Dataset download and split"
   ]
  },
  {
   "cell_type": "markdown",
   "metadata": {},
   "source": [
    "Let's first download and uncompress the dataset and all its tables.  \n",
    "In order to reduce the dataset for faster and less memory intensive computation, we set `sample_users_perc=0.25` to sample 25% of the users and keep only their events. We also set `min_user_item_freq=10` so that we have users and items with a mininum frequency of 10."
   ]
  },
  {
   "cell_type": "code",
   "execution_count": 4,
   "metadata": {
    "pycharm": {
     "name": "#%%\n"
    }
   },
   "outputs": [
    {
     "name": "stdout",
     "output_type": "stream",
     "text": [
      "LFM dataset already downloaded. Skipping download.\n",
      "Loading dataset.\n",
      "Generating dataset hashes.\n"
     ]
    }
   ],
   "source": [
    "# note, if YES, the dataset will be donwloaded again\n",
    "dataset = ChallengeDataset(force_download=False, \n",
    "                           dataset_out_path=DATASET_OUT_PATH,\n",
    "                           folded_dataset_split = False,\n",
    "                           sample_users_perc=0.25,\n",
    "                           min_user_item_freq=10)  "
   ]
  },
  {
   "cell_type": "markdown",
   "metadata": {},
   "source": [
    "The test set is defined as the last interaction for each user. So all users and items in test set are present in test set, as we are not focused in exploring the user/item cold-start problem in this example of music streaming domain."
   ]
  },
  {
   "cell_type": "code",
   "execution_count": 5,
   "metadata": {},
   "outputs": [
    {
     "name": "stdout",
     "output_type": "stream",
     "text": [
      "6869679 29722\n"
     ]
    }
   ],
   "source": [
    "events_train_df, events_test_df = dataset._get_train_set(), dataset._get_test_set()\n",
    "print(len(events_train_df), len(events_test_df))"
   ]
  },
  {
   "cell_type": "markdown",
   "metadata": {},
   "source": [
    "## Preprocessing"
   ]
  },
  {
   "cell_type": "markdown",
   "metadata": {},
   "source": [
    "**If you have already processed the dataset you can skip this section, as the parquet files were already generated in `PREPROC_DATASET_OUT_PATH`**"
   ]
  },
  {
   "cell_type": "code",
   "execution_count": 2,
   "metadata": {},
   "outputs": [],
   "source": [
    "import nvtabular as nvt\n",
    "import nvtabular.ops as ops\n",
    "from merlin.dag import ColumnSelector\n",
    "from merlin.schema import Schema, Tags"
   ]
  },
  {
   "cell_type": "code",
   "execution_count": null,
   "metadata": {},
   "outputs": [],
   "source": [
    "len(events_train_df)"
   ]
  },
  {
   "cell_type": "code",
   "execution_count": null,
   "metadata": {},
   "outputs": [],
   "source": [
    "len(events_test_df)"
   ]
  },
  {
   "cell_type": "code",
   "execution_count": null,
   "metadata": {},
   "outputs": [],
   "source": [
    "class Preprocessor:\n",
    "    \n",
    "    def events_join_tables(self, events_df):\n",
    "        events_df = events_train_df.copy()    \n",
    "        del events_df[\"timestamp\"]\n",
    "        del events_df[\"artist_id\"]\n",
    "        del events_df[\"user_track_count\"]    \n",
    "\n",
    "        users_df = dataset.df_users.copy()\n",
    "        del users_df[\"registered_unixtime\"]\n",
    "        del users_df[\"country_id\"]\n",
    "        del users_df[\"gender_id\"]\n",
    "\n",
    "        tracks_df = dataset.df_tracks.copy()\n",
    "        del tracks_df[\"artist\"]\n",
    "        del tracks_df[\"albums_id\"]\n",
    "        del tracks_df[\"albums\"]\n",
    "\n",
    "        social_tags_df = dataset.df_social_tags.reset_index()\n",
    "        social_tags_df = social_tags_df[social_tags_df[\"social_tags_weight\"] > 5]\n",
    "        social_tags_df = social_tags_df.groupby('lastfm_id').agg({\"social_tags_value\": list})\n",
    "        \n",
    "\n",
    "        emotion_tags_df = dataset.df_emotion_tags.reset_index()\n",
    "        emotion_tags_df = emotion_tags_df[emotion_tags_df[\"emotion_tags_weight\"] > 5]\n",
    "        emotion_tags_df = emotion_tags_df.groupby('lastfm_id').agg({\"emotion_tags_value\": list})        \n",
    "\n",
    "\n",
    "        event_enriched_df = events_df \\\n",
    "                .merge(users_df, left_on=\"user_id\", right_index=True) \\\n",
    "                .merge(tracks_df, left_on=\"track_id\", right_index=True) \\\n",
    "                .merge(emotion_tags_df, left_on=\"lastfm_id\", right_index=True, how=\"left\") \\\n",
    "                .merge(social_tags_df, left_on=\"lastfm_id\", right_index=True, how=\"left\")\n",
    "        event_enriched_df[\"social_tags_value\"] = event_enriched_df[\"social_tags_value\"].apply(lambda x: x if x and x is not np.nan else [\"<null>\"])\n",
    "        event_enriched_df[\"emotion_tags_value\"] = event_enriched_df[\"emotion_tags_value\"].apply(lambda x: x if x and x is not np.nan else [\"<null>\"])\n",
    "\n",
    "        return event_enriched_df\n",
    "\n",
    "\n",
    "    def get_nvtabular_preproc_workflow(self):\n",
    "        \"\"\"Defines an NVTabular preprocessing workflow\"\"\"\n",
    "\n",
    "        user_id_col = [\"user_id\"] \n",
    "        user_cat_cols = [\"country\", \"gender\"]\n",
    "        user_age_col = [\"age\"]\n",
    "\n",
    "        user_continuous_cols = [\n",
    "            'novelty_artist_avg_month', 'novelty_artist_avg_6months', 'novelty_artist_avg_year',\n",
    "            'mainstreaminess_avg_month', 'mainstreaminess_avg_6months', 'mainstreaminess_avg_year', 'mainstreaminess_global',\n",
    "            'relative_le_per_weekday1', 'relative_le_per_weekday2', 'relative_le_per_weekday3',\n",
    "             'relative_le_per_weekday4', 'relative_le_per_weekday5','relative_le_per_weekday6', 'relative_le_per_weekday7',\n",
    "             'relative_le_per_hour0', 'relative_le_per_hour1','relative_le_per_hour2', 'relative_le_per_hour3',\n",
    "             'relative_le_per_hour4', 'relative_le_per_hour5', 'relative_le_per_hour6', 'relative_le_per_hour7', \n",
    "             'relative_le_per_hour8', 'relative_le_per_hour9', 'relative_le_per_hour10', 'relative_le_per_hour11',\n",
    "             'relative_le_per_hour12', 'relative_le_per_hour13', 'relative_le_per_hour14', 'relative_le_per_hour15',\n",
    "             'relative_le_per_hour16', 'relative_le_per_hour17','relative_le_per_hour18', 'relative_le_per_hour19',\n",
    "             'relative_le_per_hour20', 'relative_le_per_hour21', 'relative_le_per_hour22', 'relative_le_per_hour23', \n",
    "        ]\n",
    "\n",
    "        user_counts_cols = ['playcount', 'cnt_listeningevents', 'cnt_distinct_tracks', \n",
    "                                'cnt_distinct_artists', 'cnt_listeningevents_per_week']\n",
    "\n",
    "        item_id = [\"track_id\"]\n",
    "        item_categ_features_cols = [\"artist_id\", \"album_id\",\n",
    "                                    'has_emotion_tags', 'has_social_tags', 'isClassic',\n",
    "                                    'emotion_tags_value', 'social_tags_value',\n",
    "                                    \"urlSong\" # Just for making it possible to join the pre-trained embeddings later\n",
    "                                   ] \n",
    "        item_cont_features_cols = ['arousal_predicted', 'valence_predicted']\n",
    "\n",
    "        user_id = user_id_col >> ops.Categorify(out_path=PREPROC_DATASET_OUT_PATH) >> ops.TagAsUserID()\n",
    "        user_feat_cat = user_cat_cols >> ops.Categorify(out_path=PREPROC_DATASET_OUT_PATH) >> ops.TagAsUserFeatures()\n",
    "        age_boundaries = list(np.arange(0,100,5))\n",
    "        user_age = user_age_col >> ops.FillMissing(0) >> ops.Bucketize(age_boundaries) >> ops.Categorify(out_path=PREPROC_DATASET_OUT_PATH) >> ops.TagAsUserFeatures()\n",
    "        user_feat_cont = user_continuous_cols >> ops.FillMedian() >> ops.Normalize() >> ops.TagAsUserFeatures()\n",
    "        user_feat_count = user_counts_cols >> ops.Clip(min_value=1) >> ops.FillMedian() >> ops.LogOp() >> ops.Normalize() >> ops.TagAsUserFeatures()\n",
    "        user_features = user_id + user_feat_cat + user_age + user_feat_cont + user_feat_count\n",
    "\n",
    "        item_id = item_id >> ops.Categorify(out_path=PREPROC_DATASET_OUT_PATH) >> ops.TagAsItemID()\n",
    "        item_cat_feat = item_categ_features_cols >> ops.Categorify(out_path=PREPROC_DATASET_OUT_PATH) >> ops.TagAsItemFeatures()\n",
    "        item_cont_feat = item_cont_features_cols >> ops.FillMedian() >> ops.Normalize() >> ops.TagAsItemFeatures()\n",
    "        item_features = item_id + item_cat_feat + item_cont_feat\n",
    "\n",
    "        outputs = user_features + item_features\n",
    "        workflow = nvt.Workflow(outputs)\n",
    "        return workflow\n",
    "\n",
    "    def preprocess_dataset(self, events_df, output_path):\n",
    "        \"\"\"Preprocess the dataset using an NVTabular workflow\"\"\"        \n",
    "        nvt_dataset = nvt.Dataset(events_df)\n",
    "        \n",
    "        shutil.rmtree(CATEG_MAPPING_FOLDER, ignore_errors=True)\n",
    "\n",
    "        nvt_workflow = self.get_nvtabular_preproc_workflow()\n",
    "        nvt_workflow.fit(nvt_dataset)\n",
    "        schema = nvt_workflow.output_schema\n",
    "\n",
    "        transformed_dataset = nvt_workflow.transform(nvt_dataset)        \n",
    "        transformed_dataset.to_parquet(output_path)"
   ]
  },
  {
   "cell_type": "markdown",
   "metadata": {},
   "source": [
    "#### Joining the train set with auxiliary tables"
   ]
  },
  {
   "cell_type": "markdown",
   "metadata": {},
   "source": [
    "The next cell joins the events with the auxiliary tables (e.g. users, tracks, emotions, topics, etc), so that it forms a single train set."
   ]
  },
  {
   "cell_type": "code",
   "execution_count": null,
   "metadata": {},
   "outputs": [],
   "source": [
    "preprocessor = Preprocessor()\n",
    "events_train_enriched_df = preprocessor.events_join_tables(events_train_df)\n",
    "events_train_enriched_df"
   ]
  },
  {
   "cell_type": "markdown",
   "metadata": {},
   "source": [
    "#### Preprocess the dataset with NVTabular and export to parquet files"
   ]
  },
  {
   "cell_type": "markdown",
   "metadata": {},
   "source": [
    "For preprocessing, we use the [NVTabular](https://github.com/NVIDIA-Merlin/NVTabular) library, which provides very handful features for common operations like (label) encoding categorical features for embeddings and normalization for continuous features. NVTabular works both with CPUs and GPUs. \n",
    "The output parquet files will be saved to `PREPROC_DATASET_OUT_PATH` folder"
   ]
  },
  {
   "cell_type": "code",
   "execution_count": 11,
   "metadata": {},
   "outputs": [],
   "source": [
    "preprocessor.preprocess_dataset(events_train_enriched_df, \n",
    "                                output_path=PREPROC_DATASET_OUT_PATH)"
   ]
  },
  {
   "cell_type": "markdown",
   "metadata": {},
   "source": [
    "## Loading the preprocesset dataset"
   ]
  },
  {
   "cell_type": "code",
   "execution_count": 6,
   "metadata": {},
   "outputs": [],
   "source": [
    "train_ds = Dataset(os.path.join(PREPROC_DATASET_OUT_PATH, '*.parquet'))"
   ]
  },
  {
   "cell_type": "code",
   "execution_count": 7,
   "metadata": {
    "scrolled": true
   },
   "outputs": [
    {
     "data": {
      "text/html": [
       "<div>\n",
       "<style scoped>\n",
       "    .dataframe tbody tr th:only-of-type {\n",
       "        vertical-align: middle;\n",
       "    }\n",
       "\n",
       "    .dataframe tbody tr th {\n",
       "        vertical-align: top;\n",
       "    }\n",
       "\n",
       "    .dataframe thead th {\n",
       "        text-align: right;\n",
       "    }\n",
       "</style>\n",
       "<table border=\"1\" class=\"dataframe\">\n",
       "  <thead>\n",
       "    <tr style=\"text-align: right;\">\n",
       "      <th></th>\n",
       "      <th>user_id</th>\n",
       "      <th>country</th>\n",
       "      <th>gender</th>\n",
       "      <th>age</th>\n",
       "      <th>novelty_artist_avg_month</th>\n",
       "      <th>novelty_artist_avg_6months</th>\n",
       "      <th>novelty_artist_avg_year</th>\n",
       "      <th>mainstreaminess_avg_month</th>\n",
       "      <th>mainstreaminess_avg_6months</th>\n",
       "      <th>mainstreaminess_avg_year</th>\n",
       "      <th>...</th>\n",
       "      <th>artist_id</th>\n",
       "      <th>album_id</th>\n",
       "      <th>has_emotion_tags</th>\n",
       "      <th>has_social_tags</th>\n",
       "      <th>isClassic</th>\n",
       "      <th>emotion_tags_value</th>\n",
       "      <th>social_tags_value</th>\n",
       "      <th>urlSong</th>\n",
       "      <th>arousal_predicted</th>\n",
       "      <th>valence_predicted</th>\n",
       "    </tr>\n",
       "  </thead>\n",
       "  <tbody>\n",
       "    <tr>\n",
       "      <th>0</th>\n",
       "      <td>10832</td>\n",
       "      <td>2</td>\n",
       "      <td>3</td>\n",
       "      <td>5</td>\n",
       "      <td>-0.626581</td>\n",
       "      <td>0.813531</td>\n",
       "      <td>0.090792</td>\n",
       "      <td>1.572557</td>\n",
       "      <td>0.848605</td>\n",
       "      <td>0.585004</td>\n",
       "      <td>...</td>\n",
       "      <td>204</td>\n",
       "      <td>18709</td>\n",
       "      <td>3</td>\n",
       "      <td>3</td>\n",
       "      <td>3</td>\n",
       "      <td>[4, 13, 28]</td>\n",
       "      <td>[7, 65, 30, 20, 5, 2666, 42, 1666, 2414, 846, ...</td>\n",
       "      <td>54956</td>\n",
       "      <td>-0.189828</td>\n",
       "      <td>0.367678</td>\n",
       "    </tr>\n",
       "    <tr>\n",
       "      <th>1</th>\n",
       "      <td>5670</td>\n",
       "      <td>1</td>\n",
       "      <td>5</td>\n",
       "      <td>6</td>\n",
       "      <td>0.748759</td>\n",
       "      <td>3.807387</td>\n",
       "      <td>-0.588009</td>\n",
       "      <td>-1.421893</td>\n",
       "      <td>-0.751658</td>\n",
       "      <td>0.203650</td>\n",
       "      <td>...</td>\n",
       "      <td>204</td>\n",
       "      <td>18709</td>\n",
       "      <td>1</td>\n",
       "      <td>1</td>\n",
       "      <td>3</td>\n",
       "      <td>[4, 13, 28]</td>\n",
       "      <td>[7, 65, 30, 20, 5, 2666, 42, 1666, 2414, 846, ...</td>\n",
       "      <td>54956</td>\n",
       "      <td>-0.189828</td>\n",
       "      <td>0.367678</td>\n",
       "    </tr>\n",
       "    <tr>\n",
       "      <th>2</th>\n",
       "      <td>12052</td>\n",
       "      <td>1</td>\n",
       "      <td>3</td>\n",
       "      <td>3</td>\n",
       "      <td>-0.528880</td>\n",
       "      <td>0.532691</td>\n",
       "      <td>-0.048953</td>\n",
       "      <td>-0.158593</td>\n",
       "      <td>1.100500</td>\n",
       "      <td>-1.213415</td>\n",
       "      <td>...</td>\n",
       "      <td>204</td>\n",
       "      <td>5670</td>\n",
       "      <td>1</td>\n",
       "      <td>1</td>\n",
       "      <td>3</td>\n",
       "      <td>[4, 13, 28]</td>\n",
       "      <td>[7, 65, 30, 20, 5, 2666, 42, 1666, 2414, 846, ...</td>\n",
       "      <td>54956</td>\n",
       "      <td>-0.189828</td>\n",
       "      <td>0.367678</td>\n",
       "    </tr>\n",
       "    <tr>\n",
       "      <th>3</th>\n",
       "      <td>10640</td>\n",
       "      <td>1</td>\n",
       "      <td>3</td>\n",
       "      <td>3</td>\n",
       "      <td>-0.070079</td>\n",
       "      <td>-0.073335</td>\n",
       "      <td>0.265490</td>\n",
       "      <td>0.195524</td>\n",
       "      <td>-0.748907</td>\n",
       "      <td>-0.383778</td>\n",
       "      <td>...</td>\n",
       "      <td>204</td>\n",
       "      <td>24082</td>\n",
       "      <td>1</td>\n",
       "      <td>1</td>\n",
       "      <td>1</td>\n",
       "      <td>[4, 13, 28]</td>\n",
       "      <td>[7, 65, 30, 20, 5, 2666, 42, 1666, 2414, 846, ...</td>\n",
       "      <td>1</td>\n",
       "      <td>-0.189828</td>\n",
       "      <td>0.367678</td>\n",
       "    </tr>\n",
       "    <tr>\n",
       "      <th>4</th>\n",
       "      <td>6594</td>\n",
       "      <td>1</td>\n",
       "      <td>3</td>\n",
       "      <td>3</td>\n",
       "      <td>-0.790451</td>\n",
       "      <td>2.909314</td>\n",
       "      <td>0.298523</td>\n",
       "      <td>0.167329</td>\n",
       "      <td>-0.753980</td>\n",
       "      <td>0.618950</td>\n",
       "      <td>...</td>\n",
       "      <td>204</td>\n",
       "      <td>5670</td>\n",
       "      <td>1</td>\n",
       "      <td>1</td>\n",
       "      <td>3</td>\n",
       "      <td>[4, 13, 28]</td>\n",
       "      <td>[7, 65, 30, 20, 5, 2666, 42, 1666, 2414, 846, ...</td>\n",
       "      <td>54956</td>\n",
       "      <td>-0.189828</td>\n",
       "      <td>0.367678</td>\n",
       "    </tr>\n",
       "  </tbody>\n",
       "</table>\n",
       "<p>5 rows × 58 columns</p>\n",
       "</div>"
      ],
      "text/plain": [
       "   user_id  country  gender  age  novelty_artist_avg_month  \\\n",
       "0    10832        2       3    5                 -0.626581   \n",
       "1     5670        1       5    6                  0.748759   \n",
       "2    12052        1       3    3                 -0.528880   \n",
       "3    10640        1       3    3                 -0.070079   \n",
       "4     6594        1       3    3                 -0.790451   \n",
       "\n",
       "   novelty_artist_avg_6months  novelty_artist_avg_year  \\\n",
       "0                    0.813531                 0.090792   \n",
       "1                    3.807387                -0.588009   \n",
       "2                    0.532691                -0.048953   \n",
       "3                   -0.073335                 0.265490   \n",
       "4                    2.909314                 0.298523   \n",
       "\n",
       "   mainstreaminess_avg_month  mainstreaminess_avg_6months  \\\n",
       "0                   1.572557                     0.848605   \n",
       "1                  -1.421893                    -0.751658   \n",
       "2                  -0.158593                     1.100500   \n",
       "3                   0.195524                    -0.748907   \n",
       "4                   0.167329                    -0.753980   \n",
       "\n",
       "   mainstreaminess_avg_year  ...  artist_id  album_id  has_emotion_tags  \\\n",
       "0                  0.585004  ...        204     18709                 3   \n",
       "1                  0.203650  ...        204     18709                 1   \n",
       "2                 -1.213415  ...        204      5670                 1   \n",
       "3                 -0.383778  ...        204     24082                 1   \n",
       "4                  0.618950  ...        204      5670                 1   \n",
       "\n",
       "   has_social_tags  isClassic  emotion_tags_value  \\\n",
       "0                3          3         [4, 13, 28]   \n",
       "1                1          3         [4, 13, 28]   \n",
       "2                1          3         [4, 13, 28]   \n",
       "3                1          1         [4, 13, 28]   \n",
       "4                1          3         [4, 13, 28]   \n",
       "\n",
       "                                   social_tags_value urlSong  \\\n",
       "0  [7, 65, 30, 20, 5, 2666, 42, 1666, 2414, 846, ...   54956   \n",
       "1  [7, 65, 30, 20, 5, 2666, 42, 1666, 2414, 846, ...   54956   \n",
       "2  [7, 65, 30, 20, 5, 2666, 42, 1666, 2414, 846, ...   54956   \n",
       "3  [7, 65, 30, 20, 5, 2666, 42, 1666, 2414, 846, ...       1   \n",
       "4  [7, 65, 30, 20, 5, 2666, 42, 1666, 2414, 846, ...   54956   \n",
       "\n",
       "   arousal_predicted  valence_predicted  \n",
       "0          -0.189828           0.367678  \n",
       "1          -0.189828           0.367678  \n",
       "2          -0.189828           0.367678  \n",
       "3          -0.189828           0.367678  \n",
       "4          -0.189828           0.367678  \n",
       "\n",
       "[5 rows x 58 columns]"
      ]
     },
     "execution_count": 7,
     "metadata": {},
     "output_type": "execute_result"
    }
   ],
   "source": [
    "train_ds.to_ddf().head()"
   ]
  },
  {
   "cell_type": "code",
   "execution_count": 8,
   "metadata": {},
   "outputs": [],
   "source": [
    "# Loads mapping of categ features after the workflow is fit\n",
    "user_ids_mapping_df = pd.read_parquet(os.path.join(CATEG_MAPPING_FOLDER, 'unique.user_id.parquet'))[['user_id']]\n",
    "track_ids_mapping_df = pd.read_parquet(os.path.join(CATEG_MAPPING_FOLDER, 'unique.track_id.parquet'))[['track_id']]\n",
    "url_song_ids_mapping_df = pd.read_parquet(os.path.join(CATEG_MAPPING_FOLDER, 'unique.urlSong.parquet'))[['urlSong']]"
   ]
  },
  {
   "cell_type": "markdown",
   "metadata": {},
   "source": [
    "### Preparing Songs lyrics embeddings\n",
    "\n",
    "This section prepares a matrix with the song lyrics pre-trained embeddings. It can be used by the Two-Tower model as an item feature."
   ]
  },
  {
   "cell_type": "code",
   "execution_count": 9,
   "metadata": {},
   "outputs": [
    {
     "data": {
      "text/html": [
       "<div>\n",
       "<style scoped>\n",
       "    .dataframe tbody tr th:only-of-type {\n",
       "        vertical-align: middle;\n",
       "    }\n",
       "\n",
       "    .dataframe tbody tr th {\n",
       "        vertical-align: top;\n",
       "    }\n",
       "\n",
       "    .dataframe thead th {\n",
       "        text-align: right;\n",
       "    }\n",
       "</style>\n",
       "<table border=\"1\" class=\"dataframe\">\n",
       "  <thead>\n",
       "    <tr style=\"text-align: right;\">\n",
       "      <th></th>\n",
       "      <th>song_embedding</th>\n",
       "    </tr>\n",
       "    <tr>\n",
       "      <th>url_song_index</th>\n",
       "      <th></th>\n",
       "    </tr>\n",
       "  </thead>\n",
       "  <tbody>\n",
       "    <tr>\n",
       "      <th>3</th>\n",
       "      <td>[0.040728766, 0.028635837, -0.010818669, -0.08...</td>\n",
       "    </tr>\n",
       "    <tr>\n",
       "      <th>4</th>\n",
       "      <td>[-0.00038573408, 0.015808051, -0.017853128, -0...</td>\n",
       "    </tr>\n",
       "    <tr>\n",
       "      <th>5</th>\n",
       "      <td>[0.00045647967, 0.08925042, 0.038907174, -0.03...</td>\n",
       "    </tr>\n",
       "    <tr>\n",
       "      <th>6</th>\n",
       "      <td>[-0.034443233, -0.011341039, 0.008480853, -0.0...</td>\n",
       "    </tr>\n",
       "    <tr>\n",
       "      <th>7</th>\n",
       "      <td>[0.04746266, 0.048200216, 0.02619298, 0.020876...</td>\n",
       "    </tr>\n",
       "    <tr>\n",
       "      <th>...</th>\n",
       "      <td>...</td>\n",
       "    </tr>\n",
       "    <tr>\n",
       "      <th>146616</th>\n",
       "      <td>[0.026716162, -0.069737315, 0.018002456, 0.038...</td>\n",
       "    </tr>\n",
       "    <tr>\n",
       "      <th>146617</th>\n",
       "      <td>[0.005791276, -4.8687336e-05, 0.01080327, -0.0...</td>\n",
       "    </tr>\n",
       "    <tr>\n",
       "      <th>146619</th>\n",
       "      <td>[0.032971963, 0.014805067, 0.0059817433, -0.02...</td>\n",
       "    </tr>\n",
       "    <tr>\n",
       "      <th>146620</th>\n",
       "      <td>[-0.027753226, 0.067928165, 0.015239163, -0.00...</td>\n",
       "    </tr>\n",
       "    <tr>\n",
       "      <th>146621</th>\n",
       "      <td>[0.005791276, -4.8687336e-05, 0.01080327, -0.0...</td>\n",
       "    </tr>\n",
       "  </tbody>\n",
       "</table>\n",
       "<p>141599 rows × 1 columns</p>\n",
       "</div>"
      ],
      "text/plain": [
       "                                                   song_embedding\n",
       "url_song_index                                                   \n",
       "3               [0.040728766, 0.028635837, -0.010818669, -0.08...\n",
       "4               [-0.00038573408, 0.015808051, -0.017853128, -0...\n",
       "5               [0.00045647967, 0.08925042, 0.038907174, -0.03...\n",
       "6               [-0.034443233, -0.011341039, 0.008480853, -0.0...\n",
       "7               [0.04746266, 0.048200216, 0.02619298, 0.020876...\n",
       "...                                                           ...\n",
       "146616          [0.026716162, -0.069737315, 0.018002456, 0.038...\n",
       "146617          [0.005791276, -4.8687336e-05, 0.01080327, -0.0...\n",
       "146619          [0.032971963, 0.014805067, 0.0059817433, -0.02...\n",
       "146620          [-0.027753226, 0.067928165, 0.015239163, -0.00...\n",
       "146621          [0.005791276, -4.8687336e-05, 0.01080327, -0.0...\n",
       "\n",
       "[141599 rows x 1 columns]"
      ]
     },
     "execution_count": 9,
     "metadata": {},
     "output_type": "execute_result"
    }
   ],
   "source": [
    "song_embeddings_df = dataset.df_song_embeddings.merge(url_song_ids_mapping_df.reset_index().rename({\"index\": \"url_song_index\"}, axis=1),\n",
    "                                 on=\"urlSong\").set_index(\"url_song_index\").sort_index()\n",
    "del song_embeddings_df[\"urlSong\"]\n",
    "song_embeddings_df"
   ]
  },
  {
   "cell_type": "code",
   "execution_count": 10,
   "metadata": {},
   "outputs": [],
   "source": [
    "avg_embedding = np.vstack(song_embeddings_df['song_embedding'].values).mean(axis=0)"
   ]
  },
  {
   "cell_type": "code",
   "execution_count": 11,
   "metadata": {},
   "outputs": [],
   "source": [
    "song_embeddings_df = song_embeddings_df.reindex(np.arange(song_embeddings_df.index.max()+1), \n",
    "                                                fill_value=avg_embedding)"
   ]
  },
  {
   "cell_type": "code",
   "execution_count": 12,
   "metadata": {},
   "outputs": [
    {
     "data": {
      "text/html": [
       "<div>\n",
       "<style scoped>\n",
       "    .dataframe tbody tr th:only-of-type {\n",
       "        vertical-align: middle;\n",
       "    }\n",
       "\n",
       "    .dataframe tbody tr th {\n",
       "        vertical-align: top;\n",
       "    }\n",
       "\n",
       "    .dataframe thead th {\n",
       "        text-align: right;\n",
       "    }\n",
       "</style>\n",
       "<table border=\"1\" class=\"dataframe\">\n",
       "  <thead>\n",
       "    <tr style=\"text-align: right;\">\n",
       "      <th></th>\n",
       "      <th>song_embedding</th>\n",
       "    </tr>\n",
       "    <tr>\n",
       "      <th>url_song_index</th>\n",
       "      <th></th>\n",
       "    </tr>\n",
       "  </thead>\n",
       "  <tbody>\n",
       "    <tr>\n",
       "      <th>0</th>\n",
       "      <td>[0.021221787, 0.029759321, 0.0013067338, -0.01...</td>\n",
       "    </tr>\n",
       "    <tr>\n",
       "      <th>1</th>\n",
       "      <td>[0.021221787, 0.029759321, 0.0013067338, -0.01...</td>\n",
       "    </tr>\n",
       "    <tr>\n",
       "      <th>2</th>\n",
       "      <td>[0.021221787, 0.029759321, 0.0013067338, -0.01...</td>\n",
       "    </tr>\n",
       "    <tr>\n",
       "      <th>3</th>\n",
       "      <td>[0.040728766, 0.028635837, -0.010818669, -0.08...</td>\n",
       "    </tr>\n",
       "    <tr>\n",
       "      <th>4</th>\n",
       "      <td>[-0.00038573408, 0.015808051, -0.017853128, -0...</td>\n",
       "    </tr>\n",
       "    <tr>\n",
       "      <th>...</th>\n",
       "      <td>...</td>\n",
       "    </tr>\n",
       "    <tr>\n",
       "      <th>146617</th>\n",
       "      <td>[0.005791276, -4.8687336e-05, 0.01080327, -0.0...</td>\n",
       "    </tr>\n",
       "    <tr>\n",
       "      <th>146618</th>\n",
       "      <td>[0.021221787, 0.029759321, 0.0013067338, -0.01...</td>\n",
       "    </tr>\n",
       "    <tr>\n",
       "      <th>146619</th>\n",
       "      <td>[0.032971963, 0.014805067, 0.0059817433, -0.02...</td>\n",
       "    </tr>\n",
       "    <tr>\n",
       "      <th>146620</th>\n",
       "      <td>[-0.027753226, 0.067928165, 0.015239163, -0.00...</td>\n",
       "    </tr>\n",
       "    <tr>\n",
       "      <th>146621</th>\n",
       "      <td>[0.005791276, -4.8687336e-05, 0.01080327, -0.0...</td>\n",
       "    </tr>\n",
       "  </tbody>\n",
       "</table>\n",
       "<p>146622 rows × 1 columns</p>\n",
       "</div>"
      ],
      "text/plain": [
       "                                                   song_embedding\n",
       "url_song_index                                                   \n",
       "0               [0.021221787, 0.029759321, 0.0013067338, -0.01...\n",
       "1               [0.021221787, 0.029759321, 0.0013067338, -0.01...\n",
       "2               [0.021221787, 0.029759321, 0.0013067338, -0.01...\n",
       "3               [0.040728766, 0.028635837, -0.010818669, -0.08...\n",
       "4               [-0.00038573408, 0.015808051, -0.017853128, -0...\n",
       "...                                                           ...\n",
       "146617          [0.005791276, -4.8687336e-05, 0.01080327, -0.0...\n",
       "146618          [0.021221787, 0.029759321, 0.0013067338, -0.01...\n",
       "146619          [0.032971963, 0.014805067, 0.0059817433, -0.02...\n",
       "146620          [-0.027753226, 0.067928165, 0.015239163, -0.00...\n",
       "146621          [0.005791276, -4.8687336e-05, 0.01080327, -0.0...\n",
       "\n",
       "[146622 rows x 1 columns]"
      ]
     },
     "execution_count": 12,
     "metadata": {},
     "output_type": "execute_result"
    }
   ],
   "source": [
    "song_embeddings_df"
   ]
  },
  {
   "cell_type": "code",
   "execution_count": 13,
   "metadata": {},
   "outputs": [
    {
     "data": {
      "text/plain": [
       "(146622, 768)"
      ]
     },
     "execution_count": 13,
     "metadata": {},
     "output_type": "execute_result"
    }
   ],
   "source": [
    "song_lyrics_embedding_matrix = np.vstack(song_embeddings_df[\"song_embedding\"])\n",
    "song_lyrics_embedding_matrix.shape"
   ]
  },
  {
   "cell_type": "code",
   "execution_count": 14,
   "metadata": {},
   "outputs": [],
   "source": [
    "del song_embeddings_df"
   ]
  },
  {
   "cell_type": "markdown",
   "metadata": {},
   "source": [
    "## Creates a retrieval recsys pipeline with Merlin"
   ]
  },
  {
   "cell_type": "code",
   "execution_count": 15,
   "metadata": {},
   "outputs": [
    {
     "name": "stdout",
     "output_type": "stream",
     "text": [
      "WARNING:tensorflow:Please fix your imports. Module tensorflow.python.training.tracking.data_structures has been moved to tensorflow.python.trackable.data_structures. The old module will be deleted in version 2.11.\n",
      "[INFO]: sparse_operation_kit is imported\n",
      "WARNING:tensorflow:Please fix your imports. Module tensorflow.python.training.tracking.base has been moved to tensorflow.python.trackable.base. The old module will be deleted in version 2.11.\n",
      "[SOK INFO] Import /usr/local/lib/python3.8/dist-packages/merlin_sok-1.2.0-py3.8-linux-x86_64.egg/sparse_operation_kit/lib/libsok_experiment.so\n",
      "[SOK INFO] Import /usr/local/lib/python3.8/dist-packages/merlin_sok-1.2.0-py3.8-linux-x86_64.egg/sparse_operation_kit/lib/libsok_experiment.so\n",
      "[SOK INFO] Initialize finished, communication tool: horovod\n"
     ]
    },
    {
     "name": "stderr",
     "output_type": "stream",
     "text": [
      "2023-07-20 22:06:54.166382: W tensorflow/core/common_runtime/gpu/gpu_bfc_allocator.cc:47] Overriding orig_value setting because the TF_FORCE_GPU_ALLOW_GROWTH environment variable is set. Original config value was 0.\n",
      "2023-07-20 22:06:54.166423: I tensorflow/core/common_runtime/gpu/gpu_device.cc:1638] Created device /job:localhost/replica:0/task:0/device:GPU:0 with 16254 MB memory:  -> device: 0, name: Quadro GV100, pci bus id: 0000:15:00.0, compute capability: 7.0\n",
      "2023-07-20 22:06:54.167163: W tensorflow/core/common_runtime/gpu/gpu_bfc_allocator.cc:47] Overriding orig_value setting because the TF_FORCE_GPU_ALLOW_GROWTH environment variable is set. Original config value was 0.\n",
      "2023-07-20 22:06:54.167185: I tensorflow/core/common_runtime/gpu/gpu_device.cc:1638] Created device /job:localhost/replica:0/task:0/device:GPU:1 with 16254 MB memory:  -> device: 1, name: Quadro GV100, pci bus id: 0000:2d:00.0, compute capability: 7.0\n"
     ]
    }
   ],
   "source": [
    "import merlin.models.tf as mm\n",
    "from merlin.io import Dataset\n",
    "from merlin.io.dataset import Dataset\n",
    "from merlin.schema.tags import Tags\n",
    "from merlin.models.utils import schema_utils\n",
    "from merlin.models.tf.transforms.bias import PopularityLogitsCorrection\n",
    "from merlin.models.tf.outputs.base import DotProduct\n",
    "from merlin.models.utils.dataset import unique_rows_by_features\n",
    "from merlin.dataloader.ops.embeddings import EmbeddingOperator\n",
    "import tensorflow as tf\n",
    "from tensorflow.keras import regularizers"
   ]
  },
  {
   "cell_type": "code",
   "execution_count": 16,
   "metadata": {},
   "outputs": [],
   "source": [
    "def get_item_frequencies(train_ds):       \n",
    "    \"\"\"Utility function that returns a TF tensor with the items (tracks) frequency\"\"\"\n",
    "    schema = train_ds.schema\n",
    "    # Gets the item ids cardinality\n",
    "    item_id_feature = schema.select_by_tag(Tags.ITEM_ID)\n",
    "    item_id_feature_name = item_id_feature.column_names[0]\n",
    "    cardinalities = schema_utils.categorical_cardinalities(schema)\n",
    "    item_id_cardinality = cardinalities[item_id_feature_name]\n",
    "\n",
    "    item_id_feature_name = schema.select_by_tag(Tags.ITEM_ID).column_names[0]\n",
    "\n",
    "    item_frequencies_df = (\n",
    "        train_ds.to_ddf()\n",
    "        .groupby(item_id_feature_name)\n",
    "        .size()\n",
    "        .to_frame(\"freq\")\n",
    "        .compute()\n",
    "    )\n",
    "    assert len(item_frequencies_df) <= item_id_cardinality\n",
    "    assert item_frequencies_df.index.max() < item_id_cardinality\n",
    "\n",
    "    # Completing the missing item ids and filling freq with 0\n",
    "    item_frequencies_df = item_frequencies_df.reindex(\n",
    "        np.arange(0, item_id_cardinality)\n",
    "    ).fillna(0)\n",
    "    assert len(item_frequencies_df) == item_id_cardinality\n",
    "\n",
    "    item_frequencies_df = item_frequencies_df.sort_index()\n",
    "    item_frequencies_df[\"dummy\"] = 1\n",
    "    item_frequencies_df[\"expected_id\"] = item_frequencies_df[\"dummy\"].cumsum() - 1\n",
    "    assert (\n",
    "        item_frequencies_df.index == item_frequencies_df[\"expected_id\"]\n",
    "    ).all(), f\"The item id feature ({item_id_feature_name}) should be contiguous from 0 to {item_id_cardinality-1}\"\n",
    "\n",
    "    item_frequencies = tf.convert_to_tensor(\n",
    "        item_frequencies_df[\"freq\"].values.get()\n",
    "    )\n",
    "\n",
    "    return item_frequencies"
   ]
  },
  {
   "cell_type": "markdown",
   "metadata": {},
   "source": [
    "### Merlin Models\n",
    "For model definition and training we use [Merlin Models](https://github.com/NVIDIA-Merlin/models). It provides a Tensorflow (Keras) API where you can easily build state-of-the-art retrieval and ranking models. One of the core ideas of Models is to leverage the schema generated during preprocessing by **NVTabular** to create automatically the necessary embedding tables for categorical features and define the target of the model.  You can find more information about retrieval with Merlin Models in this [example notebook](https://github.com/NVIDIA-Merlin/models/blob/main/examples/05-Retrieval-Model.ipynb).\n",
    "\n",
    "Here we will be implementing two retrieval models: **Matrix Factorization** and **Two-Tower architecture**.\n",
    "You will notice that we create a base `MyRetrievalModel` class, which we specialize later as `MyMFModel` and `MyTwoTowerModel` to override the `get_model()` method to return a `MatrixFactorizationModel` or `TwoTowerModel` instance."
   ]
  },
  {
   "cell_type": "markdown",
   "metadata": {},
   "source": [
    "### Defining your RecModel\n",
    "\n",
    "Here we define our `RecModel` for EvalRS, which must implement the `train()` and the `predict()` methods. Within `train()` we receive a dataframe with the fold data and we need to define our full pipeline for preprocessing and training data. The `predict()` method receives a dataframe with the user ids, and it expects you to return the top-k predicted items for each user."
   ]
  },
  {
   "cell_type": "code",
   "execution_count": 17,
   "metadata": {},
   "outputs": [],
   "source": [
    "class MyRetrievalModel():\n",
    "    \n",
    "    def __init__(self, user_ids_mapping_df, track_ids_mapping_df,\n",
    "                 pretrained_embeddings=None,\n",
    "                 top_k: int = 100, \n",
    "                 predict_batch_size=1024, \n",
    "                 **kwargs):\n",
    "        self.user_ids_mapping_df = user_ids_mapping_df\n",
    "        self.track_ids_mapping_df = track_ids_mapping_df\n",
    "        self.pretrained_embeddings = pretrained_embeddings\n",
    "        self.top_k = top_k\n",
    "        self.predict_batch_size = predict_batch_size\n",
    "        self.hparams = kwargs\n",
    "    \n",
    "        \n",
    "    def get_retrieval_output(self):        \n",
    "        \"\"\"Defines the item retrieval task to be used by the retrieval models\"\"\"\n",
    "        items_frequencies = get_item_frequencies(self.train_dataset)\n",
    "        \n",
    "        post_logits = None\n",
    "        reg_factor = self.hparams['logq_correction_factor']\n",
    "        if reg_factor > 0.0:\n",
    "            post_logits = PopularityLogitsCorrection(\n",
    "                items_frequencies,\n",
    "                reg_factor=reg_factor,\n",
    "                schema=self.schema,\n",
    "            )\n",
    "            \n",
    "        \n",
    "        retrieval_output = mm.ContrastiveOutput(\n",
    "            DotProduct(),\n",
    "            logits_temperature=self.hparams['logits_temperature'],\n",
    "            post=post_logits,\n",
    "            negative_samplers=\"in-batch\",\n",
    "            schema=self.schema,\n",
    "            store_negative_ids=True,\n",
    "        )\n",
    "        \n",
    "        return retrieval_output\n",
    "\n",
    "    \n",
    "    def get_model(self):\n",
    "        \"\"\"Defines the model architecture. Needs to be overridden by the child class\"\"\"\n",
    "        raise NotImplementedError()\n",
    "    \n",
    "    def compile_model(self, model):\n",
    "        \"\"\"Compiles the Keras model setting the metrics, loss, learning rate and optimizer\"\"\"\n",
    "        metrics = [mm.TopKMetricsAggregator(mm.RecallAt(20), mm.MRRAt(20))]\n",
    "        \n",
    "        lerning_rate = tf.keras.optimizers.schedules.ExponentialDecay(\n",
    "            self.hparams['lr'],\n",
    "            decay_steps=self.hparams['lr_decay_steps'],\n",
    "            decay_rate=self.hparams['lr_decay_rate'],\n",
    "            staircase=True,\n",
    "        )\n",
    "        optimizer = tf.keras.optimizers.Adam(learning_rate=lerning_rate)\n",
    "        loss = tf.keras.losses.CategoricalCrossentropy(\n",
    "            from_logits=True, label_smoothing=self.hparams['label_smoothing'],\n",
    "        )\n",
    "        \n",
    "        model.compile(optimizer, loss=loss, metrics=metrics, run_eagerly=False)\n",
    "        \n",
    "    def get_items_topk_recommender_model(\n",
    "        self,\n",
    "        dataset, \n",
    "        loader_transforms,\n",
    "        model, \n",
    "        ):        \n",
    "        \"\"\"Converts a retrieval model into a Top-k recommender model, which\n",
    "        takes only user features as input, generates the user representations \n",
    "        (e.g. by taking the user embedding for MF or using the user tower to generate it)\n",
    "        and uses scores all cached item representations to return the most similar items \n",
    "        (P.s. This procedure would be done by an ANN engine in production)\"\"\"        \n",
    "        candidate_features = unique_rows_by_features(dataset, Tags.ITEM, Tags.ITEM_ID)\n",
    "        loader_candidates = mm.Loader(\n",
    "            candidate_features,\n",
    "            batch_size=128,\n",
    "            transforms=loader_transforms,\n",
    "        )\n",
    "\n",
    "        topk_rec_model = model.to_top_k_encoder(loader_candidates, k=self.top_k, batch_size=128)\n",
    "\n",
    "        return topk_rec_model\n",
    "        \n",
    "    def train_model(self, model, loader):\n",
    "        model.fit(\n",
    "            loader,\n",
    "            epochs=self.hparams['epochs'],            \n",
    "            #steps_per_epoch=10,\n",
    "            shuffle=True,\n",
    "            drop_last=True,\n",
    "            train_metrics_steps=10,\n",
    "        )\n",
    "        \n",
    "\n",
    "    def train(self, train_dataset: Dataset):\n",
    "        \"\"\"\n",
    "        Implement here your training logic. Since our example method is a simple random model,\n",
    "        we actually don't use any training data to build the model, but you should ;-)\n",
    "        At the end of training, make sure the class contains a trained model you can use in the predict method.\n",
    "        \"\"\"                    \n",
    "            \n",
    "        self.train_dataset = train_dataset        \n",
    "\n",
    "        loader_transforms = None\n",
    "        if self.pretrained_embeddings is not None:\n",
    "            loader_transforms = [\n",
    "                EmbeddingOperator(\n",
    "                    self.pretrained_embeddings,\n",
    "                    lookup_key=\"urlSong\",\n",
    "                    embedding_name=\"pretrained_item_lyrics_emb\",\n",
    "                )]\n",
    "            \n",
    "        loader = mm.Loader(\n",
    "            train_dataset,\n",
    "            batch_size=self.hparams['train_batch_size'],\n",
    "            transforms=loader_transforms\n",
    "        )\n",
    "        self.schema = loader.output_schema\n",
    "        \n",
    "        print(\"Building the model\")\n",
    "        model = self.get_model()\n",
    "        print(model)\n",
    "        self.compile_model(model)        \n",
    "        \n",
    "        print(\"Start training\")\n",
    "        self.train_model(model, loader)        \n",
    "        self.trained_model = model\n",
    "        \n",
    "        print(\"Preparing retrieval model for prediction\")\n",
    "        self.topk_rec_model = self.get_items_topk_recommender_model(train_dataset, loader_transforms, model)\n",
    "        \n",
    "        #print(\"Debugging: Evaluating on train set\")\n",
    "        #self.topk_rec_model.compile(run_eagerly=False)\n",
    "        #metrics = self.topk_rec_model.evaluate(loader, batch_size=256, return_dict=True)\n",
    "        #print(metrics)\n",
    "        \n",
    "        print(\"Caching users transformed features\")\n",
    "        self.users_schema = self.schema.select_by_tag(Tags.USER)\n",
    "        user_features = self.users_schema.column_names\n",
    "        self.users_transformed_df = train_dataset.to_ddf()[user_features].drop_duplicates(subset=['user_id'], keep='last').compute().to_pandas()\n",
    "        # Adding the raw (original) user id to the dataframe\n",
    "        self.users_transformed_df = self.users_transformed_df.merge(self.user_ids_mapping_df.rename({'user_id': 'raw_user_id'}, axis=1),\n",
    "                                                                    left_on='user_id', right_index=True)\n",
    "\n",
    "        print(\"Training completed!\")         \n",
    "\n",
    "    def predict(self, user_ids: pd.DataFrame) -> pd.DataFrame:\n",
    "        \"\"\"        \n",
    "        This function takes as input all the users that we want to predict the top-k items for, and \n",
    "        returns all the predicted songs.\n",
    "\n",
    "        While in this example is just a random generator, the same logic in your implementation \n",
    "        would allow for batch predictions of all the target data points.        \n",
    "        \"\"\"\n",
    "            \n",
    "        self.predict_user_ids = user_ids\n",
    "        \n",
    "        print(\"Start prediction\")\n",
    "        print(\"# users:\",len(user_ids))\n",
    "        test_users_df = user_ids.rename({'user_id': 'raw_user_id'}, axis=1).merge(self.users_transformed_df, \n",
    "                                                       on='raw_user_id', how='left')\n",
    "        self.test_users_df = test_users_df\n",
    "        test_users_found_df = test_users_df[~test_users_df[test_users_df.columns[1]].isna()]\n",
    "        test_users_not_found_df = test_users_df[test_users_df[test_users_df.columns[1]].isna()]        \n",
    "\n",
    "        test_users_dataset = Dataset(test_users_found_df, self.users_schema)\n",
    "        test_batched_dataset = mm.Loader(\n",
    "            test_users_dataset, batch_size=self.predict_batch_size, shuffle=False, schema=self.users_schema\n",
    "        )        \n",
    "        \n",
    "        print(f\"Predicting Top-{self.top_k} items for test users\")\n",
    "        predictions = self.topk_rec_model.predict(test_batched_dataset)[1].astype(np.int32) \n",
    "        \n",
    "        print(f\"Converting user ids and predicted item ids to the original ids\")\n",
    "        predictions_converted = self.convert_prediction_item_ids(predictions)\n",
    "        \n",
    "        user_ids_found_converted = test_users_found_df['raw_user_id'].values.astype(np.int32)        \n",
    "        user_ids_not_found_converted = test_users_not_found_df['raw_user_id'].values.astype(np.int32)\n",
    "        \n",
    "        # Merging raw user id with top-k predictions\n",
    "        user_predictions_found_converted = np.concatenate((np.expand_dims(user_ids_found_converted, -1), predictions_converted), axis=1)\n",
    "        user_predictions_not_found_converted = np.concatenate((np.expand_dims(user_ids_not_found_converted, -1), \n",
    "                                                               np.zeros((user_ids_not_found_converted.shape[0], predictions_converted.shape[1]))), axis=1)\n",
    "        # Combining predictions of users found and not found\n",
    "        user_predictions_converted = np.vstack([user_predictions_found_converted, user_predictions_not_found_converted])        \n",
    "        user_predictions_df = pd.DataFrame(user_predictions_converted, columns=['user_id', *[str(i) for i in range(predictions_converted.shape[1])]]).astype(np.int32).set_index('user_id')\n",
    "        # Ensures predictions output dataframe is sorted the same as input user_ids order\n",
    "        user_predictions_df = user_predictions_df.loc[user_ids['user_id'].values]\n",
    "        self.user_predictions_df = user_predictions_df\n",
    "        print(\"Finish prediction\")\n",
    "        return user_predictions_df\n",
    "    \n",
    "    def convert_user_ids(self, user_ids):\n",
    "        \"\"\"Converts the encoded user ids into the original ids\"\"\"\n",
    "        raw_user_ids = self.user_ids_mapping_df['user_id'].loc[user_ids].values\n",
    "        return raw_user_ids\n",
    "    \n",
    "    def convert_prediction_item_ids(self,predictions):\n",
    "        \"\"\"Converts the encoded predicted item ids into the original item ids\"\"\"\n",
    "        raw_topk_predicted_item_ids = self.track_ids_mapping_df['track_id'].loc[predictions.reshape(-1)].values\n",
    "        raw_topk_predicted_item_ids = np.reshape(raw_topk_predicted_item_ids, (-1, predictions.shape[1]))\n",
    "        return raw_topk_predicted_item_ids"
   ]
  },
  {
   "cell_type": "code",
   "execution_count": 18,
   "metadata": {},
   "outputs": [],
   "source": [
    "def export_preds(preds_df, filename):\n",
    "    output_path = os.path.join(PREPROC_DATASET_OUT_PATH, \"model_predictions\")\n",
    "    os.makedirs(output_path, exist_ok=True)\n",
    "    preds_df.to_parquet(os.path.join(output_path, filename))"
   ]
  },
  {
   "cell_type": "code",
   "execution_count": 19,
   "metadata": {},
   "outputs": [],
   "source": [
    "def compute_recall(user_preds_df):\n",
    "    preds_with_target = events_test_df.set_index(\"user_id\").merge(user_preds_df, left_index=True, right_index=True)\n",
    "    recall_at_100 = np.equal(np.expand_dims(preds_with_target[\"track_id\"].values, -1), preds_with_target[[f\"{i}\" for i in range(100)]].values).max(axis=1).mean()\n",
    "    return recall_at_100"
   ]
  },
  {
   "cell_type": "markdown",
   "metadata": {},
   "source": [
    "## Matrix Factorization\n",
    "\n",
    "Matrix Factorization is a [classic algorithm](https://arxiv.org/pdf/1205.2618.pdf) that have been used for Collaborative Filtering, where the user and item embeddings are factorized and the user preference over items is estimated by computing the dot product between the user embedding and item embeddings."
   ]
  },
  {
   "cell_type": "code",
   "execution_count": 64,
   "metadata": {},
   "outputs": [],
   "source": [
    "class MyMFModel(MyRetrievalModel):\n",
    "    \n",
    "    def get_model(self):      \n",
    "        retrieval_output = self.get_retrieval_output()\n",
    "\n",
    "        model = mm.MatrixFactorizationModelV2(\n",
    "            self.schema,\n",
    "            dim=self.hparams['mf_dim'],\n",
    "            outputs=retrieval_output,\n",
    "            embeddings_l2_batch_regularization=self.hparams['embeddings_l2_reg']\n",
    "        )\n",
    "        \n",
    "        return model"
   ]
  },
  {
   "cell_type": "code",
   "execution_count": 91,
   "metadata": {},
   "outputs": [],
   "source": [
    "mf_model = MyMFModel(\n",
    "    user_ids_mapping_df,\n",
    "    track_ids_mapping_df,\n",
    "    \n",
    "    # Training hparams\n",
    "    epochs=5,\n",
    "    train_batch_size=8192,\n",
    "    lr=1e-3, # TODO: Try reducing initial LR and decay after\n",
    "    lr_decay_steps=100,\n",
    "    lr_decay_rate=0.97,\n",
    "    label_smoothing=0.5,#0.0\n",
    "    \n",
    "    # Model hparams\n",
    "    logq_correction_factor=0.0,#1.0,\n",
    "    embeddings_l2_reg=0.0,#1e-8,\n",
    "    logits_temperature=1.8,\n",
    "    mf_dim=128, #128\n",
    ")"
   ]
  },
  {
   "cell_type": "code",
   "execution_count": 73,
   "metadata": {},
   "outputs": [
    {
     "name": "stdout",
     "output_type": "stream",
     "text": [
      "Building the model\n",
      "RetrievalModelV2(\n",
      "  (_should_compute_train_metrics_for_batch): <tf.Variable 'should_compute_train_metrics_for_batch:0' shape=() dtype=bool, numpy=True>\n",
      "  (blocks): _TupleWrapper((ParallelBlock(\n",
      "    (parallel_layers): Dict(\n",
      "      (query): EmbeddingEncoder(\n",
      "        (blocks): List(\n",
      "          (0): EmbeddingTable(\n",
      "            (features): Dict(\n",
      "              (user_id): ColumnSchema(name='user_id', tags={<Tags.ID: 'id'>, <Tags.CATEGORICAL: 'categorical'>, <Tags.USER: 'user'>}, properties={'num_buckets': None, 'freq_threshold': 0.0, 'max_size': 0.0, 'cat_path': '/data/evalrs_2023_dataset_preproc/categories/unique.user_id.parquet', 'embedding_sizes': {'cardinality': 29725.0, 'dimension': 512.0}, 'domain': {'min': 0, 'max': 29724, 'name': 'user_id'}}, dtype=DType(name='int64', element_type=<ElementType.Int: 'int'>, element_size=64, element_unit=None, signed=True, shape=Shape(dims=(Dimension(min=0, max=None),))), is_list=False, is_ragged=False)\n",
      "            )\n",
      "            (table): Embedding()\n",
      "          )\n",
      "          (1): Lambda()\n",
      "        )\n",
      "        (_prepare_features): PrepareFeatures(\n",
      "          (prepare_lists): PrepareListFeatures()\n",
      "        )\n",
      "      )\n",
      "      (candidate): EmbeddingEncoder(\n",
      "        (blocks): List(\n",
      "          (0): EmbeddingTable(\n",
      "            (features): Dict(\n",
      "              (track_id): ColumnSchema(name='track_id', tags={<Tags.ITEM: 'item'>, <Tags.CATEGORICAL: 'categorical'>, <Tags.ID: 'id'>}, properties={'num_buckets': None, 'freq_threshold': 0.0, 'max_size': 0.0, 'cat_path': '/data/evalrs_2023_dataset_preproc/categories/unique.track_id.parquet', 'embedding_sizes': {'cardinality': 228047.0, 'dimension': 512.0}, 'domain': {'min': 0, 'max': 228046, 'name': 'track_id'}}, dtype=DType(name='int64', element_type=<ElementType.Int: 'int'>, element_size=64, element_unit=None, signed=True, shape=Shape(dims=(Dimension(min=0, max=None),))), is_list=False, is_ragged=False)\n",
      "            )\n",
      "            (table): Embedding()\n",
      "          )\n",
      "          (1): Lambda()\n",
      "        )\n",
      "        (_prepare_features): PrepareFeatures(\n",
      "          (prepare_lists): PrepareListFeatures()\n",
      "        )\n",
      "      )\n",
      "    )\n",
      "  ), ContrastiveOutput(\n",
      "    (negative_samplers): List(\n",
      "      (0): InBatchSamplerV2()\n",
      "    )\n",
      "    (to_call): DotProduct()\n",
      "    (logits_scaler): LogitsTemperatureScaler()\n",
      "  )))\n",
      "  (context): ModelContext()\n",
      "  (_prepare_features): PrepareFeatures(\n",
      "    (prepare_lists): PrepareListFeatures()\n",
      "  )\n",
      "  (_encoder): ParallelBlock(\n",
      "    (parallel_layers): Dict(\n",
      "      (query): EmbeddingEncoder(\n",
      "        (blocks): List(\n",
      "          (0): EmbeddingTable(\n",
      "            (features): Dict(\n",
      "              (user_id): ColumnSchema(name='user_id', tags={<Tags.ID: 'id'>, <Tags.CATEGORICAL: 'categorical'>, <Tags.USER: 'user'>}, properties={'num_buckets': None, 'freq_threshold': 0.0, 'max_size': 0.0, 'cat_path': '/data/evalrs_2023_dataset_preproc/categories/unique.user_id.parquet', 'embedding_sizes': {'cardinality': 29725.0, 'dimension': 512.0}, 'domain': {'min': 0, 'max': 29724, 'name': 'user_id'}}, dtype=DType(name='int64', element_type=<ElementType.Int: 'int'>, element_size=64, element_unit=None, signed=True, shape=Shape(dims=(Dimension(min=0, max=None),))), is_list=False, is_ragged=False)\n",
      "            )\n",
      "            (table): Embedding()\n",
      "          )\n",
      "          (1): Lambda()\n",
      "        )\n",
      "        (_prepare_features): PrepareFeatures(\n",
      "          (prepare_lists): PrepareListFeatures()\n",
      "        )\n",
      "      )\n",
      "      (candidate): EmbeddingEncoder(\n",
      "        (blocks): List(\n",
      "          (0): EmbeddingTable(\n",
      "            (features): Dict(\n",
      "              (track_id): ColumnSchema(name='track_id', tags={<Tags.ITEM: 'item'>, <Tags.CATEGORICAL: 'categorical'>, <Tags.ID: 'id'>}, properties={'num_buckets': None, 'freq_threshold': 0.0, 'max_size': 0.0, 'cat_path': '/data/evalrs_2023_dataset_preproc/categories/unique.track_id.parquet', 'embedding_sizes': {'cardinality': 228047.0, 'dimension': 512.0}, 'domain': {'min': 0, 'max': 228046, 'name': 'track_id'}}, dtype=DType(name='int64', element_type=<ElementType.Int: 'int'>, element_size=64, element_unit=None, signed=True, shape=Shape(dims=(Dimension(min=0, max=None),))), is_list=False, is_ragged=False)\n",
      "            )\n",
      "            (table): Embedding()\n",
      "          )\n",
      "          (1): Lambda()\n",
      "        )\n",
      "        (_prepare_features): PrepareFeatures(\n",
      "          (prepare_lists): PrepareListFeatures()\n",
      "        )\n",
      "      )\n",
      "    )\n",
      "  )\n",
      "  (_output): ContrastiveOutput(\n",
      "    (negative_samplers): List(\n",
      "      (0): InBatchSamplerV2()\n",
      "    )\n",
      "    (to_call): DotProduct()\n",
      "    (logits_scaler): LogitsTemperatureScaler()\n",
      "  )\n",
      ")\n",
      "Start training\n",
      "Epoch 1/5\n"
     ]
    },
    {
     "name": "stderr",
     "output_type": "stream",
     "text": [
      "2023-07-20 20:56:50.899230: I tensorflow/core/common_runtime/executor.cc:1209] [/device:CPU:0] (DEBUG INFO) Executor start aborting (this does not indicate an error and you can ignore this message): INVALID_ARGUMENT: You must feed a value for placeholder tensor 'Placeholder/_0' with dtype int32\n",
      "\t [[{{node Placeholder/_0}}]]\n"
     ]
    },
    {
     "name": "stdout",
     "output_type": "stream",
     "text": [
      "839/839 [==============================] - 85s 97ms/step - loss: 8.9175 - recall_at_20: 0.0075 - mrr_at_20: 0.0014 - regularization_loss: 0.0000e+00 - loss_batch: 8.9168\n",
      "Epoch 2/5\n",
      "839/839 [==============================] - 37s 43ms/step - loss: 8.2786 - recall_at_20: 0.0362 - mrr_at_20: 0.0079 - regularization_loss: 0.0000e+00 - loss_batch: 8.2787\n",
      "Epoch 3/5\n",
      "839/839 [==============================] - 34s 40ms/step - loss: 7.8456 - recall_at_20: 0.0756 - mrr_at_20: 0.0172 - regularization_loss: 0.0000e+00 - loss_batch: 7.8461\n",
      "Epoch 4/5\n",
      "839/839 [==============================] - 33s 39ms/step - loss: 7.5918 - recall_at_20: 0.1058 - mrr_at_20: 0.0254 - regularization_loss: 0.0000e+00 - loss_batch: 7.5925\n",
      "Epoch 5/5\n",
      "839/839 [==============================] - 33s 38ms/step - loss: 7.4250 - recall_at_20: 0.1283 - mrr_at_20: 0.0323 - regularization_loss: 0.0000e+00 - loss_batch: 7.4258\n",
      "Preparing retrieval model for prediction\n"
     ]
    },
    {
     "name": "stderr",
     "output_type": "stream",
     "text": [
      "/usr/local/lib/python3.8/dist-packages/merlin/dataloader/loader_base.py:591: UserWarning: This `schema` property is deprecated and will be removed in a future version. Please use either the `input_schema` or `output_schema` property instead.\n",
      "  warnings.warn(\n",
      "WARNING:absl:Found untraced functions such as prepare_list_features_16_layer_call_fn, prepare_list_features_16_layer_call_and_return_conditional_losses, model_context_3_layer_call_fn, model_context_3_layer_call_and_return_conditional_losses, track_id_layer_call_fn while saving (showing 5 of 6). These functions will not be directly callable after loading.\n"
     ]
    },
    {
     "name": "stdout",
     "output_type": "stream",
     "text": [
      "INFO:tensorflow:Assets written to: /tmp/tmpom44tx7j/assets\n"
     ]
    },
    {
     "name": "stderr",
     "output_type": "stream",
     "text": [
      "INFO:tensorflow:Assets written to: /tmp/tmpom44tx7j/assets\n"
     ]
    },
    {
     "name": "stdout",
     "output_type": "stream",
     "text": [
      "WARNING:tensorflow:No training configuration found in save file, so the model was *not* compiled. Compile it manually.\n"
     ]
    },
    {
     "name": "stderr",
     "output_type": "stream",
     "text": [
      "WARNING:tensorflow:No training configuration found in save file, so the model was *not* compiled. Compile it manually.\n"
     ]
    },
    {
     "name": "stdout",
     "output_type": "stream",
     "text": [
      "WARNING:tensorflow:No training configuration found in save file, so the model was *not* compiled. Compile it manually.\n"
     ]
    },
    {
     "name": "stderr",
     "output_type": "stream",
     "text": [
      "WARNING:tensorflow:No training configuration found in save file, so the model was *not* compiled. Compile it manually.\n"
     ]
    },
    {
     "name": "stdout",
     "output_type": "stream",
     "text": [
      "Caching users transformed features\n",
      "Training completed!\n",
      "CPU times: user 5min 4s, sys: 23 s, total: 5min 27s\n",
      "Wall time: 4min 22s\n"
     ]
    }
   ],
   "source": [
    "%%time\n",
    "mf_model.train(train_ds)"
   ]
  },
  {
   "cell_type": "code",
   "execution_count": 94,
   "metadata": {},
   "outputs": [
    {
     "name": "stdout",
     "output_type": "stream",
     "text": [
      "Start prediction\n",
      "# users: 29722\n",
      "Predicting Top-100 items for test users\n"
     ]
    },
    {
     "name": "stderr",
     "output_type": "stream",
     "text": [
      "2023-07-20 21:25:16.805102: I tensorflow/core/common_runtime/executor.cc:1209] [/device:CPU:0] (DEBUG INFO) Executor start aborting (this does not indicate an error and you can ignore this message): INVALID_ARGUMENT: You must feed a value for placeholder tensor 'Placeholder/_0' with dtype int32\n",
      "\t [[{{node Placeholder/_0}}]]\n"
     ]
    },
    {
     "name": "stdout",
     "output_type": "stream",
     "text": [
      "Converting user ids and predicted item ids to the original ids\n",
      "Finish prediction\n",
      "CPU times: user 3.19 s, sys: 246 ms, total: 3.44 s\n",
      "Wall time: 2.88 s\n"
     ]
    },
    {
     "data": {
      "text/html": [
       "<div>\n",
       "<style scoped>\n",
       "    .dataframe tbody tr th:only-of-type {\n",
       "        vertical-align: middle;\n",
       "    }\n",
       "\n",
       "    .dataframe tbody tr th {\n",
       "        vertical-align: top;\n",
       "    }\n",
       "\n",
       "    .dataframe thead th {\n",
       "        text-align: right;\n",
       "    }\n",
       "</style>\n",
       "<table border=\"1\" class=\"dataframe\">\n",
       "  <thead>\n",
       "    <tr style=\"text-align: right;\">\n",
       "      <th></th>\n",
       "      <th>0</th>\n",
       "      <th>1</th>\n",
       "      <th>2</th>\n",
       "      <th>3</th>\n",
       "      <th>4</th>\n",
       "      <th>5</th>\n",
       "      <th>6</th>\n",
       "      <th>7</th>\n",
       "      <th>8</th>\n",
       "      <th>9</th>\n",
       "      <th>...</th>\n",
       "      <th>90</th>\n",
       "      <th>91</th>\n",
       "      <th>92</th>\n",
       "      <th>93</th>\n",
       "      <th>94</th>\n",
       "      <th>95</th>\n",
       "      <th>96</th>\n",
       "      <th>97</th>\n",
       "      <th>98</th>\n",
       "      <th>99</th>\n",
       "    </tr>\n",
       "    <tr>\n",
       "      <th>user_id</th>\n",
       "      <th></th>\n",
       "      <th></th>\n",
       "      <th></th>\n",
       "      <th></th>\n",
       "      <th></th>\n",
       "      <th></th>\n",
       "      <th></th>\n",
       "      <th></th>\n",
       "      <th></th>\n",
       "      <th></th>\n",
       "      <th></th>\n",
       "      <th></th>\n",
       "      <th></th>\n",
       "      <th></th>\n",
       "      <th></th>\n",
       "      <th></th>\n",
       "      <th></th>\n",
       "      <th></th>\n",
       "      <th></th>\n",
       "      <th></th>\n",
       "      <th></th>\n",
       "    </tr>\n",
       "  </thead>\n",
       "  <tbody>\n",
       "    <tr>\n",
       "      <th>50967444</th>\n",
       "      <td>15310</td>\n",
       "      <td>20166813</td>\n",
       "      <td>926150</td>\n",
       "      <td>17820138</td>\n",
       "      <td>106622</td>\n",
       "      <td>67791</td>\n",
       "      <td>124951</td>\n",
       "      <td>645045</td>\n",
       "      <td>15306</td>\n",
       "      <td>20166814</td>\n",
       "      <td>...</td>\n",
       "      <td>15314</td>\n",
       "      <td>58863</td>\n",
       "      <td>67583</td>\n",
       "      <td>282393</td>\n",
       "      <td>266914</td>\n",
       "      <td>198971</td>\n",
       "      <td>274461</td>\n",
       "      <td>11263914</td>\n",
       "      <td>284270</td>\n",
       "      <td>136145</td>\n",
       "    </tr>\n",
       "    <tr>\n",
       "      <th>50900118</th>\n",
       "      <td>29448037</td>\n",
       "      <td>114443</td>\n",
       "      <td>114449</td>\n",
       "      <td>700753</td>\n",
       "      <td>109073</td>\n",
       "      <td>41288</td>\n",
       "      <td>29061</td>\n",
       "      <td>109633</td>\n",
       "      <td>602229</td>\n",
       "      <td>614225</td>\n",
       "      <td>...</td>\n",
       "      <td>210911</td>\n",
       "      <td>179201</td>\n",
       "      <td>21897545</td>\n",
       "      <td>12602652</td>\n",
       "      <td>652288</td>\n",
       "      <td>114451</td>\n",
       "      <td>817817</td>\n",
       "      <td>29477042</td>\n",
       "      <td>109118</td>\n",
       "      <td>29450642</td>\n",
       "    </tr>\n",
       "    <tr>\n",
       "      <th>50086315</th>\n",
       "      <td>217676</td>\n",
       "      <td>214609</td>\n",
       "      <td>211420</td>\n",
       "      <td>213432</td>\n",
       "      <td>211529</td>\n",
       "      <td>214756</td>\n",
       "      <td>211425</td>\n",
       "      <td>211527</td>\n",
       "      <td>220022</td>\n",
       "      <td>216227</td>\n",
       "      <td>...</td>\n",
       "      <td>13455577</td>\n",
       "      <td>214490</td>\n",
       "      <td>8166</td>\n",
       "      <td>216264</td>\n",
       "      <td>214642</td>\n",
       "      <td>216256</td>\n",
       "      <td>13455574</td>\n",
       "      <td>211732</td>\n",
       "      <td>215612</td>\n",
       "      <td>212474</td>\n",
       "    </tr>\n",
       "    <tr>\n",
       "      <th>50085736</th>\n",
       "      <td>102667</td>\n",
       "      <td>102663</td>\n",
       "      <td>102640</td>\n",
       "      <td>102659</td>\n",
       "      <td>102658</td>\n",
       "      <td>102642</td>\n",
       "      <td>118966</td>\n",
       "      <td>102662</td>\n",
       "      <td>102668</td>\n",
       "      <td>102648</td>\n",
       "      <td>...</td>\n",
       "      <td>11167153</td>\n",
       "      <td>102594</td>\n",
       "      <td>150747</td>\n",
       "      <td>3540</td>\n",
       "      <td>11167154</td>\n",
       "      <td>108573</td>\n",
       "      <td>106121</td>\n",
       "      <td>17716901</td>\n",
       "      <td>38333</td>\n",
       "      <td>18590</td>\n",
       "    </tr>\n",
       "    <tr>\n",
       "      <th>50083088</th>\n",
       "      <td>91840</td>\n",
       "      <td>95477</td>\n",
       "      <td>78164</td>\n",
       "      <td>90245</td>\n",
       "      <td>93505</td>\n",
       "      <td>90520</td>\n",
       "      <td>247378</td>\n",
       "      <td>91843</td>\n",
       "      <td>78157</td>\n",
       "      <td>78163</td>\n",
       "      <td>...</td>\n",
       "      <td>92220</td>\n",
       "      <td>451166</td>\n",
       "      <td>1374552</td>\n",
       "      <td>91934</td>\n",
       "      <td>93503</td>\n",
       "      <td>115490</td>\n",
       "      <td>98673</td>\n",
       "      <td>98677</td>\n",
       "      <td>94888</td>\n",
       "      <td>90810</td>\n",
       "    </tr>\n",
       "    <tr>\n",
       "      <th>...</th>\n",
       "      <td>...</td>\n",
       "      <td>...</td>\n",
       "      <td>...</td>\n",
       "      <td>...</td>\n",
       "      <td>...</td>\n",
       "      <td>...</td>\n",
       "      <td>...</td>\n",
       "      <td>...</td>\n",
       "      <td>...</td>\n",
       "      <td>...</td>\n",
       "      <td>...</td>\n",
       "      <td>...</td>\n",
       "      <td>...</td>\n",
       "      <td>...</td>\n",
       "      <td>...</td>\n",
       "      <td>...</td>\n",
       "      <td>...</td>\n",
       "      <td>...</td>\n",
       "      <td>...</td>\n",
       "      <td>...</td>\n",
       "      <td>...</td>\n",
       "    </tr>\n",
       "    <tr>\n",
       "      <th>15067</th>\n",
       "      <td>12654389</td>\n",
       "      <td>12654387</td>\n",
       "      <td>12654386</td>\n",
       "      <td>12654388</td>\n",
       "      <td>7894841</td>\n",
       "      <td>12654384</td>\n",
       "      <td>13468147</td>\n",
       "      <td>12654385</td>\n",
       "      <td>12654383</td>\n",
       "      <td>877324</td>\n",
       "      <td>...</td>\n",
       "      <td>7101845</td>\n",
       "      <td>877378</td>\n",
       "      <td>799040</td>\n",
       "      <td>104064</td>\n",
       "      <td>877379</td>\n",
       "      <td>1056660</td>\n",
       "      <td>2275832</td>\n",
       "      <td>297343</td>\n",
       "      <td>245076</td>\n",
       "      <td>608414</td>\n",
       "    </tr>\n",
       "    <tr>\n",
       "      <th>14308</th>\n",
       "      <td>161793</td>\n",
       "      <td>544088</td>\n",
       "      <td>151742</td>\n",
       "      <td>152099</td>\n",
       "      <td>161048</td>\n",
       "      <td>129676</td>\n",
       "      <td>162617</td>\n",
       "      <td>1015443</td>\n",
       "      <td>162626</td>\n",
       "      <td>162621</td>\n",
       "      <td>...</td>\n",
       "      <td>6956</td>\n",
       "      <td>332092</td>\n",
       "      <td>329225</td>\n",
       "      <td>22076</td>\n",
       "      <td>152096</td>\n",
       "      <td>9319564</td>\n",
       "      <td>679190</td>\n",
       "      <td>152093</td>\n",
       "      <td>52692</td>\n",
       "      <td>204425</td>\n",
       "    </tr>\n",
       "    <tr>\n",
       "      <th>12619</th>\n",
       "      <td>17145266</td>\n",
       "      <td>12890610</td>\n",
       "      <td>17145268</td>\n",
       "      <td>17145267</td>\n",
       "      <td>17145264</td>\n",
       "      <td>17145263</td>\n",
       "      <td>17145262</td>\n",
       "      <td>5478591</td>\n",
       "      <td>16592156</td>\n",
       "      <td>799197</td>\n",
       "      <td>...</td>\n",
       "      <td>297344</td>\n",
       "      <td>17145265</td>\n",
       "      <td>13667842</td>\n",
       "      <td>26125385</td>\n",
       "      <td>2036766</td>\n",
       "      <td>16413496</td>\n",
       "      <td>296683</td>\n",
       "      <td>1128056</td>\n",
       "      <td>12288156</td>\n",
       "      <td>26031145</td>\n",
       "    </tr>\n",
       "    <tr>\n",
       "      <th>10879</th>\n",
       "      <td>53645</td>\n",
       "      <td>49656</td>\n",
       "      <td>82547</td>\n",
       "      <td>1744</td>\n",
       "      <td>91521</td>\n",
       "      <td>82548</td>\n",
       "      <td>91522</td>\n",
       "      <td>1746</td>\n",
       "      <td>37988</td>\n",
       "      <td>82306</td>\n",
       "      <td>...</td>\n",
       "      <td>137486</td>\n",
       "      <td>166068</td>\n",
       "      <td>56387</td>\n",
       "      <td>59695</td>\n",
       "      <td>82620</td>\n",
       "      <td>163304</td>\n",
       "      <td>29220</td>\n",
       "      <td>1749</td>\n",
       "      <td>59697</td>\n",
       "      <td>166041</td>\n",
       "    </tr>\n",
       "    <tr>\n",
       "      <th>384</th>\n",
       "      <td>278286</td>\n",
       "      <td>278289</td>\n",
       "      <td>877345</td>\n",
       "      <td>877341</td>\n",
       "      <td>877342</td>\n",
       "      <td>454338</td>\n",
       "      <td>278288</td>\n",
       "      <td>358000</td>\n",
       "      <td>278285</td>\n",
       "      <td>799457</td>\n",
       "      <td>...</td>\n",
       "      <td>140275</td>\n",
       "      <td>140794</td>\n",
       "      <td>454769</td>\n",
       "      <td>548233</td>\n",
       "      <td>426866</td>\n",
       "      <td>417842</td>\n",
       "      <td>140276</td>\n",
       "      <td>44051</td>\n",
       "      <td>44057</td>\n",
       "      <td>879399</td>\n",
       "    </tr>\n",
       "  </tbody>\n",
       "</table>\n",
       "<p>29722 rows × 100 columns</p>\n",
       "</div>"
      ],
      "text/plain": [
       "                 0         1         2         3         4         5  \\\n",
       "user_id                                                                \n",
       "50967444     15310  20166813    926150  17820138    106622     67791   \n",
       "50900118  29448037    114443    114449    700753    109073     41288   \n",
       "50086315    217676    214609    211420    213432    211529    214756   \n",
       "50085736    102667    102663    102640    102659    102658    102642   \n",
       "50083088     91840     95477     78164     90245     93505     90520   \n",
       "...            ...       ...       ...       ...       ...       ...   \n",
       "15067     12654389  12654387  12654386  12654388   7894841  12654384   \n",
       "14308       161793    544088    151742    152099    161048    129676   \n",
       "12619     17145266  12890610  17145268  17145267  17145264  17145263   \n",
       "10879        53645     49656     82547      1744     91521     82548   \n",
       "384         278286    278289    877345    877341    877342    454338   \n",
       "\n",
       "                 6         7         8         9  ...        90        91  \\\n",
       "user_id                                           ...                       \n",
       "50967444    124951    645045     15306  20166814  ...     15314     58863   \n",
       "50900118     29061    109633    602229    614225  ...    210911    179201   \n",
       "50086315    211425    211527    220022    216227  ...  13455577    214490   \n",
       "50085736    118966    102662    102668    102648  ...  11167153    102594   \n",
       "50083088    247378     91843     78157     78163  ...     92220    451166   \n",
       "...            ...       ...       ...       ...  ...       ...       ...   \n",
       "15067     13468147  12654385  12654383    877324  ...   7101845    877378   \n",
       "14308       162617   1015443    162626    162621  ...      6956    332092   \n",
       "12619     17145262   5478591  16592156    799197  ...    297344  17145265   \n",
       "10879        91522      1746     37988     82306  ...    137486    166068   \n",
       "384         278288    358000    278285    799457  ...    140275    140794   \n",
       "\n",
       "                92        93        94        95        96        97  \\\n",
       "user_id                                                                \n",
       "50967444     67583    282393    266914    198971    274461  11263914   \n",
       "50900118  21897545  12602652    652288    114451    817817  29477042   \n",
       "50086315      8166    216264    214642    216256  13455574    211732   \n",
       "50085736    150747      3540  11167154    108573    106121  17716901   \n",
       "50083088   1374552     91934     93503    115490     98673     98677   \n",
       "...            ...       ...       ...       ...       ...       ...   \n",
       "15067       799040    104064    877379   1056660   2275832    297343   \n",
       "14308       329225     22076    152096   9319564    679190    152093   \n",
       "12619     13667842  26125385   2036766  16413496    296683   1128056   \n",
       "10879        56387     59695     82620    163304     29220      1749   \n",
       "384         454769    548233    426866    417842    140276     44051   \n",
       "\n",
       "                98        99  \n",
       "user_id                       \n",
       "50967444    284270    136145  \n",
       "50900118    109118  29450642  \n",
       "50086315    215612    212474  \n",
       "50085736     38333     18590  \n",
       "50083088     94888     90810  \n",
       "...            ...       ...  \n",
       "15067       245076    608414  \n",
       "14308        52692    204425  \n",
       "12619     12288156  26031145  \n",
       "10879        59697    166041  \n",
       "384          44057    879399  \n",
       "\n",
       "[29722 rows x 100 columns]"
      ]
     },
     "execution_count": 94,
     "metadata": {},
     "output_type": "execute_result"
    }
   ],
   "source": [
    "%%time\n",
    "mf_predictions_df = mf_model.predict(events_test_df[['user_id']])\n",
    "mf_predictions_df"
   ]
  },
  {
   "cell_type": "code",
   "execution_count": 115,
   "metadata": {},
   "outputs": [
    {
     "data": {
      "text/plain": [
       "0.036538590942736024"
      ]
     },
     "execution_count": 115,
     "metadata": {},
     "output_type": "execute_result"
    }
   ],
   "source": [
    "compute_recall(mf_predictions_df)"
   ]
  },
  {
   "cell_type": "code",
   "execution_count": 98,
   "metadata": {},
   "outputs": [],
   "source": [
    "# Export predictions to parquet\n",
    "export_preds(mf_predictions_df, \"mf_test_preds.parquet\")"
   ]
  },
  {
   "cell_type": "code",
   "execution_count": 97,
   "metadata": {},
   "outputs": [
    {
     "data": {
      "text/html": [
       "<pre style=\"white-space:pre;overflow-x:auto;line-height:normal;font-family:Menlo,'DejaVu Sans Mono',consolas,'Courier New',monospace\">/usr/local/lib/python3.8/dist-packages/rich/live.py:231: UserWarning: install \"ipywidgets\" for Jupyter support\n",
       "  warnings.warn('install \"ipywidgets\" for Jupyter support')\n",
       "</pre>\n"
      ],
      "text/plain": [
       "/usr/local/lib/python3.8/dist-packages/rich/live.py:231: UserWarning: install \"ipywidgets\" for Jupyter support\n",
       "  warnings.warn('install \"ipywidgets\" for Jupyter support')\n"
      ]
     },
     "metadata": {},
     "output_type": "display_data"
    },
    {
     "data": {
      "text/html": [
       "<pre style=\"white-space:pre;overflow-x:auto;line-height:normal;font-family:Menlo,'DejaVu Sans Mono',consolas,'Courier New',monospace\"><span style=\"color: #800000; text-decoration-color: #800000; font-style: italic\">stats</span>:<span style=\"font-weight: bold\">{</span><span style=\"color: #008000; text-decoration-color: #008000\">'num_users'</span>: <span style=\"color: #008080; text-decoration-color: #008080; font-weight: bold\">29722</span>, <span style=\"color: #008000; text-decoration-color: #008000\">'max_items'</span>: <span style=\"color: #008080; text-decoration-color: #008080; font-weight: bold\">1</span>, <span style=\"color: #008000; text-decoration-color: #008000\">'min_items'</span>: <span style=\"color: #008080; text-decoration-color: #008080; font-weight: bold\">1</span><span style=\"font-weight: bold\">}</span>\n",
       "</pre>\n"
      ],
      "text/plain": [
       "\u001b[3;31mstats\u001b[0m:\u001b[1m{\u001b[0m\u001b[32m'num_users'\u001b[0m: \u001b[1;36m29722\u001b[0m, \u001b[32m'max_items'\u001b[0m: \u001b[1;36m1\u001b[0m, \u001b[32m'min_items'\u001b[0m: \u001b[1;36m1\u001b[0m\u001b[1m}\u001b[0m\n"
      ]
     },
     "metadata": {},
     "output_type": "display_data"
    },
    {
     "data": {
      "text/html": [
       "<pre style=\"white-space:pre;overflow-x:auto;line-height:normal;font-family:Menlo,'DejaVu Sans Mono',consolas,'Courier New',monospace\"><span style=\"color: #800000; text-decoration-color: #800000; font-style: italic\">HIT_RAT</span><span style=\"color: #800000; text-decoration-color: #800000; font-weight: bold; font-style: italic\">E</span><span style=\"color: #00ff00; text-decoration-color: #00ff00; font-weight: bold\">:0</span>.<span style=\"color: #008080; text-decoration-color: #008080; font-weight: bold\">036538590942736024</span>\n",
       "</pre>\n"
      ],
      "text/plain": [
       "\u001b[3;31mHIT_RAT\u001b[0m\u001b[1;3;31mE\u001b[0m\u001b[1;92m:0\u001b[0m.\u001b[1;36m036538590942736024\u001b[0m\n"
      ]
     },
     "metadata": {},
     "output_type": "display_data"
    },
    {
     "data": {
      "text/html": [
       "<pre style=\"white-space:pre;overflow-x:auto;line-height:normal;font-family:Menlo,'DejaVu Sans Mono',consolas,'Courier New',monospace\"><span style=\"color: #800000; text-decoration-color: #800000; font-style: italic\">MRR</span>:<span style=\"color: #008080; text-decoration-color: #008080; font-weight: bold\">0.002086258189313134</span>\n",
       "</pre>\n"
      ],
      "text/plain": [
       "\u001b[3;31mMRR\u001b[0m:\u001b[1;36m0.002086258189313134\u001b[0m\n"
      ]
     },
     "metadata": {},
     "output_type": "display_data"
    },
    {
     "data": {
      "text/html": [
       "<pre style=\"white-space:pre;overflow-x:auto;line-height:normal;font-family:Menlo,'DejaVu Sans Mono',consolas,'Courier New',monospace\"><span style=\"color: #800000; text-decoration-color: #800000; font-style: italic\">MRED_COUNTRY</span>:<span style=\"font-weight: bold\">{</span><span style=\"color: #008000; text-decoration-color: #008000\">'mred'</span>: <span style=\"color: #008080; text-decoration-color: #008080; font-weight: bold\">-0.005474417354828247</span>, <span style=\"color: #008000; text-decoration-color: #008000\">'mr'</span>: <span style=\"color: #008080; text-decoration-color: #008080; font-weight: bold\">0.9624871726654252</span>, <span style=\"color: #008000; text-decoration-color: #008000\">'BR'</span>: <span style=\"color: #008080; text-decoration-color: #008080; font-weight: bold\">0.9548717948717949</span>, <span style=\"color: #008000; text-decoration-color: #008000\">'CA'</span>: \n",
       "<span style=\"color: #008080; text-decoration-color: #008080; font-weight: bold\">0.9555555555555556</span>, <span style=\"color: #008000; text-decoration-color: #008000\">'DE'</span>: <span style=\"color: #008080; text-decoration-color: #008080; font-weight: bold\">0.964189794091316</span>, <span style=\"color: #008000; text-decoration-color: #008000\">'ES'</span>: <span style=\"color: #008080; text-decoration-color: #008080; font-weight: bold\">0.9634146341463414</span>, <span style=\"color: #008000; text-decoration-color: #008000\">'FI'</span>: <span style=\"color: #008080; text-decoration-color: #008080; font-weight: bold\">0.9772151898734177</span>, <span style=\"color: #008000; text-decoration-color: #008000\">'FR'</span>: \n",
       "<span style=\"color: #008080; text-decoration-color: #008080; font-weight: bold\">0.9696969696969697</span>, <span style=\"color: #008000; text-decoration-color: #008000\">'NL'</span>: <span style=\"color: #008080; text-decoration-color: #008080; font-weight: bold\">0.9564032697547684</span>, <span style=\"color: #008000; text-decoration-color: #008000\">'NaN'</span>: <span style=\"color: #008080; text-decoration-color: #008080; font-weight: bold\">0.9609110302421885</span>, <span style=\"color: #008000; text-decoration-color: #008000\">'PL'</span>: <span style=\"color: #008080; text-decoration-color: #008080; font-weight: bold\">0.9597806215722121</span>, <span style=\"color: #008000; text-decoration-color: #008000\">'RU'</span>: \n",
       "<span style=\"color: #008080; text-decoration-color: #008080; font-weight: bold\">0.9684542586750788</span>, <span style=\"color: #008000; text-decoration-color: #008000\">'SE'</span>: <span style=\"color: #008080; text-decoration-color: #008080; font-weight: bold\">0.9651567944250871</span>, <span style=\"color: #008000; text-decoration-color: #008000\">'UA'</span>: <span style=\"color: #008080; text-decoration-color: #008080; font-weight: bold\">0.97</span>, <span style=\"color: #008000; text-decoration-color: #008000\">'UK'</span>: <span style=\"color: #008080; text-decoration-color: #008080; font-weight: bold\">0.9599644128113879</span>, <span style=\"color: #008000; text-decoration-color: #008000\">'US'</span>: <span style=\"color: #008080; text-decoration-color: #008080; font-weight: bold\">0.9709752321981424</span><span style=\"font-weight: bold\">}</span>\n",
       "</pre>\n"
      ],
      "text/plain": [
       "\u001b[3;31mMRED_COUNTRY\u001b[0m:\u001b[1m{\u001b[0m\u001b[32m'mred'\u001b[0m: \u001b[1;36m-0.005474417354828247\u001b[0m, \u001b[32m'mr'\u001b[0m: \u001b[1;36m0.9624871726654252\u001b[0m, \u001b[32m'BR'\u001b[0m: \u001b[1;36m0.9548717948717949\u001b[0m, \u001b[32m'CA'\u001b[0m: \n",
       "\u001b[1;36m0.9555555555555556\u001b[0m, \u001b[32m'DE'\u001b[0m: \u001b[1;36m0.964189794091316\u001b[0m, \u001b[32m'ES'\u001b[0m: \u001b[1;36m0.9634146341463414\u001b[0m, \u001b[32m'FI'\u001b[0m: \u001b[1;36m0.9772151898734177\u001b[0m, \u001b[32m'FR'\u001b[0m: \n",
       "\u001b[1;36m0.9696969696969697\u001b[0m, \u001b[32m'NL'\u001b[0m: \u001b[1;36m0.9564032697547684\u001b[0m, \u001b[32m'NaN'\u001b[0m: \u001b[1;36m0.9609110302421885\u001b[0m, \u001b[32m'PL'\u001b[0m: \u001b[1;36m0.9597806215722121\u001b[0m, \u001b[32m'RU'\u001b[0m: \n",
       "\u001b[1;36m0.9684542586750788\u001b[0m, \u001b[32m'SE'\u001b[0m: \u001b[1;36m0.9651567944250871\u001b[0m, \u001b[32m'UA'\u001b[0m: \u001b[1;36m0.97\u001b[0m, \u001b[32m'UK'\u001b[0m: \u001b[1;36m0.9599644128113879\u001b[0m, \u001b[32m'US'\u001b[0m: \u001b[1;36m0.9709752321981424\u001b[0m\u001b[1m}\u001b[0m\n"
      ]
     },
     "metadata": {},
     "output_type": "display_data"
    },
    {
     "data": {
      "text/html": [
       "<pre style=\"white-space:pre;overflow-x:auto;line-height:normal;font-family:Menlo,'DejaVu Sans Mono',consolas,'Courier New',monospace\">/usr/local/lib/python3.8/dist-packages/rich/live.py:231: UserWarning: install \"ipywidgets\" for Jupyter support\n",
       "  warnings.warn('install \"ipywidgets\" for Jupyter support')\n",
       "</pre>\n"
      ],
      "text/plain": [
       "/usr/local/lib/python3.8/dist-packages/rich/live.py:231: UserWarning: install \"ipywidgets\" for Jupyter support\n",
       "  warnings.warn('install \"ipywidgets\" for Jupyter support')\n"
      ]
     },
     "metadata": {},
     "output_type": "display_data"
    },
    {
     "data": {
      "text/html": [
       "<pre style=\"white-space:pre;overflow-x:auto;line-height:normal;font-family:Menlo,'DejaVu Sans Mono',consolas,'Courier New',monospace\">/usr/local/lib/python3.8/dist-packages/rich/live.py:231: UserWarning: install \"ipywidgets\" for Jupyter support\n",
       "  warnings.warn('install \"ipywidgets\" for Jupyter support')\n",
       "</pre>\n"
      ],
      "text/plain": [
       "/usr/local/lib/python3.8/dist-packages/rich/live.py:231: UserWarning: install \"ipywidgets\" for Jupyter support\n",
       "  warnings.warn('install \"ipywidgets\" for Jupyter support')\n"
      ]
     },
     "metadata": {},
     "output_type": "display_data"
    },
    {
     "data": {
      "text/html": [
       "<pre style=\"white-space:pre;overflow-x:auto;line-height:normal;font-family:Menlo,'DejaVu Sans Mono',consolas,'Courier New',monospace\"><span style=\"color: #800000; text-decoration-color: #800000; font-style: italic\">MRED_USER_ACTIVITY</span>:<span style=\"font-weight: bold\">{</span><span style=\"color: #008000; text-decoration-color: #008000\">'mred'</span>: <span style=\"color: #008080; text-decoration-color: #008080; font-weight: bold\">-0.007634940652015569</span>, <span style=\"color: #008000; text-decoration-color: #008000\">'mr'</span>: <span style=\"color: #008080; text-decoration-color: #008080; font-weight: bold\">0.963461409057264</span>, <span style=\"color: #008080; text-decoration-color: #008080; font-weight: bold\">1</span>: <span style=\"color: #008080; text-decoration-color: #008080; font-weight: bold\">0.9452304883614788</span>, <span style=\"color: #008080; text-decoration-color: #008080; font-weight: bold\">100</span>: \n",
       "<span style=\"color: #008080; text-decoration-color: #008080; font-weight: bold\">0.9645244215938303</span>, <span style=\"color: #008080; text-decoration-color: #008080; font-weight: bold\">1000</span>: <span style=\"color: #008080; text-decoration-color: #008080; font-weight: bold\">0.9670722977809592</span><span style=\"font-weight: bold\">}</span>\n",
       "</pre>\n"
      ],
      "text/plain": [
       "\u001b[3;31mMRED_USER_ACTIVITY\u001b[0m:\u001b[1m{\u001b[0m\u001b[32m'mred'\u001b[0m: \u001b[1;36m-0.007634940652015569\u001b[0m, \u001b[32m'mr'\u001b[0m: \u001b[1;36m0.963461409057264\u001b[0m, \u001b[1;36m1\u001b[0m: \u001b[1;36m0.9452304883614788\u001b[0m, \u001b[1;36m100\u001b[0m: \n",
       "\u001b[1;36m0.9645244215938303\u001b[0m, \u001b[1;36m1000\u001b[0m: \u001b[1;36m0.9670722977809592\u001b[0m\u001b[1m}\u001b[0m\n"
      ]
     },
     "metadata": {},
     "output_type": "display_data"
    },
    {
     "data": {
      "text/html": [
       "<pre style=\"white-space:pre;overflow-x:auto;line-height:normal;font-family:Menlo,'DejaVu Sans Mono',consolas,'Courier New',monospace\">/usr/local/lib/python3.8/dist-packages/rich/live.py:231: UserWarning: install \"ipywidgets\" for Jupyter support\n",
       "  warnings.warn('install \"ipywidgets\" for Jupyter support')\n",
       "</pre>\n"
      ],
      "text/plain": [
       "/usr/local/lib/python3.8/dist-packages/rich/live.py:231: UserWarning: install \"ipywidgets\" for Jupyter support\n",
       "  warnings.warn('install \"ipywidgets\" for Jupyter support')\n"
      ]
     },
     "metadata": {},
     "output_type": "display_data"
    },
    {
     "data": {
      "text/html": [
       "<pre style=\"white-space:pre;overflow-x:auto;line-height:normal;font-family:Menlo,'DejaVu Sans Mono',consolas,'Courier New',monospace\">/usr/local/lib/python3.8/dist-packages/rich/live.py:231: UserWarning: install \"ipywidgets\" for Jupyter support\n",
       "  warnings.warn('install \"ipywidgets\" for Jupyter support')\n",
       "</pre>\n"
      ],
      "text/plain": [
       "/usr/local/lib/python3.8/dist-packages/rich/live.py:231: UserWarning: install \"ipywidgets\" for Jupyter support\n",
       "  warnings.warn('install \"ipywidgets\" for Jupyter support')\n"
      ]
     },
     "metadata": {},
     "output_type": "display_data"
    },
    {
     "data": {
      "text/html": [
       "<pre style=\"white-space:pre;overflow-x:auto;line-height:normal;font-family:Menlo,'DejaVu Sans Mono',consolas,'Courier New',monospace\"><span style=\"color: #800000; text-decoration-color: #800000; font-style: italic\">MRED_TRACK_POPULARITY</span>:<span style=\"font-weight: bold\">{</span><span style=\"color: #008000; text-decoration-color: #008000\">'mred'</span>: <span style=\"color: #008080; text-decoration-color: #008080; font-weight: bold\">-0.022659505843915823</span>, <span style=\"color: #008000; text-decoration-color: #008000\">'mr'</span>: <span style=\"color: #008080; text-decoration-color: #008080; font-weight: bold\">0.963461409057264</span>, <span style=\"color: #008080; text-decoration-color: #008080; font-weight: bold\">1</span>: <span style=\"color: #008080; text-decoration-color: #008080; font-weight: bold\">1.0</span>, <span style=\"color: #008080; text-decoration-color: #008080; font-weight: bold\">10</span>: <span style=\"color: #008080; text-decoration-color: #008080; font-weight: bold\">0.9783662586353169</span>, <span style=\"color: #008080; text-decoration-color: #008080; font-weight: bold\">100</span>:\n",
       "<span style=\"color: #008080; text-decoration-color: #008080; font-weight: bold\">0.9445804195804196</span>, <span style=\"color: #008080; text-decoration-color: #008080; font-weight: bold\">1000</span>: <span style=\"color: #008080; text-decoration-color: #008080; font-weight: bold\">0.943147815679234</span><span style=\"font-weight: bold\">}</span>\n",
       "</pre>\n"
      ],
      "text/plain": [
       "\u001b[3;31mMRED_TRACK_POPULARITY\u001b[0m:\u001b[1m{\u001b[0m\u001b[32m'mred'\u001b[0m: \u001b[1;36m-0.022659505843915823\u001b[0m, \u001b[32m'mr'\u001b[0m: \u001b[1;36m0.963461409057264\u001b[0m, \u001b[1;36m1\u001b[0m: \u001b[1;36m1.0\u001b[0m, \u001b[1;36m10\u001b[0m: \u001b[1;36m0.9783662586353169\u001b[0m, \u001b[1;36m100\u001b[0m:\n",
       "\u001b[1;36m0.9445804195804196\u001b[0m, \u001b[1;36m1000\u001b[0m: \u001b[1;36m0.943147815679234\u001b[0m\u001b[1m}\u001b[0m\n"
      ]
     },
     "metadata": {},
     "output_type": "display_data"
    },
    {
     "data": {
      "text/html": [
       "<pre style=\"white-space:pre;overflow-x:auto;line-height:normal;font-family:Menlo,'DejaVu Sans Mono',consolas,'Courier New',monospace\">/usr/local/lib/python3.8/dist-packages/rich/live.py:231: UserWarning: install \"ipywidgets\" for Jupyter support\n",
       "  warnings.warn('install \"ipywidgets\" for Jupyter support')\n",
       "</pre>\n"
      ],
      "text/plain": [
       "/usr/local/lib/python3.8/dist-packages/rich/live.py:231: UserWarning: install \"ipywidgets\" for Jupyter support\n",
       "  warnings.warn('install \"ipywidgets\" for Jupyter support')\n"
      ]
     },
     "metadata": {},
     "output_type": "display_data"
    },
    {
     "data": {
      "text/html": [
       "<pre style=\"white-space:pre;overflow-x:auto;line-height:normal;font-family:Menlo,'DejaVu Sans Mono',consolas,'Courier New',monospace\">/usr/local/lib/python3.8/dist-packages/rich/live.py:231: UserWarning: install \"ipywidgets\" for Jupyter support\n",
       "  warnings.warn('install \"ipywidgets\" for Jupyter support')\n",
       "</pre>\n"
      ],
      "text/plain": [
       "/usr/local/lib/python3.8/dist-packages/rich/live.py:231: UserWarning: install \"ipywidgets\" for Jupyter support\n",
       "  warnings.warn('install \"ipywidgets\" for Jupyter support')\n"
      ]
     },
     "metadata": {},
     "output_type": "display_data"
    },
    {
     "data": {
      "text/html": [
       "<pre style=\"white-space:pre;overflow-x:auto;line-height:normal;font-family:Menlo,'DejaVu Sans Mono',consolas,'Courier New',monospace\"><span style=\"color: #800000; text-decoration-color: #800000; font-style: italic\">MRED_ARTIST_POPULARITY</span>:<span style=\"font-weight: bold\">{</span><span style=\"color: #008000; text-decoration-color: #008000\">'mred'</span>: <span style=\"color: #008080; text-decoration-color: #008080; font-weight: bold\">-0.013465682717596184</span>, <span style=\"color: #008000; text-decoration-color: #008000\">'mr'</span>: <span style=\"color: #008080; text-decoration-color: #008080; font-weight: bold\">0.963461409057264</span>, <span style=\"color: #008080; text-decoration-color: #008080; font-weight: bold\">1</span>: <span style=\"color: #008080; text-decoration-color: #008080; font-weight: bold\">0.9894259818731118</span>, <span style=\"color: #008080; text-decoration-color: #008080; font-weight: bold\">100</span>: \n",
       "<span style=\"color: #008080; text-decoration-color: #008080; font-weight: bold\">0.9695793884836257</span>, <span style=\"color: #008080; text-decoration-color: #008080; font-weight: bold\">1000</span>: <span style=\"color: #008080; text-decoration-color: #008080; font-weight: bold\">0.9684762138704659</span>, <span style=\"color: #008080; text-decoration-color: #008080; font-weight: bold\">10000</span>: <span style=\"color: #008080; text-decoration-color: #008080; font-weight: bold\">0.9466960352422907</span><span style=\"font-weight: bold\">}</span>\n",
       "</pre>\n"
      ],
      "text/plain": [
       "\u001b[3;31mMRED_ARTIST_POPULARITY\u001b[0m:\u001b[1m{\u001b[0m\u001b[32m'mred'\u001b[0m: \u001b[1;36m-0.013465682717596184\u001b[0m, \u001b[32m'mr'\u001b[0m: \u001b[1;36m0.963461409057264\u001b[0m, \u001b[1;36m1\u001b[0m: \u001b[1;36m0.9894259818731118\u001b[0m, \u001b[1;36m100\u001b[0m: \n",
       "\u001b[1;36m0.9695793884836257\u001b[0m, \u001b[1;36m1000\u001b[0m: \u001b[1;36m0.9684762138704659\u001b[0m, \u001b[1;36m10000\u001b[0m: \u001b[1;36m0.9466960352422907\u001b[0m\u001b[1m}\u001b[0m\n"
      ]
     },
     "metadata": {},
     "output_type": "display_data"
    },
    {
     "data": {
      "text/html": [
       "<pre style=\"white-space:pre;overflow-x:auto;line-height:normal;font-family:Menlo,'DejaVu Sans Mono',consolas,'Courier New',monospace\">/usr/local/lib/python3.8/dist-packages/rich/live.py:231: UserWarning: install \"ipywidgets\" for Jupyter support\n",
       "  warnings.warn('install \"ipywidgets\" for Jupyter support')\n",
       "</pre>\n"
      ],
      "text/plain": [
       "/usr/local/lib/python3.8/dist-packages/rich/live.py:231: UserWarning: install \"ipywidgets\" for Jupyter support\n",
       "  warnings.warn('install \"ipywidgets\" for Jupyter support')\n"
      ]
     },
     "metadata": {},
     "output_type": "display_data"
    },
    {
     "data": {
      "text/html": [
       "<pre style=\"white-space:pre;overflow-x:auto;line-height:normal;font-family:Menlo,'DejaVu Sans Mono',consolas,'Courier New',monospace\"><span style=\"color: #800000; text-decoration-color: #800000; font-style: italic\">MRED_GENDER</span>:<span style=\"font-weight: bold\">{</span><span style=\"color: #008000; text-decoration-color: #008000\">'mred'</span>: <span style=\"color: #008080; text-decoration-color: #008080; font-weight: bold\">-0.003095803292233209</span>, <span style=\"color: #008000; text-decoration-color: #008000\">'mr'</span>: <span style=\"color: #008080; text-decoration-color: #008080; font-weight: bold\">0.963461409057264</span>, <span style=\"color: #008000; text-decoration-color: #008000\">'f'</span>: <span style=\"color: #008080; text-decoration-color: #008080; font-weight: bold\">0.9683071373357383</span>, <span style=\"color: #008000; text-decoration-color: #008000\">'m'</span>: \n",
       "<span style=\"color: #008080; text-decoration-color: #008080; font-weight: bold\">0.9654172913543229</span>, <span style=\"color: #008000; text-decoration-color: #008000\">'n'</span>: <span style=\"color: #008080; text-decoration-color: #008080; font-weight: bold\">0.9609756097560975</span><span style=\"font-weight: bold\">}</span>\n",
       "</pre>\n"
      ],
      "text/plain": [
       "\u001b[3;31mMRED_GENDER\u001b[0m:\u001b[1m{\u001b[0m\u001b[32m'mred'\u001b[0m: \u001b[1;36m-0.003095803292233209\u001b[0m, \u001b[32m'mr'\u001b[0m: \u001b[1;36m0.963461409057264\u001b[0m, \u001b[32m'f'\u001b[0m: \u001b[1;36m0.9683071373357383\u001b[0m, \u001b[32m'm'\u001b[0m: \n",
       "\u001b[1;36m0.9654172913543229\u001b[0m, \u001b[32m'n'\u001b[0m: \u001b[1;36m0.9609756097560975\u001b[0m\u001b[1m}\u001b[0m\n"
      ]
     },
     "metadata": {},
     "output_type": "display_data"
    },
    {
     "data": {
      "text/html": [
       "<pre style=\"white-space:pre;overflow-x:auto;line-height:normal;font-family:Menlo,'DejaVu Sans Mono',consolas,'Courier New',monospace\"></pre>\n"
      ],
      "text/plain": []
     },
     "metadata": {},
     "output_type": "display_data"
    },
    {
     "data": {
      "text/html": [
       "<pre style=\"white-space:pre;overflow-x:auto;line-height:normal;font-family:Menlo,'DejaVu Sans Mono',consolas,'Courier New',monospace\">\n",
       "</pre>\n"
      ],
      "text/plain": [
       "\n"
      ]
     },
     "metadata": {},
     "output_type": "display_data"
    },
    {
     "data": {
      "text/html": [
       "<pre style=\"white-space:pre;overflow-x:auto;line-height:normal;font-family:Menlo,'DejaVu Sans Mono',consolas,'Courier New',monospace\"><span style=\"font-style: italic\">                                EvalRSReclist                                 </span>\n",
       "┏━━━━━━━━━━━━━━━━━━━━━━━━┳━━━━━━━━━━━━━━┳━━━━━━━━━━━━━━━━━━━━━━━━━━━━━━━━━━━━┓\n",
       "┃<span style=\"font-weight: bold\">                   Type </span>┃<span style=\"font-weight: bold\"> Description  </span>┃<span style=\"font-weight: bold\">                             Result </span>┃\n",
       "┡━━━━━━━━━━━━━━━━━━━━━━━━╇━━━━━━━━━━━━━━╇━━━━━━━━━━━━━━━━━━━━━━━━━━━━━━━━━━━━┩\n",
       "│<span style=\"color: #008080; text-decoration-color: #008080\">                  stats </span>│<span style=\"color: #800080; text-decoration-color: #800080\">              </span>│<span style=\"color: #008000; text-decoration-color: #008000\">                                  { </span>│\n",
       "│<span style=\"color: #008080; text-decoration-color: #008080\">                        </span>│<span style=\"color: #800080; text-decoration-color: #800080\">              </span>│<span style=\"color: #008000; text-decoration-color: #008000\">                \"num_users\": 29722, </span>│\n",
       "│<span style=\"color: #008080; text-decoration-color: #008080\">                        </span>│<span style=\"color: #800080; text-decoration-color: #800080\">              </span>│<span style=\"color: #008000; text-decoration-color: #008000\">                    \"max_items\": 1, </span>│\n",
       "│<span style=\"color: #008080; text-decoration-color: #008080\">                        </span>│<span style=\"color: #800080; text-decoration-color: #800080\">              </span>│<span style=\"color: #008000; text-decoration-color: #008000\">                     \"min_items\": 1 </span>│\n",
       "│<span style=\"color: #008080; text-decoration-color: #008080\">                        </span>│<span style=\"color: #800080; text-decoration-color: #800080\">              </span>│<span style=\"color: #008000; text-decoration-color: #008000\">                                  } </span>│\n",
       "│<span style=\"color: #008080; text-decoration-color: #008080\">               HIT_RATE </span>│<span style=\"color: #800080; text-decoration-color: #800080\">              </span>│<span style=\"color: #008000; text-decoration-color: #008000\">                             0.0365 </span>│\n",
       "│<span style=\"color: #008080; text-decoration-color: #008080\">                    MRR </span>│<span style=\"color: #800080; text-decoration-color: #800080\">              </span>│<span style=\"color: #008000; text-decoration-color: #008000\">                             0.0021 </span>│\n",
       "│<span style=\"color: #008080; text-decoration-color: #008080\">           MRED_COUNTRY </span>│<span style=\"color: #800080; text-decoration-color: #800080\">              </span>│<span style=\"color: #008000; text-decoration-color: #008000\">                                  { </span>│\n",
       "│<span style=\"color: #008080; text-decoration-color: #008080\">                        </span>│<span style=\"color: #800080; text-decoration-color: #800080\">              </span>│<span style=\"color: #008000; text-decoration-color: #008000\">     \"mred\": -0.005474417354828247, </span>│\n",
       "│<span style=\"color: #008080; text-decoration-color: #008080\">                        </span>│<span style=\"color: #800080; text-decoration-color: #800080\">              </span>│<span style=\"color: #008000; text-decoration-color: #008000\">          \"mr\": 0.9624871726654252, </span>│\n",
       "│<span style=\"color: #008080; text-decoration-color: #008080\">                        </span>│<span style=\"color: #800080; text-decoration-color: #800080\">              </span>│<span style=\"color: #008000; text-decoration-color: #008000\">          \"BR\": 0.9548717948717949, </span>│\n",
       "│<span style=\"color: #008080; text-decoration-color: #008080\">                        </span>│<span style=\"color: #800080; text-decoration-color: #800080\">              </span>│<span style=\"color: #008000; text-decoration-color: #008000\">          \"CA\": 0.9555555555555556, </span>│\n",
       "│<span style=\"color: #008080; text-decoration-color: #008080\">                        </span>│<span style=\"color: #800080; text-decoration-color: #800080\">              </span>│<span style=\"color: #008000; text-decoration-color: #008000\">           \"DE\": 0.964189794091316, </span>│\n",
       "│<span style=\"color: #008080; text-decoration-color: #008080\">                        </span>│<span style=\"color: #800080; text-decoration-color: #800080\">              </span>│<span style=\"color: #008000; text-decoration-color: #008000\">          \"ES\": 0.9634146341463414, </span>│\n",
       "│<span style=\"color: #008080; text-decoration-color: #008080\">                        </span>│<span style=\"color: #800080; text-decoration-color: #800080\">              </span>│<span style=\"color: #008000; text-decoration-color: #008000\">          \"FI\": 0.9772151898734177, </span>│\n",
       "│<span style=\"color: #008080; text-decoration-color: #008080\">                        </span>│<span style=\"color: #800080; text-decoration-color: #800080\">              </span>│<span style=\"color: #008000; text-decoration-color: #008000\">          \"FR\": 0.9696969696969697, </span>│\n",
       "│<span style=\"color: #008080; text-decoration-color: #008080\">                        </span>│<span style=\"color: #800080; text-decoration-color: #800080\">              </span>│<span style=\"color: #008000; text-decoration-color: #008000\">          \"NL\": 0.9564032697547684, </span>│\n",
       "│<span style=\"color: #008080; text-decoration-color: #008080\">                        </span>│<span style=\"color: #800080; text-decoration-color: #800080\">              </span>│<span style=\"color: #008000; text-decoration-color: #008000\">         \"NaN\": 0.9609110302421885, </span>│\n",
       "│<span style=\"color: #008080; text-decoration-color: #008080\">                        </span>│<span style=\"color: #800080; text-decoration-color: #800080\">              </span>│<span style=\"color: #008000; text-decoration-color: #008000\">          \"PL\": 0.9597806215722121, </span>│\n",
       "│<span style=\"color: #008080; text-decoration-color: #008080\">                        </span>│<span style=\"color: #800080; text-decoration-color: #800080\">              </span>│<span style=\"color: #008000; text-decoration-color: #008000\">          \"RU\": 0.9684542586750788, </span>│\n",
       "│<span style=\"color: #008080; text-decoration-color: #008080\">                        </span>│<span style=\"color: #800080; text-decoration-color: #800080\">              </span>│<span style=\"color: #008000; text-decoration-color: #008000\">          \"SE\": 0.9651567944250871, </span>│\n",
       "│<span style=\"color: #008080; text-decoration-color: #008080\">                        </span>│<span style=\"color: #800080; text-decoration-color: #800080\">              </span>│<span style=\"color: #008000; text-decoration-color: #008000\">                        \"UA\": 0.97, </span>│\n",
       "│<span style=\"color: #008080; text-decoration-color: #008080\">                        </span>│<span style=\"color: #800080; text-decoration-color: #800080\">              </span>│<span style=\"color: #008000; text-decoration-color: #008000\">          \"UK\": 0.9599644128113879, </span>│\n",
       "│<span style=\"color: #008080; text-decoration-color: #008080\">                        </span>│<span style=\"color: #800080; text-decoration-color: #800080\">              </span>│<span style=\"color: #008000; text-decoration-color: #008000\">           \"US\": 0.9709752321981424 </span>│\n",
       "│<span style=\"color: #008080; text-decoration-color: #008080\">                        </span>│<span style=\"color: #800080; text-decoration-color: #800080\">              </span>│<span style=\"color: #008000; text-decoration-color: #008000\">                                  } </span>│\n",
       "│<span style=\"color: #008080; text-decoration-color: #008080\">     MRED_USER_ACTIVITY </span>│<span style=\"color: #800080; text-decoration-color: #800080\">              </span>│<span style=\"color: #008000; text-decoration-color: #008000\">                                  { </span>│\n",
       "│<span style=\"color: #008080; text-decoration-color: #008080\">                        </span>│<span style=\"color: #800080; text-decoration-color: #800080\">              </span>│<span style=\"color: #008000; text-decoration-color: #008000\">     \"mred\": -0.007634940652015569, </span>│\n",
       "│<span style=\"color: #008080; text-decoration-color: #008080\">                        </span>│<span style=\"color: #800080; text-decoration-color: #800080\">              </span>│<span style=\"color: #008000; text-decoration-color: #008000\">           \"mr\": 0.963461409057264, </span>│\n",
       "│<span style=\"color: #008080; text-decoration-color: #008080\">                        </span>│<span style=\"color: #800080; text-decoration-color: #800080\">              </span>│<span style=\"color: #008000; text-decoration-color: #008000\">           \"1\": 0.9452304883614788, </span>│\n",
       "│<span style=\"color: #008080; text-decoration-color: #008080\">                        </span>│<span style=\"color: #800080; text-decoration-color: #800080\">              </span>│<span style=\"color: #008000; text-decoration-color: #008000\">         \"100\": 0.9645244215938303, </span>│\n",
       "│<span style=\"color: #008080; text-decoration-color: #008080\">                        </span>│<span style=\"color: #800080; text-decoration-color: #800080\">              </span>│<span style=\"color: #008000; text-decoration-color: #008000\">         \"1000\": 0.9670722977809592 </span>│\n",
       "│<span style=\"color: #008080; text-decoration-color: #008080\">                        </span>│<span style=\"color: #800080; text-decoration-color: #800080\">              </span>│<span style=\"color: #008000; text-decoration-color: #008000\">                                  } </span>│\n",
       "│<span style=\"color: #008080; text-decoration-color: #008080\">  MRED_TRACK_POPULARITY </span>│<span style=\"color: #800080; text-decoration-color: #800080\">              </span>│<span style=\"color: #008000; text-decoration-color: #008000\">                                  { </span>│\n",
       "│<span style=\"color: #008080; text-decoration-color: #008080\">                        </span>│<span style=\"color: #800080; text-decoration-color: #800080\">              </span>│<span style=\"color: #008000; text-decoration-color: #008000\">     \"mred\": -0.022659505843915823, </span>│\n",
       "│<span style=\"color: #008080; text-decoration-color: #008080\">                        </span>│<span style=\"color: #800080; text-decoration-color: #800080\">              </span>│<span style=\"color: #008000; text-decoration-color: #008000\">           \"mr\": 0.963461409057264, </span>│\n",
       "│<span style=\"color: #008080; text-decoration-color: #008080\">                        </span>│<span style=\"color: #800080; text-decoration-color: #800080\">              </span>│<span style=\"color: #008000; text-decoration-color: #008000\">                          \"1\": 1.0, </span>│\n",
       "│<span style=\"color: #008080; text-decoration-color: #008080\">                        </span>│<span style=\"color: #800080; text-decoration-color: #800080\">              </span>│<span style=\"color: #008000; text-decoration-color: #008000\">          \"10\": 0.9783662586353169, </span>│\n",
       "│<span style=\"color: #008080; text-decoration-color: #008080\">                        </span>│<span style=\"color: #800080; text-decoration-color: #800080\">              </span>│<span style=\"color: #008000; text-decoration-color: #008000\">         \"100\": 0.9445804195804196, </span>│\n",
       "│<span style=\"color: #008080; text-decoration-color: #008080\">                        </span>│<span style=\"color: #800080; text-decoration-color: #800080\">              </span>│<span style=\"color: #008000; text-decoration-color: #008000\">          \"1000\": 0.943147815679234 </span>│\n",
       "│<span style=\"color: #008080; text-decoration-color: #008080\">                        </span>│<span style=\"color: #800080; text-decoration-color: #800080\">              </span>│<span style=\"color: #008000; text-decoration-color: #008000\">                                  } </span>│\n",
       "│<span style=\"color: #008080; text-decoration-color: #008080\"> MRED_ARTIST_POPULARITY </span>│<span style=\"color: #800080; text-decoration-color: #800080\">              </span>│<span style=\"color: #008000; text-decoration-color: #008000\">                                  { </span>│\n",
       "│<span style=\"color: #008080; text-decoration-color: #008080\">                        </span>│<span style=\"color: #800080; text-decoration-color: #800080\">              </span>│<span style=\"color: #008000; text-decoration-color: #008000\">     \"mred\": -0.013465682717596184, </span>│\n",
       "│<span style=\"color: #008080; text-decoration-color: #008080\">                        </span>│<span style=\"color: #800080; text-decoration-color: #800080\">              </span>│<span style=\"color: #008000; text-decoration-color: #008000\">           \"mr\": 0.963461409057264, </span>│\n",
       "│<span style=\"color: #008080; text-decoration-color: #008080\">                        </span>│<span style=\"color: #800080; text-decoration-color: #800080\">              </span>│<span style=\"color: #008000; text-decoration-color: #008000\">           \"1\": 0.9894259818731118, </span>│\n",
       "│<span style=\"color: #008080; text-decoration-color: #008080\">                        </span>│<span style=\"color: #800080; text-decoration-color: #800080\">              </span>│<span style=\"color: #008000; text-decoration-color: #008000\">         \"100\": 0.9695793884836257, </span>│\n",
       "│<span style=\"color: #008080; text-decoration-color: #008080\">                        </span>│<span style=\"color: #800080; text-decoration-color: #800080\">              </span>│<span style=\"color: #008000; text-decoration-color: #008000\">        \"1000\": 0.9684762138704659, </span>│\n",
       "│<span style=\"color: #008080; text-decoration-color: #008080\">                        </span>│<span style=\"color: #800080; text-decoration-color: #800080\">              </span>│<span style=\"color: #008000; text-decoration-color: #008000\">        \"10000\": 0.9466960352422907 </span>│\n",
       "│<span style=\"color: #008080; text-decoration-color: #008080\">                        </span>│<span style=\"color: #800080; text-decoration-color: #800080\">              </span>│<span style=\"color: #008000; text-decoration-color: #008000\">                                  } </span>│\n",
       "│<span style=\"color: #008080; text-decoration-color: #008080\">            MRED_GENDER </span>│<span style=\"color: #800080; text-decoration-color: #800080\">              </span>│<span style=\"color: #008000; text-decoration-color: #008000\">                                  { </span>│\n",
       "│<span style=\"color: #008080; text-decoration-color: #008080\">                        </span>│<span style=\"color: #800080; text-decoration-color: #800080\">              </span>│<span style=\"color: #008000; text-decoration-color: #008000\">     \"mred\": -0.003095803292233209, </span>│\n",
       "│<span style=\"color: #008080; text-decoration-color: #008080\">                        </span>│<span style=\"color: #800080; text-decoration-color: #800080\">              </span>│<span style=\"color: #008000; text-decoration-color: #008000\">           \"mr\": 0.963461409057264, </span>│\n",
       "│<span style=\"color: #008080; text-decoration-color: #008080\">                        </span>│<span style=\"color: #800080; text-decoration-color: #800080\">              </span>│<span style=\"color: #008000; text-decoration-color: #008000\">           \"f\": 0.9683071373357383, </span>│\n",
       "│<span style=\"color: #008080; text-decoration-color: #008080\">                        </span>│<span style=\"color: #800080; text-decoration-color: #800080\">              </span>│<span style=\"color: #008000; text-decoration-color: #008000\">           \"m\": 0.9654172913543229, </span>│\n",
       "│<span style=\"color: #008080; text-decoration-color: #008080\">                        </span>│<span style=\"color: #800080; text-decoration-color: #800080\">              </span>│<span style=\"color: #008000; text-decoration-color: #008000\">            \"n\": 0.9609756097560975 </span>│\n",
       "│<span style=\"color: #008080; text-decoration-color: #008080\">                        </span>│<span style=\"color: #800080; text-decoration-color: #800080\">              </span>│<span style=\"color: #008000; text-decoration-color: #008000\">                                  } </span>│\n",
       "└────────────────────────┴──────────────┴────────────────────────────────────┘\n",
       "</pre>\n"
      ],
      "text/plain": [
       "\u001b[3m                                EvalRSReclist                                 \u001b[0m\n",
       "┏━━━━━━━━━━━━━━━━━━━━━━━━┳━━━━━━━━━━━━━━┳━━━━━━━━━━━━━━━━━━━━━━━━━━━━━━━━━━━━┓\n",
       "┃\u001b[1m \u001b[0m\u001b[1m                  Type\u001b[0m\u001b[1m \u001b[0m┃\u001b[1m \u001b[0m\u001b[1mDescription \u001b[0m\u001b[1m \u001b[0m┃\u001b[1m \u001b[0m\u001b[1m                            Result\u001b[0m\u001b[1m \u001b[0m┃\n",
       "┡━━━━━━━━━━━━━━━━━━━━━━━━╇━━━━━━━━━━━━━━╇━━━━━━━━━━━━━━━━━━━━━━━━━━━━━━━━━━━━┩\n",
       "│\u001b[36m \u001b[0m\u001b[36m                 stats\u001b[0m\u001b[36m \u001b[0m│\u001b[35m \u001b[0m\u001b[35m            \u001b[0m\u001b[35m \u001b[0m│\u001b[32m \u001b[0m\u001b[32m                                 {\u001b[0m\u001b[32m \u001b[0m│\n",
       "│\u001b[36m                        \u001b[0m│\u001b[35m              \u001b[0m│\u001b[32m \u001b[0m\u001b[32m               \"num_users\": 29722,\u001b[0m\u001b[32m \u001b[0m│\n",
       "│\u001b[36m                        \u001b[0m│\u001b[35m              \u001b[0m│\u001b[32m \u001b[0m\u001b[32m                   \"max_items\": 1,\u001b[0m\u001b[32m \u001b[0m│\n",
       "│\u001b[36m                        \u001b[0m│\u001b[35m              \u001b[0m│\u001b[32m \u001b[0m\u001b[32m                    \"min_items\": 1\u001b[0m\u001b[32m \u001b[0m│\n",
       "│\u001b[36m                        \u001b[0m│\u001b[35m              \u001b[0m│\u001b[32m \u001b[0m\u001b[32m                                 }\u001b[0m\u001b[32m \u001b[0m│\n",
       "│\u001b[36m \u001b[0m\u001b[36m              HIT_RATE\u001b[0m\u001b[36m \u001b[0m│\u001b[35m \u001b[0m\u001b[35m            \u001b[0m\u001b[35m \u001b[0m│\u001b[32m \u001b[0m\u001b[32m                            0.0365\u001b[0m\u001b[32m \u001b[0m│\n",
       "│\u001b[36m \u001b[0m\u001b[36m                   MRR\u001b[0m\u001b[36m \u001b[0m│\u001b[35m \u001b[0m\u001b[35m            \u001b[0m\u001b[35m \u001b[0m│\u001b[32m \u001b[0m\u001b[32m                            0.0021\u001b[0m\u001b[32m \u001b[0m│\n",
       "│\u001b[36m \u001b[0m\u001b[36m          MRED_COUNTRY\u001b[0m\u001b[36m \u001b[0m│\u001b[35m \u001b[0m\u001b[35m            \u001b[0m\u001b[35m \u001b[0m│\u001b[32m \u001b[0m\u001b[32m                                 {\u001b[0m\u001b[32m \u001b[0m│\n",
       "│\u001b[36m                        \u001b[0m│\u001b[35m              \u001b[0m│\u001b[32m \u001b[0m\u001b[32m    \"mred\": -0.005474417354828247,\u001b[0m\u001b[32m \u001b[0m│\n",
       "│\u001b[36m                        \u001b[0m│\u001b[35m              \u001b[0m│\u001b[32m \u001b[0m\u001b[32m         \"mr\": 0.9624871726654252,\u001b[0m\u001b[32m \u001b[0m│\n",
       "│\u001b[36m                        \u001b[0m│\u001b[35m              \u001b[0m│\u001b[32m \u001b[0m\u001b[32m         \"BR\": 0.9548717948717949,\u001b[0m\u001b[32m \u001b[0m│\n",
       "│\u001b[36m                        \u001b[0m│\u001b[35m              \u001b[0m│\u001b[32m \u001b[0m\u001b[32m         \"CA\": 0.9555555555555556,\u001b[0m\u001b[32m \u001b[0m│\n",
       "│\u001b[36m                        \u001b[0m│\u001b[35m              \u001b[0m│\u001b[32m \u001b[0m\u001b[32m          \"DE\": 0.964189794091316,\u001b[0m\u001b[32m \u001b[0m│\n",
       "│\u001b[36m                        \u001b[0m│\u001b[35m              \u001b[0m│\u001b[32m \u001b[0m\u001b[32m         \"ES\": 0.9634146341463414,\u001b[0m\u001b[32m \u001b[0m│\n",
       "│\u001b[36m                        \u001b[0m│\u001b[35m              \u001b[0m│\u001b[32m \u001b[0m\u001b[32m         \"FI\": 0.9772151898734177,\u001b[0m\u001b[32m \u001b[0m│\n",
       "│\u001b[36m                        \u001b[0m│\u001b[35m              \u001b[0m│\u001b[32m \u001b[0m\u001b[32m         \"FR\": 0.9696969696969697,\u001b[0m\u001b[32m \u001b[0m│\n",
       "│\u001b[36m                        \u001b[0m│\u001b[35m              \u001b[0m│\u001b[32m \u001b[0m\u001b[32m         \"NL\": 0.9564032697547684,\u001b[0m\u001b[32m \u001b[0m│\n",
       "│\u001b[36m                        \u001b[0m│\u001b[35m              \u001b[0m│\u001b[32m \u001b[0m\u001b[32m        \"NaN\": 0.9609110302421885,\u001b[0m\u001b[32m \u001b[0m│\n",
       "│\u001b[36m                        \u001b[0m│\u001b[35m              \u001b[0m│\u001b[32m \u001b[0m\u001b[32m         \"PL\": 0.9597806215722121,\u001b[0m\u001b[32m \u001b[0m│\n",
       "│\u001b[36m                        \u001b[0m│\u001b[35m              \u001b[0m│\u001b[32m \u001b[0m\u001b[32m         \"RU\": 0.9684542586750788,\u001b[0m\u001b[32m \u001b[0m│\n",
       "│\u001b[36m                        \u001b[0m│\u001b[35m              \u001b[0m│\u001b[32m \u001b[0m\u001b[32m         \"SE\": 0.9651567944250871,\u001b[0m\u001b[32m \u001b[0m│\n",
       "│\u001b[36m                        \u001b[0m│\u001b[35m              \u001b[0m│\u001b[32m \u001b[0m\u001b[32m                       \"UA\": 0.97,\u001b[0m\u001b[32m \u001b[0m│\n",
       "│\u001b[36m                        \u001b[0m│\u001b[35m              \u001b[0m│\u001b[32m \u001b[0m\u001b[32m         \"UK\": 0.9599644128113879,\u001b[0m\u001b[32m \u001b[0m│\n",
       "│\u001b[36m                        \u001b[0m│\u001b[35m              \u001b[0m│\u001b[32m \u001b[0m\u001b[32m          \"US\": 0.9709752321981424\u001b[0m\u001b[32m \u001b[0m│\n",
       "│\u001b[36m                        \u001b[0m│\u001b[35m              \u001b[0m│\u001b[32m \u001b[0m\u001b[32m                                 }\u001b[0m\u001b[32m \u001b[0m│\n",
       "│\u001b[36m \u001b[0m\u001b[36m    MRED_USER_ACTIVITY\u001b[0m\u001b[36m \u001b[0m│\u001b[35m \u001b[0m\u001b[35m            \u001b[0m\u001b[35m \u001b[0m│\u001b[32m \u001b[0m\u001b[32m                                 {\u001b[0m\u001b[32m \u001b[0m│\n",
       "│\u001b[36m                        \u001b[0m│\u001b[35m              \u001b[0m│\u001b[32m \u001b[0m\u001b[32m    \"mred\": -0.007634940652015569,\u001b[0m\u001b[32m \u001b[0m│\n",
       "│\u001b[36m                        \u001b[0m│\u001b[35m              \u001b[0m│\u001b[32m \u001b[0m\u001b[32m          \"mr\": 0.963461409057264,\u001b[0m\u001b[32m \u001b[0m│\n",
       "│\u001b[36m                        \u001b[0m│\u001b[35m              \u001b[0m│\u001b[32m \u001b[0m\u001b[32m          \"1\": 0.9452304883614788,\u001b[0m\u001b[32m \u001b[0m│\n",
       "│\u001b[36m                        \u001b[0m│\u001b[35m              \u001b[0m│\u001b[32m \u001b[0m\u001b[32m        \"100\": 0.9645244215938303,\u001b[0m\u001b[32m \u001b[0m│\n",
       "│\u001b[36m                        \u001b[0m│\u001b[35m              \u001b[0m│\u001b[32m \u001b[0m\u001b[32m        \"1000\": 0.9670722977809592\u001b[0m\u001b[32m \u001b[0m│\n",
       "│\u001b[36m                        \u001b[0m│\u001b[35m              \u001b[0m│\u001b[32m \u001b[0m\u001b[32m                                 }\u001b[0m\u001b[32m \u001b[0m│\n",
       "│\u001b[36m \u001b[0m\u001b[36m MRED_TRACK_POPULARITY\u001b[0m\u001b[36m \u001b[0m│\u001b[35m \u001b[0m\u001b[35m            \u001b[0m\u001b[35m \u001b[0m│\u001b[32m \u001b[0m\u001b[32m                                 {\u001b[0m\u001b[32m \u001b[0m│\n",
       "│\u001b[36m                        \u001b[0m│\u001b[35m              \u001b[0m│\u001b[32m \u001b[0m\u001b[32m    \"mred\": -0.022659505843915823,\u001b[0m\u001b[32m \u001b[0m│\n",
       "│\u001b[36m                        \u001b[0m│\u001b[35m              \u001b[0m│\u001b[32m \u001b[0m\u001b[32m          \"mr\": 0.963461409057264,\u001b[0m\u001b[32m \u001b[0m│\n",
       "│\u001b[36m                        \u001b[0m│\u001b[35m              \u001b[0m│\u001b[32m \u001b[0m\u001b[32m                         \"1\": 1.0,\u001b[0m\u001b[32m \u001b[0m│\n",
       "│\u001b[36m                        \u001b[0m│\u001b[35m              \u001b[0m│\u001b[32m \u001b[0m\u001b[32m         \"10\": 0.9783662586353169,\u001b[0m\u001b[32m \u001b[0m│\n",
       "│\u001b[36m                        \u001b[0m│\u001b[35m              \u001b[0m│\u001b[32m \u001b[0m\u001b[32m        \"100\": 0.9445804195804196,\u001b[0m\u001b[32m \u001b[0m│\n",
       "│\u001b[36m                        \u001b[0m│\u001b[35m              \u001b[0m│\u001b[32m \u001b[0m\u001b[32m         \"1000\": 0.943147815679234\u001b[0m\u001b[32m \u001b[0m│\n",
       "│\u001b[36m                        \u001b[0m│\u001b[35m              \u001b[0m│\u001b[32m \u001b[0m\u001b[32m                                 }\u001b[0m\u001b[32m \u001b[0m│\n",
       "│\u001b[36m \u001b[0m\u001b[36mMRED_ARTIST_POPULARITY\u001b[0m\u001b[36m \u001b[0m│\u001b[35m \u001b[0m\u001b[35m            \u001b[0m\u001b[35m \u001b[0m│\u001b[32m \u001b[0m\u001b[32m                                 {\u001b[0m\u001b[32m \u001b[0m│\n",
       "│\u001b[36m                        \u001b[0m│\u001b[35m              \u001b[0m│\u001b[32m \u001b[0m\u001b[32m    \"mred\": -0.013465682717596184,\u001b[0m\u001b[32m \u001b[0m│\n",
       "│\u001b[36m                        \u001b[0m│\u001b[35m              \u001b[0m│\u001b[32m \u001b[0m\u001b[32m          \"mr\": 0.963461409057264,\u001b[0m\u001b[32m \u001b[0m│\n",
       "│\u001b[36m                        \u001b[0m│\u001b[35m              \u001b[0m│\u001b[32m \u001b[0m\u001b[32m          \"1\": 0.9894259818731118,\u001b[0m\u001b[32m \u001b[0m│\n",
       "│\u001b[36m                        \u001b[0m│\u001b[35m              \u001b[0m│\u001b[32m \u001b[0m\u001b[32m        \"100\": 0.9695793884836257,\u001b[0m\u001b[32m \u001b[0m│\n",
       "│\u001b[36m                        \u001b[0m│\u001b[35m              \u001b[0m│\u001b[32m \u001b[0m\u001b[32m       \"1000\": 0.9684762138704659,\u001b[0m\u001b[32m \u001b[0m│\n",
       "│\u001b[36m                        \u001b[0m│\u001b[35m              \u001b[0m│\u001b[32m \u001b[0m\u001b[32m       \"10000\": 0.9466960352422907\u001b[0m\u001b[32m \u001b[0m│\n",
       "│\u001b[36m                        \u001b[0m│\u001b[35m              \u001b[0m│\u001b[32m \u001b[0m\u001b[32m                                 }\u001b[0m\u001b[32m \u001b[0m│\n",
       "│\u001b[36m \u001b[0m\u001b[36m           MRED_GENDER\u001b[0m\u001b[36m \u001b[0m│\u001b[35m \u001b[0m\u001b[35m            \u001b[0m\u001b[35m \u001b[0m│\u001b[32m \u001b[0m\u001b[32m                                 {\u001b[0m\u001b[32m \u001b[0m│\n",
       "│\u001b[36m                        \u001b[0m│\u001b[35m              \u001b[0m│\u001b[32m \u001b[0m\u001b[32m    \"mred\": -0.003095803292233209,\u001b[0m\u001b[32m \u001b[0m│\n",
       "│\u001b[36m                        \u001b[0m│\u001b[35m              \u001b[0m│\u001b[32m \u001b[0m\u001b[32m          \"mr\": 0.963461409057264,\u001b[0m\u001b[32m \u001b[0m│\n",
       "│\u001b[36m                        \u001b[0m│\u001b[35m              \u001b[0m│\u001b[32m \u001b[0m\u001b[32m          \"f\": 0.9683071373357383,\u001b[0m\u001b[32m \u001b[0m│\n",
       "│\u001b[36m                        \u001b[0m│\u001b[35m              \u001b[0m│\u001b[32m \u001b[0m\u001b[32m          \"m\": 0.9654172913543229,\u001b[0m\u001b[32m \u001b[0m│\n",
       "│\u001b[36m                        \u001b[0m│\u001b[35m              \u001b[0m│\u001b[32m \u001b[0m\u001b[32m           \"n\": 0.9609756097560975\u001b[0m\u001b[32m \u001b[0m│\n",
       "│\u001b[36m                        \u001b[0m│\u001b[35m              \u001b[0m│\u001b[32m \u001b[0m\u001b[32m                                 }\u001b[0m\u001b[32m \u001b[0m│\n",
       "└────────────────────────┴──────────────┴────────────────────────────────────┘\n"
      ]
     },
     "metadata": {},
     "output_type": "display_data"
    },
    {
     "name": "stdout",
     "output_type": "stream",
     "text": [
      "CPU times: user 797 ms, sys: 162 ms, total: 959 ms\n",
      "Wall time: 890 ms\n"
     ]
    }
   ],
   "source": [
    "%%time\n",
    "cdf = EvalRSReclist(\n",
    "    dataset=dataset,\n",
    "    model_name=\"MatrixFactorization\",\n",
    "    predictions=mf_predictions_df,\n",
    "    logger=LOGGER.LOCAL,\n",
    "    metadata_store=METADATA_STORE.LOCAL,\n",
    ")\n",
    "\n",
    "# run reclist\n",
    "cdf(verbose=True)"
   ]
  },
  {
   "cell_type": "markdown",
   "metadata": {},
   "source": [
    "Runs the evaluation code: remember, if LIMIT is not 0, your submission won't be uploaded but the loop may still be useful for you to debug / iterate locally_"
   ]
  },
  {
   "cell_type": "markdown",
   "metadata": {},
   "source": [
    "## Two-tower architecture"
   ]
  },
  {
   "cell_type": "markdown",
   "metadata": {},
   "source": [
    "A Two-Tower Model consists of item (candidate) and user (query) encoder towers. The model learns representations (embeddings) for user and candidate items separately and user-item affinity is computed by dot product between the output of the towers. Differently from Matrix Factorization, multiple user/query and item features can be used for more accurate recommendations.\n",
    "\n",
    "<img src=\"./images/TwoTower.png\"  width=\"30%\">\n",
    "\n",
    "Image Adapted from: [Off-policy Learning in Two-stage Recommender Systems](https://dl.acm.org/doi/abs/10.1145/3366423.3380130)"
   ]
  },
  {
   "cell_type": "code",
   "execution_count": 24,
   "metadata": {},
   "outputs": [],
   "source": [
    "class MyTwoTowerModel(MyRetrievalModel):\n",
    "        \n",
    "    \n",
    "    def get_model(self):                   \n",
    "        query_schema = self.schema.select_by_tag(Tags.USER)\n",
    "        query_inputs = mm.InputBlockV2(query_schema,\n",
    "                                   categorical=mm.Embeddings(\n",
    "                                        query_schema.select_by_tag(Tags.CATEGORICAL),\n",
    "                                        l2_batch_regularization_factor=self.hparams['embeddings_l2_reg'],\n",
    "                                        infer_dim_fn=partial(\n",
    "                                            schema_utils.infer_embedding_dim,\n",
    "                                            multiplier=self.hparams['tt_infer_embedding_sizes_multiplier']\n",
    "                                        ),\n",
    "                                       sequence_combiner=\"mean\",\n",
    "                                    ),\n",
    "                                  )\n",
    "        \n",
    "        query = mm.Encoder(query_inputs, \n",
    "                           mm.MLPBlock(\n",
    "                                self.hparams['tt_mlp_layers'],\n",
    "                                activation=self.hparams['tt_mlp_activation'],\n",
    "                                no_activation_last_layer=True,    \n",
    "                                dropout=self.hparams['tt_mlp_dropout'],                \n",
    "                                kernel_regularizer=regularizers.l2(self.hparams['tt_mlp_l2_reg']),\n",
    "                                bias_regularizer=regularizers.l2(self.hparams['tt_mlp_l2_reg']),\n",
    "                            ))\n",
    "        \n",
    "        candidate_schema = self.schema.select_by_tag(Tags.ITEM)\n",
    "        candidate_inputs = mm.InputBlockV2(candidate_schema,\n",
    "                                   categorical=mm.Embeddings(\n",
    "                                        candidate_schema.select_by_tag(Tags.CATEGORICAL),\n",
    "                                        l2_batch_regularization_factor=self.hparams['embeddings_l2_reg'],\n",
    "                                        infer_dim_fn=partial(\n",
    "                                            schema_utils.infer_embedding_dim,\n",
    "                                            multiplier=self.hparams['tt_infer_embedding_sizes_multiplier']\n",
    "                                        ),\n",
    "                                       sequence_combiner=\"mean\",\n",
    "                                    ),\n",
    "                                  )\n",
    "        candidate = mm.Encoder(candidate_inputs, \n",
    "                               mm.MLPBlock(\n",
    "                                    self.hparams['tt_mlp_layers'],\n",
    "                                    activation=self.hparams['tt_mlp_activation'],\n",
    "                                    no_activation_last_layer=True,    \n",
    "                                    dropout=self.hparams['tt_mlp_dropout'],                \n",
    "                                    kernel_regularizer=regularizers.l2(self.hparams['tt_mlp_l2_reg']),\n",
    "                                    bias_regularizer=regularizers.l2(self.hparams['tt_mlp_l2_reg']),\n",
    "                                ))\n",
    "\n",
    "        retrieval_output = self.get_retrieval_output()\n",
    "        model = mm.TwoTowerModelV2(query, candidate, outputs=retrieval_output)\n",
    "\n",
    "\n",
    "        return model"
   ]
  },
  {
   "cell_type": "markdown",
   "metadata": {},
   "source": [
    "Next cell builds a Two-Tower model. If you want to use the text lyrics pre-trained embeddings as an additional item feature, you can set `pretrained_embeddings=song_lyrics_embedding_matrix` as commented below"
   ]
  },
  {
   "cell_type": "code",
   "execution_count": 25,
   "metadata": {},
   "outputs": [],
   "source": [
    "tt_model = MyTwoTowerModel(\n",
    "    user_ids_mapping_df,\n",
    "    track_ids_mapping_df,\n",
    "    pretrained_embeddings=None,\n",
    "    # Uncomment this line if you want to use the track lyrics pre-trained embeddings to\n",
    "    # as a feature in the model\n",
    "    #pretrained_embeddings=song_lyrics_embedding_matrix \n",
    "    \n",
    "    # Training hparams\n",
    "    epochs=5,\n",
    "    train_batch_size=8192,\n",
    "    lr=1e-3,\n",
    "    lr_decay_steps=100,\n",
    "    lr_decay_rate=0.97,\n",
    "    label_smoothing=0.0,\n",
    "    \n",
    "    # Model hparams\n",
    "    logq_correction_factor=0.0,\n",
    "    embeddings_l2_reg=0.0,\n",
    "    logits_temperature=1.8,\n",
    "    tt_mlp_layers=[256,128],\n",
    "    tt_mlp_activation=\"relu\",\n",
    "    tt_mlp_dropout=0.3,\n",
    "    tt_mlp_l2_reg=5e-5,\n",
    "    tt_infer_embedding_sizes_multiplier=2.0\n",
    ")"
   ]
  },
  {
   "cell_type": "code",
   "execution_count": 26,
   "metadata": {},
   "outputs": [],
   "source": [
    "# TODO: Investigate why the multi-hot features are causing error on topk encoder export\n",
    "train_ds.schema = train_ds.schema.without([\"social_tags_value\", \"emotion_tags_value\"])"
   ]
  },
  {
   "cell_type": "code",
   "execution_count": 27,
   "metadata": {},
   "outputs": [
    {
     "name": "stdout",
     "output_type": "stream",
     "text": [
      "Building the model\n",
      "RetrievalModelV2(\n",
      "  (_should_compute_train_metrics_for_batch): <tf.Variable 'should_compute_train_metrics_for_batch:0' shape=() dtype=bool, numpy=True>\n",
      "  (blocks): _TupleWrapper((ParallelBlock(\n",
      "    (parallel_layers): Dict(\n",
      "      (query): Encoder(\n",
      "        (blocks): List(\n",
      "          (0): ParallelBlock(\n",
      "            (_aggregation): ConcatFeatures()\n",
      "            (parallel_layers): Dict(\n",
      "              (categorical): ParallelBlock(\n",
      "                (parallel_layers): Dict(\n",
      "                  (user_id): EmbeddingTable(\n",
      "                    (features): Dict(\n",
      "                      (user_id): ColumnSchema(name='user_id', tags={<Tags.CATEGORICAL: 'categorical'>, <Tags.USER: 'user'>, <Tags.ID: 'id'>}, properties={'num_buckets': None, 'freq_threshold': 0.0, 'max_size': 0.0, 'cat_path': '/data/evalrs_2023_dataset_preproc/categories/unique.user_id.parquet', 'embedding_sizes': {'cardinality': 29725.0, 'dimension': 512.0}, 'domain': {'min': 0, 'max': 29724, 'name': 'user_id'}}, dtype=DType(name='int64', element_type=<ElementType.Int: 'int'>, element_size=64, element_unit=None, signed=True, shape=Shape(dims=(Dimension(min=0, max=None),))), is_list=False, is_ragged=False)\n",
      "                    )\n",
      "                    (table): Embedding()\n",
      "                  )\n",
      "                  (country): EmbeddingTable(\n",
      "                    (features): Dict(\n",
      "                      (country): ColumnSchema(name='country', tags={<Tags.CATEGORICAL: 'categorical'>, <Tags.USER: 'user'>}, properties={'num_buckets': None, 'freq_threshold': 0.0, 'max_size': 0.0, 'cat_path': '/data/evalrs_2023_dataset_preproc/categories/unique.country.parquet', 'embedding_sizes': {'cardinality': 165.0, 'dimension': 28.0}, 'domain': {'min': 0, 'max': 164, 'name': 'country'}}, dtype=DType(name='int64', element_type=<ElementType.Int: 'int'>, element_size=64, element_unit=None, signed=True, shape=Shape(dims=(Dimension(min=0, max=None),))), is_list=False, is_ragged=False)\n",
      "                    )\n",
      "                    (table): Embedding()\n",
      "                  )\n",
      "                  (gender): EmbeddingTable(\n",
      "                    (features): Dict(\n",
      "                      (gender): ColumnSchema(name='gender', tags={<Tags.CATEGORICAL: 'categorical'>, <Tags.USER: 'user'>}, properties={'num_buckets': None, 'freq_threshold': 0.0, 'max_size': 0.0, 'cat_path': '/data/evalrs_2023_dataset_preproc/categories/unique.gender.parquet', 'embedding_sizes': {'cardinality': 6.0, 'dimension': 16.0}, 'domain': {'min': 0, 'max': 5, 'name': 'gender'}}, dtype=DType(name='int64', element_type=<ElementType.Int: 'int'>, element_size=64, element_unit=None, signed=True, shape=Shape(dims=(Dimension(min=0, max=None),))), is_list=False, is_ragged=False)\n",
      "                    )\n",
      "                    (table): Embedding()\n",
      "                  )\n",
      "                  (age): EmbeddingTable(\n",
      "                    (features): Dict(\n",
      "                      (age): ColumnSchema(name='age', tags={<Tags.CATEGORICAL: 'categorical'>, <Tags.USER: 'user'>}, properties={'num_buckets': None, 'freq_threshold': 0.0, 'max_size': 0.0, 'cat_path': '/data/evalrs_2023_dataset_preproc/categories/unique.age.parquet', 'embedding_sizes': {'cardinality': 24.0, 'dimension': 16.0}, 'domain': {'min': 0, 'max': 23, 'name': 'age'}}, dtype=DType(name='int64', element_type=<ElementType.Int: 'int'>, element_size=64, element_unit=None, signed=True, shape=Shape(dims=(Dimension(min=0, max=None),))), is_list=False, is_ragged=False)\n",
      "                    )\n",
      "                    (table): Embedding()\n",
      "                  )\n",
      "                )\n",
      "              )\n",
      "              (continuous): Continuous(\n",
      "                (feature_names): List(\n",
      "                  (0): 'novelty_artist_avg_month'\n",
      "                  (1): 'novelty_artist_avg_6months'\n",
      "                  (2): 'novelty_artist_avg_year'\n",
      "                  (3): 'mainstreaminess_avg_month'\n",
      "                  (4): 'mainstreaminess_avg_6months'\n",
      "                  (5): 'mainstreaminess_avg_year'\n",
      "                  (6): 'mainstreaminess_global'\n",
      "                  (7): 'relative_le_per_weekday1'\n",
      "                  (8): 'relative_le_per_weekday2'\n",
      "                  (9): 'relative_le_per_weekday3'\n",
      "                  (10): 'relative_le_per_weekday4'\n",
      "                  (11): 'relative_le_per_weekday5'\n",
      "                  (12): 'relative_le_per_weekday6'\n",
      "                  (13): 'relative_le_per_weekday7'\n",
      "                  (14): 'relative_le_per_hour0'\n",
      "                  (15): 'relative_le_per_hour1'\n",
      "                  (16): 'relative_le_per_hour2'\n",
      "                  (17): 'relative_le_per_hour3'\n",
      "                  (18): 'relative_le_per_hour4'\n",
      "                  (19): 'relative_le_per_hour5'\n",
      "                  (20): 'relative_le_per_hour6'\n",
      "                  (21): 'relative_le_per_hour7'\n",
      "                  (22): 'relative_le_per_hour8'\n",
      "                  (23): 'relative_le_per_hour9'\n",
      "                  (24): 'relative_le_per_hour10'\n",
      "                  (25): 'relative_le_per_hour11'\n",
      "                  (26): 'relative_le_per_hour12'\n",
      "                  (27): 'relative_le_per_hour13'\n",
      "                  (28): 'relative_le_per_hour14'\n",
      "                  (29): 'relative_le_per_hour15'\n",
      "                  (30): 'relative_le_per_hour16'\n",
      "                  (31): 'relative_le_per_hour17'\n",
      "                  (32): 'relative_le_per_hour18'\n",
      "                  (33): 'relative_le_per_hour19'\n",
      "                  (34): 'relative_le_per_hour20'\n",
      "                  (35): 'relative_le_per_hour21'\n",
      "                  (36): 'relative_le_per_hour22'\n",
      "                  (37): 'relative_le_per_hour23'\n",
      "                  (38): 'playcount'\n",
      "                  (39): 'cnt_listeningevents'\n",
      "                  (40): 'cnt_distinct_tracks'\n",
      "                  (41): 'cnt_distinct_artists'\n",
      "                  (42): 'cnt_listeningevents_per_week'\n",
      "                )\n",
      "              )\n",
      "            )\n",
      "          )\n",
      "          (1): MLPBlock(\n",
      "            (layers): List(\n",
      "              (0): _Dense(\n",
      "                (dense): Dense(256, activation=relu, use_bias=True)\n",
      "              )\n",
      "              (1): Dropout()\n",
      "              (2): _Dense(\n",
      "                (dense): Dense(128, activation=linear, use_bias=True)\n",
      "              )\n",
      "            )\n",
      "          )\n",
      "        )\n",
      "        (_prepare_features): PrepareFeatures(\n",
      "          (prepare_lists): PrepareListFeatures()\n",
      "        )\n",
      "      )\n",
      "      (candidate): Encoder(\n",
      "        (blocks): List(\n",
      "          (0): ParallelBlock(\n",
      "            (_aggregation): ConcatFeatures()\n",
      "            (parallel_layers): Dict(\n",
      "              (categorical): ParallelBlock(\n",
      "                (parallel_layers): Dict(\n",
      "                  (track_id): EmbeddingTable(\n",
      "                    (features): Dict(\n",
      "                      (track_id): ColumnSchema(name='track_id', tags={<Tags.ITEM: 'item'>, <Tags.CATEGORICAL: 'categorical'>, <Tags.ID: 'id'>}, properties={'num_buckets': None, 'freq_threshold': 0.0, 'max_size': 0.0, 'cat_path': '/data/evalrs_2023_dataset_preproc/categories/unique.track_id.parquet', 'embedding_sizes': {'cardinality': 228047.0, 'dimension': 512.0}, 'domain': {'min': 0, 'max': 228046, 'name': 'track_id'}}, dtype=DType(name='int64', element_type=<ElementType.Int: 'int'>, element_size=64, element_unit=None, signed=True, shape=Shape(dims=(Dimension(min=0, max=None),))), is_list=False, is_ragged=False)\n",
      "                    )\n",
      "                    (table): Embedding()\n",
      "                  )\n",
      "                  (artist_id): EmbeddingTable(\n",
      "                    (features): Dict(\n",
      "                      (artist_id): ColumnSchema(name='artist_id', tags={<Tags.ITEM: 'item'>, <Tags.CATEGORICAL: 'categorical'>}, properties={'num_buckets': None, 'freq_threshold': 0.0, 'max_size': 0.0, 'cat_path': '/data/evalrs_2023_dataset_preproc/categories/unique.artist_id.parquet', 'embedding_sizes': {'cardinality': 21562.0, 'dimension': 428.0}, 'domain': {'min': 0, 'max': 21561, 'name': 'artist_id'}}, dtype=DType(name='int64', element_type=<ElementType.Int: 'int'>, element_size=64, element_unit=None, signed=True, shape=Shape(dims=(Dimension(min=0, max=None),))), is_list=False, is_ragged=False)\n",
      "                    )\n",
      "                    (table): Embedding()\n",
      "                  )\n",
      "                  (album_id): EmbeddingTable(\n",
      "                    (features): Dict(\n",
      "                      (album_id): ColumnSchema(name='album_id', tags={<Tags.ITEM: 'item'>, <Tags.CATEGORICAL: 'categorical'>}, properties={'num_buckets': None, 'freq_threshold': 0.0, 'max_size': 0.0, 'cat_path': '/data/evalrs_2023_dataset_preproc/categories/unique.album_id.parquet', 'embedding_sizes': {'cardinality': 363222.0, 'dimension': 512.0}, 'domain': {'min': 0, 'max': 363221, 'name': 'album_id'}}, dtype=DType(name='int64', element_type=<ElementType.Int: 'int'>, element_size=64, element_unit=None, signed=True, shape=Shape(dims=(Dimension(min=0, max=None),))), is_list=False, is_ragged=False)\n",
      "                    )\n",
      "                    (table): Embedding()\n",
      "                  )\n",
      "                  (has_emotion_tags): EmbeddingTable(\n",
      "                    (features): Dict(\n",
      "                      (has_emotion_tags): ColumnSchema(name='has_emotion_tags', tags={<Tags.ITEM: 'item'>, <Tags.CATEGORICAL: 'categorical'>}, properties={'num_buckets': None, 'freq_threshold': 0.0, 'max_size': 0.0, 'cat_path': '/data/evalrs_2023_dataset_preproc/categories/unique.has_emotion_tags.parquet', 'embedding_sizes': {'cardinality': 5.0, 'dimension': 16.0}, 'domain': {'min': 0, 'max': 4, 'name': 'has_emotion_tags'}}, dtype=DType(name='int64', element_type=<ElementType.Int: 'int'>, element_size=64, element_unit=None, signed=True, shape=Shape(dims=(Dimension(min=0, max=None),))), is_list=False, is_ragged=False)\n",
      "                    )\n",
      "                    (table): Embedding()\n",
      "                  )\n",
      "                  (has_social_tags): EmbeddingTable(\n",
      "                    (features): Dict(\n",
      "                      (has_social_tags): ColumnSchema(name='has_social_tags', tags={<Tags.ITEM: 'item'>, <Tags.CATEGORICAL: 'categorical'>}, properties={'num_buckets': None, 'freq_threshold': 0.0, 'max_size': 0.0, 'cat_path': '/data/evalrs_2023_dataset_preproc/categories/unique.has_social_tags.parquet', 'embedding_sizes': {'cardinality': 5.0, 'dimension': 16.0}, 'domain': {'min': 0, 'max': 4, 'name': 'has_social_tags'}}, dtype=DType(name='int64', element_type=<ElementType.Int: 'int'>, element_size=64, element_unit=None, signed=True, shape=Shape(dims=(Dimension(min=0, max=None),))), is_list=False, is_ragged=False)\n",
      "                    )\n",
      "                    (table): Embedding()\n",
      "                  )\n",
      "                  (isClassic): EmbeddingTable(\n",
      "                    (features): Dict(\n",
      "                      (isClassic): ColumnSchema(name='isClassic', tags={<Tags.ITEM: 'item'>, <Tags.CATEGORICAL: 'categorical'>}, properties={'num_buckets': None, 'freq_threshold': 0.0, 'max_size': 0.0, 'cat_path': '/data/evalrs_2023_dataset_preproc/categories/unique.isClassic.parquet', 'embedding_sizes': {'cardinality': 5.0, 'dimension': 16.0}, 'domain': {'min': 0, 'max': 4, 'name': 'isClassic'}}, dtype=DType(name='int64', element_type=<ElementType.Int: 'int'>, element_size=64, element_unit=None, signed=True, shape=Shape(dims=(Dimension(min=0, max=None),))), is_list=False, is_ragged=False)\n",
      "                    )\n",
      "                    (table): Embedding()\n",
      "                  )\n",
      "                )\n",
      "              )\n",
      "              (continuous): Continuous(\n",
      "                (feature_names): List(\n",
      "                  (0): 'arousal_predicted'\n",
      "                  (1): 'valence_predicted'\n",
      "                )\n",
      "              )\n",
      "            )\n",
      "          )\n",
      "          (1): MLPBlock(\n",
      "            (layers): List(\n",
      "              (0): _Dense(\n",
      "                (dense): Dense(256, activation=relu, use_bias=True)\n",
      "              )\n",
      "              (1): Dropout()\n",
      "              (2): _Dense(\n",
      "                (dense): Dense(128, activation=linear, use_bias=True)\n",
      "              )\n",
      "            )\n",
      "          )\n",
      "        )\n",
      "        (_prepare_features): PrepareFeatures(\n",
      "          (prepare_lists): PrepareListFeatures()\n",
      "        )\n",
      "      )\n",
      "    )\n",
      "  ), ContrastiveOutput(\n",
      "    (negative_samplers): List(\n",
      "      (0): InBatchSamplerV2()\n",
      "    )\n",
      "    (to_call): DotProduct()\n",
      "    (logits_scaler): LogitsTemperatureScaler()\n",
      "  )))\n",
      "  (context): ModelContext()\n",
      "  (_prepare_features): PrepareFeatures(\n",
      "    (prepare_lists): PrepareListFeatures()\n",
      "  )\n",
      "  (_encoder): ParallelBlock(\n",
      "    (parallel_layers): Dict(\n",
      "      (query): Encoder(\n",
      "        (blocks): List(\n",
      "          (0): ParallelBlock(\n",
      "            (_aggregation): ConcatFeatures()\n",
      "            (parallel_layers): Dict(\n",
      "              (categorical): ParallelBlock(\n",
      "                (parallel_layers): Dict(\n",
      "                  (user_id): EmbeddingTable(\n",
      "                    (features): Dict(\n",
      "                      (user_id): ColumnSchema(name='user_id', tags={<Tags.CATEGORICAL: 'categorical'>, <Tags.USER: 'user'>, <Tags.ID: 'id'>}, properties={'num_buckets': None, 'freq_threshold': 0.0, 'max_size': 0.0, 'cat_path': '/data/evalrs_2023_dataset_preproc/categories/unique.user_id.parquet', 'embedding_sizes': {'cardinality': 29725.0, 'dimension': 512.0}, 'domain': {'min': 0, 'max': 29724, 'name': 'user_id'}}, dtype=DType(name='int64', element_type=<ElementType.Int: 'int'>, element_size=64, element_unit=None, signed=True, shape=Shape(dims=(Dimension(min=0, max=None),))), is_list=False, is_ragged=False)\n",
      "                    )\n",
      "                    (table): Embedding()\n",
      "                  )\n",
      "                  (country): EmbeddingTable(\n",
      "                    (features): Dict(\n",
      "                      (country): ColumnSchema(name='country', tags={<Tags.CATEGORICAL: 'categorical'>, <Tags.USER: 'user'>}, properties={'num_buckets': None, 'freq_threshold': 0.0, 'max_size': 0.0, 'cat_path': '/data/evalrs_2023_dataset_preproc/categories/unique.country.parquet', 'embedding_sizes': {'cardinality': 165.0, 'dimension': 28.0}, 'domain': {'min': 0, 'max': 164, 'name': 'country'}}, dtype=DType(name='int64', element_type=<ElementType.Int: 'int'>, element_size=64, element_unit=None, signed=True, shape=Shape(dims=(Dimension(min=0, max=None),))), is_list=False, is_ragged=False)\n",
      "                    )\n",
      "                    (table): Embedding()\n",
      "                  )\n",
      "                  (gender): EmbeddingTable(\n",
      "                    (features): Dict(\n",
      "                      (gender): ColumnSchema(name='gender', tags={<Tags.CATEGORICAL: 'categorical'>, <Tags.USER: 'user'>}, properties={'num_buckets': None, 'freq_threshold': 0.0, 'max_size': 0.0, 'cat_path': '/data/evalrs_2023_dataset_preproc/categories/unique.gender.parquet', 'embedding_sizes': {'cardinality': 6.0, 'dimension': 16.0}, 'domain': {'min': 0, 'max': 5, 'name': 'gender'}}, dtype=DType(name='int64', element_type=<ElementType.Int: 'int'>, element_size=64, element_unit=None, signed=True, shape=Shape(dims=(Dimension(min=0, max=None),))), is_list=False, is_ragged=False)\n",
      "                    )\n",
      "                    (table): Embedding()\n",
      "                  )\n",
      "                  (age): EmbeddingTable(\n",
      "                    (features): Dict(\n",
      "                      (age): ColumnSchema(name='age', tags={<Tags.CATEGORICAL: 'categorical'>, <Tags.USER: 'user'>}, properties={'num_buckets': None, 'freq_threshold': 0.0, 'max_size': 0.0, 'cat_path': '/data/evalrs_2023_dataset_preproc/categories/unique.age.parquet', 'embedding_sizes': {'cardinality': 24.0, 'dimension': 16.0}, 'domain': {'min': 0, 'max': 23, 'name': 'age'}}, dtype=DType(name='int64', element_type=<ElementType.Int: 'int'>, element_size=64, element_unit=None, signed=True, shape=Shape(dims=(Dimension(min=0, max=None),))), is_list=False, is_ragged=False)\n",
      "                    )\n",
      "                    (table): Embedding()\n",
      "                  )\n",
      "                )\n",
      "              )\n",
      "              (continuous): Continuous(\n",
      "                (feature_names): List(\n",
      "                  (0): 'novelty_artist_avg_month'\n",
      "                  (1): 'novelty_artist_avg_6months'\n",
      "                  (2): 'novelty_artist_avg_year'\n",
      "                  (3): 'mainstreaminess_avg_month'\n",
      "                  (4): 'mainstreaminess_avg_6months'\n",
      "                  (5): 'mainstreaminess_avg_year'\n",
      "                  (6): 'mainstreaminess_global'\n",
      "                  (7): 'relative_le_per_weekday1'\n",
      "                  (8): 'relative_le_per_weekday2'\n",
      "                  (9): 'relative_le_per_weekday3'\n",
      "                  (10): 'relative_le_per_weekday4'\n",
      "                  (11): 'relative_le_per_weekday5'\n",
      "                  (12): 'relative_le_per_weekday6'\n",
      "                  (13): 'relative_le_per_weekday7'\n",
      "                  (14): 'relative_le_per_hour0'\n",
      "                  (15): 'relative_le_per_hour1'\n",
      "                  (16): 'relative_le_per_hour2'\n",
      "                  (17): 'relative_le_per_hour3'\n",
      "                  (18): 'relative_le_per_hour4'\n",
      "                  (19): 'relative_le_per_hour5'\n",
      "                  (20): 'relative_le_per_hour6'\n",
      "                  (21): 'relative_le_per_hour7'\n",
      "                  (22): 'relative_le_per_hour8'\n",
      "                  (23): 'relative_le_per_hour9'\n",
      "                  (24): 'relative_le_per_hour10'\n",
      "                  (25): 'relative_le_per_hour11'\n",
      "                  (26): 'relative_le_per_hour12'\n",
      "                  (27): 'relative_le_per_hour13'\n",
      "                  (28): 'relative_le_per_hour14'\n",
      "                  (29): 'relative_le_per_hour15'\n",
      "                  (30): 'relative_le_per_hour16'\n",
      "                  (31): 'relative_le_per_hour17'\n",
      "                  (32): 'relative_le_per_hour18'\n",
      "                  (33): 'relative_le_per_hour19'\n",
      "                  (34): 'relative_le_per_hour20'\n",
      "                  (35): 'relative_le_per_hour21'\n",
      "                  (36): 'relative_le_per_hour22'\n",
      "                  (37): 'relative_le_per_hour23'\n",
      "                  (38): 'playcount'\n",
      "                  (39): 'cnt_listeningevents'\n",
      "                  (40): 'cnt_distinct_tracks'\n",
      "                  (41): 'cnt_distinct_artists'\n",
      "                  (42): 'cnt_listeningevents_per_week'\n",
      "                )\n",
      "              )\n",
      "            )\n",
      "          )\n",
      "          (1): MLPBlock(\n",
      "            (layers): List(\n",
      "              (0): _Dense(\n",
      "                (dense): Dense(256, activation=relu, use_bias=True)\n",
      "              )\n",
      "              (1): Dropout()\n",
      "              (2): _Dense(\n",
      "                (dense): Dense(128, activation=linear, use_bias=True)\n",
      "              )\n",
      "            )\n",
      "          )\n",
      "        )\n",
      "        (_prepare_features): PrepareFeatures(\n",
      "          (prepare_lists): PrepareListFeatures()\n",
      "        )\n",
      "      )\n",
      "      (candidate): Encoder(\n",
      "        (blocks): List(\n",
      "          (0): ParallelBlock(\n",
      "            (_aggregation): ConcatFeatures()\n",
      "            (parallel_layers): Dict(\n",
      "              (categorical): ParallelBlock(\n",
      "                (parallel_layers): Dict(\n",
      "                  (track_id): EmbeddingTable(\n",
      "                    (features): Dict(\n",
      "                      (track_id): ColumnSchema(name='track_id', tags={<Tags.ITEM: 'item'>, <Tags.CATEGORICAL: 'categorical'>, <Tags.ID: 'id'>}, properties={'num_buckets': None, 'freq_threshold': 0.0, 'max_size': 0.0, 'cat_path': '/data/evalrs_2023_dataset_preproc/categories/unique.track_id.parquet', 'embedding_sizes': {'cardinality': 228047.0, 'dimension': 512.0}, 'domain': {'min': 0, 'max': 228046, 'name': 'track_id'}}, dtype=DType(name='int64', element_type=<ElementType.Int: 'int'>, element_size=64, element_unit=None, signed=True, shape=Shape(dims=(Dimension(min=0, max=None),))), is_list=False, is_ragged=False)\n",
      "                    )\n",
      "                    (table): Embedding()\n",
      "                  )\n",
      "                  (artist_id): EmbeddingTable(\n",
      "                    (features): Dict(\n",
      "                      (artist_id): ColumnSchema(name='artist_id', tags={<Tags.ITEM: 'item'>, <Tags.CATEGORICAL: 'categorical'>}, properties={'num_buckets': None, 'freq_threshold': 0.0, 'max_size': 0.0, 'cat_path': '/data/evalrs_2023_dataset_preproc/categories/unique.artist_id.parquet', 'embedding_sizes': {'cardinality': 21562.0, 'dimension': 428.0}, 'domain': {'min': 0, 'max': 21561, 'name': 'artist_id'}}, dtype=DType(name='int64', element_type=<ElementType.Int: 'int'>, element_size=64, element_unit=None, signed=True, shape=Shape(dims=(Dimension(min=0, max=None),))), is_list=False, is_ragged=False)\n",
      "                    )\n",
      "                    (table): Embedding()\n",
      "                  )\n",
      "                  (album_id): EmbeddingTable(\n",
      "                    (features): Dict(\n",
      "                      (album_id): ColumnSchema(name='album_id', tags={<Tags.ITEM: 'item'>, <Tags.CATEGORICAL: 'categorical'>}, properties={'num_buckets': None, 'freq_threshold': 0.0, 'max_size': 0.0, 'cat_path': '/data/evalrs_2023_dataset_preproc/categories/unique.album_id.parquet', 'embedding_sizes': {'cardinality': 363222.0, 'dimension': 512.0}, 'domain': {'min': 0, 'max': 363221, 'name': 'album_id'}}, dtype=DType(name='int64', element_type=<ElementType.Int: 'int'>, element_size=64, element_unit=None, signed=True, shape=Shape(dims=(Dimension(min=0, max=None),))), is_list=False, is_ragged=False)\n",
      "                    )\n",
      "                    (table): Embedding()\n",
      "                  )\n",
      "                  (has_emotion_tags): EmbeddingTable(\n",
      "                    (features): Dict(\n",
      "                      (has_emotion_tags): ColumnSchema(name='has_emotion_tags', tags={<Tags.ITEM: 'item'>, <Tags.CATEGORICAL: 'categorical'>}, properties={'num_buckets': None, 'freq_threshold': 0.0, 'max_size': 0.0, 'cat_path': '/data/evalrs_2023_dataset_preproc/categories/unique.has_emotion_tags.parquet', 'embedding_sizes': {'cardinality': 5.0, 'dimension': 16.0}, 'domain': {'min': 0, 'max': 4, 'name': 'has_emotion_tags'}}, dtype=DType(name='int64', element_type=<ElementType.Int: 'int'>, element_size=64, element_unit=None, signed=True, shape=Shape(dims=(Dimension(min=0, max=None),))), is_list=False, is_ragged=False)\n",
      "                    )\n",
      "                    (table): Embedding()\n",
      "                  )\n",
      "                  (has_social_tags): EmbeddingTable(\n",
      "                    (features): Dict(\n",
      "                      (has_social_tags): ColumnSchema(name='has_social_tags', tags={<Tags.ITEM: 'item'>, <Tags.CATEGORICAL: 'categorical'>}, properties={'num_buckets': None, 'freq_threshold': 0.0, 'max_size': 0.0, 'cat_path': '/data/evalrs_2023_dataset_preproc/categories/unique.has_social_tags.parquet', 'embedding_sizes': {'cardinality': 5.0, 'dimension': 16.0}, 'domain': {'min': 0, 'max': 4, 'name': 'has_social_tags'}}, dtype=DType(name='int64', element_type=<ElementType.Int: 'int'>, element_size=64, element_unit=None, signed=True, shape=Shape(dims=(Dimension(min=0, max=None),))), is_list=False, is_ragged=False)\n",
      "                    )\n",
      "                    (table): Embedding()\n",
      "                  )\n",
      "                  (isClassic): EmbeddingTable(\n",
      "                    (features): Dict(\n",
      "                      (isClassic): ColumnSchema(name='isClassic', tags={<Tags.ITEM: 'item'>, <Tags.CATEGORICAL: 'categorical'>}, properties={'num_buckets': None, 'freq_threshold': 0.0, 'max_size': 0.0, 'cat_path': '/data/evalrs_2023_dataset_preproc/categories/unique.isClassic.parquet', 'embedding_sizes': {'cardinality': 5.0, 'dimension': 16.0}, 'domain': {'min': 0, 'max': 4, 'name': 'isClassic'}}, dtype=DType(name='int64', element_type=<ElementType.Int: 'int'>, element_size=64, element_unit=None, signed=True, shape=Shape(dims=(Dimension(min=0, max=None),))), is_list=False, is_ragged=False)\n",
      "                    )\n",
      "                    (table): Embedding()\n",
      "                  )\n",
      "                )\n",
      "              )\n",
      "              (continuous): Continuous(\n",
      "                (feature_names): List(\n",
      "                  (0): 'arousal_predicted'\n",
      "                  (1): 'valence_predicted'\n",
      "                )\n",
      "              )\n",
      "            )\n",
      "          )\n",
      "          (1): MLPBlock(\n",
      "            (layers): List(\n",
      "              (0): _Dense(\n",
      "                (dense): Dense(256, activation=relu, use_bias=True)\n",
      "              )\n",
      "              (1): Dropout()\n",
      "              (2): _Dense(\n",
      "                (dense): Dense(128, activation=linear, use_bias=True)\n",
      "              )\n",
      "            )\n",
      "          )\n",
      "        )\n",
      "        (_prepare_features): PrepareFeatures(\n",
      "          (prepare_lists): PrepareListFeatures()\n",
      "        )\n",
      "      )\n",
      "    )\n",
      "  )\n",
      "  (_output): ContrastiveOutput(\n",
      "    (negative_samplers): List(\n",
      "      (0): InBatchSamplerV2()\n",
      "    )\n",
      "    (to_call): DotProduct()\n",
      "    (logits_scaler): LogitsTemperatureScaler()\n",
      "  )\n",
      ")\n",
      "Start training\n"
     ]
    },
    {
     "name": "stdout",
     "output_type": "stream",
     "text": [
      "Epoch 1/5\n"
     ]
    },
    {
     "name": "stderr",
     "output_type": "stream",
     "text": [
      "2023-07-20 22:11:48.374014: I tensorflow/core/common_runtime/executor.cc:1209] [/device:CPU:0] (DEBUG INFO) Executor start aborting (this does not indicate an error and you can ignore this message): INVALID_ARGUMENT: You must feed a value for placeholder tensor 'Placeholder/_0' with dtype int32\n",
      "\t [[{{node Placeholder/_0}}]]\n",
      "2023-07-20 22:11:56.966254: I tensorflow/compiler/xla/service/service.cc:169] XLA service 0xf85dbfd0 initialized for platform CUDA (this does not guarantee that XLA will be used). Devices:\n",
      "2023-07-20 22:11:56.966314: I tensorflow/compiler/xla/service/service.cc:177]   StreamExecutor device (0): Quadro GV100, Compute Capability 7.0\n",
      "2023-07-20 22:11:56.966329: I tensorflow/compiler/xla/service/service.cc:177]   StreamExecutor device (1): Quadro GV100, Compute Capability 7.0\n",
      "2023-07-20 22:11:56.974675: I tensorflow/compiler/mlir/tensorflow/utils/dump_mlir_util.cc:269] disabling MLIR crash reproducer, set env var `MLIR_CRASH_REPRODUCER_DIRECTORY` to enable.\n",
      "2023-07-20 22:11:57.390886: I tensorflow/compiler/xla/stream_executor/cuda/cuda_dnn.cc:424] Loaded cuDNN version 8900\n",
      "2023-07-20 22:11:57.521948: I ./tensorflow/compiler/jit/device_compiler.h:180] Compiled cluster using XLA!  This line is logged at most once for the lifetime of the process.\n"
     ]
    },
    {
     "name": "stdout",
     "output_type": "stream",
     "text": [
      "839/839 [==============================] - 165s 183ms/step - loss: 7.7546 - recall_at_20: 0.0322 - mrr_at_20: 0.0069 - regularization_loss: 0.0382 - loss_batch: 7.7541\n",
      "Epoch 2/5\n",
      "839/839 [==============================] - 55s 64ms/step - loss: 6.8912 - recall_at_20: 0.1583 - mrr_at_20: 0.0443 - regularization_loss: 0.0449 - loss_batch: 6.8912\n",
      "Epoch 3/5\n",
      "839/839 [==============================] - 50s 59ms/step - loss: 6.6520 - recall_at_20: 0.2065 - mrr_at_20: 0.0663 - regularization_loss: 0.0467 - loss_batch: 6.6515\n",
      "Epoch 4/5\n",
      "839/839 [==============================] - 47s 55ms/step - loss: 6.4371 - recall_at_20: 0.2463 - mrr_at_20: 0.0863 - regularization_loss: 0.0520 - loss_batch: 6.4366\n",
      "Epoch 5/5\n",
      "839/839 [==============================] - 46s 54ms/step - loss: 6.2872 - recall_at_20: 0.2754 - mrr_at_20: 0.1033 - regularization_loss: 0.0556 - loss_batch: 6.2867\n",
      "Preparing retrieval model for prediction\n"
     ]
    },
    {
     "name": "stderr",
     "output_type": "stream",
     "text": [
      "/usr/local/lib/python3.8/dist-packages/merlin/dataloader/loader_base.py:591: UserWarning: This `schema` property is deprecated and will be removed in a future version. Please use either the `input_schema` or `output_schema` property instead.\n",
      "  warnings.warn(\n",
      "WARNING:absl:Function `_wrapped_model` contains input name(s) isClassic with unsupported characters which will be renamed to isclassic in the SavedModel.\n",
      "WARNING:absl:Found untraced functions such as prepare_list_features_1_layer_call_fn, prepare_list_features_1_layer_call_and_return_conditional_losses, model_context_layer_call_fn, model_context_layer_call_and_return_conditional_losses, concat_features_1_layer_call_fn while saving (showing 5 of 44). These functions will not be directly callable after loading.\n"
     ]
    },
    {
     "name": "stdout",
     "output_type": "stream",
     "text": [
      "INFO:tensorflow:Assets written to: /tmp/tmpea9cqpe3/assets\n"
     ]
    },
    {
     "name": "stderr",
     "output_type": "stream",
     "text": [
      "INFO:tensorflow:Assets written to: /tmp/tmpea9cqpe3/assets\n"
     ]
    },
    {
     "name": "stdout",
     "output_type": "stream",
     "text": [
      "WARNING:tensorflow:No training configuration found in save file, so the model was *not* compiled. Compile it manually.\n"
     ]
    },
    {
     "name": "stderr",
     "output_type": "stream",
     "text": [
      "WARNING:tensorflow:No training configuration found in save file, so the model was *not* compiled. Compile it manually.\n"
     ]
    },
    {
     "name": "stdout",
     "output_type": "stream",
     "text": [
      "WARNING:tensorflow:No training configuration found in save file, so the model was *not* compiled. Compile it manually.\n"
     ]
    },
    {
     "name": "stderr",
     "output_type": "stream",
     "text": [
      "WARNING:tensorflow:No training configuration found in save file, so the model was *not* compiled. Compile it manually.\n"
     ]
    },
    {
     "name": "stdout",
     "output_type": "stream",
     "text": [
      "Caching users transformed features\n",
      "Training completed!\n",
      "CPU times: user 10min 4s, sys: 45 s, total: 10min 49s\n",
      "Wall time: 8min 38s\n"
     ]
    }
   ],
   "source": [
    "%%time\n",
    "tt_model.train(train_ds)"
   ]
  },
  {
   "cell_type": "code",
   "execution_count": 30,
   "metadata": {},
   "outputs": [
    {
     "name": "stdout",
     "output_type": "stream",
     "text": [
      "Start prediction\n",
      "# users: 29722\n",
      "Predicting Top-100 items for test users\n"
     ]
    },
    {
     "name": "stderr",
     "output_type": "stream",
     "text": [
      "2023-07-20 22:24:22.038666: I tensorflow/core/common_runtime/executor.cc:1209] [/device:CPU:0] (DEBUG INFO) Executor start aborting (this does not indicate an error and you can ignore this message): INVALID_ARGUMENT: You must feed a value for placeholder tensor 'Placeholder/_0' with dtype int32\n",
      "\t [[{{node Placeholder/_0}}]]\n"
     ]
    },
    {
     "name": "stdout",
     "output_type": "stream",
     "text": [
      "Converting user ids and predicted item ids to the original ids\n",
      "Finish prediction\n",
      "CPU times: user 3.2 s, sys: 161 ms, total: 3.36 s\n",
      "Wall time: 2.75 s\n"
     ]
    },
    {
     "data": {
      "text/html": [
       "<div>\n",
       "<style scoped>\n",
       "    .dataframe tbody tr th:only-of-type {\n",
       "        vertical-align: middle;\n",
       "    }\n",
       "\n",
       "    .dataframe tbody tr th {\n",
       "        vertical-align: top;\n",
       "    }\n",
       "\n",
       "    .dataframe thead th {\n",
       "        text-align: right;\n",
       "    }\n",
       "</style>\n",
       "<table border=\"1\" class=\"dataframe\">\n",
       "  <thead>\n",
       "    <tr style=\"text-align: right;\">\n",
       "      <th></th>\n",
       "      <th>0</th>\n",
       "      <th>1</th>\n",
       "      <th>2</th>\n",
       "      <th>3</th>\n",
       "      <th>4</th>\n",
       "      <th>5</th>\n",
       "      <th>6</th>\n",
       "      <th>7</th>\n",
       "      <th>8</th>\n",
       "      <th>9</th>\n",
       "      <th>...</th>\n",
       "      <th>90</th>\n",
       "      <th>91</th>\n",
       "      <th>92</th>\n",
       "      <th>93</th>\n",
       "      <th>94</th>\n",
       "      <th>95</th>\n",
       "      <th>96</th>\n",
       "      <th>97</th>\n",
       "      <th>98</th>\n",
       "      <th>99</th>\n",
       "    </tr>\n",
       "    <tr>\n",
       "      <th>user_id</th>\n",
       "      <th></th>\n",
       "      <th></th>\n",
       "      <th></th>\n",
       "      <th></th>\n",
       "      <th></th>\n",
       "      <th></th>\n",
       "      <th></th>\n",
       "      <th></th>\n",
       "      <th></th>\n",
       "      <th></th>\n",
       "      <th></th>\n",
       "      <th></th>\n",
       "      <th></th>\n",
       "      <th></th>\n",
       "      <th></th>\n",
       "      <th></th>\n",
       "      <th></th>\n",
       "      <th></th>\n",
       "      <th></th>\n",
       "      <th></th>\n",
       "      <th></th>\n",
       "    </tr>\n",
       "  </thead>\n",
       "  <tbody>\n",
       "    <tr>\n",
       "      <th>50967444</th>\n",
       "      <td>19353</td>\n",
       "      <td>29449681</td>\n",
       "      <td>19315</td>\n",
       "      <td>29448716</td>\n",
       "      <td>18097518</td>\n",
       "      <td>19310</td>\n",
       "      <td>29556738</td>\n",
       "      <td>269896</td>\n",
       "      <td>187427</td>\n",
       "      <td>258823</td>\n",
       "      <td>...</td>\n",
       "      <td>1341742</td>\n",
       "      <td>27921844</td>\n",
       "      <td>161977</td>\n",
       "      <td>11192</td>\n",
       "      <td>194420</td>\n",
       "      <td>281041</td>\n",
       "      <td>19697265</td>\n",
       "      <td>67583</td>\n",
       "      <td>20166814</td>\n",
       "      <td>155979</td>\n",
       "    </tr>\n",
       "    <tr>\n",
       "      <th>50900118</th>\n",
       "      <td>19726075</td>\n",
       "      <td>19726076</td>\n",
       "      <td>19170202</td>\n",
       "      <td>12672683</td>\n",
       "      <td>19959795</td>\n",
       "      <td>18268416</td>\n",
       "      <td>779986</td>\n",
       "      <td>29477191</td>\n",
       "      <td>181116</td>\n",
       "      <td>181115</td>\n",
       "      <td>...</td>\n",
       "      <td>66216</td>\n",
       "      <td>506427</td>\n",
       "      <td>69880</td>\n",
       "      <td>171194</td>\n",
       "      <td>4114</td>\n",
       "      <td>404598</td>\n",
       "      <td>189577</td>\n",
       "      <td>1091787</td>\n",
       "      <td>1635733</td>\n",
       "      <td>904855</td>\n",
       "    </tr>\n",
       "    <tr>\n",
       "      <th>50086315</th>\n",
       "      <td>3051084</td>\n",
       "      <td>607534</td>\n",
       "      <td>727747</td>\n",
       "      <td>295084</td>\n",
       "      <td>761763</td>\n",
       "      <td>4521923</td>\n",
       "      <td>382252</td>\n",
       "      <td>416085</td>\n",
       "      <td>12590202</td>\n",
       "      <td>786290</td>\n",
       "      <td>...</td>\n",
       "      <td>191446</td>\n",
       "      <td>997156</td>\n",
       "      <td>34185</td>\n",
       "      <td>1383529</td>\n",
       "      <td>16466650</td>\n",
       "      <td>1918514</td>\n",
       "      <td>490311</td>\n",
       "      <td>1677556</td>\n",
       "      <td>16157221</td>\n",
       "      <td>490332</td>\n",
       "    </tr>\n",
       "    <tr>\n",
       "      <th>50085736</th>\n",
       "      <td>192361</td>\n",
       "      <td>7961917</td>\n",
       "      <td>102659</td>\n",
       "      <td>1198082</td>\n",
       "      <td>667562</td>\n",
       "      <td>115436</td>\n",
       "      <td>102648</td>\n",
       "      <td>28528</td>\n",
       "      <td>102642</td>\n",
       "      <td>17354660</td>\n",
       "      <td>...</td>\n",
       "      <td>696329</td>\n",
       "      <td>328277</td>\n",
       "      <td>693857</td>\n",
       "      <td>4570419</td>\n",
       "      <td>1194923</td>\n",
       "      <td>207254</td>\n",
       "      <td>1060981</td>\n",
       "      <td>1245272</td>\n",
       "      <td>1470749</td>\n",
       "      <td>152143</td>\n",
       "    </tr>\n",
       "    <tr>\n",
       "      <th>50083088</th>\n",
       "      <td>143181</td>\n",
       "      <td>92572</td>\n",
       "      <td>97417</td>\n",
       "      <td>143583</td>\n",
       "      <td>92578</td>\n",
       "      <td>139711</td>\n",
       "      <td>143584</td>\n",
       "      <td>143621</td>\n",
       "      <td>1489468</td>\n",
       "      <td>142443</td>\n",
       "      <td>...</td>\n",
       "      <td>357526</td>\n",
       "      <td>1224022</td>\n",
       "      <td>95978</td>\n",
       "      <td>197651</td>\n",
       "      <td>647100</td>\n",
       "      <td>2400531</td>\n",
       "      <td>313462</td>\n",
       "      <td>2550908</td>\n",
       "      <td>648596</td>\n",
       "      <td>336709</td>\n",
       "    </tr>\n",
       "    <tr>\n",
       "      <th>...</th>\n",
       "      <td>...</td>\n",
       "      <td>...</td>\n",
       "      <td>...</td>\n",
       "      <td>...</td>\n",
       "      <td>...</td>\n",
       "      <td>...</td>\n",
       "      <td>...</td>\n",
       "      <td>...</td>\n",
       "      <td>...</td>\n",
       "      <td>...</td>\n",
       "      <td>...</td>\n",
       "      <td>...</td>\n",
       "      <td>...</td>\n",
       "      <td>...</td>\n",
       "      <td>...</td>\n",
       "      <td>...</td>\n",
       "      <td>...</td>\n",
       "      <td>...</td>\n",
       "      <td>...</td>\n",
       "      <td>...</td>\n",
       "      <td>...</td>\n",
       "    </tr>\n",
       "    <tr>\n",
       "      <th>15067</th>\n",
       "      <td>9213567</td>\n",
       "      <td>2791808</td>\n",
       "      <td>22071896</td>\n",
       "      <td>6064264</td>\n",
       "      <td>26363267</td>\n",
       "      <td>1983319</td>\n",
       "      <td>1982993</td>\n",
       "      <td>8690872</td>\n",
       "      <td>1983320</td>\n",
       "      <td>6035416</td>\n",
       "      <td>...</td>\n",
       "      <td>1177529</td>\n",
       "      <td>1623522</td>\n",
       "      <td>7065529</td>\n",
       "      <td>23763079</td>\n",
       "      <td>16861293</td>\n",
       "      <td>8451623</td>\n",
       "      <td>877502</td>\n",
       "      <td>1082172</td>\n",
       "      <td>29461455</td>\n",
       "      <td>8451621</td>\n",
       "    </tr>\n",
       "    <tr>\n",
       "      <th>14308</th>\n",
       "      <td>506211</td>\n",
       "      <td>99681</td>\n",
       "      <td>254515</td>\n",
       "      <td>391821</td>\n",
       "      <td>326238</td>\n",
       "      <td>190992</td>\n",
       "      <td>501431</td>\n",
       "      <td>2509518</td>\n",
       "      <td>503516</td>\n",
       "      <td>538312</td>\n",
       "      <td>...</td>\n",
       "      <td>1044810</td>\n",
       "      <td>1414105</td>\n",
       "      <td>357577</td>\n",
       "      <td>1044809</td>\n",
       "      <td>1379438</td>\n",
       "      <td>30103</td>\n",
       "      <td>693944</td>\n",
       "      <td>169577</td>\n",
       "      <td>82474</td>\n",
       "      <td>183214</td>\n",
       "    </tr>\n",
       "    <tr>\n",
       "      <th>12619</th>\n",
       "      <td>122685</td>\n",
       "      <td>1489119</td>\n",
       "      <td>313661</td>\n",
       "      <td>2314801</td>\n",
       "      <td>134656</td>\n",
       "      <td>313639</td>\n",
       "      <td>121454</td>\n",
       "      <td>568131</td>\n",
       "      <td>134569</td>\n",
       "      <td>2339535</td>\n",
       "      <td>...</td>\n",
       "      <td>3138955</td>\n",
       "      <td>15012877</td>\n",
       "      <td>262026</td>\n",
       "      <td>24554488</td>\n",
       "      <td>1151659</td>\n",
       "      <td>220349</td>\n",
       "      <td>246478</td>\n",
       "      <td>3063166</td>\n",
       "      <td>26610157</td>\n",
       "      <td>958338</td>\n",
       "    </tr>\n",
       "    <tr>\n",
       "      <th>10879</th>\n",
       "      <td>3731</td>\n",
       "      <td>3031</td>\n",
       "      <td>872070</td>\n",
       "      <td>92030</td>\n",
       "      <td>12815</td>\n",
       "      <td>4464618</td>\n",
       "      <td>1470</td>\n",
       "      <td>443418</td>\n",
       "      <td>1224</td>\n",
       "      <td>4392747</td>\n",
       "      <td>...</td>\n",
       "      <td>482813</td>\n",
       "      <td>135607</td>\n",
       "      <td>25405</td>\n",
       "      <td>431880</td>\n",
       "      <td>4235</td>\n",
       "      <td>3607047</td>\n",
       "      <td>120573</td>\n",
       "      <td>11326053</td>\n",
       "      <td>151757</td>\n",
       "      <td>2860</td>\n",
       "    </tr>\n",
       "    <tr>\n",
       "      <th>384</th>\n",
       "      <td>314204</td>\n",
       "      <td>1152267</td>\n",
       "      <td>593672</td>\n",
       "      <td>177870</td>\n",
       "      <td>454774</td>\n",
       "      <td>450185</td>\n",
       "      <td>177871</td>\n",
       "      <td>430906</td>\n",
       "      <td>339144</td>\n",
       "      <td>404873</td>\n",
       "      <td>...</td>\n",
       "      <td>12123890</td>\n",
       "      <td>450228</td>\n",
       "      <td>230038</td>\n",
       "      <td>441842</td>\n",
       "      <td>123986</td>\n",
       "      <td>12546</td>\n",
       "      <td>786290</td>\n",
       "      <td>160969</td>\n",
       "      <td>115604</td>\n",
       "      <td>347255</td>\n",
       "    </tr>\n",
       "  </tbody>\n",
       "</table>\n",
       "<p>29722 rows × 100 columns</p>\n",
       "</div>"
      ],
      "text/plain": [
       "                 0         1         2         3         4         5  \\\n",
       "user_id                                                                \n",
       "50967444     19353  29449681     19315  29448716  18097518     19310   \n",
       "50900118  19726075  19726076  19170202  12672683  19959795  18268416   \n",
       "50086315   3051084    607534    727747    295084    761763   4521923   \n",
       "50085736    192361   7961917    102659   1198082    667562    115436   \n",
       "50083088    143181     92572     97417    143583     92578    139711   \n",
       "...            ...       ...       ...       ...       ...       ...   \n",
       "15067      9213567   2791808  22071896   6064264  26363267   1983319   \n",
       "14308       506211     99681    254515    391821    326238    190992   \n",
       "12619       122685   1489119    313661   2314801    134656    313639   \n",
       "10879         3731      3031    872070     92030     12815   4464618   \n",
       "384         314204   1152267    593672    177870    454774    450185   \n",
       "\n",
       "                 6         7         8         9  ...        90        91  \\\n",
       "user_id                                           ...                       \n",
       "50967444  29556738    269896    187427    258823  ...   1341742  27921844   \n",
       "50900118    779986  29477191    181116    181115  ...     66216    506427   \n",
       "50086315    382252    416085  12590202    786290  ...    191446    997156   \n",
       "50085736    102648     28528    102642  17354660  ...    696329    328277   \n",
       "50083088    143584    143621   1489468    142443  ...    357526   1224022   \n",
       "...            ...       ...       ...       ...  ...       ...       ...   \n",
       "15067      1982993   8690872   1983320   6035416  ...   1177529   1623522   \n",
       "14308       501431   2509518    503516    538312  ...   1044810   1414105   \n",
       "12619       121454    568131    134569   2339535  ...   3138955  15012877   \n",
       "10879         1470    443418      1224   4392747  ...    482813    135607   \n",
       "384         177871    430906    339144    404873  ...  12123890    450228   \n",
       "\n",
       "               92        93        94       95        96        97        98  \\\n",
       "user_id                                                                        \n",
       "50967444   161977     11192    194420   281041  19697265     67583  20166814   \n",
       "50900118    69880    171194      4114   404598    189577   1091787   1635733   \n",
       "50086315    34185   1383529  16466650  1918514    490311   1677556  16157221   \n",
       "50085736   693857   4570419   1194923   207254   1060981   1245272   1470749   \n",
       "50083088    95978    197651    647100  2400531    313462   2550908    648596   \n",
       "...           ...       ...       ...      ...       ...       ...       ...   \n",
       "15067     7065529  23763079  16861293  8451623    877502   1082172  29461455   \n",
       "14308      357577   1044809   1379438    30103    693944    169577     82474   \n",
       "12619      262026  24554488   1151659   220349    246478   3063166  26610157   \n",
       "10879       25405    431880      4235  3607047    120573  11326053    151757   \n",
       "384        230038    441842    123986    12546    786290    160969    115604   \n",
       "\n",
       "               99  \n",
       "user_id            \n",
       "50967444   155979  \n",
       "50900118   904855  \n",
       "50086315   490332  \n",
       "50085736   152143  \n",
       "50083088   336709  \n",
       "...           ...  \n",
       "15067     8451621  \n",
       "14308      183214  \n",
       "12619      958338  \n",
       "10879        2860  \n",
       "384        347255  \n",
       "\n",
       "[29722 rows x 100 columns]"
      ]
     },
     "execution_count": 30,
     "metadata": {},
     "output_type": "execute_result"
    }
   ],
   "source": [
    "%%time\n",
    "tt_predictions_df = tt_model.predict(events_test_df[['user_id']])\n",
    "tt_predictions_df"
   ]
  },
  {
   "cell_type": "code",
   "execution_count": 31,
   "metadata": {},
   "outputs": [
    {
     "data": {
      "text/plain": [
       "0.023652513289818988"
      ]
     },
     "execution_count": 31,
     "metadata": {},
     "output_type": "execute_result"
    }
   ],
   "source": [
    "compute_recall(tt_predictions_df)"
   ]
  },
  {
   "cell_type": "code",
   "execution_count": 32,
   "metadata": {},
   "outputs": [],
   "source": [
    "export_preds(tt_predictions_df, \"tt_test_preds.parquet\")"
   ]
  },
  {
   "cell_type": "code",
   "execution_count": 33,
   "metadata": {},
   "outputs": [
    {
     "data": {
      "text/html": [
       "<pre style=\"white-space:pre;overflow-x:auto;line-height:normal;font-family:Menlo,'DejaVu Sans Mono',consolas,'Courier New',monospace\">/usr/local/lib/python3.8/dist-packages/rich/live.py:231: UserWarning: install \"ipywidgets\" for Jupyter support\n",
       "  warnings.warn('install \"ipywidgets\" for Jupyter support')\n",
       "</pre>\n"
      ],
      "text/plain": [
       "/usr/local/lib/python3.8/dist-packages/rich/live.py:231: UserWarning: install \"ipywidgets\" for Jupyter support\n",
       "  warnings.warn('install \"ipywidgets\" for Jupyter support')\n"
      ]
     },
     "metadata": {},
     "output_type": "display_data"
    },
    {
     "data": {
      "text/html": [
       "<pre style=\"white-space:pre;overflow-x:auto;line-height:normal;font-family:Menlo,'DejaVu Sans Mono',consolas,'Courier New',monospace\"><span style=\"color: #800000; text-decoration-color: #800000; font-style: italic\">stats</span>:<span style=\"font-weight: bold\">{</span><span style=\"color: #008000; text-decoration-color: #008000\">'num_users'</span>: <span style=\"color: #008080; text-decoration-color: #008080; font-weight: bold\">29722</span>, <span style=\"color: #008000; text-decoration-color: #008000\">'max_items'</span>: <span style=\"color: #008080; text-decoration-color: #008080; font-weight: bold\">1</span>, <span style=\"color: #008000; text-decoration-color: #008000\">'min_items'</span>: <span style=\"color: #008080; text-decoration-color: #008080; font-weight: bold\">1</span><span style=\"font-weight: bold\">}</span>\n",
       "</pre>\n"
      ],
      "text/plain": [
       "\u001b[3;31mstats\u001b[0m:\u001b[1m{\u001b[0m\u001b[32m'num_users'\u001b[0m: \u001b[1;36m29722\u001b[0m, \u001b[32m'max_items'\u001b[0m: \u001b[1;36m1\u001b[0m, \u001b[32m'min_items'\u001b[0m: \u001b[1;36m1\u001b[0m\u001b[1m}\u001b[0m\n"
      ]
     },
     "metadata": {},
     "output_type": "display_data"
    },
    {
     "data": {
      "text/html": [
       "<pre style=\"white-space:pre;overflow-x:auto;line-height:normal;font-family:Menlo,'DejaVu Sans Mono',consolas,'Courier New',monospace\"><span style=\"color: #800000; text-decoration-color: #800000; font-style: italic\">HIT_RAT</span><span style=\"color: #800000; text-decoration-color: #800000; font-weight: bold; font-style: italic\">E</span><span style=\"color: #00ff00; text-decoration-color: #00ff00; font-weight: bold\">:0</span>.<span style=\"color: #008080; text-decoration-color: #008080; font-weight: bold\">023652513289818988</span>\n",
       "</pre>\n"
      ],
      "text/plain": [
       "\u001b[3;31mHIT_RAT\u001b[0m\u001b[1;3;31mE\u001b[0m\u001b[1;92m:0\u001b[0m.\u001b[1;36m023652513289818988\u001b[0m\n"
      ]
     },
     "metadata": {},
     "output_type": "display_data"
    },
    {
     "data": {
      "text/html": [
       "<pre style=\"white-space:pre;overflow-x:auto;line-height:normal;font-family:Menlo,'DejaVu Sans Mono',consolas,'Courier New',monospace\"><span style=\"color: #800000; text-decoration-color: #800000; font-style: italic\">MRR</span>:<span style=\"color: #008080; text-decoration-color: #008080; font-weight: bold\">0.0014208574538532306</span>\n",
       "</pre>\n"
      ],
      "text/plain": [
       "\u001b[3;31mMRR\u001b[0m:\u001b[1;36m0.0014208574538532306\u001b[0m\n"
      ]
     },
     "metadata": {},
     "output_type": "display_data"
    },
    {
     "data": {
      "text/html": [
       "<pre style=\"white-space:pre;overflow-x:auto;line-height:normal;font-family:Menlo,'DejaVu Sans Mono',consolas,'Courier New',monospace\"><span style=\"color: #800000; text-decoration-color: #800000; font-style: italic\">MRED_COUNTRY</span>:<span style=\"font-weight: bold\">{</span><span style=\"color: #008000; text-decoration-color: #008000\">'mred'</span>: <span style=\"color: #008080; text-decoration-color: #008080; font-weight: bold\">-0.00403522351231688</span>, <span style=\"color: #008000; text-decoration-color: #008000\">'mr'</span>: <span style=\"color: #008080; text-decoration-color: #008080; font-weight: bold\">0.9763977043821975</span>, <span style=\"color: #008000; text-decoration-color: #008000\">'BR'</span>: <span style=\"color: #008080; text-decoration-color: #008080; font-weight: bold\">0.9743589743589743</span>, <span style=\"color: #008000; text-decoration-color: #008000\">'CA'</span>: \n",
       "<span style=\"color: #008080; text-decoration-color: #008080; font-weight: bold\">0.9814814814814815</span>, <span style=\"color: #008000; text-decoration-color: #008000\">'DE'</span>: <span style=\"color: #008080; text-decoration-color: #008080; font-weight: bold\">0.9794091316025068</span>, <span style=\"color: #008000; text-decoration-color: #008000\">'ES'</span>: <span style=\"color: #008080; text-decoration-color: #008080; font-weight: bold\">0.975609756097561</span>, <span style=\"color: #008000; text-decoration-color: #008000\">'FI'</span>: <span style=\"color: #008080; text-decoration-color: #008080; font-weight: bold\">0.9746835443037974</span>, <span style=\"color: #008000; text-decoration-color: #008000\">'FR'</span>: \n",
       "<span style=\"color: #008080; text-decoration-color: #008080; font-weight: bold\">0.9734848484848485</span>, <span style=\"color: #008000; text-decoration-color: #008000\">'NL'</span>: <span style=\"color: #008080; text-decoration-color: #008080; font-weight: bold\">0.9836512261580381</span>, <span style=\"color: #008000; text-decoration-color: #008000\">'NaN'</span>: <span style=\"color: #008080; text-decoration-color: #008080; font-weight: bold\">0.9747145187601958</span>, <span style=\"color: #008000; text-decoration-color: #008000\">'PL'</span>: <span style=\"color: #008080; text-decoration-color: #008080; font-weight: bold\">0.9753199268738574</span>, <span style=\"color: #008000; text-decoration-color: #008000\">'RU'</span>: \n",
       "<span style=\"color: #008080; text-decoration-color: #008080; font-weight: bold\">0.9842271293375394</span>, <span style=\"color: #008000; text-decoration-color: #008000\">'SE'</span>: <span style=\"color: #008080; text-decoration-color: #008080; font-weight: bold\">0.9721254355400697</span>, <span style=\"color: #008000; text-decoration-color: #008000\">'UA'</span>: <span style=\"color: #008080; text-decoration-color: #008080; font-weight: bold\">0.99</span>, <span style=\"color: #008000; text-decoration-color: #008000\">'UK'</span>: <span style=\"color: #008080; text-decoration-color: #008080; font-weight: bold\">0.9777580071174378</span>, <span style=\"color: #008000; text-decoration-color: #008000\">'US'</span>: <span style=\"color: #008080; text-decoration-color: #008080; font-weight: bold\">0.9802631578947368</span><span style=\"font-weight: bold\">}</span>\n",
       "</pre>\n"
      ],
      "text/plain": [
       "\u001b[3;31mMRED_COUNTRY\u001b[0m:\u001b[1m{\u001b[0m\u001b[32m'mred'\u001b[0m: \u001b[1;36m-0.00403522351231688\u001b[0m, \u001b[32m'mr'\u001b[0m: \u001b[1;36m0.9763977043821975\u001b[0m, \u001b[32m'BR'\u001b[0m: \u001b[1;36m0.9743589743589743\u001b[0m, \u001b[32m'CA'\u001b[0m: \n",
       "\u001b[1;36m0.9814814814814815\u001b[0m, \u001b[32m'DE'\u001b[0m: \u001b[1;36m0.9794091316025068\u001b[0m, \u001b[32m'ES'\u001b[0m: \u001b[1;36m0.975609756097561\u001b[0m, \u001b[32m'FI'\u001b[0m: \u001b[1;36m0.9746835443037974\u001b[0m, \u001b[32m'FR'\u001b[0m: \n",
       "\u001b[1;36m0.9734848484848485\u001b[0m, \u001b[32m'NL'\u001b[0m: \u001b[1;36m0.9836512261580381\u001b[0m, \u001b[32m'NaN'\u001b[0m: \u001b[1;36m0.9747145187601958\u001b[0m, \u001b[32m'PL'\u001b[0m: \u001b[1;36m0.9753199268738574\u001b[0m, \u001b[32m'RU'\u001b[0m: \n",
       "\u001b[1;36m0.9842271293375394\u001b[0m, \u001b[32m'SE'\u001b[0m: \u001b[1;36m0.9721254355400697\u001b[0m, \u001b[32m'UA'\u001b[0m: \u001b[1;36m0.99\u001b[0m, \u001b[32m'UK'\u001b[0m: \u001b[1;36m0.9777580071174378\u001b[0m, \u001b[32m'US'\u001b[0m: \u001b[1;36m0.9802631578947368\u001b[0m\u001b[1m}\u001b[0m\n"
      ]
     },
     "metadata": {},
     "output_type": "display_data"
    },
    {
     "data": {
      "text/html": [
       "<pre style=\"white-space:pre;overflow-x:auto;line-height:normal;font-family:Menlo,'DejaVu Sans Mono',consolas,'Courier New',monospace\">/usr/local/lib/python3.8/dist-packages/rich/live.py:231: UserWarning: install \"ipywidgets\" for Jupyter support\n",
       "  warnings.warn('install \"ipywidgets\" for Jupyter support')\n",
       "</pre>\n"
      ],
      "text/plain": [
       "/usr/local/lib/python3.8/dist-packages/rich/live.py:231: UserWarning: install \"ipywidgets\" for Jupyter support\n",
       "  warnings.warn('install \"ipywidgets\" for Jupyter support')\n"
      ]
     },
     "metadata": {},
     "output_type": "display_data"
    },
    {
     "data": {
      "text/html": [
       "<pre style=\"white-space:pre;overflow-x:auto;line-height:normal;font-family:Menlo,'DejaVu Sans Mono',consolas,'Courier New',monospace\">/usr/local/lib/python3.8/dist-packages/rich/live.py:231: UserWarning: install \"ipywidgets\" for Jupyter support\n",
       "  warnings.warn('install \"ipywidgets\" for Jupyter support')\n",
       "</pre>\n"
      ],
      "text/plain": [
       "/usr/local/lib/python3.8/dist-packages/rich/live.py:231: UserWarning: install \"ipywidgets\" for Jupyter support\n",
       "  warnings.warn('install \"ipywidgets\" for Jupyter support')\n"
      ]
     },
     "metadata": {},
     "output_type": "display_data"
    },
    {
     "data": {
      "text/html": [
       "<pre style=\"white-space:pre;overflow-x:auto;line-height:normal;font-family:Menlo,'DejaVu Sans Mono',consolas,'Courier New',monospace\"><span style=\"color: #800000; text-decoration-color: #800000; font-style: italic\">MRED_USER_ACTIVITY</span>:<span style=\"font-weight: bold\">{</span><span style=\"color: #008000; text-decoration-color: #008000\">'mred'</span>: <span style=\"color: #008080; text-decoration-color: #008080; font-weight: bold\">-0.00961833398110227</span>, <span style=\"color: #008000; text-decoration-color: #008000\">'mr'</span>: <span style=\"color: #008080; text-decoration-color: #008080; font-weight: bold\">0.976347486710181</span>, <span style=\"color: #008080; text-decoration-color: #008080; font-weight: bold\">1</span>: <span style=\"color: #008080; text-decoration-color: #008080; font-weight: bold\">0.9507074395253309</span>, <span style=\"color: #008080; text-decoration-color: #008080; font-weight: bold\">100</span>: \n",
       "<span style=\"color: #008080; text-decoration-color: #008080; font-weight: bold\">0.9785775492716366</span>, <span style=\"color: #008080; text-decoration-color: #008080; font-weight: bold\">1000</span>: <span style=\"color: #008080; text-decoration-color: #008080; font-weight: bold\">0.977332378907182</span><span style=\"font-weight: bold\">}</span>\n",
       "</pre>\n"
      ],
      "text/plain": [
       "\u001b[3;31mMRED_USER_ACTIVITY\u001b[0m:\u001b[1m{\u001b[0m\u001b[32m'mred'\u001b[0m: \u001b[1;36m-0.00961833398110227\u001b[0m, \u001b[32m'mr'\u001b[0m: \u001b[1;36m0.976347486710181\u001b[0m, \u001b[1;36m1\u001b[0m: \u001b[1;36m0.9507074395253309\u001b[0m, \u001b[1;36m100\u001b[0m: \n",
       "\u001b[1;36m0.9785775492716366\u001b[0m, \u001b[1;36m1000\u001b[0m: \u001b[1;36m0.977332378907182\u001b[0m\u001b[1m}\u001b[0m\n"
      ]
     },
     "metadata": {},
     "output_type": "display_data"
    },
    {
     "data": {
      "text/html": [
       "<pre style=\"white-space:pre;overflow-x:auto;line-height:normal;font-family:Menlo,'DejaVu Sans Mono',consolas,'Courier New',monospace\">/usr/local/lib/python3.8/dist-packages/rich/live.py:231: UserWarning: install \"ipywidgets\" for Jupyter support\n",
       "  warnings.warn('install \"ipywidgets\" for Jupyter support')\n",
       "</pre>\n"
      ],
      "text/plain": [
       "/usr/local/lib/python3.8/dist-packages/rich/live.py:231: UserWarning: install \"ipywidgets\" for Jupyter support\n",
       "  warnings.warn('install \"ipywidgets\" for Jupyter support')\n"
      ]
     },
     "metadata": {},
     "output_type": "display_data"
    },
    {
     "data": {
      "text/html": [
       "<pre style=\"white-space:pre;overflow-x:auto;line-height:normal;font-family:Menlo,'DejaVu Sans Mono',consolas,'Courier New',monospace\">/usr/local/lib/python3.8/dist-packages/rich/live.py:231: UserWarning: install \"ipywidgets\" for Jupyter support\n",
       "  warnings.warn('install \"ipywidgets\" for Jupyter support')\n",
       "</pre>\n"
      ],
      "text/plain": [
       "/usr/local/lib/python3.8/dist-packages/rich/live.py:231: UserWarning: install \"ipywidgets\" for Jupyter support\n",
       "  warnings.warn('install \"ipywidgets\" for Jupyter support')\n"
      ]
     },
     "metadata": {},
     "output_type": "display_data"
    },
    {
     "data": {
      "text/html": [
       "<pre style=\"white-space:pre;overflow-x:auto;line-height:normal;font-family:Menlo,'DejaVu Sans Mono',consolas,'Courier New',monospace\"><span style=\"color: #800000; text-decoration-color: #800000; font-style: italic\">MRED_TRACK_POPULARITY</span>:<span style=\"font-weight: bold\">{</span><span style=\"color: #008000; text-decoration-color: #008000\">'mred'</span>: <span style=\"color: #008080; text-decoration-color: #008080; font-weight: bold\">-0.012224854749819297</span>, <span style=\"color: #008000; text-decoration-color: #008000\">'mr'</span>: <span style=\"color: #008080; text-decoration-color: #008080; font-weight: bold\">0.976347486710181</span>, <span style=\"color: #008080; text-decoration-color: #008080; font-weight: bold\">1</span>: <span style=\"color: #008080; text-decoration-color: #008080; font-weight: bold\">0.981651376146789</span>, <span style=\"color: #008080; text-decoration-color: #008080; font-weight: bold\">10</span>: \n",
       "<span style=\"color: #008080; text-decoration-color: #008080; font-weight: bold\">0.9657011271361047</span>, <span style=\"color: #008080; text-decoration-color: #008080; font-weight: bold\">100</span>: <span style=\"color: #008080; text-decoration-color: #008080; font-weight: bold\">0.9886363636363636</span>, <span style=\"color: #008080; text-decoration-color: #008080; font-weight: bold\">1000</span>: <span style=\"color: #008080; text-decoration-color: #008080; font-weight: bold\">0.9970077797725913</span><span style=\"font-weight: bold\">}</span>\n",
       "</pre>\n"
      ],
      "text/plain": [
       "\u001b[3;31mMRED_TRACK_POPULARITY\u001b[0m:\u001b[1m{\u001b[0m\u001b[32m'mred'\u001b[0m: \u001b[1;36m-0.012224854749819297\u001b[0m, \u001b[32m'mr'\u001b[0m: \u001b[1;36m0.976347486710181\u001b[0m, \u001b[1;36m1\u001b[0m: \u001b[1;36m0.981651376146789\u001b[0m, \u001b[1;36m10\u001b[0m: \n",
       "\u001b[1;36m0.9657011271361047\u001b[0m, \u001b[1;36m100\u001b[0m: \u001b[1;36m0.9886363636363636\u001b[0m, \u001b[1;36m1000\u001b[0m: \u001b[1;36m0.9970077797725913\u001b[0m\u001b[1m}\u001b[0m\n"
      ]
     },
     "metadata": {},
     "output_type": "display_data"
    },
    {
     "data": {
      "text/html": [
       "<pre style=\"white-space:pre;overflow-x:auto;line-height:normal;font-family:Menlo,'DejaVu Sans Mono',consolas,'Courier New',monospace\">/usr/local/lib/python3.8/dist-packages/rich/live.py:231: UserWarning: install \"ipywidgets\" for Jupyter support\n",
       "  warnings.warn('install \"ipywidgets\" for Jupyter support')\n",
       "</pre>\n"
      ],
      "text/plain": [
       "/usr/local/lib/python3.8/dist-packages/rich/live.py:231: UserWarning: install \"ipywidgets\" for Jupyter support\n",
       "  warnings.warn('install \"ipywidgets\" for Jupyter support')\n"
      ]
     },
     "metadata": {},
     "output_type": "display_data"
    },
    {
     "data": {
      "text/html": [
       "<pre style=\"white-space:pre;overflow-x:auto;line-height:normal;font-family:Menlo,'DejaVu Sans Mono',consolas,'Courier New',monospace\">/usr/local/lib/python3.8/dist-packages/rich/live.py:231: UserWarning: install \"ipywidgets\" for Jupyter support\n",
       "  warnings.warn('install \"ipywidgets\" for Jupyter support')\n",
       "</pre>\n"
      ],
      "text/plain": [
       "/usr/local/lib/python3.8/dist-packages/rich/live.py:231: UserWarning: install \"ipywidgets\" for Jupyter support\n",
       "  warnings.warn('install \"ipywidgets\" for Jupyter support')\n"
      ]
     },
     "metadata": {},
     "output_type": "display_data"
    },
    {
     "data": {
      "text/html": [
       "<pre style=\"white-space:pre;overflow-x:auto;line-height:normal;font-family:Menlo,'DejaVu Sans Mono',consolas,'Courier New',monospace\"><span style=\"color: #800000; text-decoration-color: #800000; font-style: italic\">MRED_ARTIST_POPULARITY</span>:<span style=\"font-weight: bold\">{</span><span style=\"color: #008000; text-decoration-color: #008000\">'mred'</span>: <span style=\"color: #008080; text-decoration-color: #008080; font-weight: bold\">-0.013557525896098765</span>, <span style=\"color: #008000; text-decoration-color: #008000\">'mr'</span>: <span style=\"color: #008080; text-decoration-color: #008080; font-weight: bold\">0.976347486710181</span>, <span style=\"color: #008080; text-decoration-color: #008080; font-weight: bold\">1</span>: <span style=\"color: #008080; text-decoration-color: #008080; font-weight: bold\">0.9561933534743202</span>, <span style=\"color: #008080; text-decoration-color: #008080; font-weight: bold\">100</span>: \n",
       "<span style=\"color: #008080; text-decoration-color: #008080; font-weight: bold\">0.9587148843706348</span>, <span style=\"color: #008080; text-decoration-color: #008080; font-weight: bold\">1000</span>: <span style=\"color: #008080; text-decoration-color: #008080; font-weight: bold\">0.9777286497993941</span>, <span style=\"color: #008080; text-decoration-color: #008080; font-weight: bold\">10000</span>: <span style=\"color: #008080; text-decoration-color: #008080; font-weight: bold\">0.991409691629956</span><span style=\"font-weight: bold\">}</span>\n",
       "</pre>\n"
      ],
      "text/plain": [
       "\u001b[3;31mMRED_ARTIST_POPULARITY\u001b[0m:\u001b[1m{\u001b[0m\u001b[32m'mred'\u001b[0m: \u001b[1;36m-0.013557525896098765\u001b[0m, \u001b[32m'mr'\u001b[0m: \u001b[1;36m0.976347486710181\u001b[0m, \u001b[1;36m1\u001b[0m: \u001b[1;36m0.9561933534743202\u001b[0m, \u001b[1;36m100\u001b[0m: \n",
       "\u001b[1;36m0.9587148843706348\u001b[0m, \u001b[1;36m1000\u001b[0m: \u001b[1;36m0.9777286497993941\u001b[0m, \u001b[1;36m10000\u001b[0m: \u001b[1;36m0.991409691629956\u001b[0m\u001b[1m}\u001b[0m\n"
      ]
     },
     "metadata": {},
     "output_type": "display_data"
    },
    {
     "data": {
      "text/html": [
       "<pre style=\"white-space:pre;overflow-x:auto;line-height:normal;font-family:Menlo,'DejaVu Sans Mono',consolas,'Courier New',monospace\">/usr/local/lib/python3.8/dist-packages/rich/live.py:231: UserWarning: install \"ipywidgets\" for Jupyter support\n",
       "  warnings.warn('install \"ipywidgets\" for Jupyter support')\n",
       "</pre>\n"
      ],
      "text/plain": [
       "/usr/local/lib/python3.8/dist-packages/rich/live.py:231: UserWarning: install \"ipywidgets\" for Jupyter support\n",
       "  warnings.warn('install \"ipywidgets\" for Jupyter support')\n"
      ]
     },
     "metadata": {},
     "output_type": "display_data"
    },
    {
     "data": {
      "text/html": [
       "<pre style=\"white-space:pre;overflow-x:auto;line-height:normal;font-family:Menlo,'DejaVu Sans Mono',consolas,'Courier New',monospace\"><span style=\"color: #800000; text-decoration-color: #800000; font-style: italic\">MRED_GENDER</span>:<span style=\"font-weight: bold\">{</span><span style=\"color: #008000; text-decoration-color: #008000\">'mred'</span>: <span style=\"color: #008080; text-decoration-color: #008080; font-weight: bold\">-0.0018725934261116794</span>, <span style=\"color: #008000; text-decoration-color: #008000\">'mr'</span>: <span style=\"color: #008080; text-decoration-color: #008080; font-weight: bold\">0.976347486710181</span>, <span style=\"color: #008000; text-decoration-color: #008000\">'f'</span>: <span style=\"color: #008080; text-decoration-color: #008080; font-weight: bold\">0.9786137593403762</span>, <span style=\"color: #008000; text-decoration-color: #008000\">'m'</span>: \n",
       "<span style=\"color: #008080; text-decoration-color: #008080; font-weight: bold\">0.9780109945027486</span>, <span style=\"color: #008000; text-decoration-color: #008000\">'n'</span>: <span style=\"color: #008080; text-decoration-color: #008080; font-weight: bold\">0.9746594868546088</span><span style=\"font-weight: bold\">}</span>\n",
       "</pre>\n"
      ],
      "text/plain": [
       "\u001b[3;31mMRED_GENDER\u001b[0m:\u001b[1m{\u001b[0m\u001b[32m'mred'\u001b[0m: \u001b[1;36m-0.0018725934261116794\u001b[0m, \u001b[32m'mr'\u001b[0m: \u001b[1;36m0.976347486710181\u001b[0m, \u001b[32m'f'\u001b[0m: \u001b[1;36m0.9786137593403762\u001b[0m, \u001b[32m'm'\u001b[0m: \n",
       "\u001b[1;36m0.9780109945027486\u001b[0m, \u001b[32m'n'\u001b[0m: \u001b[1;36m0.9746594868546088\u001b[0m\u001b[1m}\u001b[0m\n"
      ]
     },
     "metadata": {},
     "output_type": "display_data"
    },
    {
     "data": {
      "text/html": [
       "<pre style=\"white-space:pre;overflow-x:auto;line-height:normal;font-family:Menlo,'DejaVu Sans Mono',consolas,'Courier New',monospace\">/usr/local/lib/python3.8/dist-packages/rich/live.py:231: UserWarning: install \"ipywidgets\" for Jupyter support\n",
       "  warnings.warn('install \"ipywidgets\" for Jupyter support')\n",
       "</pre>\n"
      ],
      "text/plain": [
       "/usr/local/lib/python3.8/dist-packages/rich/live.py:231: UserWarning: install \"ipywidgets\" for Jupyter support\n",
       "  warnings.warn('install \"ipywidgets\" for Jupyter support')\n"
      ]
     },
     "metadata": {},
     "output_type": "display_data"
    },
    {
     "data": {
      "text/html": [
       "<pre style=\"white-space:pre;overflow-x:auto;line-height:normal;font-family:Menlo,'DejaVu Sans Mono',consolas,'Courier New',monospace\"></pre>\n"
      ],
      "text/plain": []
     },
     "metadata": {},
     "output_type": "display_data"
    },
    {
     "data": {
      "text/html": [
       "<pre style=\"white-space:pre;overflow-x:auto;line-height:normal;font-family:Menlo,'DejaVu Sans Mono',consolas,'Courier New',monospace\">\n",
       "</pre>\n"
      ],
      "text/plain": [
       "\n"
      ]
     },
     "metadata": {},
     "output_type": "display_data"
    },
    {
     "data": {
      "text/html": [
       "<pre style=\"white-space:pre;overflow-x:auto;line-height:normal;font-family:Menlo,'DejaVu Sans Mono',consolas,'Courier New',monospace\"><span style=\"font-style: italic\">                                 EvalRSReclist                                 </span>\n",
       "┏━━━━━━━━━━━━━━━━━━━━━━━━┳━━━━━━━━━━━━━━┳━━━━━━━━━━━━━━━━━━━━━━━━━━━━━━━━━━━━━┓\n",
       "┃<span style=\"font-weight: bold\">                   Type </span>┃<span style=\"font-weight: bold\"> Description  </span>┃<span style=\"font-weight: bold\">                              Result </span>┃\n",
       "┡━━━━━━━━━━━━━━━━━━━━━━━━╇━━━━━━━━━━━━━━╇━━━━━━━━━━━━━━━━━━━━━━━━━━━━━━━━━━━━━┩\n",
       "│<span style=\"color: #008080; text-decoration-color: #008080\">                  stats </span>│<span style=\"color: #800080; text-decoration-color: #800080\">              </span>│<span style=\"color: #008000; text-decoration-color: #008000\">                                   { </span>│\n",
       "│<span style=\"color: #008080; text-decoration-color: #008080\">                        </span>│<span style=\"color: #800080; text-decoration-color: #800080\">              </span>│<span style=\"color: #008000; text-decoration-color: #008000\">                 \"num_users\": 29722, </span>│\n",
       "│<span style=\"color: #008080; text-decoration-color: #008080\">                        </span>│<span style=\"color: #800080; text-decoration-color: #800080\">              </span>│<span style=\"color: #008000; text-decoration-color: #008000\">                     \"max_items\": 1, </span>│\n",
       "│<span style=\"color: #008080; text-decoration-color: #008080\">                        </span>│<span style=\"color: #800080; text-decoration-color: #800080\">              </span>│<span style=\"color: #008000; text-decoration-color: #008000\">                      \"min_items\": 1 </span>│\n",
       "│<span style=\"color: #008080; text-decoration-color: #008080\">                        </span>│<span style=\"color: #800080; text-decoration-color: #800080\">              </span>│<span style=\"color: #008000; text-decoration-color: #008000\">                                   } </span>│\n",
       "│<span style=\"color: #008080; text-decoration-color: #008080\">               HIT_RATE </span>│<span style=\"color: #800080; text-decoration-color: #800080\">              </span>│<span style=\"color: #008000; text-decoration-color: #008000\">                              0.0237 </span>│\n",
       "│<span style=\"color: #008080; text-decoration-color: #008080\">                    MRR </span>│<span style=\"color: #800080; text-decoration-color: #800080\">              </span>│<span style=\"color: #008000; text-decoration-color: #008000\">                              0.0014 </span>│\n",
       "│<span style=\"color: #008080; text-decoration-color: #008080\">           MRED_COUNTRY </span>│<span style=\"color: #800080; text-decoration-color: #800080\">              </span>│<span style=\"color: #008000; text-decoration-color: #008000\">                                   { </span>│\n",
       "│<span style=\"color: #008080; text-decoration-color: #008080\">                        </span>│<span style=\"color: #800080; text-decoration-color: #800080\">              </span>│<span style=\"color: #008000; text-decoration-color: #008000\">       \"mred\": -0.00403522351231688, </span>│\n",
       "│<span style=\"color: #008080; text-decoration-color: #008080\">                        </span>│<span style=\"color: #800080; text-decoration-color: #800080\">              </span>│<span style=\"color: #008000; text-decoration-color: #008000\">           \"mr\": 0.9763977043821975, </span>│\n",
       "│<span style=\"color: #008080; text-decoration-color: #008080\">                        </span>│<span style=\"color: #800080; text-decoration-color: #800080\">              </span>│<span style=\"color: #008000; text-decoration-color: #008000\">           \"BR\": 0.9743589743589743, </span>│\n",
       "│<span style=\"color: #008080; text-decoration-color: #008080\">                        </span>│<span style=\"color: #800080; text-decoration-color: #800080\">              </span>│<span style=\"color: #008000; text-decoration-color: #008000\">           \"CA\": 0.9814814814814815, </span>│\n",
       "│<span style=\"color: #008080; text-decoration-color: #008080\">                        </span>│<span style=\"color: #800080; text-decoration-color: #800080\">              </span>│<span style=\"color: #008000; text-decoration-color: #008000\">           \"DE\": 0.9794091316025068, </span>│\n",
       "│<span style=\"color: #008080; text-decoration-color: #008080\">                        </span>│<span style=\"color: #800080; text-decoration-color: #800080\">              </span>│<span style=\"color: #008000; text-decoration-color: #008000\">            \"ES\": 0.975609756097561, </span>│\n",
       "│<span style=\"color: #008080; text-decoration-color: #008080\">                        </span>│<span style=\"color: #800080; text-decoration-color: #800080\">              </span>│<span style=\"color: #008000; text-decoration-color: #008000\">           \"FI\": 0.9746835443037974, </span>│\n",
       "│<span style=\"color: #008080; text-decoration-color: #008080\">                        </span>│<span style=\"color: #800080; text-decoration-color: #800080\">              </span>│<span style=\"color: #008000; text-decoration-color: #008000\">           \"FR\": 0.9734848484848485, </span>│\n",
       "│<span style=\"color: #008080; text-decoration-color: #008080\">                        </span>│<span style=\"color: #800080; text-decoration-color: #800080\">              </span>│<span style=\"color: #008000; text-decoration-color: #008000\">           \"NL\": 0.9836512261580381, </span>│\n",
       "│<span style=\"color: #008080; text-decoration-color: #008080\">                        </span>│<span style=\"color: #800080; text-decoration-color: #800080\">              </span>│<span style=\"color: #008000; text-decoration-color: #008000\">          \"NaN\": 0.9747145187601958, </span>│\n",
       "│<span style=\"color: #008080; text-decoration-color: #008080\">                        </span>│<span style=\"color: #800080; text-decoration-color: #800080\">              </span>│<span style=\"color: #008000; text-decoration-color: #008000\">           \"PL\": 0.9753199268738574, </span>│\n",
       "│<span style=\"color: #008080; text-decoration-color: #008080\">                        </span>│<span style=\"color: #800080; text-decoration-color: #800080\">              </span>│<span style=\"color: #008000; text-decoration-color: #008000\">           \"RU\": 0.9842271293375394, </span>│\n",
       "│<span style=\"color: #008080; text-decoration-color: #008080\">                        </span>│<span style=\"color: #800080; text-decoration-color: #800080\">              </span>│<span style=\"color: #008000; text-decoration-color: #008000\">           \"SE\": 0.9721254355400697, </span>│\n",
       "│<span style=\"color: #008080; text-decoration-color: #008080\">                        </span>│<span style=\"color: #800080; text-decoration-color: #800080\">              </span>│<span style=\"color: #008000; text-decoration-color: #008000\">                         \"UA\": 0.99, </span>│\n",
       "│<span style=\"color: #008080; text-decoration-color: #008080\">                        </span>│<span style=\"color: #800080; text-decoration-color: #800080\">              </span>│<span style=\"color: #008000; text-decoration-color: #008000\">           \"UK\": 0.9777580071174378, </span>│\n",
       "│<span style=\"color: #008080; text-decoration-color: #008080\">                        </span>│<span style=\"color: #800080; text-decoration-color: #800080\">              </span>│<span style=\"color: #008000; text-decoration-color: #008000\">            \"US\": 0.9802631578947368 </span>│\n",
       "│<span style=\"color: #008080; text-decoration-color: #008080\">                        </span>│<span style=\"color: #800080; text-decoration-color: #800080\">              </span>│<span style=\"color: #008000; text-decoration-color: #008000\">                                   } </span>│\n",
       "│<span style=\"color: #008080; text-decoration-color: #008080\">     MRED_USER_ACTIVITY </span>│<span style=\"color: #800080; text-decoration-color: #800080\">              </span>│<span style=\"color: #008000; text-decoration-color: #008000\">                                   { </span>│\n",
       "│<span style=\"color: #008080; text-decoration-color: #008080\">                        </span>│<span style=\"color: #800080; text-decoration-color: #800080\">              </span>│<span style=\"color: #008000; text-decoration-color: #008000\">       \"mred\": -0.00961833398110227, </span>│\n",
       "│<span style=\"color: #008080; text-decoration-color: #008080\">                        </span>│<span style=\"color: #800080; text-decoration-color: #800080\">              </span>│<span style=\"color: #008000; text-decoration-color: #008000\">            \"mr\": 0.976347486710181, </span>│\n",
       "│<span style=\"color: #008080; text-decoration-color: #008080\">                        </span>│<span style=\"color: #800080; text-decoration-color: #800080\">              </span>│<span style=\"color: #008000; text-decoration-color: #008000\">            \"1\": 0.9507074395253309, </span>│\n",
       "│<span style=\"color: #008080; text-decoration-color: #008080\">                        </span>│<span style=\"color: #800080; text-decoration-color: #800080\">              </span>│<span style=\"color: #008000; text-decoration-color: #008000\">          \"100\": 0.9785775492716366, </span>│\n",
       "│<span style=\"color: #008080; text-decoration-color: #008080\">                        </span>│<span style=\"color: #800080; text-decoration-color: #800080\">              </span>│<span style=\"color: #008000; text-decoration-color: #008000\">           \"1000\": 0.977332378907182 </span>│\n",
       "│<span style=\"color: #008080; text-decoration-color: #008080\">                        </span>│<span style=\"color: #800080; text-decoration-color: #800080\">              </span>│<span style=\"color: #008000; text-decoration-color: #008000\">                                   } </span>│\n",
       "│<span style=\"color: #008080; text-decoration-color: #008080\">  MRED_TRACK_POPULARITY </span>│<span style=\"color: #800080; text-decoration-color: #800080\">              </span>│<span style=\"color: #008000; text-decoration-color: #008000\">                                   { </span>│\n",
       "│<span style=\"color: #008080; text-decoration-color: #008080\">                        </span>│<span style=\"color: #800080; text-decoration-color: #800080\">              </span>│<span style=\"color: #008000; text-decoration-color: #008000\">      \"mred\": -0.012224854749819297, </span>│\n",
       "│<span style=\"color: #008080; text-decoration-color: #008080\">                        </span>│<span style=\"color: #800080; text-decoration-color: #800080\">              </span>│<span style=\"color: #008000; text-decoration-color: #008000\">            \"mr\": 0.976347486710181, </span>│\n",
       "│<span style=\"color: #008080; text-decoration-color: #008080\">                        </span>│<span style=\"color: #800080; text-decoration-color: #800080\">              </span>│<span style=\"color: #008000; text-decoration-color: #008000\">             \"1\": 0.981651376146789, </span>│\n",
       "│<span style=\"color: #008080; text-decoration-color: #008080\">                        </span>│<span style=\"color: #800080; text-decoration-color: #800080\">              </span>│<span style=\"color: #008000; text-decoration-color: #008000\">           \"10\": 0.9657011271361047, </span>│\n",
       "│<span style=\"color: #008080; text-decoration-color: #008080\">                        </span>│<span style=\"color: #800080; text-decoration-color: #800080\">              </span>│<span style=\"color: #008000; text-decoration-color: #008000\">          \"100\": 0.9886363636363636, </span>│\n",
       "│<span style=\"color: #008080; text-decoration-color: #008080\">                        </span>│<span style=\"color: #800080; text-decoration-color: #800080\">              </span>│<span style=\"color: #008000; text-decoration-color: #008000\">          \"1000\": 0.9970077797725913 </span>│\n",
       "│<span style=\"color: #008080; text-decoration-color: #008080\">                        </span>│<span style=\"color: #800080; text-decoration-color: #800080\">              </span>│<span style=\"color: #008000; text-decoration-color: #008000\">                                   } </span>│\n",
       "│<span style=\"color: #008080; text-decoration-color: #008080\"> MRED_ARTIST_POPULARITY </span>│<span style=\"color: #800080; text-decoration-color: #800080\">              </span>│<span style=\"color: #008000; text-decoration-color: #008000\">                                   { </span>│\n",
       "│<span style=\"color: #008080; text-decoration-color: #008080\">                        </span>│<span style=\"color: #800080; text-decoration-color: #800080\">              </span>│<span style=\"color: #008000; text-decoration-color: #008000\">      \"mred\": -0.013557525896098765, </span>│\n",
       "│<span style=\"color: #008080; text-decoration-color: #008080\">                        </span>│<span style=\"color: #800080; text-decoration-color: #800080\">              </span>│<span style=\"color: #008000; text-decoration-color: #008000\">            \"mr\": 0.976347486710181, </span>│\n",
       "│<span style=\"color: #008080; text-decoration-color: #008080\">                        </span>│<span style=\"color: #800080; text-decoration-color: #800080\">              </span>│<span style=\"color: #008000; text-decoration-color: #008000\">            \"1\": 0.9561933534743202, </span>│\n",
       "│<span style=\"color: #008080; text-decoration-color: #008080\">                        </span>│<span style=\"color: #800080; text-decoration-color: #800080\">              </span>│<span style=\"color: #008000; text-decoration-color: #008000\">          \"100\": 0.9587148843706348, </span>│\n",
       "│<span style=\"color: #008080; text-decoration-color: #008080\">                        </span>│<span style=\"color: #800080; text-decoration-color: #800080\">              </span>│<span style=\"color: #008000; text-decoration-color: #008000\">         \"1000\": 0.9777286497993941, </span>│\n",
       "│<span style=\"color: #008080; text-decoration-color: #008080\">                        </span>│<span style=\"color: #800080; text-decoration-color: #800080\">              </span>│<span style=\"color: #008000; text-decoration-color: #008000\">          \"10000\": 0.991409691629956 </span>│\n",
       "│<span style=\"color: #008080; text-decoration-color: #008080\">                        </span>│<span style=\"color: #800080; text-decoration-color: #800080\">              </span>│<span style=\"color: #008000; text-decoration-color: #008000\">                                   } </span>│\n",
       "│<span style=\"color: #008080; text-decoration-color: #008080\">            MRED_GENDER </span>│<span style=\"color: #800080; text-decoration-color: #800080\">              </span>│<span style=\"color: #008000; text-decoration-color: #008000\">                                   { </span>│\n",
       "│<span style=\"color: #008080; text-decoration-color: #008080\">                        </span>│<span style=\"color: #800080; text-decoration-color: #800080\">              </span>│<span style=\"color: #008000; text-decoration-color: #008000\">     \"mred\": -0.0018725934261116794, </span>│\n",
       "│<span style=\"color: #008080; text-decoration-color: #008080\">                        </span>│<span style=\"color: #800080; text-decoration-color: #800080\">              </span>│<span style=\"color: #008000; text-decoration-color: #008000\">            \"mr\": 0.976347486710181, </span>│\n",
       "│<span style=\"color: #008080; text-decoration-color: #008080\">                        </span>│<span style=\"color: #800080; text-decoration-color: #800080\">              </span>│<span style=\"color: #008000; text-decoration-color: #008000\">            \"f\": 0.9786137593403762, </span>│\n",
       "│<span style=\"color: #008080; text-decoration-color: #008080\">                        </span>│<span style=\"color: #800080; text-decoration-color: #800080\">              </span>│<span style=\"color: #008000; text-decoration-color: #008000\">            \"m\": 0.9780109945027486, </span>│\n",
       "│<span style=\"color: #008080; text-decoration-color: #008080\">                        </span>│<span style=\"color: #800080; text-decoration-color: #800080\">              </span>│<span style=\"color: #008000; text-decoration-color: #008000\">             \"n\": 0.9746594868546088 </span>│\n",
       "│<span style=\"color: #008080; text-decoration-color: #008080\">                        </span>│<span style=\"color: #800080; text-decoration-color: #800080\">              </span>│<span style=\"color: #008000; text-decoration-color: #008000\">                                   } </span>│\n",
       "└────────────────────────┴──────────────┴─────────────────────────────────────┘\n",
       "</pre>\n"
      ],
      "text/plain": [
       "\u001b[3m                                 EvalRSReclist                                 \u001b[0m\n",
       "┏━━━━━━━━━━━━━━━━━━━━━━━━┳━━━━━━━━━━━━━━┳━━━━━━━━━━━━━━━━━━━━━━━━━━━━━━━━━━━━━┓\n",
       "┃\u001b[1m \u001b[0m\u001b[1m                  Type\u001b[0m\u001b[1m \u001b[0m┃\u001b[1m \u001b[0m\u001b[1mDescription \u001b[0m\u001b[1m \u001b[0m┃\u001b[1m \u001b[0m\u001b[1m                             Result\u001b[0m\u001b[1m \u001b[0m┃\n",
       "┡━━━━━━━━━━━━━━━━━━━━━━━━╇━━━━━━━━━━━━━━╇━━━━━━━━━━━━━━━━━━━━━━━━━━━━━━━━━━━━━┩\n",
       "│\u001b[36m \u001b[0m\u001b[36m                 stats\u001b[0m\u001b[36m \u001b[0m│\u001b[35m \u001b[0m\u001b[35m            \u001b[0m\u001b[35m \u001b[0m│\u001b[32m \u001b[0m\u001b[32m                                  {\u001b[0m\u001b[32m \u001b[0m│\n",
       "│\u001b[36m                        \u001b[0m│\u001b[35m              \u001b[0m│\u001b[32m \u001b[0m\u001b[32m                \"num_users\": 29722,\u001b[0m\u001b[32m \u001b[0m│\n",
       "│\u001b[36m                        \u001b[0m│\u001b[35m              \u001b[0m│\u001b[32m \u001b[0m\u001b[32m                    \"max_items\": 1,\u001b[0m\u001b[32m \u001b[0m│\n",
       "│\u001b[36m                        \u001b[0m│\u001b[35m              \u001b[0m│\u001b[32m \u001b[0m\u001b[32m                     \"min_items\": 1\u001b[0m\u001b[32m \u001b[0m│\n",
       "│\u001b[36m                        \u001b[0m│\u001b[35m              \u001b[0m│\u001b[32m \u001b[0m\u001b[32m                                  }\u001b[0m\u001b[32m \u001b[0m│\n",
       "│\u001b[36m \u001b[0m\u001b[36m              HIT_RATE\u001b[0m\u001b[36m \u001b[0m│\u001b[35m \u001b[0m\u001b[35m            \u001b[0m\u001b[35m \u001b[0m│\u001b[32m \u001b[0m\u001b[32m                             0.0237\u001b[0m\u001b[32m \u001b[0m│\n",
       "│\u001b[36m \u001b[0m\u001b[36m                   MRR\u001b[0m\u001b[36m \u001b[0m│\u001b[35m \u001b[0m\u001b[35m            \u001b[0m\u001b[35m \u001b[0m│\u001b[32m \u001b[0m\u001b[32m                             0.0014\u001b[0m\u001b[32m \u001b[0m│\n",
       "│\u001b[36m \u001b[0m\u001b[36m          MRED_COUNTRY\u001b[0m\u001b[36m \u001b[0m│\u001b[35m \u001b[0m\u001b[35m            \u001b[0m\u001b[35m \u001b[0m│\u001b[32m \u001b[0m\u001b[32m                                  {\u001b[0m\u001b[32m \u001b[0m│\n",
       "│\u001b[36m                        \u001b[0m│\u001b[35m              \u001b[0m│\u001b[32m \u001b[0m\u001b[32m      \"mred\": -0.00403522351231688,\u001b[0m\u001b[32m \u001b[0m│\n",
       "│\u001b[36m                        \u001b[0m│\u001b[35m              \u001b[0m│\u001b[32m \u001b[0m\u001b[32m          \"mr\": 0.9763977043821975,\u001b[0m\u001b[32m \u001b[0m│\n",
       "│\u001b[36m                        \u001b[0m│\u001b[35m              \u001b[0m│\u001b[32m \u001b[0m\u001b[32m          \"BR\": 0.9743589743589743,\u001b[0m\u001b[32m \u001b[0m│\n",
       "│\u001b[36m                        \u001b[0m│\u001b[35m              \u001b[0m│\u001b[32m \u001b[0m\u001b[32m          \"CA\": 0.9814814814814815,\u001b[0m\u001b[32m \u001b[0m│\n",
       "│\u001b[36m                        \u001b[0m│\u001b[35m              \u001b[0m│\u001b[32m \u001b[0m\u001b[32m          \"DE\": 0.9794091316025068,\u001b[0m\u001b[32m \u001b[0m│\n",
       "│\u001b[36m                        \u001b[0m│\u001b[35m              \u001b[0m│\u001b[32m \u001b[0m\u001b[32m           \"ES\": 0.975609756097561,\u001b[0m\u001b[32m \u001b[0m│\n",
       "│\u001b[36m                        \u001b[0m│\u001b[35m              \u001b[0m│\u001b[32m \u001b[0m\u001b[32m          \"FI\": 0.9746835443037974,\u001b[0m\u001b[32m \u001b[0m│\n",
       "│\u001b[36m                        \u001b[0m│\u001b[35m              \u001b[0m│\u001b[32m \u001b[0m\u001b[32m          \"FR\": 0.9734848484848485,\u001b[0m\u001b[32m \u001b[0m│\n",
       "│\u001b[36m                        \u001b[0m│\u001b[35m              \u001b[0m│\u001b[32m \u001b[0m\u001b[32m          \"NL\": 0.9836512261580381,\u001b[0m\u001b[32m \u001b[0m│\n",
       "│\u001b[36m                        \u001b[0m│\u001b[35m              \u001b[0m│\u001b[32m \u001b[0m\u001b[32m         \"NaN\": 0.9747145187601958,\u001b[0m\u001b[32m \u001b[0m│\n",
       "│\u001b[36m                        \u001b[0m│\u001b[35m              \u001b[0m│\u001b[32m \u001b[0m\u001b[32m          \"PL\": 0.9753199268738574,\u001b[0m\u001b[32m \u001b[0m│\n",
       "│\u001b[36m                        \u001b[0m│\u001b[35m              \u001b[0m│\u001b[32m \u001b[0m\u001b[32m          \"RU\": 0.9842271293375394,\u001b[0m\u001b[32m \u001b[0m│\n",
       "│\u001b[36m                        \u001b[0m│\u001b[35m              \u001b[0m│\u001b[32m \u001b[0m\u001b[32m          \"SE\": 0.9721254355400697,\u001b[0m\u001b[32m \u001b[0m│\n",
       "│\u001b[36m                        \u001b[0m│\u001b[35m              \u001b[0m│\u001b[32m \u001b[0m\u001b[32m                        \"UA\": 0.99,\u001b[0m\u001b[32m \u001b[0m│\n",
       "│\u001b[36m                        \u001b[0m│\u001b[35m              \u001b[0m│\u001b[32m \u001b[0m\u001b[32m          \"UK\": 0.9777580071174378,\u001b[0m\u001b[32m \u001b[0m│\n",
       "│\u001b[36m                        \u001b[0m│\u001b[35m              \u001b[0m│\u001b[32m \u001b[0m\u001b[32m           \"US\": 0.9802631578947368\u001b[0m\u001b[32m \u001b[0m│\n",
       "│\u001b[36m                        \u001b[0m│\u001b[35m              \u001b[0m│\u001b[32m \u001b[0m\u001b[32m                                  }\u001b[0m\u001b[32m \u001b[0m│\n",
       "│\u001b[36m \u001b[0m\u001b[36m    MRED_USER_ACTIVITY\u001b[0m\u001b[36m \u001b[0m│\u001b[35m \u001b[0m\u001b[35m            \u001b[0m\u001b[35m \u001b[0m│\u001b[32m \u001b[0m\u001b[32m                                  {\u001b[0m\u001b[32m \u001b[0m│\n",
       "│\u001b[36m                        \u001b[0m│\u001b[35m              \u001b[0m│\u001b[32m \u001b[0m\u001b[32m      \"mred\": -0.00961833398110227,\u001b[0m\u001b[32m \u001b[0m│\n",
       "│\u001b[36m                        \u001b[0m│\u001b[35m              \u001b[0m│\u001b[32m \u001b[0m\u001b[32m           \"mr\": 0.976347486710181,\u001b[0m\u001b[32m \u001b[0m│\n",
       "│\u001b[36m                        \u001b[0m│\u001b[35m              \u001b[0m│\u001b[32m \u001b[0m\u001b[32m           \"1\": 0.9507074395253309,\u001b[0m\u001b[32m \u001b[0m│\n",
       "│\u001b[36m                        \u001b[0m│\u001b[35m              \u001b[0m│\u001b[32m \u001b[0m\u001b[32m         \"100\": 0.9785775492716366,\u001b[0m\u001b[32m \u001b[0m│\n",
       "│\u001b[36m                        \u001b[0m│\u001b[35m              \u001b[0m│\u001b[32m \u001b[0m\u001b[32m          \"1000\": 0.977332378907182\u001b[0m\u001b[32m \u001b[0m│\n",
       "│\u001b[36m                        \u001b[0m│\u001b[35m              \u001b[0m│\u001b[32m \u001b[0m\u001b[32m                                  }\u001b[0m\u001b[32m \u001b[0m│\n",
       "│\u001b[36m \u001b[0m\u001b[36m MRED_TRACK_POPULARITY\u001b[0m\u001b[36m \u001b[0m│\u001b[35m \u001b[0m\u001b[35m            \u001b[0m\u001b[35m \u001b[0m│\u001b[32m \u001b[0m\u001b[32m                                  {\u001b[0m\u001b[32m \u001b[0m│\n",
       "│\u001b[36m                        \u001b[0m│\u001b[35m              \u001b[0m│\u001b[32m \u001b[0m\u001b[32m     \"mred\": -0.012224854749819297,\u001b[0m\u001b[32m \u001b[0m│\n",
       "│\u001b[36m                        \u001b[0m│\u001b[35m              \u001b[0m│\u001b[32m \u001b[0m\u001b[32m           \"mr\": 0.976347486710181,\u001b[0m\u001b[32m \u001b[0m│\n",
       "│\u001b[36m                        \u001b[0m│\u001b[35m              \u001b[0m│\u001b[32m \u001b[0m\u001b[32m            \"1\": 0.981651376146789,\u001b[0m\u001b[32m \u001b[0m│\n",
       "│\u001b[36m                        \u001b[0m│\u001b[35m              \u001b[0m│\u001b[32m \u001b[0m\u001b[32m          \"10\": 0.9657011271361047,\u001b[0m\u001b[32m \u001b[0m│\n",
       "│\u001b[36m                        \u001b[0m│\u001b[35m              \u001b[0m│\u001b[32m \u001b[0m\u001b[32m         \"100\": 0.9886363636363636,\u001b[0m\u001b[32m \u001b[0m│\n",
       "│\u001b[36m                        \u001b[0m│\u001b[35m              \u001b[0m│\u001b[32m \u001b[0m\u001b[32m         \"1000\": 0.9970077797725913\u001b[0m\u001b[32m \u001b[0m│\n",
       "│\u001b[36m                        \u001b[0m│\u001b[35m              \u001b[0m│\u001b[32m \u001b[0m\u001b[32m                                  }\u001b[0m\u001b[32m \u001b[0m│\n",
       "│\u001b[36m \u001b[0m\u001b[36mMRED_ARTIST_POPULARITY\u001b[0m\u001b[36m \u001b[0m│\u001b[35m \u001b[0m\u001b[35m            \u001b[0m\u001b[35m \u001b[0m│\u001b[32m \u001b[0m\u001b[32m                                  {\u001b[0m\u001b[32m \u001b[0m│\n",
       "│\u001b[36m                        \u001b[0m│\u001b[35m              \u001b[0m│\u001b[32m \u001b[0m\u001b[32m     \"mred\": -0.013557525896098765,\u001b[0m\u001b[32m \u001b[0m│\n",
       "│\u001b[36m                        \u001b[0m│\u001b[35m              \u001b[0m│\u001b[32m \u001b[0m\u001b[32m           \"mr\": 0.976347486710181,\u001b[0m\u001b[32m \u001b[0m│\n",
       "│\u001b[36m                        \u001b[0m│\u001b[35m              \u001b[0m│\u001b[32m \u001b[0m\u001b[32m           \"1\": 0.9561933534743202,\u001b[0m\u001b[32m \u001b[0m│\n",
       "│\u001b[36m                        \u001b[0m│\u001b[35m              \u001b[0m│\u001b[32m \u001b[0m\u001b[32m         \"100\": 0.9587148843706348,\u001b[0m\u001b[32m \u001b[0m│\n",
       "│\u001b[36m                        \u001b[0m│\u001b[35m              \u001b[0m│\u001b[32m \u001b[0m\u001b[32m        \"1000\": 0.9777286497993941,\u001b[0m\u001b[32m \u001b[0m│\n",
       "│\u001b[36m                        \u001b[0m│\u001b[35m              \u001b[0m│\u001b[32m \u001b[0m\u001b[32m         \"10000\": 0.991409691629956\u001b[0m\u001b[32m \u001b[0m│\n",
       "│\u001b[36m                        \u001b[0m│\u001b[35m              \u001b[0m│\u001b[32m \u001b[0m\u001b[32m                                  }\u001b[0m\u001b[32m \u001b[0m│\n",
       "│\u001b[36m \u001b[0m\u001b[36m           MRED_GENDER\u001b[0m\u001b[36m \u001b[0m│\u001b[35m \u001b[0m\u001b[35m            \u001b[0m\u001b[35m \u001b[0m│\u001b[32m \u001b[0m\u001b[32m                                  {\u001b[0m\u001b[32m \u001b[0m│\n",
       "│\u001b[36m                        \u001b[0m│\u001b[35m              \u001b[0m│\u001b[32m \u001b[0m\u001b[32m    \"mred\": -0.0018725934261116794,\u001b[0m\u001b[32m \u001b[0m│\n",
       "│\u001b[36m                        \u001b[0m│\u001b[35m              \u001b[0m│\u001b[32m \u001b[0m\u001b[32m           \"mr\": 0.976347486710181,\u001b[0m\u001b[32m \u001b[0m│\n",
       "│\u001b[36m                        \u001b[0m│\u001b[35m              \u001b[0m│\u001b[32m \u001b[0m\u001b[32m           \"f\": 0.9786137593403762,\u001b[0m\u001b[32m \u001b[0m│\n",
       "│\u001b[36m                        \u001b[0m│\u001b[35m              \u001b[0m│\u001b[32m \u001b[0m\u001b[32m           \"m\": 0.9780109945027486,\u001b[0m\u001b[32m \u001b[0m│\n",
       "│\u001b[36m                        \u001b[0m│\u001b[35m              \u001b[0m│\u001b[32m \u001b[0m\u001b[32m            \"n\": 0.9746594868546088\u001b[0m\u001b[32m \u001b[0m│\n",
       "│\u001b[36m                        \u001b[0m│\u001b[35m              \u001b[0m│\u001b[32m \u001b[0m\u001b[32m                                  }\u001b[0m\u001b[32m \u001b[0m│\n",
       "└────────────────────────┴──────────────┴─────────────────────────────────────┘\n"
      ]
     },
     "metadata": {},
     "output_type": "display_data"
    },
    {
     "name": "stdout",
     "output_type": "stream",
     "text": [
      "CPU times: user 883 ms, sys: 143 ms, total: 1.03 s\n",
      "Wall time: 957 ms\n"
     ]
    }
   ],
   "source": [
    "%%time\n",
    "cdf = EvalRSReclist(\n",
    "    dataset=dataset,\n",
    "    model_name=\"Two-Tower\",\n",
    "    predictions=tt_predictions_df,\n",
    "    logger=LOGGER.LOCAL,\n",
    "    metadata_store=METADATA_STORE.LOCAL,\n",
    ")\n",
    "\n",
    "# run reclist\n",
    "cdf(verbose=True)"
   ]
  },
  {
   "cell_type": "markdown",
   "metadata": {},
   "source": [
    "## Conclusion"
   ]
  },
  {
   "cell_type": "markdown",
   "metadata": {},
   "source": [
    "In this notebook you have learned how build retrieval models (MF, Two-Tower) with the [Merlin](https://github.com/NVIDIA-Merlin/) open-source framework for the EvalRS hackaton on the LastFM dataset. \n",
    "Feel free to try improving the accuracy by feature engineering, modeling changes or hypertuning."
   ]
  },
  {
   "cell_type": "code",
   "execution_count": null,
   "metadata": {},
   "outputs": [],
   "source": []
  }
 ],
 "metadata": {
  "kernelspec": {
   "display_name": "Python 3 (ipykernel)",
   "language": "python",
   "name": "python3"
  },
  "language_info": {
   "codemirror_mode": {
    "name": "ipython",
    "version": 3
   },
   "file_extension": ".py",
   "mimetype": "text/x-python",
   "name": "python",
   "nbconvert_exporter": "python",
   "pygments_lexer": "ipython3",
   "version": "3.8.10"
  }
 },
 "nbformat": 4,
 "nbformat_minor": 1
}
