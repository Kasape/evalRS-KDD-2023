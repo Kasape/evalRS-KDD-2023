{
 "cells": [
  {
   "cell_type": "markdown",
   "metadata": {},
   "source": [
    "## RecSys Tutorial for the EvalRS 2023 hackaton \n",
    "# Retrieval models with Merlin and Tensorflow on LastFM dataset\n",
    "\n",
    "In this notebook, we present a tutorial on how to use the open-source [NVIDIA Merlin](https://github.com/NVIDIA-Merlin/) framework, on top of Tensorflow, to build and train a retrieval model for EvalRS hackaton using LastFM dataset. It uses the [NVTabular](https://github.com/NVIDIA-Merlin/NVTabular) library for preprocessing and [Merlin Models](https://github.com/NVIDIA-Merlin/models) library for building and training Tensorflow-based retrieval models.\n",
    "\n",
    "**IMPORTANT**: This notebook requires a **GPU** to run the NVTabular pipeline. If your environment does not have a GPU, you might want to use the [Google Colab](https://colab.research.google.com/drive/1Ftl2B7BVFMfFjyjWweFCP_gA_LdCl7-a?usp=sharing) version of this notebook.\n",
    "\n",
    "### Retrieval models and Two-stage RecSys\n",
    "Retrieval models are recsys scalable models that are able to retrieve a large number of candidate items for recommendation. They are typically used in two-stage recsys pipelines, where the retrieval stage scores hundreds of thousands or millions of items and then the ranking stage model rescores the candidate items, using for that more features or with a more powerful architecture.  \n",
    "For ML-based candidate retrieval model, as it needs to quickly score millions of items for a given user, the retrieval models typically produce recommendation scores by just computing the dot product between user and item representations. Popular choices of such models are Matrix Factorization, which learns low-rank user and item embeddings, and the Two-Tower architecture, which is a neural network with two MLP towers where both user and item features are fed to generate user and item embeddings in the output.  \n",
    "\n",
    "In this notebook you will learn how to implement a pipeline for the hackaton that preprocess the available categorical, continuous and the song lyrics pre-trained embedding features in a suitable format for neural networks and trains retrieval models (Matrix Factorization and Two-Tower architecture)."
   ]
  },
  {
   "cell_type": "code",
   "execution_count": 1,
   "metadata": {},
   "outputs": [
    {
     "name": "stderr",
     "output_type": "stream",
     "text": [
      "2023-08-01 02:11:36.974625: I tensorflow/core/util/port.cc:110] oneDNN custom operations are on. You may see slightly different numerical results due to floating-point round-off errors from different computation orders. To turn them off, set the environment variable `TF_ENABLE_ONEDNN_OPTS=0`.\n",
      "2023-08-01 02:11:37.011474: I tensorflow/core/platform/cpu_feature_guard.cc:183] This TensorFlow binary is optimized to use available CPU instructions in performance-critical operations.\n",
      "To enable the following instructions: SSE3 SSE4.1 SSE4.2 AVX, in other operations, rebuild TensorFlow with the appropriate compiler flags.\n",
      "/usr/local/lib/python3.8/dist-packages/merlin/dtypes/mappings/torch.py:43: UserWarning: PyTorch dtype mappings did not load successfully due to an error: No module named 'torch'\n",
      "  warn(f\"PyTorch dtype mappings did not load successfully due to an error: {exc.msg}\")\n"
     ]
    }
   ],
   "source": [
    "import os\n",
    "import sys\n",
    "import pandas as pd\n",
    "import numpy as np\n",
    "import shutil\n",
    "from functools import partial\n",
    "sys.path.append(os.path.abspath('../../evaluation'))\n",
    "\n",
    "from EvalRSRunner import ChallengeDataset\n",
    "from EvalRSReclist import EvalRSReclist\n",
    "from reclist.reclist import LOGGER, METADATA_STORE\n",
    "from merlin.io.dataset import Dataset"
   ]
  },
  {
   "cell_type": "code",
   "execution_count": 2,
   "metadata": {},
   "outputs": [],
   "source": [
    "# If None the dataset will be saved to a temporary cache folder\n",
    "DATASET_OUT_PATH = '/data'"
   ]
  },
  {
   "cell_type": "code",
   "execution_count": 3,
   "metadata": {},
   "outputs": [],
   "source": [
    "PREPROC_DATASET_OUT_PATH = os.path.join(DATASET_OUT_PATH, \"evalrs_2023_dataset_preproc\")\n",
    "CATEG_MAPPING_FOLDER = os.path.join(PREPROC_DATASET_OUT_PATH, 'categories/')"
   ]
  },
  {
   "cell_type": "markdown",
   "metadata": {},
   "source": [
    "## Dataset download and split"
   ]
  },
  {
   "cell_type": "markdown",
   "metadata": {},
   "source": [
    "Let's first download and uncompress the dataset and all its tables.  \n",
    "In order to reduce the dataset for faster and less memory intensive computation, we set `sample_users_perc=0.25` to sample 25% of the users and keep only their events. We also set `min_user_item_freq=10` so that we have users and items with a mininum frequency of 10."
   ]
  },
  {
   "cell_type": "code",
   "execution_count": 4,
   "metadata": {
    "pycharm": {
     "name": "#%%\n"
    }
   },
   "outputs": [
    {
     "name": "stdout",
     "output_type": "stream",
     "text": [
      "LFM dataset already downloaded. Skipping download.\n",
      "Loading dataset.\n",
      "Generating dataset hashes.\n"
     ]
    }
   ],
   "source": [
    "# note, if YES, the dataset will be donwloaded again\n",
    "dataset = ChallengeDataset(force_download=False, \n",
    "                           dataset_out_path=DATASET_OUT_PATH,\n",
    "                           folded_dataset_split = False,\n",
    "                           sample_users_perc=0.25,\n",
    "                           min_user_item_freq=10)  "
   ]
  },
  {
   "cell_type": "markdown",
   "metadata": {},
   "source": [
    "The test set is defined as the last interaction for each user. So all users and items in test set are present in test set, as we are not focused in exploring the user/item cold-start problem in this example of music streaming domain."
   ]
  },
  {
   "cell_type": "code",
   "execution_count": 5,
   "metadata": {},
   "outputs": [
    {
     "name": "stdout",
     "output_type": "stream",
     "text": [
      "6869679 29722\n"
     ]
    }
   ],
   "source": [
    "events_train_df, events_test_df = dataset._get_train_set(), dataset._get_test_set()\n",
    "print(len(events_train_df), len(events_test_df))"
   ]
  },
  {
   "cell_type": "markdown",
   "metadata": {},
   "source": [
    "## Preprocessing"
   ]
  },
  {
   "cell_type": "markdown",
   "metadata": {},
   "source": [
    "**If you have already processed the dataset you can skip this section, as the parquet files were already generated in `PREPROC_DATASET_OUT_PATH`**"
   ]
  },
  {
   "cell_type": "code",
   "execution_count": 6,
   "metadata": {},
   "outputs": [],
   "source": [
    "import nvtabular as nvt\n",
    "import nvtabular.ops as ops\n",
    "from merlin.dag import ColumnSelector\n",
    "from merlin.schema import Schema, Tags"
   ]
  },
  {
   "cell_type": "code",
   "execution_count": 7,
   "metadata": {},
   "outputs": [
    {
     "data": {
      "text/plain": [
       "6869679"
      ]
     },
     "execution_count": 7,
     "metadata": {},
     "output_type": "execute_result"
    }
   ],
   "source": [
    "len(events_train_df)"
   ]
  },
  {
   "cell_type": "code",
   "execution_count": 8,
   "metadata": {},
   "outputs": [
    {
     "data": {
      "text/plain": [
       "29722"
      ]
     },
     "execution_count": 8,
     "metadata": {},
     "output_type": "execute_result"
    }
   ],
   "source": [
    "len(events_test_df)"
   ]
  },
  {
   "cell_type": "code",
   "execution_count": 9,
   "metadata": {},
   "outputs": [],
   "source": [
    "class Preprocessor:\n",
    "    \n",
    "    def events_join_tables(self, events_df):\n",
    "        events_df = events_train_df.copy()    \n",
    "        del events_df[\"timestamp\"]\n",
    "        del events_df[\"artist_id\"]\n",
    "        del events_df[\"user_track_count\"]    \n",
    "\n",
    "        users_df = dataset.df_users.copy()\n",
    "        del users_df[\"registered_unixtime\"]\n",
    "        del users_df[\"country_id\"]\n",
    "        del users_df[\"gender_id\"]\n",
    "\n",
    "        tracks_df = dataset.df_tracks.copy()\n",
    "        del tracks_df[\"artist\"]\n",
    "        del tracks_df[\"albums_id\"]\n",
    "        del tracks_df[\"albums\"]\n",
    "\n",
    "        social_tags_df = dataset.df_social_tags.reset_index()\n",
    "        social_tags_df = social_tags_df[social_tags_df[\"social_tags_weight\"] > 5]\n",
    "        social_tags_df = social_tags_df.groupby('lastfm_id').agg({\"social_tags_value\": list})\n",
    "        \n",
    "\n",
    "        emotion_tags_df = dataset.df_emotion_tags.reset_index()\n",
    "        emotion_tags_df = emotion_tags_df[emotion_tags_df[\"emotion_tags_weight\"] > 5]\n",
    "        emotion_tags_df = emotion_tags_df.groupby('lastfm_id').agg({\"emotion_tags_value\": list})        \n",
    "\n",
    "\n",
    "        event_enriched_df = events_df \\\n",
    "                .merge(users_df, left_on=\"user_id\", right_index=True) \\\n",
    "                .merge(tracks_df, left_on=\"track_id\", right_index=True) \\\n",
    "                .merge(emotion_tags_df, left_on=\"lastfm_id\", right_index=True, how=\"left\") \\\n",
    "                .merge(social_tags_df, left_on=\"lastfm_id\", right_index=True, how=\"left\")\n",
    "        event_enriched_df[\"social_tags_value\"] = event_enriched_df[\"social_tags_value\"].apply(lambda x: x if x and x is not np.nan else [\"<null>\"])\n",
    "        event_enriched_df[\"emotion_tags_value\"] = event_enriched_df[\"emotion_tags_value\"].apply(lambda x: x if x and x is not np.nan else [\"<null>\"])\n",
    "\n",
    "        return event_enriched_df\n",
    "\n",
    "\n",
    "    def get_nvtabular_preproc_workflow(self):\n",
    "        \"\"\"Defines an NVTabular preprocessing workflow\"\"\"\n",
    "\n",
    "        user_id_col = [\"user_id\"] \n",
    "        user_cat_cols = [\"country\", \"gender\"]\n",
    "        user_age_col = [\"age\"]\n",
    "\n",
    "        user_continuous_cols = [\n",
    "            'novelty_artist_avg_month', 'novelty_artist_avg_6months', 'novelty_artist_avg_year',\n",
    "            'mainstreaminess_avg_month', 'mainstreaminess_avg_6months', 'mainstreaminess_avg_year', 'mainstreaminess_global',\n",
    "            'relative_le_per_weekday1', 'relative_le_per_weekday2', 'relative_le_per_weekday3',\n",
    "             'relative_le_per_weekday4', 'relative_le_per_weekday5','relative_le_per_weekday6', 'relative_le_per_weekday7',\n",
    "             'relative_le_per_hour0', 'relative_le_per_hour1','relative_le_per_hour2', 'relative_le_per_hour3',\n",
    "             'relative_le_per_hour4', 'relative_le_per_hour5', 'relative_le_per_hour6', 'relative_le_per_hour7', \n",
    "             'relative_le_per_hour8', 'relative_le_per_hour9', 'relative_le_per_hour10', 'relative_le_per_hour11',\n",
    "             'relative_le_per_hour12', 'relative_le_per_hour13', 'relative_le_per_hour14', 'relative_le_per_hour15',\n",
    "             'relative_le_per_hour16', 'relative_le_per_hour17','relative_le_per_hour18', 'relative_le_per_hour19',\n",
    "             'relative_le_per_hour20', 'relative_le_per_hour21', 'relative_le_per_hour22', 'relative_le_per_hour23', \n",
    "        ]\n",
    "\n",
    "        user_counts_cols = ['playcount', 'cnt_listeningevents', 'cnt_distinct_tracks', \n",
    "                                'cnt_distinct_artists', 'cnt_listeningevents_per_week']\n",
    "\n",
    "        item_id = [\"track_id\"]\n",
    "        item_categ_features_cols = [\"artist_id\", \"album_id\",\n",
    "                                    'has_emotion_tags', 'has_social_tags', 'isClassic',\n",
    "                                    'emotion_tags_value', 'social_tags_value',\n",
    "                                    \"urlSong\" # Just for making it possible to join the pre-trained embeddings later\n",
    "                                   ] \n",
    "        item_cont_features_cols = ['arousal_predicted', 'valence_predicted']\n",
    "\n",
    "        user_id = user_id_col >> ops.Categorify(out_path=PREPROC_DATASET_OUT_PATH) >> ops.TagAsUserID()\n",
    "        user_feat_cat = user_cat_cols >> ops.Categorify(out_path=PREPROC_DATASET_OUT_PATH) >> ops.TagAsUserFeatures()\n",
    "        age_boundaries = list(np.arange(0,100,5))\n",
    "        user_age = user_age_col >> ops.FillMissing(0) >> ops.Bucketize(age_boundaries) >> ops.Categorify(out_path=PREPROC_DATASET_OUT_PATH) >> ops.TagAsUserFeatures()\n",
    "        user_feat_cont = user_continuous_cols >> ops.FillMedian() >> ops.Normalize() >> ops.TagAsUserFeatures()\n",
    "        user_feat_count = user_counts_cols >> ops.Clip(min_value=1) >> ops.FillMedian() >> ops.LogOp() >> ops.Normalize() >> ops.TagAsUserFeatures()\n",
    "        user_features = user_id + user_feat_cat + user_age + user_feat_cont + user_feat_count\n",
    "\n",
    "        item_id = item_id >> ops.Categorify(out_path=PREPROC_DATASET_OUT_PATH) >> ops.TagAsItemID()\n",
    "        item_cat_feat = item_categ_features_cols >> ops.Categorify(out_path=PREPROC_DATASET_OUT_PATH) >> ops.TagAsItemFeatures()\n",
    "        item_cont_feat = item_cont_features_cols >> ops.FillMedian() >> ops.Normalize() >> ops.TagAsItemFeatures()\n",
    "        item_features = item_id + item_cat_feat + item_cont_feat\n",
    "\n",
    "        outputs = user_features + item_features\n",
    "        workflow = nvt.Workflow(outputs)\n",
    "        return workflow\n",
    "\n",
    "    def preprocess_dataset(self, events_df, output_path):\n",
    "        \"\"\"Preprocess the dataset using an NVTabular workflow\"\"\"        \n",
    "        nvt_dataset = nvt.Dataset(events_df)\n",
    "        \n",
    "        shutil.rmtree(CATEG_MAPPING_FOLDER, ignore_errors=True)\n",
    "\n",
    "        nvt_workflow = self.get_nvtabular_preproc_workflow()\n",
    "        nvt_workflow.fit(nvt_dataset)\n",
    "        schema = nvt_workflow.output_schema\n",
    "\n",
    "        transformed_dataset = nvt_workflow.transform(nvt_dataset)        \n",
    "        transformed_dataset.to_parquet(output_path)"
   ]
  },
  {
   "cell_type": "markdown",
   "metadata": {},
   "source": [
    "#### Joining the train set with auxiliary tables"
   ]
  },
  {
   "cell_type": "markdown",
   "metadata": {},
   "source": [
    "The next cell joins the events with the auxiliary tables (e.g. users, tracks, emotions, topics, etc), so that it forms a single train set."
   ]
  },
  {
   "cell_type": "code",
   "execution_count": 10,
   "metadata": {},
   "outputs": [
    {
     "data": {
      "text/html": [
       "<div>\n",
       "<style scoped>\n",
       "    .dataframe tbody tr th:only-of-type {\n",
       "        vertical-align: middle;\n",
       "    }\n",
       "\n",
       "    .dataframe tbody tr th {\n",
       "        vertical-align: top;\n",
       "    }\n",
       "\n",
       "    .dataframe thead th {\n",
       "        text-align: right;\n",
       "    }\n",
       "</style>\n",
       "<table border=\"1\" class=\"dataframe\">\n",
       "  <thead>\n",
       "    <tr style=\"text-align: right;\">\n",
       "      <th></th>\n",
       "      <th>user_id</th>\n",
       "      <th>album_id</th>\n",
       "      <th>track_id</th>\n",
       "      <th>country</th>\n",
       "      <th>age</th>\n",
       "      <th>gender</th>\n",
       "      <th>playcount</th>\n",
       "      <th>novelty_artist_avg_month</th>\n",
       "      <th>novelty_artist_avg_6months</th>\n",
       "      <th>novelty_artist_avg_year</th>\n",
       "      <th>...</th>\n",
       "      <th>artist_id</th>\n",
       "      <th>urlSong</th>\n",
       "      <th>arousal_predicted</th>\n",
       "      <th>valence_predicted</th>\n",
       "      <th>lastfm_id</th>\n",
       "      <th>has_emotion_tags</th>\n",
       "      <th>has_social_tags</th>\n",
       "      <th>isClassic</th>\n",
       "      <th>emotion_tags_value</th>\n",
       "      <th>social_tags_value</th>\n",
       "    </tr>\n",
       "  </thead>\n",
       "  <tbody>\n",
       "    <tr>\n",
       "      <th>1</th>\n",
       "      <td>50967444</td>\n",
       "      <td>114114</td>\n",
       "      <td>336156</td>\n",
       "      <td>None</td>\n",
       "      <td>16</td>\n",
       "      <td>n</td>\n",
       "      <td>262</td>\n",
       "      <td>0.263945</td>\n",
       "      <td>0.059712</td>\n",
       "      <td>0.512946</td>\n",
       "      <td>...</td>\n",
       "      <td>3059</td>\n",
       "      <td>http://lyrics.wikia.com/Sufjan_Stevens:Tahquam...</td>\n",
       "      <td>-0.076169</td>\n",
       "      <td>-0.118055</td>\n",
       "      <td>TRTSJVD128F427EEF4</td>\n",
       "      <td>True</td>\n",
       "      <td>True</td>\n",
       "      <td>False</td>\n",
       "      <td>[mellow, relaxing, soothing]</td>\n",
       "      <td>[indie, instrumental, folk, mellow, alternativ...</td>\n",
       "    </tr>\n",
       "    <tr>\n",
       "      <th>49099</th>\n",
       "      <td>49932292</td>\n",
       "      <td>114114</td>\n",
       "      <td>336156</td>\n",
       "      <td>ES</td>\n",
       "      <td>25</td>\n",
       "      <td>f</td>\n",
       "      <td>777</td>\n",
       "      <td>0.517772</td>\n",
       "      <td>0.121765</td>\n",
       "      <td>0.380952</td>\n",
       "      <td>...</td>\n",
       "      <td>3059</td>\n",
       "      <td>http://lyrics.wikia.com/Sufjan_Stevens:Tahquam...</td>\n",
       "      <td>-0.076169</td>\n",
       "      <td>-0.118055</td>\n",
       "      <td>TRTSJVD128F427EEF4</td>\n",
       "      <td>True</td>\n",
       "      <td>True</td>\n",
       "      <td>False</td>\n",
       "      <td>[mellow, relaxing, soothing]</td>\n",
       "      <td>[indie, instrumental, folk, mellow, alternativ...</td>\n",
       "    </tr>\n",
       "    <tr>\n",
       "      <th>98471</th>\n",
       "      <td>49844991</td>\n",
       "      <td>310428</td>\n",
       "      <td>336156</td>\n",
       "      <td>None</td>\n",
       "      <td>-1</td>\n",
       "      <td>n</td>\n",
       "      <td>77</td>\n",
       "      <td>0.281976</td>\n",
       "      <td>0.053891</td>\n",
       "      <td>0.485772</td>\n",
       "      <td>...</td>\n",
       "      <td>3059</td>\n",
       "      <td>http://lyrics.wikia.com/Sufjan_Stevens:Tahquam...</td>\n",
       "      <td>-0.076169</td>\n",
       "      <td>-0.118055</td>\n",
       "      <td>TRTSJVD128F427EEF4</td>\n",
       "      <td>True</td>\n",
       "      <td>True</td>\n",
       "      <td>False</td>\n",
       "      <td>[mellow, relaxing, soothing]</td>\n",
       "      <td>[indie, instrumental, folk, mellow, alternativ...</td>\n",
       "    </tr>\n",
       "    <tr>\n",
       "      <th>635664</th>\n",
       "      <td>49315469</td>\n",
       "      <td>200774</td>\n",
       "      <td>336156</td>\n",
       "      <td>None</td>\n",
       "      <td>-1</td>\n",
       "      <td>n</td>\n",
       "      <td>997</td>\n",
       "      <td>0.366650</td>\n",
       "      <td>0.041330</td>\n",
       "      <td>0.546916</td>\n",
       "      <td>...</td>\n",
       "      <td>3059</td>\n",
       "      <td>http://lyrics.wikia.com/Sufjan_Stevens:Tahquam...</td>\n",
       "      <td>-0.076169</td>\n",
       "      <td>-0.118055</td>\n",
       "      <td>TRTSJVD128F427EEF4</td>\n",
       "      <td>True</td>\n",
       "      <td>True</td>\n",
       "      <td>False</td>\n",
       "      <td>[mellow, relaxing, soothing]</td>\n",
       "      <td>[indie, instrumental, folk, mellow, alternativ...</td>\n",
       "    </tr>\n",
       "    <tr>\n",
       "      <th>1162136</th>\n",
       "      <td>48657342</td>\n",
       "      <td>310428</td>\n",
       "      <td>336156</td>\n",
       "      <td>None</td>\n",
       "      <td>-1</td>\n",
       "      <td>n</td>\n",
       "      <td>1930</td>\n",
       "      <td>0.233702</td>\n",
       "      <td>0.103151</td>\n",
       "      <td>0.553339</td>\n",
       "      <td>...</td>\n",
       "      <td>3059</td>\n",
       "      <td>http://lyrics.wikia.com/Sufjan_Stevens:Tahquam...</td>\n",
       "      <td>-0.076169</td>\n",
       "      <td>-0.118055</td>\n",
       "      <td>TRTSJVD128F427EEF4</td>\n",
       "      <td>True</td>\n",
       "      <td>True</td>\n",
       "      <td>False</td>\n",
       "      <td>[mellow, relaxing, soothing]</td>\n",
       "      <td>[indie, instrumental, folk, mellow, alternativ...</td>\n",
       "    </tr>\n",
       "    <tr>\n",
       "      <th>...</th>\n",
       "      <td>...</td>\n",
       "      <td>...</td>\n",
       "      <td>...</td>\n",
       "      <td>...</td>\n",
       "      <td>...</td>\n",
       "      <td>...</td>\n",
       "      <td>...</td>\n",
       "      <td>...</td>\n",
       "      <td>...</td>\n",
       "      <td>...</td>\n",
       "      <td>...</td>\n",
       "      <td>...</td>\n",
       "      <td>...</td>\n",
       "      <td>...</td>\n",
       "      <td>...</td>\n",
       "      <td>...</td>\n",
       "      <td>...</td>\n",
       "      <td>...</td>\n",
       "      <td>...</td>\n",
       "      <td>...</td>\n",
       "      <td>...</td>\n",
       "    </tr>\n",
       "    <tr>\n",
       "      <th>6665266</th>\n",
       "      <td>3385917</td>\n",
       "      <td>4815497</td>\n",
       "      <td>10504230</td>\n",
       "      <td>US</td>\n",
       "      <td>40</td>\n",
       "      <td>m</td>\n",
       "      <td>95522</td>\n",
       "      <td>0.292078</td>\n",
       "      <td>0.030747</td>\n",
       "      <td>0.518262</td>\n",
       "      <td>...</td>\n",
       "      <td>5304</td>\n",
       "      <td>None</td>\n",
       "      <td>NaN</td>\n",
       "      <td>NaN</td>\n",
       "      <td>None</td>\n",
       "      <td>None</td>\n",
       "      <td>None</td>\n",
       "      <td>None</td>\n",
       "      <td>[&lt;null&gt;]</td>\n",
       "      <td>[&lt;null&gt;]</td>\n",
       "    </tr>\n",
       "    <tr>\n",
       "      <th>6767652</th>\n",
       "      <td>2689446</td>\n",
       "      <td>4815497</td>\n",
       "      <td>10504230</td>\n",
       "      <td>UK</td>\n",
       "      <td>34</td>\n",
       "      <td>m</td>\n",
       "      <td>143799</td>\n",
       "      <td>0.637427</td>\n",
       "      <td>0.031232</td>\n",
       "      <td>0.749870</td>\n",
       "      <td>...</td>\n",
       "      <td>5304</td>\n",
       "      <td>None</td>\n",
       "      <td>NaN</td>\n",
       "      <td>NaN</td>\n",
       "      <td>None</td>\n",
       "      <td>None</td>\n",
       "      <td>None</td>\n",
       "      <td>None</td>\n",
       "      <td>[&lt;null&gt;]</td>\n",
       "      <td>[&lt;null&gt;]</td>\n",
       "    </tr>\n",
       "    <tr>\n",
       "      <th>6770998</th>\n",
       "      <td>2670686</td>\n",
       "      <td>6215198</td>\n",
       "      <td>10504230</td>\n",
       "      <td>None</td>\n",
       "      <td>-1</td>\n",
       "      <td>n</td>\n",
       "      <td>28180</td>\n",
       "      <td>0.477809</td>\n",
       "      <td>0.069842</td>\n",
       "      <td>0.575084</td>\n",
       "      <td>...</td>\n",
       "      <td>5304</td>\n",
       "      <td>None</td>\n",
       "      <td>NaN</td>\n",
       "      <td>NaN</td>\n",
       "      <td>None</td>\n",
       "      <td>None</td>\n",
       "      <td>None</td>\n",
       "      <td>None</td>\n",
       "      <td>[&lt;null&gt;]</td>\n",
       "      <td>[&lt;null&gt;]</td>\n",
       "    </tr>\n",
       "    <tr>\n",
       "      <th>6805537</th>\n",
       "      <td>2508901</td>\n",
       "      <td>4815497</td>\n",
       "      <td>10504230</td>\n",
       "      <td>US</td>\n",
       "      <td>31</td>\n",
       "      <td>m</td>\n",
       "      <td>75859</td>\n",
       "      <td>0.200235</td>\n",
       "      <td>0.097100</td>\n",
       "      <td>0.345057</td>\n",
       "      <td>...</td>\n",
       "      <td>5304</td>\n",
       "      <td>None</td>\n",
       "      <td>NaN</td>\n",
       "      <td>NaN</td>\n",
       "      <td>None</td>\n",
       "      <td>None</td>\n",
       "      <td>None</td>\n",
       "      <td>None</td>\n",
       "      <td>[&lt;null&gt;]</td>\n",
       "      <td>[&lt;null&gt;]</td>\n",
       "    </tr>\n",
       "    <tr>\n",
       "      <th>6831883</th>\n",
       "      <td>2401335</td>\n",
       "      <td>4815497</td>\n",
       "      <td>10504230</td>\n",
       "      <td>BR</td>\n",
       "      <td>28</td>\n",
       "      <td>m</td>\n",
       "      <td>31108</td>\n",
       "      <td>0.294123</td>\n",
       "      <td>0.036751</td>\n",
       "      <td>0.388470</td>\n",
       "      <td>...</td>\n",
       "      <td>5304</td>\n",
       "      <td>None</td>\n",
       "      <td>NaN</td>\n",
       "      <td>NaN</td>\n",
       "      <td>None</td>\n",
       "      <td>None</td>\n",
       "      <td>None</td>\n",
       "      <td>None</td>\n",
       "      <td>[&lt;null&gt;]</td>\n",
       "      <td>[&lt;null&gt;]</td>\n",
       "    </tr>\n",
       "  </tbody>\n",
       "</table>\n",
       "<p>6869679 rows × 60 columns</p>\n",
       "</div>"
      ],
      "text/plain": [
       "          user_id  album_id  track_id country  age gender  playcount  \\\n",
       "1        50967444    114114    336156    None   16      n        262   \n",
       "49099    49932292    114114    336156      ES   25      f        777   \n",
       "98471    49844991    310428    336156    None   -1      n         77   \n",
       "635664   49315469    200774    336156    None   -1      n        997   \n",
       "1162136  48657342    310428    336156    None   -1      n       1930   \n",
       "...           ...       ...       ...     ...  ...    ...        ...   \n",
       "6665266   3385917   4815497  10504230      US   40      m      95522   \n",
       "6767652   2689446   4815497  10504230      UK   34      m     143799   \n",
       "6770998   2670686   6215198  10504230    None   -1      n      28180   \n",
       "6805537   2508901   4815497  10504230      US   31      m      75859   \n",
       "6831883   2401335   4815497  10504230      BR   28      m      31108   \n",
       "\n",
       "         novelty_artist_avg_month  novelty_artist_avg_6months  \\\n",
       "1                        0.263945                    0.059712   \n",
       "49099                    0.517772                    0.121765   \n",
       "98471                    0.281976                    0.053891   \n",
       "635664                   0.366650                    0.041330   \n",
       "1162136                  0.233702                    0.103151   \n",
       "...                           ...                         ...   \n",
       "6665266                  0.292078                    0.030747   \n",
       "6767652                  0.637427                    0.031232   \n",
       "6770998                  0.477809                    0.069842   \n",
       "6805537                  0.200235                    0.097100   \n",
       "6831883                  0.294123                    0.036751   \n",
       "\n",
       "         novelty_artist_avg_year  ...  artist_id  \\\n",
       "1                       0.512946  ...       3059   \n",
       "49099                   0.380952  ...       3059   \n",
       "98471                   0.485772  ...       3059   \n",
       "635664                  0.546916  ...       3059   \n",
       "1162136                 0.553339  ...       3059   \n",
       "...                          ...  ...        ...   \n",
       "6665266                 0.518262  ...       5304   \n",
       "6767652                 0.749870  ...       5304   \n",
       "6770998                 0.575084  ...       5304   \n",
       "6805537                 0.345057  ...       5304   \n",
       "6831883                 0.388470  ...       5304   \n",
       "\n",
       "                                                   urlSong  arousal_predicted  \\\n",
       "1        http://lyrics.wikia.com/Sufjan_Stevens:Tahquam...          -0.076169   \n",
       "49099    http://lyrics.wikia.com/Sufjan_Stevens:Tahquam...          -0.076169   \n",
       "98471    http://lyrics.wikia.com/Sufjan_Stevens:Tahquam...          -0.076169   \n",
       "635664   http://lyrics.wikia.com/Sufjan_Stevens:Tahquam...          -0.076169   \n",
       "1162136  http://lyrics.wikia.com/Sufjan_Stevens:Tahquam...          -0.076169   \n",
       "...                                                    ...                ...   \n",
       "6665266                                               None                NaN   \n",
       "6767652                                               None                NaN   \n",
       "6770998                                               None                NaN   \n",
       "6805537                                               None                NaN   \n",
       "6831883                                               None                NaN   \n",
       "\n",
       "         valence_predicted           lastfm_id  has_emotion_tags  \\\n",
       "1                -0.118055  TRTSJVD128F427EEF4              True   \n",
       "49099            -0.118055  TRTSJVD128F427EEF4              True   \n",
       "98471            -0.118055  TRTSJVD128F427EEF4              True   \n",
       "635664           -0.118055  TRTSJVD128F427EEF4              True   \n",
       "1162136          -0.118055  TRTSJVD128F427EEF4              True   \n",
       "...                    ...                 ...               ...   \n",
       "6665266                NaN                None              None   \n",
       "6767652                NaN                None              None   \n",
       "6770998                NaN                None              None   \n",
       "6805537                NaN                None              None   \n",
       "6831883                NaN                None              None   \n",
       "\n",
       "         has_social_tags  isClassic            emotion_tags_value  \\\n",
       "1                   True      False  [mellow, relaxing, soothing]   \n",
       "49099               True      False  [mellow, relaxing, soothing]   \n",
       "98471               True      False  [mellow, relaxing, soothing]   \n",
       "635664              True      False  [mellow, relaxing, soothing]   \n",
       "1162136             True      False  [mellow, relaxing, soothing]   \n",
       "...                  ...        ...                           ...   \n",
       "6665266             None       None                      [<null>]   \n",
       "6767652             None       None                      [<null>]   \n",
       "6770998             None       None                      [<null>]   \n",
       "6805537             None       None                      [<null>]   \n",
       "6831883             None       None                      [<null>]   \n",
       "\n",
       "                                         social_tags_value  \n",
       "1        [indie, instrumental, folk, mellow, alternativ...  \n",
       "49099    [indie, instrumental, folk, mellow, alternativ...  \n",
       "98471    [indie, instrumental, folk, mellow, alternativ...  \n",
       "635664   [indie, instrumental, folk, mellow, alternativ...  \n",
       "1162136  [indie, instrumental, folk, mellow, alternativ...  \n",
       "...                                                    ...  \n",
       "6665266                                           [<null>]  \n",
       "6767652                                           [<null>]  \n",
       "6770998                                           [<null>]  \n",
       "6805537                                           [<null>]  \n",
       "6831883                                           [<null>]  \n",
       "\n",
       "[6869679 rows x 60 columns]"
      ]
     },
     "execution_count": 10,
     "metadata": {},
     "output_type": "execute_result"
    }
   ],
   "source": [
    "preprocessor = Preprocessor()\n",
    "events_train_enriched_df = preprocessor.events_join_tables(events_train_df)\n",
    "events_train_enriched_df"
   ]
  },
  {
   "cell_type": "markdown",
   "metadata": {},
   "source": [
    "#### Preprocess the dataset with NVTabular and export to parquet files"
   ]
  },
  {
   "cell_type": "markdown",
   "metadata": {},
   "source": [
    "For preprocessing, we use the [NVTabular](https://github.com/NVIDIA-Merlin/NVTabular) library, which provides very handful features for common operations like (label) encoding categorical features for embeddings and normalization for continuous features. NVTabular works both with CPUs and GPUs. \n",
    "The output parquet files will be saved to `PREPROC_DATASET_OUT_PATH` folder"
   ]
  },
  {
   "cell_type": "code",
   "execution_count": 11,
   "metadata": {},
   "outputs": [],
   "source": [
    "preprocessor.preprocess_dataset(events_train_enriched_df, \n",
    "                                output_path=PREPROC_DATASET_OUT_PATH)"
   ]
  },
  {
   "cell_type": "markdown",
   "metadata": {},
   "source": [
    "## Loading the preprocesset dataset"
   ]
  },
  {
   "cell_type": "code",
   "execution_count": 12,
   "metadata": {},
   "outputs": [],
   "source": [
    "train_ds = Dataset(os.path.join(PREPROC_DATASET_OUT_PATH, '*.parquet'))"
   ]
  },
  {
   "cell_type": "code",
   "execution_count": 13,
   "metadata": {
    "scrolled": true
   },
   "outputs": [
    {
     "data": {
      "text/html": [
       "<div>\n",
       "<style scoped>\n",
       "    .dataframe tbody tr th:only-of-type {\n",
       "        vertical-align: middle;\n",
       "    }\n",
       "\n",
       "    .dataframe tbody tr th {\n",
       "        vertical-align: top;\n",
       "    }\n",
       "\n",
       "    .dataframe thead th {\n",
       "        text-align: right;\n",
       "    }\n",
       "</style>\n",
       "<table border=\"1\" class=\"dataframe\">\n",
       "  <thead>\n",
       "    <tr style=\"text-align: right;\">\n",
       "      <th></th>\n",
       "      <th>user_id</th>\n",
       "      <th>country</th>\n",
       "      <th>gender</th>\n",
       "      <th>age</th>\n",
       "      <th>novelty_artist_avg_month</th>\n",
       "      <th>novelty_artist_avg_6months</th>\n",
       "      <th>novelty_artist_avg_year</th>\n",
       "      <th>mainstreaminess_avg_month</th>\n",
       "      <th>mainstreaminess_avg_6months</th>\n",
       "      <th>mainstreaminess_avg_year</th>\n",
       "      <th>...</th>\n",
       "      <th>artist_id</th>\n",
       "      <th>album_id</th>\n",
       "      <th>has_emotion_tags</th>\n",
       "      <th>has_social_tags</th>\n",
       "      <th>isClassic</th>\n",
       "      <th>emotion_tags_value</th>\n",
       "      <th>social_tags_value</th>\n",
       "      <th>urlSong</th>\n",
       "      <th>arousal_predicted</th>\n",
       "      <th>valence_predicted</th>\n",
       "    </tr>\n",
       "  </thead>\n",
       "  <tbody>\n",
       "    <tr>\n",
       "      <th>0</th>\n",
       "      <td>10832</td>\n",
       "      <td>2</td>\n",
       "      <td>3</td>\n",
       "      <td>5</td>\n",
       "      <td>-0.626581</td>\n",
       "      <td>0.813531</td>\n",
       "      <td>0.090792</td>\n",
       "      <td>1.572557</td>\n",
       "      <td>0.848605</td>\n",
       "      <td>0.585004</td>\n",
       "      <td>...</td>\n",
       "      <td>204</td>\n",
       "      <td>18709</td>\n",
       "      <td>3</td>\n",
       "      <td>3</td>\n",
       "      <td>3</td>\n",
       "      <td>[4, 13, 28]</td>\n",
       "      <td>[7, 65, 30, 20, 5, 2666, 42, 1666, 2414, 846, ...</td>\n",
       "      <td>54956</td>\n",
       "      <td>-0.189828</td>\n",
       "      <td>0.367678</td>\n",
       "    </tr>\n",
       "    <tr>\n",
       "      <th>1</th>\n",
       "      <td>5670</td>\n",
       "      <td>1</td>\n",
       "      <td>5</td>\n",
       "      <td>6</td>\n",
       "      <td>0.748759</td>\n",
       "      <td>3.807387</td>\n",
       "      <td>-0.588009</td>\n",
       "      <td>-1.421893</td>\n",
       "      <td>-0.751658</td>\n",
       "      <td>0.203650</td>\n",
       "      <td>...</td>\n",
       "      <td>204</td>\n",
       "      <td>18709</td>\n",
       "      <td>1</td>\n",
       "      <td>1</td>\n",
       "      <td>3</td>\n",
       "      <td>[4, 13, 28]</td>\n",
       "      <td>[7, 65, 30, 20, 5, 2666, 42, 1666, 2414, 846, ...</td>\n",
       "      <td>54956</td>\n",
       "      <td>-0.189828</td>\n",
       "      <td>0.367678</td>\n",
       "    </tr>\n",
       "    <tr>\n",
       "      <th>2</th>\n",
       "      <td>12052</td>\n",
       "      <td>1</td>\n",
       "      <td>3</td>\n",
       "      <td>3</td>\n",
       "      <td>-0.528880</td>\n",
       "      <td>0.532691</td>\n",
       "      <td>-0.048953</td>\n",
       "      <td>-0.158593</td>\n",
       "      <td>1.100500</td>\n",
       "      <td>-1.213415</td>\n",
       "      <td>...</td>\n",
       "      <td>204</td>\n",
       "      <td>5670</td>\n",
       "      <td>1</td>\n",
       "      <td>1</td>\n",
       "      <td>3</td>\n",
       "      <td>[4, 13, 28]</td>\n",
       "      <td>[7, 65, 30, 20, 5, 2666, 42, 1666, 2414, 846, ...</td>\n",
       "      <td>54956</td>\n",
       "      <td>-0.189828</td>\n",
       "      <td>0.367678</td>\n",
       "    </tr>\n",
       "    <tr>\n",
       "      <th>3</th>\n",
       "      <td>10640</td>\n",
       "      <td>1</td>\n",
       "      <td>3</td>\n",
       "      <td>3</td>\n",
       "      <td>-0.070079</td>\n",
       "      <td>-0.073335</td>\n",
       "      <td>0.265490</td>\n",
       "      <td>0.195524</td>\n",
       "      <td>-0.748907</td>\n",
       "      <td>-0.383778</td>\n",
       "      <td>...</td>\n",
       "      <td>204</td>\n",
       "      <td>24082</td>\n",
       "      <td>1</td>\n",
       "      <td>1</td>\n",
       "      <td>1</td>\n",
       "      <td>[4, 13, 28]</td>\n",
       "      <td>[7, 65, 30, 20, 5, 2666, 42, 1666, 2414, 846, ...</td>\n",
       "      <td>1</td>\n",
       "      <td>-0.189828</td>\n",
       "      <td>0.367678</td>\n",
       "    </tr>\n",
       "    <tr>\n",
       "      <th>4</th>\n",
       "      <td>6594</td>\n",
       "      <td>1</td>\n",
       "      <td>3</td>\n",
       "      <td>3</td>\n",
       "      <td>-0.790451</td>\n",
       "      <td>2.909314</td>\n",
       "      <td>0.298523</td>\n",
       "      <td>0.167329</td>\n",
       "      <td>-0.753980</td>\n",
       "      <td>0.618950</td>\n",
       "      <td>...</td>\n",
       "      <td>204</td>\n",
       "      <td>5670</td>\n",
       "      <td>1</td>\n",
       "      <td>1</td>\n",
       "      <td>3</td>\n",
       "      <td>[4, 13, 28]</td>\n",
       "      <td>[7, 65, 30, 20, 5, 2666, 42, 1666, 2414, 846, ...</td>\n",
       "      <td>54956</td>\n",
       "      <td>-0.189828</td>\n",
       "      <td>0.367678</td>\n",
       "    </tr>\n",
       "  </tbody>\n",
       "</table>\n",
       "<p>5 rows × 58 columns</p>\n",
       "</div>"
      ],
      "text/plain": [
       "   user_id  country  gender  age  novelty_artist_avg_month  \\\n",
       "0    10832        2       3    5                 -0.626581   \n",
       "1     5670        1       5    6                  0.748759   \n",
       "2    12052        1       3    3                 -0.528880   \n",
       "3    10640        1       3    3                 -0.070079   \n",
       "4     6594        1       3    3                 -0.790451   \n",
       "\n",
       "   novelty_artist_avg_6months  novelty_artist_avg_year  \\\n",
       "0                    0.813531                 0.090792   \n",
       "1                    3.807387                -0.588009   \n",
       "2                    0.532691                -0.048953   \n",
       "3                   -0.073335                 0.265490   \n",
       "4                    2.909314                 0.298523   \n",
       "\n",
       "   mainstreaminess_avg_month  mainstreaminess_avg_6months  \\\n",
       "0                   1.572557                     0.848605   \n",
       "1                  -1.421893                    -0.751658   \n",
       "2                  -0.158593                     1.100500   \n",
       "3                   0.195524                    -0.748907   \n",
       "4                   0.167329                    -0.753980   \n",
       "\n",
       "   mainstreaminess_avg_year  ...  artist_id  album_id  has_emotion_tags  \\\n",
       "0                  0.585004  ...        204     18709                 3   \n",
       "1                  0.203650  ...        204     18709                 1   \n",
       "2                 -1.213415  ...        204      5670                 1   \n",
       "3                 -0.383778  ...        204     24082                 1   \n",
       "4                  0.618950  ...        204      5670                 1   \n",
       "\n",
       "   has_social_tags  isClassic  emotion_tags_value  \\\n",
       "0                3          3         [4, 13, 28]   \n",
       "1                1          3         [4, 13, 28]   \n",
       "2                1          3         [4, 13, 28]   \n",
       "3                1          1         [4, 13, 28]   \n",
       "4                1          3         [4, 13, 28]   \n",
       "\n",
       "                                   social_tags_value urlSong  \\\n",
       "0  [7, 65, 30, 20, 5, 2666, 42, 1666, 2414, 846, ...   54956   \n",
       "1  [7, 65, 30, 20, 5, 2666, 42, 1666, 2414, 846, ...   54956   \n",
       "2  [7, 65, 30, 20, 5, 2666, 42, 1666, 2414, 846, ...   54956   \n",
       "3  [7, 65, 30, 20, 5, 2666, 42, 1666, 2414, 846, ...       1   \n",
       "4  [7, 65, 30, 20, 5, 2666, 42, 1666, 2414, 846, ...   54956   \n",
       "\n",
       "   arousal_predicted  valence_predicted  \n",
       "0          -0.189828           0.367678  \n",
       "1          -0.189828           0.367678  \n",
       "2          -0.189828           0.367678  \n",
       "3          -0.189828           0.367678  \n",
       "4          -0.189828           0.367678  \n",
       "\n",
       "[5 rows x 58 columns]"
      ]
     },
     "execution_count": 13,
     "metadata": {},
     "output_type": "execute_result"
    }
   ],
   "source": [
    "train_ds.to_ddf().head()"
   ]
  },
  {
   "cell_type": "code",
   "execution_count": 14,
   "metadata": {},
   "outputs": [],
   "source": [
    "# Loads mapping of categ features after the workflow is fit\n",
    "user_ids_mapping_df = pd.read_parquet(os.path.join(CATEG_MAPPING_FOLDER, 'unique.user_id.parquet'))[['user_id']]\n",
    "track_ids_mapping_df = pd.read_parquet(os.path.join(CATEG_MAPPING_FOLDER, 'unique.track_id.parquet'))[['track_id']]\n",
    "url_song_ids_mapping_df = pd.read_parquet(os.path.join(CATEG_MAPPING_FOLDER, 'unique.urlSong.parquet'))[['urlSong']]"
   ]
  },
  {
   "cell_type": "markdown",
   "metadata": {},
   "source": [
    "### Preparing Songs lyrics embeddings\n",
    "\n",
    "This section prepares a matrix with the song lyrics pre-trained embeddings. It can be used by the Two-Tower model as an item feature."
   ]
  },
  {
   "cell_type": "code",
   "execution_count": 15,
   "metadata": {},
   "outputs": [
    {
     "data": {
      "text/html": [
       "<div>\n",
       "<style scoped>\n",
       "    .dataframe tbody tr th:only-of-type {\n",
       "        vertical-align: middle;\n",
       "    }\n",
       "\n",
       "    .dataframe tbody tr th {\n",
       "        vertical-align: top;\n",
       "    }\n",
       "\n",
       "    .dataframe thead th {\n",
       "        text-align: right;\n",
       "    }\n",
       "</style>\n",
       "<table border=\"1\" class=\"dataframe\">\n",
       "  <thead>\n",
       "    <tr style=\"text-align: right;\">\n",
       "      <th></th>\n",
       "      <th>song_embedding</th>\n",
       "    </tr>\n",
       "    <tr>\n",
       "      <th>url_song_index</th>\n",
       "      <th></th>\n",
       "    </tr>\n",
       "  </thead>\n",
       "  <tbody>\n",
       "    <tr>\n",
       "      <th>3</th>\n",
       "      <td>[0.040728766, 0.028635837, -0.010818669, -0.08...</td>\n",
       "    </tr>\n",
       "    <tr>\n",
       "      <th>4</th>\n",
       "      <td>[-0.00038573408, 0.015808051, -0.017853128, -0...</td>\n",
       "    </tr>\n",
       "    <tr>\n",
       "      <th>5</th>\n",
       "      <td>[0.00045647967, 0.08925042, 0.038907174, -0.03...</td>\n",
       "    </tr>\n",
       "    <tr>\n",
       "      <th>6</th>\n",
       "      <td>[-0.034443233, -0.011341039, 0.008480853, -0.0...</td>\n",
       "    </tr>\n",
       "    <tr>\n",
       "      <th>7</th>\n",
       "      <td>[0.04746266, 0.048200216, 0.02619298, 0.020876...</td>\n",
       "    </tr>\n",
       "    <tr>\n",
       "      <th>...</th>\n",
       "      <td>...</td>\n",
       "    </tr>\n",
       "    <tr>\n",
       "      <th>146616</th>\n",
       "      <td>[0.026716162, -0.069737315, 0.018002456, 0.038...</td>\n",
       "    </tr>\n",
       "    <tr>\n",
       "      <th>146617</th>\n",
       "      <td>[0.005791276, -4.8687336e-05, 0.01080327, -0.0...</td>\n",
       "    </tr>\n",
       "    <tr>\n",
       "      <th>146619</th>\n",
       "      <td>[0.032971963, 0.014805067, 0.0059817433, -0.02...</td>\n",
       "    </tr>\n",
       "    <tr>\n",
       "      <th>146620</th>\n",
       "      <td>[-0.027753226, 0.067928165, 0.015239163, -0.00...</td>\n",
       "    </tr>\n",
       "    <tr>\n",
       "      <th>146621</th>\n",
       "      <td>[0.005791276, -4.8687336e-05, 0.01080327, -0.0...</td>\n",
       "    </tr>\n",
       "  </tbody>\n",
       "</table>\n",
       "<p>141599 rows × 1 columns</p>\n",
       "</div>"
      ],
      "text/plain": [
       "                                                   song_embedding\n",
       "url_song_index                                                   \n",
       "3               [0.040728766, 0.028635837, -0.010818669, -0.08...\n",
       "4               [-0.00038573408, 0.015808051, -0.017853128, -0...\n",
       "5               [0.00045647967, 0.08925042, 0.038907174, -0.03...\n",
       "6               [-0.034443233, -0.011341039, 0.008480853, -0.0...\n",
       "7               [0.04746266, 0.048200216, 0.02619298, 0.020876...\n",
       "...                                                           ...\n",
       "146616          [0.026716162, -0.069737315, 0.018002456, 0.038...\n",
       "146617          [0.005791276, -4.8687336e-05, 0.01080327, -0.0...\n",
       "146619          [0.032971963, 0.014805067, 0.0059817433, -0.02...\n",
       "146620          [-0.027753226, 0.067928165, 0.015239163, -0.00...\n",
       "146621          [0.005791276, -4.8687336e-05, 0.01080327, -0.0...\n",
       "\n",
       "[141599 rows x 1 columns]"
      ]
     },
     "execution_count": 15,
     "metadata": {},
     "output_type": "execute_result"
    }
   ],
   "source": [
    "song_embeddings_df = dataset.df_song_embeddings.merge(url_song_ids_mapping_df.reset_index().rename({\"index\": \"url_song_index\"}, axis=1),\n",
    "                                 on=\"urlSong\").set_index(\"url_song_index\").sort_index()\n",
    "del song_embeddings_df[\"urlSong\"]\n",
    "song_embeddings_df"
   ]
  },
  {
   "cell_type": "code",
   "execution_count": 16,
   "metadata": {},
   "outputs": [],
   "source": [
    "avg_embedding = np.vstack(song_embeddings_df['song_embedding'].values).mean(axis=0)"
   ]
  },
  {
   "cell_type": "code",
   "execution_count": 17,
   "metadata": {},
   "outputs": [],
   "source": [
    "song_embeddings_df = song_embeddings_df.reindex(np.arange(song_embeddings_df.index.max()+1), \n",
    "                                                fill_value=avg_embedding)"
   ]
  },
  {
   "cell_type": "code",
   "execution_count": 18,
   "metadata": {},
   "outputs": [
    {
     "data": {
      "text/html": [
       "<div>\n",
       "<style scoped>\n",
       "    .dataframe tbody tr th:only-of-type {\n",
       "        vertical-align: middle;\n",
       "    }\n",
       "\n",
       "    .dataframe tbody tr th {\n",
       "        vertical-align: top;\n",
       "    }\n",
       "\n",
       "    .dataframe thead th {\n",
       "        text-align: right;\n",
       "    }\n",
       "</style>\n",
       "<table border=\"1\" class=\"dataframe\">\n",
       "  <thead>\n",
       "    <tr style=\"text-align: right;\">\n",
       "      <th></th>\n",
       "      <th>song_embedding</th>\n",
       "    </tr>\n",
       "    <tr>\n",
       "      <th>url_song_index</th>\n",
       "      <th></th>\n",
       "    </tr>\n",
       "  </thead>\n",
       "  <tbody>\n",
       "    <tr>\n",
       "      <th>0</th>\n",
       "      <td>[0.021221787, 0.029759321, 0.0013067338, -0.01...</td>\n",
       "    </tr>\n",
       "    <tr>\n",
       "      <th>1</th>\n",
       "      <td>[0.021221787, 0.029759321, 0.0013067338, -0.01...</td>\n",
       "    </tr>\n",
       "    <tr>\n",
       "      <th>2</th>\n",
       "      <td>[0.021221787, 0.029759321, 0.0013067338, -0.01...</td>\n",
       "    </tr>\n",
       "    <tr>\n",
       "      <th>3</th>\n",
       "      <td>[0.040728766, 0.028635837, -0.010818669, -0.08...</td>\n",
       "    </tr>\n",
       "    <tr>\n",
       "      <th>4</th>\n",
       "      <td>[-0.00038573408, 0.015808051, -0.017853128, -0...</td>\n",
       "    </tr>\n",
       "    <tr>\n",
       "      <th>...</th>\n",
       "      <td>...</td>\n",
       "    </tr>\n",
       "    <tr>\n",
       "      <th>146617</th>\n",
       "      <td>[0.005791276, -4.8687336e-05, 0.01080327, -0.0...</td>\n",
       "    </tr>\n",
       "    <tr>\n",
       "      <th>146618</th>\n",
       "      <td>[0.021221787, 0.029759321, 0.0013067338, -0.01...</td>\n",
       "    </tr>\n",
       "    <tr>\n",
       "      <th>146619</th>\n",
       "      <td>[0.032971963, 0.014805067, 0.0059817433, -0.02...</td>\n",
       "    </tr>\n",
       "    <tr>\n",
       "      <th>146620</th>\n",
       "      <td>[-0.027753226, 0.067928165, 0.015239163, -0.00...</td>\n",
       "    </tr>\n",
       "    <tr>\n",
       "      <th>146621</th>\n",
       "      <td>[0.005791276, -4.8687336e-05, 0.01080327, -0.0...</td>\n",
       "    </tr>\n",
       "  </tbody>\n",
       "</table>\n",
       "<p>146622 rows × 1 columns</p>\n",
       "</div>"
      ],
      "text/plain": [
       "                                                   song_embedding\n",
       "url_song_index                                                   \n",
       "0               [0.021221787, 0.029759321, 0.0013067338, -0.01...\n",
       "1               [0.021221787, 0.029759321, 0.0013067338, -0.01...\n",
       "2               [0.021221787, 0.029759321, 0.0013067338, -0.01...\n",
       "3               [0.040728766, 0.028635837, -0.010818669, -0.08...\n",
       "4               [-0.00038573408, 0.015808051, -0.017853128, -0...\n",
       "...                                                           ...\n",
       "146617          [0.005791276, -4.8687336e-05, 0.01080327, -0.0...\n",
       "146618          [0.021221787, 0.029759321, 0.0013067338, -0.01...\n",
       "146619          [0.032971963, 0.014805067, 0.0059817433, -0.02...\n",
       "146620          [-0.027753226, 0.067928165, 0.015239163, -0.00...\n",
       "146621          [0.005791276, -4.8687336e-05, 0.01080327, -0.0...\n",
       "\n",
       "[146622 rows x 1 columns]"
      ]
     },
     "execution_count": 18,
     "metadata": {},
     "output_type": "execute_result"
    }
   ],
   "source": [
    "song_embeddings_df"
   ]
  },
  {
   "cell_type": "code",
   "execution_count": 19,
   "metadata": {},
   "outputs": [
    {
     "data": {
      "text/plain": [
       "(146622, 768)"
      ]
     },
     "execution_count": 19,
     "metadata": {},
     "output_type": "execute_result"
    }
   ],
   "source": [
    "song_lyrics_embedding_matrix = np.vstack(song_embeddings_df[\"song_embedding\"])\n",
    "song_lyrics_embedding_matrix.shape"
   ]
  },
  {
   "cell_type": "code",
   "execution_count": 20,
   "metadata": {},
   "outputs": [],
   "source": [
    "del song_embeddings_df"
   ]
  },
  {
   "cell_type": "markdown",
   "metadata": {},
   "source": [
    "## Creates a retrieval recsys pipeline with Merlin"
   ]
  },
  {
   "cell_type": "code",
   "execution_count": 21,
   "metadata": {},
   "outputs": [
    {
     "name": "stdout",
     "output_type": "stream",
     "text": [
      "WARNING:tensorflow:Please fix your imports. Module tensorflow.python.training.tracking.data_structures has been moved to tensorflow.python.trackable.data_structures. The old module will be deleted in version 2.11.\n",
      "[INFO]: sparse_operation_kit is imported\n",
      "WARNING:tensorflow:Please fix your imports. Module tensorflow.python.training.tracking.base has been moved to tensorflow.python.trackable.base. The old module will be deleted in version 2.11.\n",
      "[SOK INFO] Import /usr/local/lib/python3.8/dist-packages/merlin_sok-1.2.0-py3.8-linux-x86_64.egg/sparse_operation_kit/lib/libsok_experiment.so\n",
      "[SOK INFO] Import /usr/local/lib/python3.8/dist-packages/merlin_sok-1.2.0-py3.8-linux-x86_64.egg/sparse_operation_kit/lib/libsok_experiment.so\n",
      "[SOK INFO] Initialize finished, communication tool: horovod\n"
     ]
    },
    {
     "name": "stderr",
     "output_type": "stream",
     "text": [
      "2023-08-01 02:12:51.694743: W tensorflow/core/common_runtime/gpu/gpu_bfc_allocator.cc:47] Overriding orig_value setting because the TF_FORCE_GPU_ALLOW_GROWTH environment variable is set. Original config value was 0.\n",
      "2023-08-01 02:12:51.694782: I tensorflow/core/common_runtime/gpu/gpu_device.cc:1638] Created device /job:localhost/replica:0/task:0/device:GPU:0 with 16254 MB memory:  -> device: 0, name: Quadro GV100, pci bus id: 0000:15:00.0, compute capability: 7.0\n",
      "2023-08-01 02:12:51.696751: W tensorflow/core/common_runtime/gpu/gpu_bfc_allocator.cc:47] Overriding orig_value setting because the TF_FORCE_GPU_ALLOW_GROWTH environment variable is set. Original config value was 0.\n",
      "2023-08-01 02:12:51.696774: I tensorflow/core/common_runtime/gpu/gpu_device.cc:1638] Created device /job:localhost/replica:0/task:0/device:GPU:1 with 16254 MB memory:  -> device: 1, name: Quadro GV100, pci bus id: 0000:2d:00.0, compute capability: 7.0\n",
      "/usr/local/lib/python3.8/dist-packages/tqdm/auto.py:21: TqdmWarning: IProgress not found. Please update jupyter and ipywidgets. See https://ipywidgets.readthedocs.io/en/stable/user_install.html\n",
      "  from .autonotebook import tqdm as notebook_tqdm\n"
     ]
    }
   ],
   "source": [
    "import merlin.models.tf as mm\n",
    "from merlin.io import Dataset\n",
    "from merlin.io.dataset import Dataset\n",
    "from merlin.schema.tags import Tags\n",
    "from merlin.models.utils import schema_utils\n",
    "from merlin.models.tf.transforms.bias import PopularityLogitsCorrection\n",
    "from merlin.models.tf.outputs.base import DotProduct\n",
    "from merlin.models.utils.dataset import unique_rows_by_features\n",
    "from merlin.dataloader.ops.embeddings import EmbeddingOperator\n",
    "import tensorflow as tf\n",
    "from tensorflow.keras import regularizers"
   ]
  },
  {
   "cell_type": "code",
   "execution_count": 22,
   "metadata": {},
   "outputs": [],
   "source": [
    "def get_item_frequencies(train_ds):       \n",
    "    \"\"\"Utility function that returns a TF tensor with the items (tracks) frequency\"\"\"\n",
    "    schema = train_ds.schema\n",
    "    # Gets the item ids cardinality\n",
    "    item_id_feature = schema.select_by_tag(Tags.ITEM_ID)\n",
    "    item_id_feature_name = item_id_feature.column_names[0]\n",
    "    cardinalities = schema_utils.categorical_cardinalities(schema)\n",
    "    item_id_cardinality = cardinalities[item_id_feature_name]\n",
    "\n",
    "    item_id_feature_name = schema.select_by_tag(Tags.ITEM_ID).column_names[0]\n",
    "\n",
    "    item_frequencies_df = (\n",
    "        train_ds.to_ddf()\n",
    "        .groupby(item_id_feature_name)\n",
    "        .size()\n",
    "        .to_frame(\"freq\")\n",
    "        .compute()\n",
    "    )\n",
    "    assert len(item_frequencies_df) <= item_id_cardinality\n",
    "    assert item_frequencies_df.index.max() < item_id_cardinality\n",
    "\n",
    "    # Completing the missing item ids and filling freq with 0\n",
    "    item_frequencies_df = item_frequencies_df.reindex(\n",
    "        np.arange(0, item_id_cardinality)\n",
    "    ).fillna(0)\n",
    "    assert len(item_frequencies_df) == item_id_cardinality\n",
    "\n",
    "    item_frequencies_df = item_frequencies_df.sort_index()\n",
    "    item_frequencies_df[\"dummy\"] = 1\n",
    "    item_frequencies_df[\"expected_id\"] = item_frequencies_df[\"dummy\"].cumsum() - 1\n",
    "    assert (\n",
    "        item_frequencies_df.index == item_frequencies_df[\"expected_id\"]\n",
    "    ).all(), f\"The item id feature ({item_id_feature_name}) should be contiguous from 0 to {item_id_cardinality-1}\"\n",
    "\n",
    "    item_frequencies = tf.convert_to_tensor(\n",
    "        item_frequencies_df[\"freq\"].values.get()\n",
    "    )\n",
    "\n",
    "    return item_frequencies"
   ]
  },
  {
   "cell_type": "markdown",
   "metadata": {},
   "source": [
    "### Merlin Models\n",
    "For model definition and training we use [Merlin Models](https://github.com/NVIDIA-Merlin/models). It provides a Tensorflow (Keras) API where you can easily build state-of-the-art retrieval and ranking models. One of the core ideas of Models is to leverage the schema generated during preprocessing by **NVTabular** to create automatically the necessary embedding tables for categorical features and define the target of the model.  You can find more information about retrieval with Merlin Models in this [example notebook](https://github.com/NVIDIA-Merlin/models/blob/main/examples/05-Retrieval-Model.ipynb).\n",
    "\n",
    "Here we will be implementing two retrieval models: **Matrix Factorization** and **Two-Tower architecture**.\n",
    "You will notice that we create a base `MyRetrievalModel` class, which we specialize later as `MyMFModel` and `MyTwoTowerModel` to override the `get_model()` method to return a `MatrixFactorizationModel` or `TwoTowerModel` instance."
   ]
  },
  {
   "cell_type": "markdown",
   "metadata": {},
   "source": [
    "### Defining your RecModel\n",
    "\n",
    "Here we define our `RecModel` for EvalRS, which must implement the `train()` and the `predict()` methods. Within `train()` we receive a dataframe with the fold data and we need to define our full pipeline for preprocessing and training data. The `predict()` method receives a dataframe with the user ids, and it expects you to return the top-k predicted items for each user."
   ]
  },
  {
   "cell_type": "code",
   "execution_count": 23,
   "metadata": {},
   "outputs": [],
   "source": [
    "class MyRetrievalModel():\n",
    "    \n",
    "    def __init__(self, user_ids_mapping_df, track_ids_mapping_df,\n",
    "                 pretrained_embeddings=None,\n",
    "                 top_k: int = 100, \n",
    "                 predict_batch_size=1024, \n",
    "                 **kwargs):\n",
    "        self.user_ids_mapping_df = user_ids_mapping_df\n",
    "        self.track_ids_mapping_df = track_ids_mapping_df\n",
    "        self.pretrained_embeddings = pretrained_embeddings\n",
    "        self.top_k = top_k\n",
    "        self.predict_batch_size = predict_batch_size\n",
    "        self.hparams = kwargs\n",
    "    \n",
    "        \n",
    "    def get_retrieval_output(self):        \n",
    "        \"\"\"Defines the item retrieval task to be used by the retrieval models\"\"\"\n",
    "        items_frequencies = get_item_frequencies(self.train_dataset)\n",
    "        \n",
    "        post_logits = None\n",
    "        reg_factor = self.hparams['logq_correction_factor']\n",
    "        if reg_factor > 0.0:\n",
    "            post_logits = PopularityLogitsCorrection(\n",
    "                items_frequencies,\n",
    "                reg_factor=reg_factor,\n",
    "                schema=self.schema,\n",
    "            )\n",
    "            \n",
    "        \n",
    "        retrieval_output = mm.ContrastiveOutput(\n",
    "            DotProduct(),\n",
    "            logits_temperature=self.hparams['logits_temperature'],\n",
    "            post=post_logits,\n",
    "            negative_samplers=\"in-batch\",\n",
    "            schema=self.schema,\n",
    "            store_negative_ids=True,\n",
    "        )\n",
    "        \n",
    "        return retrieval_output\n",
    "\n",
    "    \n",
    "    def get_model(self):\n",
    "        \"\"\"Defines the model architecture. Needs to be overridden by the child class\"\"\"\n",
    "        raise NotImplementedError()\n",
    "    \n",
    "    def compile_model(self, model):\n",
    "        \"\"\"Compiles the Keras model setting the metrics, loss, learning rate and optimizer\"\"\"\n",
    "        metrics = [mm.TopKMetricsAggregator(mm.RecallAt(20), mm.MRRAt(20))]\n",
    "        \n",
    "        lerning_rate = tf.keras.optimizers.schedules.ExponentialDecay(\n",
    "            self.hparams['lr'],\n",
    "            decay_steps=self.hparams['lr_decay_steps'],\n",
    "            decay_rate=self.hparams['lr_decay_rate'],\n",
    "            staircase=True,\n",
    "        )\n",
    "        optimizer = tf.keras.optimizers.Adam(learning_rate=lerning_rate)\n",
    "        loss = tf.keras.losses.CategoricalCrossentropy(\n",
    "            from_logits=True, label_smoothing=self.hparams['label_smoothing'],\n",
    "        )\n",
    "        \n",
    "        model.compile(optimizer, loss=loss, metrics=metrics, run_eagerly=False)\n",
    "        \n",
    "    def get_items_topk_recommender_model(\n",
    "        self,\n",
    "        dataset, \n",
    "        loader_transforms,\n",
    "        model, \n",
    "        ):        \n",
    "        \"\"\"Converts a retrieval model into a Top-k recommender model, which\n",
    "        takes only user features as input, generates the user representations \n",
    "        (e.g. by taking the user embedding for MF or using the user tower to generate it)\n",
    "        and uses scores all cached item representations to return the most similar items \n",
    "        (P.s. This procedure would be done by an ANN engine in production)\"\"\"        \n",
    "        candidate_features = unique_rows_by_features(dataset, Tags.ITEM, Tags.ITEM_ID)\n",
    "        loader_candidates = mm.Loader(\n",
    "            candidate_features,\n",
    "            batch_size=128,\n",
    "            transforms=loader_transforms,\n",
    "        )\n",
    "\n",
    "        topk_rec_model = model.to_top_k_encoder(loader_candidates, k=self.top_k, batch_size=128)\n",
    "\n",
    "        return topk_rec_model\n",
    "        \n",
    "    def train_model(self, model, loader):\n",
    "        model.fit(\n",
    "            loader,\n",
    "            epochs=self.hparams['epochs'],            \n",
    "            #steps_per_epoch=10,\n",
    "            shuffle=True,\n",
    "            drop_last=True,\n",
    "            train_metrics_steps=10,\n",
    "        )\n",
    "        \n",
    "\n",
    "    def train(self, train_dataset: Dataset):\n",
    "        \"\"\"\n",
    "        Implement here your training logic. Since our example method is a simple random model,\n",
    "        we actually don't use any training data to build the model, but you should ;-)\n",
    "        At the end of training, make sure the class contains a trained model you can use in the predict method.\n",
    "        \"\"\"                    \n",
    "            \n",
    "        self.train_dataset = train_dataset        \n",
    "\n",
    "        loader_transforms = None\n",
    "        if self.pretrained_embeddings is not None:\n",
    "            loader_transforms = [\n",
    "                EmbeddingOperator(\n",
    "                    self.pretrained_embeddings,\n",
    "                    lookup_key=\"urlSong\",\n",
    "                    embedding_name=\"pretrained_item_lyrics_emb\",\n",
    "                )]\n",
    "            \n",
    "        loader = mm.Loader(\n",
    "            train_dataset,\n",
    "            batch_size=self.hparams['train_batch_size'],\n",
    "            transforms=loader_transforms\n",
    "        )\n",
    "        self.schema = loader.output_schema\n",
    "        \n",
    "        print(\"Building the model\")\n",
    "        model = self.get_model()\n",
    "        print(model)\n",
    "        self.compile_model(model)        \n",
    "        \n",
    "        print(\"Start training\")\n",
    "        self.train_model(model, loader)        \n",
    "        self.trained_model = model\n",
    "        \n",
    "        print(\"Preparing retrieval model for prediction\")\n",
    "        self.topk_rec_model = self.get_items_topk_recommender_model(train_dataset, loader_transforms, model)\n",
    "        \n",
    "        #print(\"Debugging: Evaluating on train set\")\n",
    "        #self.topk_rec_model.compile(run_eagerly=False)\n",
    "        #metrics = self.topk_rec_model.evaluate(loader, batch_size=256, return_dict=True)\n",
    "        #print(metrics)\n",
    "        \n",
    "        print(\"Caching users transformed features\")\n",
    "        self.users_schema = self.schema.select_by_tag(Tags.USER)\n",
    "        user_features = self.users_schema.column_names\n",
    "        self.users_transformed_df = train_dataset.to_ddf()[user_features].drop_duplicates(subset=['user_id'], keep='last').compute().to_pandas()\n",
    "        # Adding the raw (original) user id to the dataframe\n",
    "        self.users_transformed_df = self.users_transformed_df.merge(self.user_ids_mapping_df.rename({'user_id': 'raw_user_id'}, axis=1),\n",
    "                                                                    left_on='user_id', right_index=True)\n",
    "\n",
    "        print(\"Training completed!\")         \n",
    "\n",
    "    def predict(self, user_ids: pd.DataFrame) -> pd.DataFrame:\n",
    "        \"\"\"        \n",
    "        This function takes as input all the users that we want to predict the top-k items for, and \n",
    "        returns all the predicted songs.\n",
    "\n",
    "        While in this example is just a random generator, the same logic in your implementation \n",
    "        would allow for batch predictions of all the target data points.        \n",
    "        \"\"\"\n",
    "            \n",
    "        self.predict_user_ids = user_ids\n",
    "        \n",
    "        print(\"Start prediction\")\n",
    "        print(\"# users:\",len(user_ids))\n",
    "        test_users_df = user_ids.rename({'user_id': 'raw_user_id'}, axis=1).merge(self.users_transformed_df, \n",
    "                                                       on='raw_user_id', how='left')\n",
    "        self.test_users_df = test_users_df\n",
    "        test_users_found_df = test_users_df[~test_users_df[test_users_df.columns[1]].isna()]\n",
    "        test_users_not_found_df = test_users_df[test_users_df[test_users_df.columns[1]].isna()]        \n",
    "\n",
    "        test_users_dataset = Dataset(test_users_found_df, self.users_schema)\n",
    "        test_batched_dataset = mm.Loader(\n",
    "            test_users_dataset, batch_size=self.predict_batch_size, shuffle=False, schema=self.users_schema\n",
    "        )        \n",
    "        \n",
    "        print(f\"Predicting Top-{self.top_k} items for test users\")\n",
    "        predictions = self.topk_rec_model.predict(test_batched_dataset)[1].astype(np.int32) \n",
    "        \n",
    "        print(f\"Converting user ids and predicted item ids to the original ids\")\n",
    "        predictions_converted = self.convert_prediction_item_ids(predictions)\n",
    "        \n",
    "        user_ids_found_converted = test_users_found_df['raw_user_id'].values.astype(np.int32)        \n",
    "        user_ids_not_found_converted = test_users_not_found_df['raw_user_id'].values.astype(np.int32)\n",
    "        \n",
    "        # Merging raw user id with top-k predictions\n",
    "        user_predictions_found_converted = np.concatenate((np.expand_dims(user_ids_found_converted, -1), predictions_converted), axis=1)\n",
    "        user_predictions_not_found_converted = np.concatenate((np.expand_dims(user_ids_not_found_converted, -1), \n",
    "                                                               np.zeros((user_ids_not_found_converted.shape[0], predictions_converted.shape[1]))), axis=1)\n",
    "        # Combining predictions of users found and not found\n",
    "        user_predictions_converted = np.vstack([user_predictions_found_converted, user_predictions_not_found_converted])        \n",
    "        user_predictions_df = pd.DataFrame(user_predictions_converted, columns=['user_id', *[str(i) for i in range(predictions_converted.shape[1])]]).astype(np.int32).set_index('user_id')\n",
    "        # Ensures predictions output dataframe is sorted the same as input user_ids order\n",
    "        user_predictions_df = user_predictions_df.loc[user_ids['user_id'].values]\n",
    "        self.user_predictions_df = user_predictions_df\n",
    "        print(\"Finish prediction\")\n",
    "        return user_predictions_df\n",
    "    \n",
    "    def convert_user_ids(self, user_ids):\n",
    "        \"\"\"Converts the encoded user ids into the original ids\"\"\"\n",
    "        raw_user_ids = self.user_ids_mapping_df['user_id'].loc[user_ids].values\n",
    "        return raw_user_ids\n",
    "    \n",
    "    def convert_prediction_item_ids(self,predictions):\n",
    "        \"\"\"Converts the encoded predicted item ids into the original item ids\"\"\"\n",
    "        raw_topk_predicted_item_ids = self.track_ids_mapping_df['track_id'].loc[predictions.reshape(-1)].values\n",
    "        raw_topk_predicted_item_ids = np.reshape(raw_topk_predicted_item_ids, (-1, predictions.shape[1]))\n",
    "        return raw_topk_predicted_item_ids"
   ]
  },
  {
   "cell_type": "code",
   "execution_count": 24,
   "metadata": {},
   "outputs": [],
   "source": [
    "def export_preds(preds_df, filename):\n",
    "    output_path = os.path.join(PREPROC_DATASET_OUT_PATH, \"model_predictions\")\n",
    "    os.makedirs(output_path, exist_ok=True)\n",
    "    preds_df.to_parquet(os.path.join(output_path, filename))"
   ]
  },
  {
   "cell_type": "code",
   "execution_count": 25,
   "metadata": {},
   "outputs": [],
   "source": [
    "def compute_recall(user_preds_df):\n",
    "    preds_with_target = events_test_df.set_index(\"user_id\").merge(user_preds_df, left_index=True, right_index=True)\n",
    "    recall_at_100 = np.equal(np.expand_dims(preds_with_target[\"track_id\"].values, -1), preds_with_target[[f\"{i}\" for i in range(100)]].values).max(axis=1).mean()\n",
    "    return recall_at_100"
   ]
  },
  {
   "cell_type": "code",
   "execution_count": 34,
   "metadata": {},
   "outputs": [],
   "source": [
    "# Importing a similarity model from GenSim for the RecList \"Being Less Wrong\" metric\n",
    "from gensim.models import KeyedVectors\n",
    "similarity_model = KeyedVectors.load(os.path.join(dataset.path_to_dataset, 'song2vec.wv'))"
   ]
  },
  {
   "cell_type": "markdown",
   "metadata": {},
   "source": [
    "## Matrix Factorization\n",
    "\n",
    "Matrix Factorization is a [classic algorithm](https://arxiv.org/pdf/1205.2618.pdf) that have been used for Collaborative Filtering, where the user and item embeddings are factorized and the user preference over items is estimated by computing the dot product between the user embedding and item embeddings."
   ]
  },
  {
   "cell_type": "code",
   "execution_count": 26,
   "metadata": {},
   "outputs": [],
   "source": [
    "class MyMFModel(MyRetrievalModel):\n",
    "    \n",
    "    def get_model(self):      \n",
    "        retrieval_output = self.get_retrieval_output()\n",
    "\n",
    "        model = mm.MatrixFactorizationModelV2(\n",
    "            self.schema,\n",
    "            dim=self.hparams['mf_dim'],\n",
    "            outputs=retrieval_output,\n",
    "            embeddings_l2_batch_regularization=self.hparams['embeddings_l2_reg']\n",
    "        )\n",
    "        \n",
    "        return model"
   ]
  },
  {
   "cell_type": "code",
   "execution_count": 27,
   "metadata": {},
   "outputs": [],
   "source": [
    "mf_model = MyMFModel(\n",
    "    user_ids_mapping_df,\n",
    "    track_ids_mapping_df,\n",
    "    \n",
    "    # Training hparams\n",
    "    epochs=5,\n",
    "    train_batch_size=8192,\n",
    "    lr=2e-3, \n",
    "    lr_decay_steps=100,\n",
    "    lr_decay_rate=0.97,\n",
    "    label_smoothing=0.5,#0.0\n",
    "    \n",
    "    # Model hparams\n",
    "    logq_correction_factor=0.0,#1.0,\n",
    "    embeddings_l2_reg=0.0,#1e-8,\n",
    "    logits_temperature=1.8,\n",
    "    mf_dim=128, #128\n",
    ")"
   ]
  },
  {
   "cell_type": "code",
   "execution_count": 28,
   "metadata": {},
   "outputs": [
    {
     "name": "stdout",
     "output_type": "stream",
     "text": [
      "Building the model\n",
      "RetrievalModelV2(\n",
      "  (_should_compute_train_metrics_for_batch): <tf.Variable 'should_compute_train_metrics_for_batch:0' shape=() dtype=bool, numpy=True>\n",
      "  (blocks): _TupleWrapper((ParallelBlock(\n",
      "    (parallel_layers): Dict(\n",
      "      (query): EmbeddingEncoder(\n",
      "        (blocks): List(\n",
      "          (0): EmbeddingTable(\n",
      "            (features): Dict(\n",
      "              (user_id): ColumnSchema(name='user_id', tags={<Tags.ID: 'id'>, <Tags.USER: 'user'>, <Tags.CATEGORICAL: 'categorical'>}, properties={'num_buckets': None, 'freq_threshold': 0.0, 'max_size': 0.0, 'cat_path': '/data/evalrs_2023_dataset_preproc/categories/unique.user_id.parquet', 'embedding_sizes': {'cardinality': 29725.0, 'dimension': 512.0}, 'domain': {'min': 0, 'max': 29724, 'name': 'user_id'}}, dtype=DType(name='int64', element_type=<ElementType.Int: 'int'>, element_size=64, element_unit=None, signed=True, shape=Shape(dims=(Dimension(min=0, max=None),))), is_list=False, is_ragged=False)\n",
      "            )\n",
      "            (table): Embedding()\n",
      "          )\n",
      "          (1): Lambda()\n",
      "        )\n",
      "        (_prepare_features): PrepareFeatures(\n",
      "          (prepare_lists): PrepareListFeatures()\n",
      "        )\n",
      "      )\n",
      "      (candidate): EmbeddingEncoder(\n",
      "        (blocks): List(\n",
      "          (0): EmbeddingTable(\n",
      "            (features): Dict(\n",
      "              (track_id): ColumnSchema(name='track_id', tags={<Tags.ITEM: 'item'>, <Tags.ID: 'id'>, <Tags.CATEGORICAL: 'categorical'>}, properties={'num_buckets': None, 'freq_threshold': 0.0, 'max_size': 0.0, 'cat_path': '/data/evalrs_2023_dataset_preproc/categories/unique.track_id.parquet', 'embedding_sizes': {'cardinality': 228047.0, 'dimension': 512.0}, 'domain': {'min': 0, 'max': 228046, 'name': 'track_id'}}, dtype=DType(name='int64', element_type=<ElementType.Int: 'int'>, element_size=64, element_unit=None, signed=True, shape=Shape(dims=(Dimension(min=0, max=None),))), is_list=False, is_ragged=False)\n",
      "            )\n",
      "            (table): Embedding()\n",
      "          )\n",
      "          (1): Lambda()\n",
      "        )\n",
      "        (_prepare_features): PrepareFeatures(\n",
      "          (prepare_lists): PrepareListFeatures()\n",
      "        )\n",
      "      )\n",
      "    )\n",
      "  ), ContrastiveOutput(\n",
      "    (negative_samplers): List(\n",
      "      (0): InBatchSamplerV2()\n",
      "    )\n",
      "    (to_call): DotProduct()\n",
      "    (logits_scaler): LogitsTemperatureScaler()\n",
      "  )))\n",
      "  (context): ModelContext()\n",
      "  (_prepare_features): PrepareFeatures(\n",
      "    (prepare_lists): PrepareListFeatures()\n",
      "  )\n",
      "  (_encoder): ParallelBlock(\n",
      "    (parallel_layers): Dict(\n",
      "      (query): EmbeddingEncoder(\n",
      "        (blocks): List(\n",
      "          (0): EmbeddingTable(\n",
      "            (features): Dict(\n",
      "              (user_id): ColumnSchema(name='user_id', tags={<Tags.ID: 'id'>, <Tags.USER: 'user'>, <Tags.CATEGORICAL: 'categorical'>}, properties={'num_buckets': None, 'freq_threshold': 0.0, 'max_size': 0.0, 'cat_path': '/data/evalrs_2023_dataset_preproc/categories/unique.user_id.parquet', 'embedding_sizes': {'cardinality': 29725.0, 'dimension': 512.0}, 'domain': {'min': 0, 'max': 29724, 'name': 'user_id'}}, dtype=DType(name='int64', element_type=<ElementType.Int: 'int'>, element_size=64, element_unit=None, signed=True, shape=Shape(dims=(Dimension(min=0, max=None),))), is_list=False, is_ragged=False)\n",
      "            )\n",
      "            (table): Embedding()\n",
      "          )\n",
      "          (1): Lambda()\n",
      "        )\n",
      "        (_prepare_features): PrepareFeatures(\n",
      "          (prepare_lists): PrepareListFeatures()\n",
      "        )\n",
      "      )\n",
      "      (candidate): EmbeddingEncoder(\n",
      "        (blocks): List(\n",
      "          (0): EmbeddingTable(\n",
      "            (features): Dict(\n",
      "              (track_id): ColumnSchema(name='track_id', tags={<Tags.ITEM: 'item'>, <Tags.ID: 'id'>, <Tags.CATEGORICAL: 'categorical'>}, properties={'num_buckets': None, 'freq_threshold': 0.0, 'max_size': 0.0, 'cat_path': '/data/evalrs_2023_dataset_preproc/categories/unique.track_id.parquet', 'embedding_sizes': {'cardinality': 228047.0, 'dimension': 512.0}, 'domain': {'min': 0, 'max': 228046, 'name': 'track_id'}}, dtype=DType(name='int64', element_type=<ElementType.Int: 'int'>, element_size=64, element_unit=None, signed=True, shape=Shape(dims=(Dimension(min=0, max=None),))), is_list=False, is_ragged=False)\n",
      "            )\n",
      "            (table): Embedding()\n",
      "          )\n",
      "          (1): Lambda()\n",
      "        )\n",
      "        (_prepare_features): PrepareFeatures(\n",
      "          (prepare_lists): PrepareListFeatures()\n",
      "        )\n",
      "      )\n",
      "    )\n",
      "  )\n",
      "  (_output): ContrastiveOutput(\n",
      "    (negative_samplers): List(\n",
      "      (0): InBatchSamplerV2()\n",
      "    )\n",
      "    (to_call): DotProduct()\n",
      "    (logits_scaler): LogitsTemperatureScaler()\n",
      "  )\n",
      ")\n",
      "Start training\n",
      "Epoch 1/5\n"
     ]
    },
    {
     "name": "stderr",
     "output_type": "stream",
     "text": [
      "2023-08-01 02:15:07.210769: I tensorflow/core/common_runtime/executor.cc:1209] [/device:CPU:0] (DEBUG INFO) Executor start aborting (this does not indicate an error and you can ignore this message): INVALID_ARGUMENT: You must feed a value for placeholder tensor 'Placeholder/_0' with dtype int32\n",
      "\t [[{{node Placeholder/_0}}]]\n",
      "2023-08-01 02:15:14.273841: I tensorflow/compiler/xla/service/service.cc:169] XLA service 0x7f586375a2c0 initialized for platform CUDA (this does not guarantee that XLA will be used). Devices:\n",
      "2023-08-01 02:15:14.273879: I tensorflow/compiler/xla/service/service.cc:177]   StreamExecutor device (0): Quadro GV100, Compute Capability 7.0\n",
      "2023-08-01 02:15:14.273886: I tensorflow/compiler/xla/service/service.cc:177]   StreamExecutor device (1): Quadro GV100, Compute Capability 7.0\n",
      "2023-08-01 02:15:14.297756: I tensorflow/compiler/mlir/tensorflow/utils/dump_mlir_util.cc:269] disabling MLIR crash reproducer, set env var `MLIR_CRASH_REPRODUCER_DIRECTORY` to enable.\n",
      "2023-08-01 02:15:14.806040: I tensorflow/compiler/xla/stream_executor/cuda/cuda_dnn.cc:424] Loaded cuDNN version 8900\n",
      "2023-08-01 02:15:15.064857: I ./tensorflow/compiler/jit/device_compiler.h:180] Compiled cluster using XLA!  This line is logged at most once for the lifetime of the process.\n"
     ]
    },
    {
     "name": "stdout",
     "output_type": "stream",
     "text": [
      "839/839 [==============================] - 91s 99ms/step - loss: 8.9618 - recall_at_20: 0.0095 - mrr_at_20: 0.0018 - regularization_loss: 0.0000e+00 - loss_batch: 8.9612\n",
      "Epoch 2/5\n",
      "839/839 [==============================] - 40s 47ms/step - loss: 8.6484 - recall_at_20: 0.0832 - mrr_at_20: 0.0192 - regularization_loss: 0.0000e+00 - loss_batch: 8.6481\n",
      "Epoch 3/5\n",
      "839/839 [==============================] - 37s 43ms/step - loss: 8.4528 - recall_at_20: 0.1757 - mrr_at_20: 0.0452 - regularization_loss: 0.0000e+00 - loss_batch: 8.4526\n",
      "Epoch 4/5\n",
      "839/839 [==============================] - 37s 42ms/step - loss: 8.3254 - recall_at_20: 0.2451 - mrr_at_20: 0.0689 - regularization_loss: 0.0000e+00 - loss_batch: 8.3251\n",
      "Epoch 5/5\n",
      "839/839 [==============================] - 35s 41ms/step - loss: 8.2366 - recall_at_20: 0.2934 - mrr_at_20: 0.0867 - regularization_loss: 0.0000e+00 - loss_batch: 8.2364\n",
      "Preparing retrieval model for prediction\n"
     ]
    },
    {
     "name": "stderr",
     "output_type": "stream",
     "text": [
      "/usr/local/lib/python3.8/dist-packages/merlin/dataloader/loader_base.py:591: UserWarning: This `schema` property is deprecated and will be removed in a future version. Please use either the `input_schema` or `output_schema` property instead.\n",
      "  warnings.warn(\n",
      "WARNING:absl:Found untraced functions such as prepare_list_features_1_layer_call_fn, prepare_list_features_1_layer_call_and_return_conditional_losses, model_context_layer_call_fn, model_context_layer_call_and_return_conditional_losses, track_id_layer_call_fn while saving (showing 5 of 6). These functions will not be directly callable after loading.\n"
     ]
    },
    {
     "name": "stdout",
     "output_type": "stream",
     "text": [
      "INFO:tensorflow:Assets written to: /tmp/tmpsx1m01co/assets\n"
     ]
    },
    {
     "name": "stderr",
     "output_type": "stream",
     "text": [
      "INFO:tensorflow:Assets written to: /tmp/tmpsx1m01co/assets\n"
     ]
    },
    {
     "name": "stdout",
     "output_type": "stream",
     "text": [
      "WARNING:tensorflow:No training configuration found in save file, so the model was *not* compiled. Compile it manually.\n"
     ]
    },
    {
     "name": "stderr",
     "output_type": "stream",
     "text": [
      "WARNING:tensorflow:No training configuration found in save file, so the model was *not* compiled. Compile it manually.\n"
     ]
    },
    {
     "name": "stdout",
     "output_type": "stream",
     "text": [
      "WARNING:tensorflow:No training configuration found in save file, so the model was *not* compiled. Compile it manually.\n"
     ]
    },
    {
     "name": "stderr",
     "output_type": "stream",
     "text": [
      "WARNING:tensorflow:No training configuration found in save file, so the model was *not* compiled. Compile it manually.\n"
     ]
    },
    {
     "name": "stdout",
     "output_type": "stream",
     "text": [
      "Caching users transformed features\n",
      "Training completed!\n",
      "CPU times: user 5min 35s, sys: 25.7 s, total: 6min 1s\n",
      "Wall time: 4min 50s\n"
     ]
    }
   ],
   "source": [
    "%%time\n",
    "mf_model.train(train_ds)"
   ]
  },
  {
   "cell_type": "code",
   "execution_count": 30,
   "metadata": {},
   "outputs": [
    {
     "name": "stdout",
     "output_type": "stream",
     "text": [
      "Start prediction\n",
      "# users: 29722\n",
      "Predicting Top-100 items for test users\n"
     ]
    },
    {
     "name": "stderr",
     "output_type": "stream",
     "text": [
      "2023-08-01 02:23:41.847542: I tensorflow/core/common_runtime/executor.cc:1209] [/device:CPU:0] (DEBUG INFO) Executor start aborting (this does not indicate an error and you can ignore this message): INVALID_ARGUMENT: You must feed a value for placeholder tensor 'Placeholder/_0' with dtype int32\n",
      "\t [[{{node Placeholder/_0}}]]\n"
     ]
    },
    {
     "name": "stdout",
     "output_type": "stream",
     "text": [
      "Converting user ids and predicted item ids to the original ids\n",
      "Finish prediction\n",
      "CPU times: user 3.51 s, sys: 253 ms, total: 3.76 s\n",
      "Wall time: 3.2 s\n"
     ]
    },
    {
     "data": {
      "text/html": [
       "<div>\n",
       "<style scoped>\n",
       "    .dataframe tbody tr th:only-of-type {\n",
       "        vertical-align: middle;\n",
       "    }\n",
       "\n",
       "    .dataframe tbody tr th {\n",
       "        vertical-align: top;\n",
       "    }\n",
       "\n",
       "    .dataframe thead th {\n",
       "        text-align: right;\n",
       "    }\n",
       "</style>\n",
       "<table border=\"1\" class=\"dataframe\">\n",
       "  <thead>\n",
       "    <tr style=\"text-align: right;\">\n",
       "      <th></th>\n",
       "      <th>0</th>\n",
       "      <th>1</th>\n",
       "      <th>2</th>\n",
       "      <th>3</th>\n",
       "      <th>4</th>\n",
       "      <th>5</th>\n",
       "      <th>6</th>\n",
       "      <th>7</th>\n",
       "      <th>8</th>\n",
       "      <th>9</th>\n",
       "      <th>...</th>\n",
       "      <th>90</th>\n",
       "      <th>91</th>\n",
       "      <th>92</th>\n",
       "      <th>93</th>\n",
       "      <th>94</th>\n",
       "      <th>95</th>\n",
       "      <th>96</th>\n",
       "      <th>97</th>\n",
       "      <th>98</th>\n",
       "      <th>99</th>\n",
       "    </tr>\n",
       "    <tr>\n",
       "      <th>user_id</th>\n",
       "      <th></th>\n",
       "      <th></th>\n",
       "      <th></th>\n",
       "      <th></th>\n",
       "      <th></th>\n",
       "      <th></th>\n",
       "      <th></th>\n",
       "      <th></th>\n",
       "      <th></th>\n",
       "      <th></th>\n",
       "      <th></th>\n",
       "      <th></th>\n",
       "      <th></th>\n",
       "      <th></th>\n",
       "      <th></th>\n",
       "      <th></th>\n",
       "      <th></th>\n",
       "      <th></th>\n",
       "      <th></th>\n",
       "      <th></th>\n",
       "      <th></th>\n",
       "    </tr>\n",
       "  </thead>\n",
       "  <tbody>\n",
       "    <tr>\n",
       "      <th>50967444</th>\n",
       "      <td>843773</td>\n",
       "      <td>1146746</td>\n",
       "      <td>1345792</td>\n",
       "      <td>17820138</td>\n",
       "      <td>282393</td>\n",
       "      <td>282394</td>\n",
       "      <td>161977</td>\n",
       "      <td>1157622</td>\n",
       "      <td>124951</td>\n",
       "      <td>1430102</td>\n",
       "      <td>...</td>\n",
       "      <td>184300</td>\n",
       "      <td>159791</td>\n",
       "      <td>125401</td>\n",
       "      <td>157787</td>\n",
       "      <td>159786</td>\n",
       "      <td>155899</td>\n",
       "      <td>15307</td>\n",
       "      <td>172299</td>\n",
       "      <td>20676</td>\n",
       "      <td>201808</td>\n",
       "    </tr>\n",
       "    <tr>\n",
       "      <th>50900118</th>\n",
       "      <td>22360044</td>\n",
       "      <td>1999651</td>\n",
       "      <td>531974</td>\n",
       "      <td>17816388</td>\n",
       "      <td>695679</td>\n",
       "      <td>5956595</td>\n",
       "      <td>19725189</td>\n",
       "      <td>19727955</td>\n",
       "      <td>29448037</td>\n",
       "      <td>970909</td>\n",
       "      <td>...</td>\n",
       "      <td>23564084</td>\n",
       "      <td>748983</td>\n",
       "      <td>23588321</td>\n",
       "      <td>1199647</td>\n",
       "      <td>612092</td>\n",
       "      <td>369223</td>\n",
       "      <td>1088505</td>\n",
       "      <td>70729</td>\n",
       "      <td>694797</td>\n",
       "      <td>337515</td>\n",
       "    </tr>\n",
       "    <tr>\n",
       "      <th>50086315</th>\n",
       "      <td>211514</td>\n",
       "      <td>217259</td>\n",
       "      <td>290742</td>\n",
       "      <td>1341673</td>\n",
       "      <td>216789</td>\n",
       "      <td>214869</td>\n",
       "      <td>215875</td>\n",
       "      <td>215736</td>\n",
       "      <td>217676</td>\n",
       "      <td>15513915</td>\n",
       "      <td>...</td>\n",
       "      <td>1115376</td>\n",
       "      <td>211647</td>\n",
       "      <td>211751</td>\n",
       "      <td>211553</td>\n",
       "      <td>211693</td>\n",
       "      <td>939254</td>\n",
       "      <td>215567</td>\n",
       "      <td>216227</td>\n",
       "      <td>215413</td>\n",
       "      <td>1341534</td>\n",
       "    </tr>\n",
       "    <tr>\n",
       "      <th>50085736</th>\n",
       "      <td>102662</td>\n",
       "      <td>102667</td>\n",
       "      <td>102663</td>\n",
       "      <td>102659</td>\n",
       "      <td>102658</td>\n",
       "      <td>116850</td>\n",
       "      <td>118966</td>\n",
       "      <td>102640</td>\n",
       "      <td>102642</td>\n",
       "      <td>28528</td>\n",
       "      <td>...</td>\n",
       "      <td>30172773</td>\n",
       "      <td>108764</td>\n",
       "      <td>108574</td>\n",
       "      <td>183004</td>\n",
       "      <td>19726572</td>\n",
       "      <td>11166942</td>\n",
       "      <td>136519</td>\n",
       "      <td>108573</td>\n",
       "      <td>116889</td>\n",
       "      <td>415119</td>\n",
       "    </tr>\n",
       "    <tr>\n",
       "      <th>50083088</th>\n",
       "      <td>98299</td>\n",
       "      <td>246468</td>\n",
       "      <td>1339576</td>\n",
       "      <td>95468</td>\n",
       "      <td>11112742</td>\n",
       "      <td>143531</td>\n",
       "      <td>246467</td>\n",
       "      <td>143535</td>\n",
       "      <td>511661</td>\n",
       "      <td>1374550</td>\n",
       "      <td>...</td>\n",
       "      <td>91843</td>\n",
       "      <td>453191</td>\n",
       "      <td>149695</td>\n",
       "      <td>94918</td>\n",
       "      <td>98676</td>\n",
       "      <td>92216</td>\n",
       "      <td>92663</td>\n",
       "      <td>754566</td>\n",
       "      <td>514485</td>\n",
       "      <td>92219</td>\n",
       "    </tr>\n",
       "    <tr>\n",
       "      <th>...</th>\n",
       "      <td>...</td>\n",
       "      <td>...</td>\n",
       "      <td>...</td>\n",
       "      <td>...</td>\n",
       "      <td>...</td>\n",
       "      <td>...</td>\n",
       "      <td>...</td>\n",
       "      <td>...</td>\n",
       "      <td>...</td>\n",
       "      <td>...</td>\n",
       "      <td>...</td>\n",
       "      <td>...</td>\n",
       "      <td>...</td>\n",
       "      <td>...</td>\n",
       "      <td>...</td>\n",
       "      <td>...</td>\n",
       "      <td>...</td>\n",
       "      <td>...</td>\n",
       "      <td>...</td>\n",
       "      <td>...</td>\n",
       "      <td>...</td>\n",
       "    </tr>\n",
       "    <tr>\n",
       "      <th>15067</th>\n",
       "      <td>12654387</td>\n",
       "      <td>12654384</td>\n",
       "      <td>12654388</td>\n",
       "      <td>12654386</td>\n",
       "      <td>12654389</td>\n",
       "      <td>7894841</td>\n",
       "      <td>13468147</td>\n",
       "      <td>12654383</td>\n",
       "      <td>12654385</td>\n",
       "      <td>7101844</td>\n",
       "      <td>...</td>\n",
       "      <td>877326</td>\n",
       "      <td>245076</td>\n",
       "      <td>2766073</td>\n",
       "      <td>1128417</td>\n",
       "      <td>11263846</td>\n",
       "      <td>1128059</td>\n",
       "      <td>22155617</td>\n",
       "      <td>1046910</td>\n",
       "      <td>877318</td>\n",
       "      <td>8690779</td>\n",
       "    </tr>\n",
       "    <tr>\n",
       "      <th>14308</th>\n",
       "      <td>20186</td>\n",
       "      <td>56917</td>\n",
       "      <td>20144</td>\n",
       "      <td>56916</td>\n",
       "      <td>20188</td>\n",
       "      <td>20189</td>\n",
       "      <td>247838</td>\n",
       "      <td>20147</td>\n",
       "      <td>20145</td>\n",
       "      <td>818751</td>\n",
       "      <td>...</td>\n",
       "      <td>131227</td>\n",
       "      <td>15469</td>\n",
       "      <td>1138896</td>\n",
       "      <td>9319564</td>\n",
       "      <td>161877</td>\n",
       "      <td>670540</td>\n",
       "      <td>4260</td>\n",
       "      <td>4129</td>\n",
       "      <td>504053</td>\n",
       "      <td>818808</td>\n",
       "    </tr>\n",
       "    <tr>\n",
       "      <th>12619</th>\n",
       "      <td>24418842</td>\n",
       "      <td>17145264</td>\n",
       "      <td>17145262</td>\n",
       "      <td>17145263</td>\n",
       "      <td>17145266</td>\n",
       "      <td>17145267</td>\n",
       "      <td>5478591</td>\n",
       "      <td>17145268</td>\n",
       "      <td>16592156</td>\n",
       "      <td>12890610</td>\n",
       "      <td>...</td>\n",
       "      <td>22071897</td>\n",
       "      <td>25488407</td>\n",
       "      <td>245084</td>\n",
       "      <td>6204095</td>\n",
       "      <td>16520995</td>\n",
       "      <td>22071896</td>\n",
       "      <td>24554520</td>\n",
       "      <td>19108087</td>\n",
       "      <td>4923350</td>\n",
       "      <td>25488410</td>\n",
       "    </tr>\n",
       "    <tr>\n",
       "      <th>10879</th>\n",
       "      <td>189718</td>\n",
       "      <td>91522</td>\n",
       "      <td>91519</td>\n",
       "      <td>52203</td>\n",
       "      <td>91521</td>\n",
       "      <td>189717</td>\n",
       "      <td>91520</td>\n",
       "      <td>1744</td>\n",
       "      <td>82306</td>\n",
       "      <td>82940</td>\n",
       "      <td>...</td>\n",
       "      <td>91280</td>\n",
       "      <td>91279</td>\n",
       "      <td>153604</td>\n",
       "      <td>294875</td>\n",
       "      <td>661587</td>\n",
       "      <td>90467</td>\n",
       "      <td>1749</td>\n",
       "      <td>14755</td>\n",
       "      <td>300124</td>\n",
       "      <td>325629</td>\n",
       "    </tr>\n",
       "    <tr>\n",
       "      <th>384</th>\n",
       "      <td>278286</td>\n",
       "      <td>278285</td>\n",
       "      <td>278287</td>\n",
       "      <td>278288</td>\n",
       "      <td>278289</td>\n",
       "      <td>950939</td>\n",
       "      <td>278292</td>\n",
       "      <td>278290</td>\n",
       "      <td>741120</td>\n",
       "      <td>412193</td>\n",
       "      <td>...</td>\n",
       "      <td>219329</td>\n",
       "      <td>411956</td>\n",
       "      <td>414222</td>\n",
       "      <td>5367</td>\n",
       "      <td>411943</td>\n",
       "      <td>455179</td>\n",
       "      <td>5634815</td>\n",
       "      <td>721370</td>\n",
       "      <td>419144</td>\n",
       "      <td>455180</td>\n",
       "    </tr>\n",
       "  </tbody>\n",
       "</table>\n",
       "<p>29722 rows × 100 columns</p>\n",
       "</div>"
      ],
      "text/plain": [
       "                 0         1         2         3         4         5  \\\n",
       "user_id                                                                \n",
       "50967444    843773   1146746   1345792  17820138    282393    282394   \n",
       "50900118  22360044   1999651    531974  17816388    695679   5956595   \n",
       "50086315    211514    217259    290742   1341673    216789    214869   \n",
       "50085736    102662    102667    102663    102659    102658    116850   \n",
       "50083088     98299    246468   1339576     95468  11112742    143531   \n",
       "...            ...       ...       ...       ...       ...       ...   \n",
       "15067     12654387  12654384  12654388  12654386  12654389   7894841   \n",
       "14308        20186     56917     20144     56916     20188     20189   \n",
       "12619     24418842  17145264  17145262  17145263  17145266  17145267   \n",
       "10879       189718     91522     91519     52203     91521    189717   \n",
       "384         278286    278285    278287    278288    278289    950939   \n",
       "\n",
       "                 6         7         8         9  ...        90        91  \\\n",
       "user_id                                           ...                       \n",
       "50967444    161977   1157622    124951   1430102  ...    184300    159791   \n",
       "50900118  19725189  19727955  29448037    970909  ...  23564084    748983   \n",
       "50086315    215875    215736    217676  15513915  ...   1115376    211647   \n",
       "50085736    118966    102640    102642     28528  ...  30172773    108764   \n",
       "50083088    246467    143535    511661   1374550  ...     91843    453191   \n",
       "...            ...       ...       ...       ...  ...       ...       ...   \n",
       "15067     13468147  12654383  12654385   7101844  ...    877326    245076   \n",
       "14308       247838     20147     20145    818751  ...    131227     15469   \n",
       "12619      5478591  17145268  16592156  12890610  ...  22071897  25488407   \n",
       "10879        91520      1744     82306     82940  ...     91280     91279   \n",
       "384         278292    278290    741120    412193  ...    219329    411956   \n",
       "\n",
       "                92       93        94        95        96        97       98  \\\n",
       "user_id                                                                        \n",
       "50967444    125401   157787    159786    155899     15307    172299    20676   \n",
       "50900118  23588321  1199647    612092    369223   1088505     70729   694797   \n",
       "50086315    211751   211553    211693    939254    215567    216227   215413   \n",
       "50085736    108574   183004  19726572  11166942    136519    108573   116889   \n",
       "50083088    149695    94918     98676     92216     92663    754566   514485   \n",
       "...            ...      ...       ...       ...       ...       ...      ...   \n",
       "15067      2766073  1128417  11263846   1128059  22155617   1046910   877318   \n",
       "14308      1138896  9319564    161877    670540      4260      4129   504053   \n",
       "12619       245084  6204095  16520995  22071896  24554520  19108087  4923350   \n",
       "10879       153604   294875    661587     90467      1749     14755   300124   \n",
       "384         414222     5367    411943    455179   5634815    721370   419144   \n",
       "\n",
       "                99  \n",
       "user_id             \n",
       "50967444    201808  \n",
       "50900118    337515  \n",
       "50086315   1341534  \n",
       "50085736    415119  \n",
       "50083088     92219  \n",
       "...            ...  \n",
       "15067      8690779  \n",
       "14308       818808  \n",
       "12619     25488410  \n",
       "10879       325629  \n",
       "384         455180  \n",
       "\n",
       "[29722 rows x 100 columns]"
      ]
     },
     "execution_count": 30,
     "metadata": {},
     "output_type": "execute_result"
    }
   ],
   "source": [
    "%%time\n",
    "mf_predictions_df = mf_model.predict(events_test_df[['user_id']])\n",
    "mf_predictions_df"
   ]
  },
  {
   "cell_type": "code",
   "execution_count": 31,
   "metadata": {},
   "outputs": [
    {
     "data": {
      "text/plain": [
       "0.048415315254693496"
      ]
     },
     "execution_count": 31,
     "metadata": {},
     "output_type": "execute_result"
    }
   ],
   "source": [
    "compute_recall(mf_predictions_df)"
   ]
  },
  {
   "cell_type": "code",
   "execution_count": 32,
   "metadata": {},
   "outputs": [],
   "source": [
    "# Export predictions to parquet\n",
    "export_preds(mf_predictions_df, \"mf_test_preds.parquet\")"
   ]
  },
  {
   "cell_type": "code",
   "execution_count": 35,
   "metadata": {},
   "outputs": [
    {
     "data": {
      "text/html": [
       "<pre style=\"white-space:pre;overflow-x:auto;line-height:normal;font-family:Menlo,'DejaVu Sans Mono',consolas,'Courier New',monospace\">/usr/local/lib/python3.8/dist-packages/rich/live.py:231: UserWarning: install \"ipywidgets\" for Jupyter support\n",
       "  warnings.warn('install \"ipywidgets\" for Jupyter support')\n",
       "</pre>\n"
      ],
      "text/plain": [
       "/usr/local/lib/python3.8/dist-packages/rich/live.py:231: UserWarning: install \"ipywidgets\" for Jupyter support\n",
       "  warnings.warn('install \"ipywidgets\" for Jupyter support')\n"
      ]
     },
     "metadata": {},
     "output_type": "display_data"
    },
    {
     "data": {
      "text/html": [
       "<pre style=\"white-space:pre;overflow-x:auto;line-height:normal;font-family:Menlo,'DejaVu Sans Mono',consolas,'Courier New',monospace\"><span style=\"color: #800000; text-decoration-color: #800000; font-style: italic\">stats</span>:<span style=\"font-weight: bold\">{</span><span style=\"color: #008000; text-decoration-color: #008000\">'num_users'</span>: <span style=\"color: #008080; text-decoration-color: #008080; font-weight: bold\">29722</span>, <span style=\"color: #008000; text-decoration-color: #008000\">'max_items'</span>: <span style=\"color: #008080; text-decoration-color: #008080; font-weight: bold\">1</span>, <span style=\"color: #008000; text-decoration-color: #008000\">'min_items'</span>: <span style=\"color: #008080; text-decoration-color: #008080; font-weight: bold\">1</span><span style=\"font-weight: bold\">}</span>\n",
       "</pre>\n"
      ],
      "text/plain": [
       "\u001b[3;31mstats\u001b[0m:\u001b[1m{\u001b[0m\u001b[32m'num_users'\u001b[0m: \u001b[1;36m29722\u001b[0m, \u001b[32m'max_items'\u001b[0m: \u001b[1;36m1\u001b[0m, \u001b[32m'min_items'\u001b[0m: \u001b[1;36m1\u001b[0m\u001b[1m}\u001b[0m\n"
      ]
     },
     "metadata": {},
     "output_type": "display_data"
    },
    {
     "data": {
      "text/html": [
       "<pre style=\"white-space:pre;overflow-x:auto;line-height:normal;font-family:Menlo,'DejaVu Sans Mono',consolas,'Courier New',monospace\"><span style=\"color: #800000; text-decoration-color: #800000; font-style: italic\">HIT_RAT</span><span style=\"color: #800000; text-decoration-color: #800000; font-weight: bold; font-style: italic\">E</span><span style=\"color: #00ff00; text-decoration-color: #00ff00; font-weight: bold\">:0</span>.<span style=\"color: #008080; text-decoration-color: #008080; font-weight: bold\">048415315254693496</span>\n",
       "</pre>\n"
      ],
      "text/plain": [
       "\u001b[3;31mHIT_RAT\u001b[0m\u001b[1;3;31mE\u001b[0m\u001b[1;92m:0\u001b[0m.\u001b[1;36m048415315254693496\u001b[0m\n"
      ]
     },
     "metadata": {},
     "output_type": "display_data"
    },
    {
     "data": {
      "text/html": [
       "<pre style=\"white-space:pre;overflow-x:auto;line-height:normal;font-family:Menlo,'DejaVu Sans Mono',consolas,'Courier New',monospace\"><span style=\"color: #800000; text-decoration-color: #800000; font-style: italic\">MRR</span>:<span style=\"color: #008080; text-decoration-color: #008080; font-weight: bold\">0.0022901478266583826</span>\n",
       "</pre>\n"
      ],
      "text/plain": [
       "\u001b[3;31mMRR\u001b[0m:\u001b[1;36m0.0022901478266583826\u001b[0m\n"
      ]
     },
     "metadata": {},
     "output_type": "display_data"
    },
    {
     "data": {
      "text/html": [
       "<pre style=\"white-space:pre;overflow-x:auto;line-height:normal;font-family:Menlo,'DejaVu Sans Mono',consolas,'Courier New',monospace\"><span style=\"color: #800000; text-decoration-color: #800000; font-style: italic\">MRED_COUNTRY</span>:<span style=\"font-weight: bold\">{</span><span style=\"color: #008000; text-decoration-color: #008000\">'mred'</span>: <span style=\"color: #008080; text-decoration-color: #008080; font-weight: bold\">-0.008300676473591426</span>, <span style=\"color: #008000; text-decoration-color: #008000\">'mr'</span>: <span style=\"color: #008080; text-decoration-color: #008080; font-weight: bold\">0.9505530006461176</span>, <span style=\"color: #008000; text-decoration-color: #008000\">'BR'</span>: <span style=\"color: #008080; text-decoration-color: #008080; font-weight: bold\">0.9394871794871795</span>, <span style=\"color: #008000; text-decoration-color: #008000\">'CA'</span>: \n",
       "<span style=\"color: #008080; text-decoration-color: #008080; font-weight: bold\">0.9703703703703703</span>, <span style=\"color: #008000; text-decoration-color: #008000\">'DE'</span>: <span style=\"color: #008080; text-decoration-color: #008080; font-weight: bold\">0.9561324977618622</span>, <span style=\"color: #008000; text-decoration-color: #008000\">'ES'</span>: <span style=\"color: #008080; text-decoration-color: #008080; font-weight: bold\">0.9207317073170732</span>, <span style=\"color: #008000; text-decoration-color: #008000\">'FI'</span>: <span style=\"color: #008080; text-decoration-color: #008080; font-weight: bold\">0.9569620253164557</span>, <span style=\"color: #008000; text-decoration-color: #008000\">'FR'</span>: \n",
       "<span style=\"color: #008080; text-decoration-color: #008080; font-weight: bold\">0.946969696969697</span>, <span style=\"color: #008000; text-decoration-color: #008000\">'NL'</span>: <span style=\"color: #008080; text-decoration-color: #008080; font-weight: bold\">0.9591280653950953</span>, <span style=\"color: #008000; text-decoration-color: #008000\">'NaN'</span>: <span style=\"color: #008080; text-decoration-color: #008080; font-weight: bold\">0.949115321872255</span>, <span style=\"color: #008000; text-decoration-color: #008000\">'PL'</span>: <span style=\"color: #008080; text-decoration-color: #008080; font-weight: bold\">0.9506398537477148</span>, <span style=\"color: #008000; text-decoration-color: #008000\">'RU'</span>: \n",
       "<span style=\"color: #008080; text-decoration-color: #008080; font-weight: bold\">0.9526813880126183</span>, <span style=\"color: #008000; text-decoration-color: #008000\">'SE'</span>: <span style=\"color: #008080; text-decoration-color: #008080; font-weight: bold\">0.9547038327526133</span>, <span style=\"color: #008000; text-decoration-color: #008000\">'UA'</span>: <span style=\"color: #008080; text-decoration-color: #008080; font-weight: bold\">0.94</span>, <span style=\"color: #008000; text-decoration-color: #008000\">'UK'</span>: <span style=\"color: #008080; text-decoration-color: #008080; font-weight: bold\">0.9555160142348754</span>, <span style=\"color: #008000; text-decoration-color: #008000\">'US'</span>: <span style=\"color: #008080; text-decoration-color: #008080; font-weight: bold\">0.9585913312693498</span><span style=\"font-weight: bold\">}</span>\n",
       "</pre>\n"
      ],
      "text/plain": [
       "\u001b[3;31mMRED_COUNTRY\u001b[0m:\u001b[1m{\u001b[0m\u001b[32m'mred'\u001b[0m: \u001b[1;36m-0.008300676473591426\u001b[0m, \u001b[32m'mr'\u001b[0m: \u001b[1;36m0.9505530006461176\u001b[0m, \u001b[32m'BR'\u001b[0m: \u001b[1;36m0.9394871794871795\u001b[0m, \u001b[32m'CA'\u001b[0m: \n",
       "\u001b[1;36m0.9703703703703703\u001b[0m, \u001b[32m'DE'\u001b[0m: \u001b[1;36m0.9561324977618622\u001b[0m, \u001b[32m'ES'\u001b[0m: \u001b[1;36m0.9207317073170732\u001b[0m, \u001b[32m'FI'\u001b[0m: \u001b[1;36m0.9569620253164557\u001b[0m, \u001b[32m'FR'\u001b[0m: \n",
       "\u001b[1;36m0.946969696969697\u001b[0m, \u001b[32m'NL'\u001b[0m: \u001b[1;36m0.9591280653950953\u001b[0m, \u001b[32m'NaN'\u001b[0m: \u001b[1;36m0.949115321872255\u001b[0m, \u001b[32m'PL'\u001b[0m: \u001b[1;36m0.9506398537477148\u001b[0m, \u001b[32m'RU'\u001b[0m: \n",
       "\u001b[1;36m0.9526813880126183\u001b[0m, \u001b[32m'SE'\u001b[0m: \u001b[1;36m0.9547038327526133\u001b[0m, \u001b[32m'UA'\u001b[0m: \u001b[1;36m0.94\u001b[0m, \u001b[32m'UK'\u001b[0m: \u001b[1;36m0.9555160142348754\u001b[0m, \u001b[32m'US'\u001b[0m: \u001b[1;36m0.9585913312693498\u001b[0m\u001b[1m}\u001b[0m\n"
      ]
     },
     "metadata": {},
     "output_type": "display_data"
    },
    {
     "data": {
      "text/html": [
       "<pre style=\"white-space:pre;overflow-x:auto;line-height:normal;font-family:Menlo,'DejaVu Sans Mono',consolas,'Courier New',monospace\">/usr/local/lib/python3.8/dist-packages/rich/live.py:231: UserWarning: install \"ipywidgets\" for Jupyter support\n",
       "  warnings.warn('install \"ipywidgets\" for Jupyter support')\n",
       "</pre>\n"
      ],
      "text/plain": [
       "/usr/local/lib/python3.8/dist-packages/rich/live.py:231: UserWarning: install \"ipywidgets\" for Jupyter support\n",
       "  warnings.warn('install \"ipywidgets\" for Jupyter support')\n"
      ]
     },
     "metadata": {},
     "output_type": "display_data"
    },
    {
     "data": {
      "text/html": [
       "<pre style=\"white-space:pre;overflow-x:auto;line-height:normal;font-family:Menlo,'DejaVu Sans Mono',consolas,'Courier New',monospace\">/usr/local/lib/python3.8/dist-packages/rich/live.py:231: UserWarning: install \"ipywidgets\" for Jupyter support\n",
       "  warnings.warn('install \"ipywidgets\" for Jupyter support')\n",
       "</pre>\n"
      ],
      "text/plain": [
       "/usr/local/lib/python3.8/dist-packages/rich/live.py:231: UserWarning: install \"ipywidgets\" for Jupyter support\n",
       "  warnings.warn('install \"ipywidgets\" for Jupyter support')\n"
      ]
     },
     "metadata": {},
     "output_type": "display_data"
    },
    {
     "data": {
      "text/html": [
       "<pre style=\"white-space:pre;overflow-x:auto;line-height:normal;font-family:Menlo,'DejaVu Sans Mono',consolas,'Courier New',monospace\"><span style=\"color: #800000; text-decoration-color: #800000; font-style: italic\">MRED_USER_ACTIVITY</span>:<span style=\"font-weight: bold\">{</span><span style=\"color: #008000; text-decoration-color: #008000\">'mred'</span>: <span style=\"color: #008080; text-decoration-color: #008080; font-weight: bold\">-0.018456655729888676</span>, <span style=\"color: #008000; text-decoration-color: #008000\">'mr'</span>: <span style=\"color: #008080; text-decoration-color: #008080; font-weight: bold\">0.9515846847453066</span>, <span style=\"color: #008080; text-decoration-color: #008080; font-weight: bold\">1</span>: <span style=\"color: #008080; text-decoration-color: #008080; font-weight: bold\">0.9050661798265632</span>, <span style=\"color: #008080; text-decoration-color: #008080; font-weight: bold\">100</span>: \n",
       "<span style=\"color: #008080; text-decoration-color: #008080; font-weight: bold\">0.9549700085689803</span>, <span style=\"color: #008080; text-decoration-color: #008080; font-weight: bold\">1000</span>: <span style=\"color: #008080; text-decoration-color: #008080; font-weight: bold\">0.9570508231925555</span><span style=\"font-weight: bold\">}</span>\n",
       "</pre>\n"
      ],
      "text/plain": [
       "\u001b[3;31mMRED_USER_ACTIVITY\u001b[0m:\u001b[1m{\u001b[0m\u001b[32m'mred'\u001b[0m: \u001b[1;36m-0.018456655729888676\u001b[0m, \u001b[32m'mr'\u001b[0m: \u001b[1;36m0.9515846847453066\u001b[0m, \u001b[1;36m1\u001b[0m: \u001b[1;36m0.9050661798265632\u001b[0m, \u001b[1;36m100\u001b[0m: \n",
       "\u001b[1;36m0.9549700085689803\u001b[0m, \u001b[1;36m1000\u001b[0m: \u001b[1;36m0.9570508231925555\u001b[0m\u001b[1m}\u001b[0m\n"
      ]
     },
     "metadata": {},
     "output_type": "display_data"
    },
    {
     "data": {
      "text/html": [
       "<pre style=\"white-space:pre;overflow-x:auto;line-height:normal;font-family:Menlo,'DejaVu Sans Mono',consolas,'Courier New',monospace\">/usr/local/lib/python3.8/dist-packages/rich/live.py:231: UserWarning: install \"ipywidgets\" for Jupyter support\n",
       "  warnings.warn('install \"ipywidgets\" for Jupyter support')\n",
       "</pre>\n"
      ],
      "text/plain": [
       "/usr/local/lib/python3.8/dist-packages/rich/live.py:231: UserWarning: install \"ipywidgets\" for Jupyter support\n",
       "  warnings.warn('install \"ipywidgets\" for Jupyter support')\n"
      ]
     },
     "metadata": {},
     "output_type": "display_data"
    },
    {
     "data": {
      "text/html": [
       "<pre style=\"white-space:pre;overflow-x:auto;line-height:normal;font-family:Menlo,'DejaVu Sans Mono',consolas,'Courier New',monospace\">/usr/local/lib/python3.8/dist-packages/rich/live.py:231: UserWarning: install \"ipywidgets\" for Jupyter support\n",
       "  warnings.warn('install \"ipywidgets\" for Jupyter support')\n",
       "</pre>\n"
      ],
      "text/plain": [
       "/usr/local/lib/python3.8/dist-packages/rich/live.py:231: UserWarning: install \"ipywidgets\" for Jupyter support\n",
       "  warnings.warn('install \"ipywidgets\" for Jupyter support')\n"
      ]
     },
     "metadata": {},
     "output_type": "display_data"
    },
    {
     "data": {
      "text/html": [
       "<pre style=\"white-space:pre;overflow-x:auto;line-height:normal;font-family:Menlo,'DejaVu Sans Mono',consolas,'Courier New',monospace\"><span style=\"color: #800000; text-decoration-color: #800000; font-style: italic\">MRED_TRACK_POPULARITY</span>:<span style=\"font-weight: bold\">{</span><span style=\"color: #008000; text-decoration-color: #008000\">'mred'</span>: <span style=\"color: #008080; text-decoration-color: #008080; font-weight: bold\">-0.01845813801658494</span>, <span style=\"color: #008000; text-decoration-color: #008000\">'mr'</span>: <span style=\"color: #008080; text-decoration-color: #008080; font-weight: bold\">0.9515846847453066</span>, <span style=\"color: #008080; text-decoration-color: #008080; font-weight: bold\">1</span>: <span style=\"color: #008080; text-decoration-color: #008080; font-weight: bold\">1.0</span>, <span style=\"color: #008080; text-decoration-color: #008080; font-weight: bold\">10</span>: <span style=\"color: #008080; text-decoration-color: #008080; font-weight: bold\">0.9542479699430372</span>, <span style=\"color: #008080; text-decoration-color: #008080; font-weight: bold\">100</span>:\n",
       "<span style=\"color: #008080; text-decoration-color: #008080; font-weight: bold\">0.9449300699300699</span>, <span style=\"color: #008080; text-decoration-color: #008080; font-weight: bold\">1000</span>: <span style=\"color: #008080; text-decoration-color: #008080; font-weight: bold\">0.9676840215439856</span><span style=\"font-weight: bold\">}</span>\n",
       "</pre>\n"
      ],
      "text/plain": [
       "\u001b[3;31mMRED_TRACK_POPULARITY\u001b[0m:\u001b[1m{\u001b[0m\u001b[32m'mred'\u001b[0m: \u001b[1;36m-0.01845813801658494\u001b[0m, \u001b[32m'mr'\u001b[0m: \u001b[1;36m0.9515846847453066\u001b[0m, \u001b[1;36m1\u001b[0m: \u001b[1;36m1.0\u001b[0m, \u001b[1;36m10\u001b[0m: \u001b[1;36m0.9542479699430372\u001b[0m, \u001b[1;36m100\u001b[0m:\n",
       "\u001b[1;36m0.9449300699300699\u001b[0m, \u001b[1;36m1000\u001b[0m: \u001b[1;36m0.9676840215439856\u001b[0m\u001b[1m}\u001b[0m\n"
      ]
     },
     "metadata": {},
     "output_type": "display_data"
    },
    {
     "data": {
      "text/html": [
       "<pre style=\"white-space:pre;overflow-x:auto;line-height:normal;font-family:Menlo,'DejaVu Sans Mono',consolas,'Courier New',monospace\">/usr/local/lib/python3.8/dist-packages/rich/live.py:231: UserWarning: install \"ipywidgets\" for Jupyter support\n",
       "  warnings.warn('install \"ipywidgets\" for Jupyter support')\n",
       "</pre>\n"
      ],
      "text/plain": [
       "/usr/local/lib/python3.8/dist-packages/rich/live.py:231: UserWarning: install \"ipywidgets\" for Jupyter support\n",
       "  warnings.warn('install \"ipywidgets\" for Jupyter support')\n"
      ]
     },
     "metadata": {},
     "output_type": "display_data"
    },
    {
     "data": {
      "text/html": [
       "<pre style=\"white-space:pre;overflow-x:auto;line-height:normal;font-family:Menlo,'DejaVu Sans Mono',consolas,'Courier New',monospace\"><span style=\"color: #800000; text-decoration-color: #800000; font-style: italic\">MRED_ARTIST_POPULARITY</span>:<span style=\"font-weight: bold\">{</span><span style=\"color: #008000; text-decoration-color: #008000\">'mred'</span>: <span style=\"color: #008080; text-decoration-color: #008080; font-weight: bold\">-0.004770822480517467</span>, <span style=\"color: #008000; text-decoration-color: #008000\">'mr'</span>: <span style=\"color: #008080; text-decoration-color: #008080; font-weight: bold\">0.9515846847453066</span>, <span style=\"color: #008080; text-decoration-color: #008080; font-weight: bold\">1</span>: <span style=\"color: #008080; text-decoration-color: #008080; font-weight: bold\">0.9511581067472307</span>, <span style=\"color: #008080; text-decoration-color: #008080; font-weight: bold\">100</span>: \n",
       "<span style=\"color: #008080; text-decoration-color: #008080; font-weight: bold\">0.952972217910911</span>, <span style=\"color: #008080; text-decoration-color: #008080; font-weight: bold\">1000</span>: <span style=\"color: #008080; text-decoration-color: #008080; font-weight: bold\">0.9585687382297552</span>, <span style=\"color: #008080; text-decoration-color: #008080; font-weight: bold\">10000</span>: <span style=\"color: #008080; text-decoration-color: #008080; font-weight: bold\">0.9412995594713657</span><span style=\"font-weight: bold\">}</span>\n",
       "</pre>\n"
      ],
      "text/plain": [
       "\u001b[3;31mMRED_ARTIST_POPULARITY\u001b[0m:\u001b[1m{\u001b[0m\u001b[32m'mred'\u001b[0m: \u001b[1;36m-0.004770822480517467\u001b[0m, \u001b[32m'mr'\u001b[0m: \u001b[1;36m0.9515846847453066\u001b[0m, \u001b[1;36m1\u001b[0m: \u001b[1;36m0.9511581067472307\u001b[0m, \u001b[1;36m100\u001b[0m: \n",
       "\u001b[1;36m0.952972217910911\u001b[0m, \u001b[1;36m1000\u001b[0m: \u001b[1;36m0.9585687382297552\u001b[0m, \u001b[1;36m10000\u001b[0m: \u001b[1;36m0.9412995594713657\u001b[0m\u001b[1m}\u001b[0m\n"
      ]
     },
     "metadata": {},
     "output_type": "display_data"
    },
    {
     "data": {
      "text/html": [
       "<pre style=\"white-space:pre;overflow-x:auto;line-height:normal;font-family:Menlo,'DejaVu Sans Mono',consolas,'Courier New',monospace\">/usr/local/lib/python3.8/dist-packages/rich/live.py:231: UserWarning: install \"ipywidgets\" for Jupyter support\n",
       "  warnings.warn('install \"ipywidgets\" for Jupyter support')\n",
       "</pre>\n"
      ],
      "text/plain": [
       "/usr/local/lib/python3.8/dist-packages/rich/live.py:231: UserWarning: install \"ipywidgets\" for Jupyter support\n",
       "  warnings.warn('install \"ipywidgets\" for Jupyter support')\n"
      ]
     },
     "metadata": {},
     "output_type": "display_data"
    },
    {
     "data": {
      "text/html": [
       "<pre style=\"white-space:pre;overflow-x:auto;line-height:normal;font-family:Menlo,'DejaVu Sans Mono',consolas,'Courier New',monospace\"><span style=\"color: #800000; text-decoration-color: #800000; font-style: italic\">MRED_GENDER</span>:<span style=\"font-weight: bold\">{</span><span style=\"color: #008000; text-decoration-color: #008000\">'mred'</span>: <span style=\"color: #008080; text-decoration-color: #008080; font-weight: bold\">-0.00270451773156181</span>, <span style=\"color: #008000; text-decoration-color: #008000\">'mr'</span>: <span style=\"color: #008080; text-decoration-color: #008080; font-weight: bold\">0.9515846847453066</span>, <span style=\"color: #008000; text-decoration-color: #008000\">'f'</span>: <span style=\"color: #008080; text-decoration-color: #008080; font-weight: bold\">0.953877866529245</span>, <span style=\"color: #008000; text-decoration-color: #008000\">'m'</span>: \n",
       "<span style=\"color: #008080; text-decoration-color: #008080; font-weight: bold\">0.9548225887056472</span>, <span style=\"color: #008000; text-decoration-color: #008000\">'n'</span>: <span style=\"color: #008080; text-decoration-color: #008080; font-weight: bold\">0.9490022172949002</span><span style=\"font-weight: bold\">}</span>\n",
       "</pre>\n"
      ],
      "text/plain": [
       "\u001b[3;31mMRED_GENDER\u001b[0m:\u001b[1m{\u001b[0m\u001b[32m'mred'\u001b[0m: \u001b[1;36m-0.00270451773156181\u001b[0m, \u001b[32m'mr'\u001b[0m: \u001b[1;36m0.9515846847453066\u001b[0m, \u001b[32m'f'\u001b[0m: \u001b[1;36m0.953877866529245\u001b[0m, \u001b[32m'm'\u001b[0m: \n",
       "\u001b[1;36m0.9548225887056472\u001b[0m, \u001b[32m'n'\u001b[0m: \u001b[1;36m0.9490022172949002\u001b[0m\u001b[1m}\u001b[0m\n"
      ]
     },
     "metadata": {},
     "output_type": "display_data"
    },
    {
     "data": {
      "text/html": [
       "<pre style=\"white-space:pre;overflow-x:auto;line-height:normal;font-family:Menlo,'DejaVu Sans Mono',consolas,'Courier New',monospace\">/usr/local/lib/python3.8/dist-packages/rich/live.py:231: UserWarning: install \"ipywidgets\" for Jupyter support\n",
       "  warnings.warn('install \"ipywidgets\" for Jupyter support')\n",
       "</pre>\n"
      ],
      "text/plain": [
       "/usr/local/lib/python3.8/dist-packages/rich/live.py:231: UserWarning: install \"ipywidgets\" for Jupyter support\n",
       "  warnings.warn('install \"ipywidgets\" for Jupyter support')\n"
      ]
     },
     "metadata": {},
     "output_type": "display_data"
    },
    {
     "data": {
      "text/html": [
       "<pre style=\"white-space:pre;overflow-x:auto;line-height:normal;font-family:Menlo,'DejaVu Sans Mono',consolas,'Courier New',monospace\"><span style=\"color: #800000; text-decoration-color: #800000; font-style: italic\">BEING_LESS_WRONG</span>:<span style=\"color: #008080; text-decoration-color: #008080; font-weight: bold\">0.3236536979675293</span>\n",
       "</pre>\n"
      ],
      "text/plain": [
       "\u001b[3;31mBEING_LESS_WRONG\u001b[0m:\u001b[1;36m0.3236536979675293\u001b[0m\n"
      ]
     },
     "metadata": {},
     "output_type": "display_data"
    },
    {
     "data": {
      "text/html": [
       "<pre style=\"white-space:pre;overflow-x:auto;line-height:normal;font-family:Menlo,'DejaVu Sans Mono',consolas,'Courier New',monospace\"></pre>\n"
      ],
      "text/plain": []
     },
     "metadata": {},
     "output_type": "display_data"
    },
    {
     "data": {
      "text/html": [
       "<pre style=\"white-space:pre;overflow-x:auto;line-height:normal;font-family:Menlo,'DejaVu Sans Mono',consolas,'Courier New',monospace\">\n",
       "</pre>\n"
      ],
      "text/plain": [
       "\n"
      ]
     },
     "metadata": {},
     "output_type": "display_data"
    },
    {
     "data": {
      "text/html": [
       "<pre style=\"white-space:pre;overflow-x:auto;line-height:normal;font-family:Menlo,'DejaVu Sans Mono',consolas,'Courier New',monospace\"><span style=\"font-style: italic\">                                EvalRSReclist                                 </span>\n",
       "┏━━━━━━━━━━━━━━━━━━━━━━━━┳━━━━━━━━━━━━━━┳━━━━━━━━━━━━━━━━━━━━━━━━━━━━━━━━━━━━┓\n",
       "┃<span style=\"font-weight: bold\">                   Type </span>┃<span style=\"font-weight: bold\"> Description  </span>┃<span style=\"font-weight: bold\">                             Result </span>┃\n",
       "┡━━━━━━━━━━━━━━━━━━━━━━━━╇━━━━━━━━━━━━━━╇━━━━━━━━━━━━━━━━━━━━━━━━━━━━━━━━━━━━┩\n",
       "│<span style=\"color: #008080; text-decoration-color: #008080\">                  stats </span>│<span style=\"color: #800080; text-decoration-color: #800080\">              </span>│<span style=\"color: #008000; text-decoration-color: #008000\">                                  { </span>│\n",
       "│<span style=\"color: #008080; text-decoration-color: #008080\">                        </span>│<span style=\"color: #800080; text-decoration-color: #800080\">              </span>│<span style=\"color: #008000; text-decoration-color: #008000\">                \"num_users\": 29722, </span>│\n",
       "│<span style=\"color: #008080; text-decoration-color: #008080\">                        </span>│<span style=\"color: #800080; text-decoration-color: #800080\">              </span>│<span style=\"color: #008000; text-decoration-color: #008000\">                    \"max_items\": 1, </span>│\n",
       "│<span style=\"color: #008080; text-decoration-color: #008080\">                        </span>│<span style=\"color: #800080; text-decoration-color: #800080\">              </span>│<span style=\"color: #008000; text-decoration-color: #008000\">                     \"min_items\": 1 </span>│\n",
       "│<span style=\"color: #008080; text-decoration-color: #008080\">                        </span>│<span style=\"color: #800080; text-decoration-color: #800080\">              </span>│<span style=\"color: #008000; text-decoration-color: #008000\">                                  } </span>│\n",
       "│<span style=\"color: #008080; text-decoration-color: #008080\">               HIT_RATE </span>│<span style=\"color: #800080; text-decoration-color: #800080\">              </span>│<span style=\"color: #008000; text-decoration-color: #008000\">                             0.0484 </span>│\n",
       "│<span style=\"color: #008080; text-decoration-color: #008080\">                    MRR </span>│<span style=\"color: #800080; text-decoration-color: #800080\">              </span>│<span style=\"color: #008000; text-decoration-color: #008000\">                             0.0023 </span>│\n",
       "│<span style=\"color: #008080; text-decoration-color: #008080\">           MRED_COUNTRY </span>│<span style=\"color: #800080; text-decoration-color: #800080\">              </span>│<span style=\"color: #008000; text-decoration-color: #008000\">                                  { </span>│\n",
       "│<span style=\"color: #008080; text-decoration-color: #008080\">                        </span>│<span style=\"color: #800080; text-decoration-color: #800080\">              </span>│<span style=\"color: #008000; text-decoration-color: #008000\">     \"mred\": -0.008300676473591426, </span>│\n",
       "│<span style=\"color: #008080; text-decoration-color: #008080\">                        </span>│<span style=\"color: #800080; text-decoration-color: #800080\">              </span>│<span style=\"color: #008000; text-decoration-color: #008000\">          \"mr\": 0.9505530006461176, </span>│\n",
       "│<span style=\"color: #008080; text-decoration-color: #008080\">                        </span>│<span style=\"color: #800080; text-decoration-color: #800080\">              </span>│<span style=\"color: #008000; text-decoration-color: #008000\">          \"BR\": 0.9394871794871795, </span>│\n",
       "│<span style=\"color: #008080; text-decoration-color: #008080\">                        </span>│<span style=\"color: #800080; text-decoration-color: #800080\">              </span>│<span style=\"color: #008000; text-decoration-color: #008000\">          \"CA\": 0.9703703703703703, </span>│\n",
       "│<span style=\"color: #008080; text-decoration-color: #008080\">                        </span>│<span style=\"color: #800080; text-decoration-color: #800080\">              </span>│<span style=\"color: #008000; text-decoration-color: #008000\">          \"DE\": 0.9561324977618622, </span>│\n",
       "│<span style=\"color: #008080; text-decoration-color: #008080\">                        </span>│<span style=\"color: #800080; text-decoration-color: #800080\">              </span>│<span style=\"color: #008000; text-decoration-color: #008000\">          \"ES\": 0.9207317073170732, </span>│\n",
       "│<span style=\"color: #008080; text-decoration-color: #008080\">                        </span>│<span style=\"color: #800080; text-decoration-color: #800080\">              </span>│<span style=\"color: #008000; text-decoration-color: #008000\">          \"FI\": 0.9569620253164557, </span>│\n",
       "│<span style=\"color: #008080; text-decoration-color: #008080\">                        </span>│<span style=\"color: #800080; text-decoration-color: #800080\">              </span>│<span style=\"color: #008000; text-decoration-color: #008000\">           \"FR\": 0.946969696969697, </span>│\n",
       "│<span style=\"color: #008080; text-decoration-color: #008080\">                        </span>│<span style=\"color: #800080; text-decoration-color: #800080\">              </span>│<span style=\"color: #008000; text-decoration-color: #008000\">          \"NL\": 0.9591280653950953, </span>│\n",
       "│<span style=\"color: #008080; text-decoration-color: #008080\">                        </span>│<span style=\"color: #800080; text-decoration-color: #800080\">              </span>│<span style=\"color: #008000; text-decoration-color: #008000\">          \"NaN\": 0.949115321872255, </span>│\n",
       "│<span style=\"color: #008080; text-decoration-color: #008080\">                        </span>│<span style=\"color: #800080; text-decoration-color: #800080\">              </span>│<span style=\"color: #008000; text-decoration-color: #008000\">          \"PL\": 0.9506398537477148, </span>│\n",
       "│<span style=\"color: #008080; text-decoration-color: #008080\">                        </span>│<span style=\"color: #800080; text-decoration-color: #800080\">              </span>│<span style=\"color: #008000; text-decoration-color: #008000\">          \"RU\": 0.9526813880126183, </span>│\n",
       "│<span style=\"color: #008080; text-decoration-color: #008080\">                        </span>│<span style=\"color: #800080; text-decoration-color: #800080\">              </span>│<span style=\"color: #008000; text-decoration-color: #008000\">          \"SE\": 0.9547038327526133, </span>│\n",
       "│<span style=\"color: #008080; text-decoration-color: #008080\">                        </span>│<span style=\"color: #800080; text-decoration-color: #800080\">              </span>│<span style=\"color: #008000; text-decoration-color: #008000\">                        \"UA\": 0.94, </span>│\n",
       "│<span style=\"color: #008080; text-decoration-color: #008080\">                        </span>│<span style=\"color: #800080; text-decoration-color: #800080\">              </span>│<span style=\"color: #008000; text-decoration-color: #008000\">          \"UK\": 0.9555160142348754, </span>│\n",
       "│<span style=\"color: #008080; text-decoration-color: #008080\">                        </span>│<span style=\"color: #800080; text-decoration-color: #800080\">              </span>│<span style=\"color: #008000; text-decoration-color: #008000\">           \"US\": 0.9585913312693498 </span>│\n",
       "│<span style=\"color: #008080; text-decoration-color: #008080\">                        </span>│<span style=\"color: #800080; text-decoration-color: #800080\">              </span>│<span style=\"color: #008000; text-decoration-color: #008000\">                                  } </span>│\n",
       "│<span style=\"color: #008080; text-decoration-color: #008080\">     MRED_USER_ACTIVITY </span>│<span style=\"color: #800080; text-decoration-color: #800080\">              </span>│<span style=\"color: #008000; text-decoration-color: #008000\">                                  { </span>│\n",
       "│<span style=\"color: #008080; text-decoration-color: #008080\">                        </span>│<span style=\"color: #800080; text-decoration-color: #800080\">              </span>│<span style=\"color: #008000; text-decoration-color: #008000\">     \"mred\": -0.018456655729888676, </span>│\n",
       "│<span style=\"color: #008080; text-decoration-color: #008080\">                        </span>│<span style=\"color: #800080; text-decoration-color: #800080\">              </span>│<span style=\"color: #008000; text-decoration-color: #008000\">          \"mr\": 0.9515846847453066, </span>│\n",
       "│<span style=\"color: #008080; text-decoration-color: #008080\">                        </span>│<span style=\"color: #800080; text-decoration-color: #800080\">              </span>│<span style=\"color: #008000; text-decoration-color: #008000\">           \"1\": 0.9050661798265632, </span>│\n",
       "│<span style=\"color: #008080; text-decoration-color: #008080\">                        </span>│<span style=\"color: #800080; text-decoration-color: #800080\">              </span>│<span style=\"color: #008000; text-decoration-color: #008000\">         \"100\": 0.9549700085689803, </span>│\n",
       "│<span style=\"color: #008080; text-decoration-color: #008080\">                        </span>│<span style=\"color: #800080; text-decoration-color: #800080\">              </span>│<span style=\"color: #008000; text-decoration-color: #008000\">         \"1000\": 0.9570508231925555 </span>│\n",
       "│<span style=\"color: #008080; text-decoration-color: #008080\">                        </span>│<span style=\"color: #800080; text-decoration-color: #800080\">              </span>│<span style=\"color: #008000; text-decoration-color: #008000\">                                  } </span>│\n",
       "│<span style=\"color: #008080; text-decoration-color: #008080\">  MRED_TRACK_POPULARITY </span>│<span style=\"color: #800080; text-decoration-color: #800080\">              </span>│<span style=\"color: #008000; text-decoration-color: #008000\">                                  { </span>│\n",
       "│<span style=\"color: #008080; text-decoration-color: #008080\">                        </span>│<span style=\"color: #800080; text-decoration-color: #800080\">              </span>│<span style=\"color: #008000; text-decoration-color: #008000\">      \"mred\": -0.01845813801658494, </span>│\n",
       "│<span style=\"color: #008080; text-decoration-color: #008080\">                        </span>│<span style=\"color: #800080; text-decoration-color: #800080\">              </span>│<span style=\"color: #008000; text-decoration-color: #008000\">          \"mr\": 0.9515846847453066, </span>│\n",
       "│<span style=\"color: #008080; text-decoration-color: #008080\">                        </span>│<span style=\"color: #800080; text-decoration-color: #800080\">              </span>│<span style=\"color: #008000; text-decoration-color: #008000\">                          \"1\": 1.0, </span>│\n",
       "│<span style=\"color: #008080; text-decoration-color: #008080\">                        </span>│<span style=\"color: #800080; text-decoration-color: #800080\">              </span>│<span style=\"color: #008000; text-decoration-color: #008000\">          \"10\": 0.9542479699430372, </span>│\n",
       "│<span style=\"color: #008080; text-decoration-color: #008080\">                        </span>│<span style=\"color: #800080; text-decoration-color: #800080\">              </span>│<span style=\"color: #008000; text-decoration-color: #008000\">         \"100\": 0.9449300699300699, </span>│\n",
       "│<span style=\"color: #008080; text-decoration-color: #008080\">                        </span>│<span style=\"color: #800080; text-decoration-color: #800080\">              </span>│<span style=\"color: #008000; text-decoration-color: #008000\">         \"1000\": 0.9676840215439856 </span>│\n",
       "│<span style=\"color: #008080; text-decoration-color: #008080\">                        </span>│<span style=\"color: #800080; text-decoration-color: #800080\">              </span>│<span style=\"color: #008000; text-decoration-color: #008000\">                                  } </span>│\n",
       "│<span style=\"color: #008080; text-decoration-color: #008080\"> MRED_ARTIST_POPULARITY </span>│<span style=\"color: #800080; text-decoration-color: #800080\">              </span>│<span style=\"color: #008000; text-decoration-color: #008000\">                                  { </span>│\n",
       "│<span style=\"color: #008080; text-decoration-color: #008080\">                        </span>│<span style=\"color: #800080; text-decoration-color: #800080\">              </span>│<span style=\"color: #008000; text-decoration-color: #008000\">     \"mred\": -0.004770822480517467, </span>│\n",
       "│<span style=\"color: #008080; text-decoration-color: #008080\">                        </span>│<span style=\"color: #800080; text-decoration-color: #800080\">              </span>│<span style=\"color: #008000; text-decoration-color: #008000\">          \"mr\": 0.9515846847453066, </span>│\n",
       "│<span style=\"color: #008080; text-decoration-color: #008080\">                        </span>│<span style=\"color: #800080; text-decoration-color: #800080\">              </span>│<span style=\"color: #008000; text-decoration-color: #008000\">           \"1\": 0.9511581067472307, </span>│\n",
       "│<span style=\"color: #008080; text-decoration-color: #008080\">                        </span>│<span style=\"color: #800080; text-decoration-color: #800080\">              </span>│<span style=\"color: #008000; text-decoration-color: #008000\">          \"100\": 0.952972217910911, </span>│\n",
       "│<span style=\"color: #008080; text-decoration-color: #008080\">                        </span>│<span style=\"color: #800080; text-decoration-color: #800080\">              </span>│<span style=\"color: #008000; text-decoration-color: #008000\">        \"1000\": 0.9585687382297552, </span>│\n",
       "│<span style=\"color: #008080; text-decoration-color: #008080\">                        </span>│<span style=\"color: #800080; text-decoration-color: #800080\">              </span>│<span style=\"color: #008000; text-decoration-color: #008000\">        \"10000\": 0.9412995594713657 </span>│\n",
       "│<span style=\"color: #008080; text-decoration-color: #008080\">                        </span>│<span style=\"color: #800080; text-decoration-color: #800080\">              </span>│<span style=\"color: #008000; text-decoration-color: #008000\">                                  } </span>│\n",
       "│<span style=\"color: #008080; text-decoration-color: #008080\">            MRED_GENDER </span>│<span style=\"color: #800080; text-decoration-color: #800080\">              </span>│<span style=\"color: #008000; text-decoration-color: #008000\">                                  { </span>│\n",
       "│<span style=\"color: #008080; text-decoration-color: #008080\">                        </span>│<span style=\"color: #800080; text-decoration-color: #800080\">              </span>│<span style=\"color: #008000; text-decoration-color: #008000\">      \"mred\": -0.00270451773156181, </span>│\n",
       "│<span style=\"color: #008080; text-decoration-color: #008080\">                        </span>│<span style=\"color: #800080; text-decoration-color: #800080\">              </span>│<span style=\"color: #008000; text-decoration-color: #008000\">          \"mr\": 0.9515846847453066, </span>│\n",
       "│<span style=\"color: #008080; text-decoration-color: #008080\">                        </span>│<span style=\"color: #800080; text-decoration-color: #800080\">              </span>│<span style=\"color: #008000; text-decoration-color: #008000\">            \"f\": 0.953877866529245, </span>│\n",
       "│<span style=\"color: #008080; text-decoration-color: #008080\">                        </span>│<span style=\"color: #800080; text-decoration-color: #800080\">              </span>│<span style=\"color: #008000; text-decoration-color: #008000\">           \"m\": 0.9548225887056472, </span>│\n",
       "│<span style=\"color: #008080; text-decoration-color: #008080\">                        </span>│<span style=\"color: #800080; text-decoration-color: #800080\">              </span>│<span style=\"color: #008000; text-decoration-color: #008000\">            \"n\": 0.9490022172949002 </span>│\n",
       "│<span style=\"color: #008080; text-decoration-color: #008080\">                        </span>│<span style=\"color: #800080; text-decoration-color: #800080\">              </span>│<span style=\"color: #008000; text-decoration-color: #008000\">                                  } </span>│\n",
       "│<span style=\"color: #008080; text-decoration-color: #008080\">       BEING_LESS_WRONG </span>│<span style=\"color: #800080; text-decoration-color: #800080\">              </span>│<span style=\"color: #008000; text-decoration-color: #008000\">                             0.3237 </span>│\n",
       "└────────────────────────┴──────────────┴────────────────────────────────────┘\n",
       "</pre>\n"
      ],
      "text/plain": [
       "\u001b[3m                                EvalRSReclist                                 \u001b[0m\n",
       "┏━━━━━━━━━━━━━━━━━━━━━━━━┳━━━━━━━━━━━━━━┳━━━━━━━━━━━━━━━━━━━━━━━━━━━━━━━━━━━━┓\n",
       "┃\u001b[1m \u001b[0m\u001b[1m                  Type\u001b[0m\u001b[1m \u001b[0m┃\u001b[1m \u001b[0m\u001b[1mDescription \u001b[0m\u001b[1m \u001b[0m┃\u001b[1m \u001b[0m\u001b[1m                            Result\u001b[0m\u001b[1m \u001b[0m┃\n",
       "┡━━━━━━━━━━━━━━━━━━━━━━━━╇━━━━━━━━━━━━━━╇━━━━━━━━━━━━━━━━━━━━━━━━━━━━━━━━━━━━┩\n",
       "│\u001b[36m \u001b[0m\u001b[36m                 stats\u001b[0m\u001b[36m \u001b[0m│\u001b[35m \u001b[0m\u001b[35m            \u001b[0m\u001b[35m \u001b[0m│\u001b[32m \u001b[0m\u001b[32m                                 {\u001b[0m\u001b[32m \u001b[0m│\n",
       "│\u001b[36m                        \u001b[0m│\u001b[35m              \u001b[0m│\u001b[32m \u001b[0m\u001b[32m               \"num_users\": 29722,\u001b[0m\u001b[32m \u001b[0m│\n",
       "│\u001b[36m                        \u001b[0m│\u001b[35m              \u001b[0m│\u001b[32m \u001b[0m\u001b[32m                   \"max_items\": 1,\u001b[0m\u001b[32m \u001b[0m│\n",
       "│\u001b[36m                        \u001b[0m│\u001b[35m              \u001b[0m│\u001b[32m \u001b[0m\u001b[32m                    \"min_items\": 1\u001b[0m\u001b[32m \u001b[0m│\n",
       "│\u001b[36m                        \u001b[0m│\u001b[35m              \u001b[0m│\u001b[32m \u001b[0m\u001b[32m                                 }\u001b[0m\u001b[32m \u001b[0m│\n",
       "│\u001b[36m \u001b[0m\u001b[36m              HIT_RATE\u001b[0m\u001b[36m \u001b[0m│\u001b[35m \u001b[0m\u001b[35m            \u001b[0m\u001b[35m \u001b[0m│\u001b[32m \u001b[0m\u001b[32m                            0.0484\u001b[0m\u001b[32m \u001b[0m│\n",
       "│\u001b[36m \u001b[0m\u001b[36m                   MRR\u001b[0m\u001b[36m \u001b[0m│\u001b[35m \u001b[0m\u001b[35m            \u001b[0m\u001b[35m \u001b[0m│\u001b[32m \u001b[0m\u001b[32m                            0.0023\u001b[0m\u001b[32m \u001b[0m│\n",
       "│\u001b[36m \u001b[0m\u001b[36m          MRED_COUNTRY\u001b[0m\u001b[36m \u001b[0m│\u001b[35m \u001b[0m\u001b[35m            \u001b[0m\u001b[35m \u001b[0m│\u001b[32m \u001b[0m\u001b[32m                                 {\u001b[0m\u001b[32m \u001b[0m│\n",
       "│\u001b[36m                        \u001b[0m│\u001b[35m              \u001b[0m│\u001b[32m \u001b[0m\u001b[32m    \"mred\": -0.008300676473591426,\u001b[0m\u001b[32m \u001b[0m│\n",
       "│\u001b[36m                        \u001b[0m│\u001b[35m              \u001b[0m│\u001b[32m \u001b[0m\u001b[32m         \"mr\": 0.9505530006461176,\u001b[0m\u001b[32m \u001b[0m│\n",
       "│\u001b[36m                        \u001b[0m│\u001b[35m              \u001b[0m│\u001b[32m \u001b[0m\u001b[32m         \"BR\": 0.9394871794871795,\u001b[0m\u001b[32m \u001b[0m│\n",
       "│\u001b[36m                        \u001b[0m│\u001b[35m              \u001b[0m│\u001b[32m \u001b[0m\u001b[32m         \"CA\": 0.9703703703703703,\u001b[0m\u001b[32m \u001b[0m│\n",
       "│\u001b[36m                        \u001b[0m│\u001b[35m              \u001b[0m│\u001b[32m \u001b[0m\u001b[32m         \"DE\": 0.9561324977618622,\u001b[0m\u001b[32m \u001b[0m│\n",
       "│\u001b[36m                        \u001b[0m│\u001b[35m              \u001b[0m│\u001b[32m \u001b[0m\u001b[32m         \"ES\": 0.9207317073170732,\u001b[0m\u001b[32m \u001b[0m│\n",
       "│\u001b[36m                        \u001b[0m│\u001b[35m              \u001b[0m│\u001b[32m \u001b[0m\u001b[32m         \"FI\": 0.9569620253164557,\u001b[0m\u001b[32m \u001b[0m│\n",
       "│\u001b[36m                        \u001b[0m│\u001b[35m              \u001b[0m│\u001b[32m \u001b[0m\u001b[32m          \"FR\": 0.946969696969697,\u001b[0m\u001b[32m \u001b[0m│\n",
       "│\u001b[36m                        \u001b[0m│\u001b[35m              \u001b[0m│\u001b[32m \u001b[0m\u001b[32m         \"NL\": 0.9591280653950953,\u001b[0m\u001b[32m \u001b[0m│\n",
       "│\u001b[36m                        \u001b[0m│\u001b[35m              \u001b[0m│\u001b[32m \u001b[0m\u001b[32m         \"NaN\": 0.949115321872255,\u001b[0m\u001b[32m \u001b[0m│\n",
       "│\u001b[36m                        \u001b[0m│\u001b[35m              \u001b[0m│\u001b[32m \u001b[0m\u001b[32m         \"PL\": 0.9506398537477148,\u001b[0m\u001b[32m \u001b[0m│\n",
       "│\u001b[36m                        \u001b[0m│\u001b[35m              \u001b[0m│\u001b[32m \u001b[0m\u001b[32m         \"RU\": 0.9526813880126183,\u001b[0m\u001b[32m \u001b[0m│\n",
       "│\u001b[36m                        \u001b[0m│\u001b[35m              \u001b[0m│\u001b[32m \u001b[0m\u001b[32m         \"SE\": 0.9547038327526133,\u001b[0m\u001b[32m \u001b[0m│\n",
       "│\u001b[36m                        \u001b[0m│\u001b[35m              \u001b[0m│\u001b[32m \u001b[0m\u001b[32m                       \"UA\": 0.94,\u001b[0m\u001b[32m \u001b[0m│\n",
       "│\u001b[36m                        \u001b[0m│\u001b[35m              \u001b[0m│\u001b[32m \u001b[0m\u001b[32m         \"UK\": 0.9555160142348754,\u001b[0m\u001b[32m \u001b[0m│\n",
       "│\u001b[36m                        \u001b[0m│\u001b[35m              \u001b[0m│\u001b[32m \u001b[0m\u001b[32m          \"US\": 0.9585913312693498\u001b[0m\u001b[32m \u001b[0m│\n",
       "│\u001b[36m                        \u001b[0m│\u001b[35m              \u001b[0m│\u001b[32m \u001b[0m\u001b[32m                                 }\u001b[0m\u001b[32m \u001b[0m│\n",
       "│\u001b[36m \u001b[0m\u001b[36m    MRED_USER_ACTIVITY\u001b[0m\u001b[36m \u001b[0m│\u001b[35m \u001b[0m\u001b[35m            \u001b[0m\u001b[35m \u001b[0m│\u001b[32m \u001b[0m\u001b[32m                                 {\u001b[0m\u001b[32m \u001b[0m│\n",
       "│\u001b[36m                        \u001b[0m│\u001b[35m              \u001b[0m│\u001b[32m \u001b[0m\u001b[32m    \"mred\": -0.018456655729888676,\u001b[0m\u001b[32m \u001b[0m│\n",
       "│\u001b[36m                        \u001b[0m│\u001b[35m              \u001b[0m│\u001b[32m \u001b[0m\u001b[32m         \"mr\": 0.9515846847453066,\u001b[0m\u001b[32m \u001b[0m│\n",
       "│\u001b[36m                        \u001b[0m│\u001b[35m              \u001b[0m│\u001b[32m \u001b[0m\u001b[32m          \"1\": 0.9050661798265632,\u001b[0m\u001b[32m \u001b[0m│\n",
       "│\u001b[36m                        \u001b[0m│\u001b[35m              \u001b[0m│\u001b[32m \u001b[0m\u001b[32m        \"100\": 0.9549700085689803,\u001b[0m\u001b[32m \u001b[0m│\n",
       "│\u001b[36m                        \u001b[0m│\u001b[35m              \u001b[0m│\u001b[32m \u001b[0m\u001b[32m        \"1000\": 0.9570508231925555\u001b[0m\u001b[32m \u001b[0m│\n",
       "│\u001b[36m                        \u001b[0m│\u001b[35m              \u001b[0m│\u001b[32m \u001b[0m\u001b[32m                                 }\u001b[0m\u001b[32m \u001b[0m│\n",
       "│\u001b[36m \u001b[0m\u001b[36m MRED_TRACK_POPULARITY\u001b[0m\u001b[36m \u001b[0m│\u001b[35m \u001b[0m\u001b[35m            \u001b[0m\u001b[35m \u001b[0m│\u001b[32m \u001b[0m\u001b[32m                                 {\u001b[0m\u001b[32m \u001b[0m│\n",
       "│\u001b[36m                        \u001b[0m│\u001b[35m              \u001b[0m│\u001b[32m \u001b[0m\u001b[32m     \"mred\": -0.01845813801658494,\u001b[0m\u001b[32m \u001b[0m│\n",
       "│\u001b[36m                        \u001b[0m│\u001b[35m              \u001b[0m│\u001b[32m \u001b[0m\u001b[32m         \"mr\": 0.9515846847453066,\u001b[0m\u001b[32m \u001b[0m│\n",
       "│\u001b[36m                        \u001b[0m│\u001b[35m              \u001b[0m│\u001b[32m \u001b[0m\u001b[32m                         \"1\": 1.0,\u001b[0m\u001b[32m \u001b[0m│\n",
       "│\u001b[36m                        \u001b[0m│\u001b[35m              \u001b[0m│\u001b[32m \u001b[0m\u001b[32m         \"10\": 0.9542479699430372,\u001b[0m\u001b[32m \u001b[0m│\n",
       "│\u001b[36m                        \u001b[0m│\u001b[35m              \u001b[0m│\u001b[32m \u001b[0m\u001b[32m        \"100\": 0.9449300699300699,\u001b[0m\u001b[32m \u001b[0m│\n",
       "│\u001b[36m                        \u001b[0m│\u001b[35m              \u001b[0m│\u001b[32m \u001b[0m\u001b[32m        \"1000\": 0.9676840215439856\u001b[0m\u001b[32m \u001b[0m│\n",
       "│\u001b[36m                        \u001b[0m│\u001b[35m              \u001b[0m│\u001b[32m \u001b[0m\u001b[32m                                 }\u001b[0m\u001b[32m \u001b[0m│\n",
       "│\u001b[36m \u001b[0m\u001b[36mMRED_ARTIST_POPULARITY\u001b[0m\u001b[36m \u001b[0m│\u001b[35m \u001b[0m\u001b[35m            \u001b[0m\u001b[35m \u001b[0m│\u001b[32m \u001b[0m\u001b[32m                                 {\u001b[0m\u001b[32m \u001b[0m│\n",
       "│\u001b[36m                        \u001b[0m│\u001b[35m              \u001b[0m│\u001b[32m \u001b[0m\u001b[32m    \"mred\": -0.004770822480517467,\u001b[0m\u001b[32m \u001b[0m│\n",
       "│\u001b[36m                        \u001b[0m│\u001b[35m              \u001b[0m│\u001b[32m \u001b[0m\u001b[32m         \"mr\": 0.9515846847453066,\u001b[0m\u001b[32m \u001b[0m│\n",
       "│\u001b[36m                        \u001b[0m│\u001b[35m              \u001b[0m│\u001b[32m \u001b[0m\u001b[32m          \"1\": 0.9511581067472307,\u001b[0m\u001b[32m \u001b[0m│\n",
       "│\u001b[36m                        \u001b[0m│\u001b[35m              \u001b[0m│\u001b[32m \u001b[0m\u001b[32m         \"100\": 0.952972217910911,\u001b[0m\u001b[32m \u001b[0m│\n",
       "│\u001b[36m                        \u001b[0m│\u001b[35m              \u001b[0m│\u001b[32m \u001b[0m\u001b[32m       \"1000\": 0.9585687382297552,\u001b[0m\u001b[32m \u001b[0m│\n",
       "│\u001b[36m                        \u001b[0m│\u001b[35m              \u001b[0m│\u001b[32m \u001b[0m\u001b[32m       \"10000\": 0.9412995594713657\u001b[0m\u001b[32m \u001b[0m│\n",
       "│\u001b[36m                        \u001b[0m│\u001b[35m              \u001b[0m│\u001b[32m \u001b[0m\u001b[32m                                 }\u001b[0m\u001b[32m \u001b[0m│\n",
       "│\u001b[36m \u001b[0m\u001b[36m           MRED_GENDER\u001b[0m\u001b[36m \u001b[0m│\u001b[35m \u001b[0m\u001b[35m            \u001b[0m\u001b[35m \u001b[0m│\u001b[32m \u001b[0m\u001b[32m                                 {\u001b[0m\u001b[32m \u001b[0m│\n",
       "│\u001b[36m                        \u001b[0m│\u001b[35m              \u001b[0m│\u001b[32m \u001b[0m\u001b[32m     \"mred\": -0.00270451773156181,\u001b[0m\u001b[32m \u001b[0m│\n",
       "│\u001b[36m                        \u001b[0m│\u001b[35m              \u001b[0m│\u001b[32m \u001b[0m\u001b[32m         \"mr\": 0.9515846847453066,\u001b[0m\u001b[32m \u001b[0m│\n",
       "│\u001b[36m                        \u001b[0m│\u001b[35m              \u001b[0m│\u001b[32m \u001b[0m\u001b[32m           \"f\": 0.953877866529245,\u001b[0m\u001b[32m \u001b[0m│\n",
       "│\u001b[36m                        \u001b[0m│\u001b[35m              \u001b[0m│\u001b[32m \u001b[0m\u001b[32m          \"m\": 0.9548225887056472,\u001b[0m\u001b[32m \u001b[0m│\n",
       "│\u001b[36m                        \u001b[0m│\u001b[35m              \u001b[0m│\u001b[32m \u001b[0m\u001b[32m           \"n\": 0.9490022172949002\u001b[0m\u001b[32m \u001b[0m│\n",
       "│\u001b[36m                        \u001b[0m│\u001b[35m              \u001b[0m│\u001b[32m \u001b[0m\u001b[32m                                 }\u001b[0m\u001b[32m \u001b[0m│\n",
       "│\u001b[36m \u001b[0m\u001b[36m      BEING_LESS_WRONG\u001b[0m\u001b[36m \u001b[0m│\u001b[35m \u001b[0m\u001b[35m            \u001b[0m\u001b[35m \u001b[0m│\u001b[32m \u001b[0m\u001b[32m                            0.3237\u001b[0m\u001b[32m \u001b[0m│\n",
       "└────────────────────────┴──────────────┴────────────────────────────────────┘\n"
      ]
     },
     "metadata": {},
     "output_type": "display_data"
    },
    {
     "name": "stdout",
     "output_type": "stream",
     "text": [
      "CPU times: user 1.75 s, sys: 2.22 s, total: 3.97 s\n",
      "Wall time: 2.28 s\n"
     ]
    },
    {
     "data": {
      "image/png": "[encoded data removed]",
      "text/plain": [
       "<Figure size 640x480 with 1 Axes>"
      ]
     },
     "metadata": {},
     "output_type": "display_data"
    },
    {
     "data": {
      "image/png": "[encoded data removed]",
      "text/plain": [
       "<Figure size 640x480 with 1 Axes>"
      ]
     },
     "metadata": {},
     "output_type": "display_data"
    },
    {
     "data": {
      "image/png": "[encoded data removed]",
      "text/plain": [
       "<Figure size 640x480 with 1 Axes>"
      ]
     },
     "metadata": {},
     "output_type": "display_data"
    },
    {
     "data": {
      "image/png": "[encoded data removed]",
      "text/plain": [
       "<Figure size 640x480 with 1 Axes>"
      ]
     },
     "metadata": {},
     "output_type": "display_data"
    },
    {
     "data": {
      "image/png": "[encoded data removed]",
      "text/plain": [
       "<Figure size 640x480 with 1 Axes>"
      ]
     },
     "metadata": {},
     "output_type": "display_data"
    }
   ],
   "source": [
    "%%time\n",
    "cdf = EvalRSReclist(\n",
    "    dataset=dataset,\n",
    "    model_name=\"MatrixFactorization\",\n",
    "    predictions=mf_predictions_df,\n",
    "    logger=LOGGER.LOCAL,\n",
    "    metadata_store=METADATA_STORE.LOCAL,\n",
    "    similarity_model=similarity_model,\n",
    ")\n",
    "\n",
    "# run reclist\n",
    "cdf(verbose=True)"
   ]
  },
  {
   "cell_type": "markdown",
   "metadata": {},
   "source": [
    "Runs the evaluation code: remember, if LIMIT is not 0, your submission won't be uploaded but the loop may still be useful for you to debug / iterate locally_"
   ]
  },
  {
   "cell_type": "markdown",
   "metadata": {},
   "source": [
    "## Two-tower architecture"
   ]
  },
  {
   "cell_type": "markdown",
   "metadata": {},
   "source": [
    "A Two-Tower Model consists of item (candidate) and user (query) encoder towers. The model learns representations (embeddings) for user and candidate items separately and user-item affinity is computed by dot product between the output of the towers. Differently from Matrix Factorization, multiple user/query and item features can be used for more accurate recommendations.\n",
    "\n",
    "<img src=\"./images/TwoTower.png\"  width=\"30%\">\n",
    "\n",
    "Image Adapted from: [Off-policy Learning in Two-stage Recommender Systems](https://dl.acm.org/doi/abs/10.1145/3366423.3380130)"
   ]
  },
  {
   "cell_type": "code",
   "execution_count": 36,
   "metadata": {},
   "outputs": [],
   "source": [
    "class MyTwoTowerModel(MyRetrievalModel):\n",
    "        \n",
    "    \n",
    "    def get_model(self):                   \n",
    "        query_schema = self.schema.select_by_tag(Tags.USER)\n",
    "        query_inputs = mm.InputBlockV2(query_schema,\n",
    "                                   categorical=mm.Embeddings(\n",
    "                                        query_schema.select_by_tag(Tags.CATEGORICAL),\n",
    "                                        l2_batch_regularization_factor=self.hparams['embeddings_l2_reg'],\n",
    "                                        infer_dim_fn=partial(\n",
    "                                            schema_utils.infer_embedding_dim,\n",
    "                                            multiplier=self.hparams['tt_infer_embedding_sizes_multiplier']\n",
    "                                        ),\n",
    "                                       sequence_combiner=\"mean\",\n",
    "                                    ),\n",
    "                                  )\n",
    "        \n",
    "        query = mm.Encoder(query_inputs, \n",
    "                           mm.MLPBlock(\n",
    "                                self.hparams['tt_mlp_layers'],\n",
    "                                activation=self.hparams['tt_mlp_activation'],\n",
    "                                no_activation_last_layer=True,    \n",
    "                                dropout=self.hparams['tt_mlp_dropout'],                \n",
    "                                kernel_regularizer=regularizers.l2(self.hparams['tt_mlp_l2_reg']),\n",
    "                                bias_regularizer=regularizers.l2(self.hparams['tt_mlp_l2_reg']),\n",
    "                            ))\n",
    "        \n",
    "        candidate_schema = self.schema.select_by_tag(Tags.ITEM)\n",
    "        candidate_inputs = mm.InputBlockV2(candidate_schema,\n",
    "                                   categorical=mm.Embeddings(\n",
    "                                        candidate_schema.select_by_tag(Tags.CATEGORICAL),\n",
    "                                        l2_batch_regularization_factor=self.hparams['embeddings_l2_reg'],\n",
    "                                        infer_dim_fn=partial(\n",
    "                                            schema_utils.infer_embedding_dim,\n",
    "                                            multiplier=self.hparams['tt_infer_embedding_sizes_multiplier']\n",
    "                                        ),\n",
    "                                       sequence_combiner=\"mean\",\n",
    "                                    ),\n",
    "                                  )\n",
    "        candidate = mm.Encoder(candidate_inputs, \n",
    "                               mm.MLPBlock(\n",
    "                                    self.hparams['tt_mlp_layers'],\n",
    "                                    activation=self.hparams['tt_mlp_activation'],\n",
    "                                    no_activation_last_layer=True,    \n",
    "                                    dropout=self.hparams['tt_mlp_dropout'],                \n",
    "                                    kernel_regularizer=regularizers.l2(self.hparams['tt_mlp_l2_reg']),\n",
    "                                    bias_regularizer=regularizers.l2(self.hparams['tt_mlp_l2_reg']),\n",
    "                                ))\n",
    "\n",
    "        retrieval_output = self.get_retrieval_output()\n",
    "        model = mm.TwoTowerModelV2(query, candidate, outputs=retrieval_output)\n",
    "\n",
    "\n",
    "        return model"
   ]
  },
  {
   "cell_type": "markdown",
   "metadata": {},
   "source": [
    "Next cell builds a Two-Tower model. If you want to use the text lyrics pre-trained embeddings as an additional item feature, you can set `pretrained_embeddings=song_lyrics_embedding_matrix` as commented below"
   ]
  },
  {
   "cell_type": "code",
   "execution_count": 37,
   "metadata": {},
   "outputs": [],
   "source": [
    "tt_model = MyTwoTowerModel(\n",
    "    user_ids_mapping_df,\n",
    "    track_ids_mapping_df,\n",
    "    pretrained_embeddings=None,\n",
    "    # Uncomment this line if you want to use the track lyrics pre-trained embeddings to\n",
    "    # as a feature in the model\n",
    "    #pretrained_embeddings=song_lyrics_embedding_matrix \n",
    "    \n",
    "    # Training hparams\n",
    "    epochs=5,\n",
    "    train_batch_size=8192,\n",
    "    lr=2e-3,\n",
    "    lr_decay_steps=100,\n",
    "    lr_decay_rate=0.97,\n",
    "    label_smoothing=0.0,\n",
    "    \n",
    "    # Model hparams\n",
    "    logq_correction_factor=0.0,\n",
    "    embeddings_l2_reg=0.0,\n",
    "    logits_temperature=1.8,\n",
    "    tt_mlp_layers=[256,128],\n",
    "    tt_mlp_activation=\"relu\",\n",
    "    tt_mlp_dropout=0.3,\n",
    "    tt_mlp_l2_reg=5e-5,\n",
    "    tt_infer_embedding_sizes_multiplier=2.0\n",
    ")"
   ]
  },
  {
   "cell_type": "code",
   "execution_count": 38,
   "metadata": {},
   "outputs": [],
   "source": [
    "# TODO: Investigate why the multi-hot features are causing error on topk encoder export\n",
    "train_ds.schema = train_ds.schema.without([\"social_tags_value\", \"emotion_tags_value\"])"
   ]
  },
  {
   "cell_type": "code",
   "execution_count": 39,
   "metadata": {},
   "outputs": [
    {
     "name": "stdout",
     "output_type": "stream",
     "text": [
      "Building the model\n",
      "RetrievalModelV2(\n",
      "  (_should_compute_train_metrics_for_batch): <tf.Variable 'should_compute_train_metrics_for_batch:0' shape=() dtype=bool, numpy=True>\n",
      "  (blocks): _TupleWrapper((ParallelBlock(\n",
      "    (parallel_layers): Dict(\n",
      "      (query): Encoder(\n",
      "        (blocks): List(\n",
      "          (0): ParallelBlock(\n",
      "            (_aggregation): ConcatFeatures()\n",
      "            (parallel_layers): Dict(\n",
      "              (categorical): ParallelBlock(\n",
      "                (parallel_layers): Dict(\n",
      "                  (user_id): EmbeddingTable(\n",
      "                    (features): Dict(\n",
      "                      (user_id): ColumnSchema(name='user_id', tags={<Tags.ID: 'id'>, <Tags.USER: 'user'>, <Tags.CATEGORICAL: 'categorical'>}, properties={'num_buckets': None, 'freq_threshold': 0.0, 'max_size': 0.0, 'cat_path': '/data/evalrs_2023_dataset_preproc/categories/unique.user_id.parquet', 'embedding_sizes': {'cardinality': 29725.0, 'dimension': 512.0}, 'domain': {'min': 0, 'max': 29724, 'name': 'user_id'}}, dtype=DType(name='int64', element_type=<ElementType.Int: 'int'>, element_size=64, element_unit=None, signed=True, shape=Shape(dims=(Dimension(min=0, max=None),))), is_list=False, is_ragged=False)\n",
      "                    )\n",
      "                    (table): Embedding()\n",
      "                  )\n",
      "                  (country): EmbeddingTable(\n",
      "                    (features): Dict(\n",
      "                      (country): ColumnSchema(name='country', tags={<Tags.USER: 'user'>, <Tags.CATEGORICAL: 'categorical'>}, properties={'num_buckets': None, 'freq_threshold': 0.0, 'max_size': 0.0, 'cat_path': '/data/evalrs_2023_dataset_preproc/categories/unique.country.parquet', 'embedding_sizes': {'cardinality': 165.0, 'dimension': 28.0}, 'domain': {'min': 0, 'max': 164, 'name': 'country'}}, dtype=DType(name='int64', element_type=<ElementType.Int: 'int'>, element_size=64, element_unit=None, signed=True, shape=Shape(dims=(Dimension(min=0, max=None),))), is_list=False, is_ragged=False)\n",
      "                    )\n",
      "                    (table): Embedding()\n",
      "                  )\n",
      "                  (gender): EmbeddingTable(\n",
      "                    (features): Dict(\n",
      "                      (gender): ColumnSchema(name='gender', tags={<Tags.USER: 'user'>, <Tags.CATEGORICAL: 'categorical'>}, properties={'num_buckets': None, 'freq_threshold': 0.0, 'max_size': 0.0, 'cat_path': '/data/evalrs_2023_dataset_preproc/categories/unique.gender.parquet', 'embedding_sizes': {'cardinality': 6.0, 'dimension': 16.0}, 'domain': {'min': 0, 'max': 5, 'name': 'gender'}}, dtype=DType(name='int64', element_type=<ElementType.Int: 'int'>, element_size=64, element_unit=None, signed=True, shape=Shape(dims=(Dimension(min=0, max=None),))), is_list=False, is_ragged=False)\n",
      "                    )\n",
      "                    (table): Embedding()\n",
      "                  )\n",
      "                  (age): EmbeddingTable(\n",
      "                    (features): Dict(\n",
      "                      (age): ColumnSchema(name='age', tags={<Tags.USER: 'user'>, <Tags.CATEGORICAL: 'categorical'>}, properties={'num_buckets': None, 'freq_threshold': 0.0, 'max_size': 0.0, 'cat_path': '/data/evalrs_2023_dataset_preproc/categories/unique.age.parquet', 'embedding_sizes': {'cardinality': 24.0, 'dimension': 16.0}, 'domain': {'min': 0, 'max': 23, 'name': 'age'}}, dtype=DType(name='int64', element_type=<ElementType.Int: 'int'>, element_size=64, element_unit=None, signed=True, shape=Shape(dims=(Dimension(min=0, max=None),))), is_list=False, is_ragged=False)\n",
      "                    )\n",
      "                    (table): Embedding()\n",
      "                  )\n",
      "                )\n",
      "              )\n",
      "              (continuous): Continuous(\n",
      "                (feature_names): List(\n",
      "                  (0): 'novelty_artist_avg_month'\n",
      "                  (1): 'novelty_artist_avg_6months'\n",
      "                  (2): 'novelty_artist_avg_year'\n",
      "                  (3): 'mainstreaminess_avg_month'\n",
      "                  (4): 'mainstreaminess_avg_6months'\n",
      "                  (5): 'mainstreaminess_avg_year'\n",
      "                  (6): 'mainstreaminess_global'\n",
      "                  (7): 'relative_le_per_weekday1'\n",
      "                  (8): 'relative_le_per_weekday2'\n",
      "                  (9): 'relative_le_per_weekday3'\n",
      "                  (10): 'relative_le_per_weekday4'\n",
      "                  (11): 'relative_le_per_weekday5'\n",
      "                  (12): 'relative_le_per_weekday6'\n",
      "                  (13): 'relative_le_per_weekday7'\n",
      "                  (14): 'relative_le_per_hour0'\n",
      "                  (15): 'relative_le_per_hour1'\n",
      "                  (16): 'relative_le_per_hour2'\n",
      "                  (17): 'relative_le_per_hour3'\n",
      "                  (18): 'relative_le_per_hour4'\n",
      "                  (19): 'relative_le_per_hour5'\n",
      "                  (20): 'relative_le_per_hour6'\n",
      "                  (21): 'relative_le_per_hour7'\n",
      "                  (22): 'relative_le_per_hour8'\n",
      "                  (23): 'relative_le_per_hour9'\n",
      "                  (24): 'relative_le_per_hour10'\n",
      "                  (25): 'relative_le_per_hour11'\n",
      "                  (26): 'relative_le_per_hour12'\n",
      "                  (27): 'relative_le_per_hour13'\n",
      "                  (28): 'relative_le_per_hour14'\n",
      "                  (29): 'relative_le_per_hour15'\n",
      "                  (30): 'relative_le_per_hour16'\n",
      "                  (31): 'relative_le_per_hour17'\n",
      "                  (32): 'relative_le_per_hour18'\n",
      "                  (33): 'relative_le_per_hour19'\n",
      "                  (34): 'relative_le_per_hour20'\n",
      "                  (35): 'relative_le_per_hour21'\n",
      "                  (36): 'relative_le_per_hour22'\n",
      "                  (37): 'relative_le_per_hour23'\n",
      "                  (38): 'playcount'\n",
      "                  (39): 'cnt_listeningevents'\n",
      "                  (40): 'cnt_distinct_tracks'\n",
      "                  (41): 'cnt_distinct_artists'\n",
      "                  (42): 'cnt_listeningevents_per_week'\n",
      "                )\n",
      "              )\n",
      "            )\n",
      "          )\n",
      "          (1): MLPBlock(\n",
      "            (layers): List(\n",
      "              (0): _Dense(\n",
      "                (dense): Dense(256, activation=relu, use_bias=True)\n",
      "              )\n",
      "              (1): Dropout()\n",
      "              (2): _Dense(\n",
      "                (dense): Dense(128, activation=linear, use_bias=True)\n",
      "              )\n",
      "            )\n",
      "          )\n",
      "        )\n",
      "        (_prepare_features): PrepareFeatures(\n",
      "          (prepare_lists): PrepareListFeatures()\n",
      "        )\n",
      "      )\n",
      "      (candidate): Encoder(\n",
      "        (blocks): List(\n",
      "          (0): ParallelBlock(\n",
      "            (_aggregation): ConcatFeatures()\n",
      "            (parallel_layers): Dict(\n",
      "              (categorical): ParallelBlock(\n",
      "                (parallel_layers): Dict(\n",
      "                  (track_id): EmbeddingTable(\n",
      "                    (features): Dict(\n",
      "                      (track_id): ColumnSchema(name='track_id', tags={<Tags.ITEM: 'item'>, <Tags.ID: 'id'>, <Tags.CATEGORICAL: 'categorical'>}, properties={'num_buckets': None, 'freq_threshold': 0.0, 'max_size': 0.0, 'cat_path': '/data/evalrs_2023_dataset_preproc/categories/unique.track_id.parquet', 'embedding_sizes': {'cardinality': 228047.0, 'dimension': 512.0}, 'domain': {'min': 0, 'max': 228046, 'name': 'track_id'}}, dtype=DType(name='int64', element_type=<ElementType.Int: 'int'>, element_size=64, element_unit=None, signed=True, shape=Shape(dims=(Dimension(min=0, max=None),))), is_list=False, is_ragged=False)\n",
      "                    )\n",
      "                    (table): Embedding()\n",
      "                  )\n",
      "                  (artist_id): EmbeddingTable(\n",
      "                    (features): Dict(\n",
      "                      (artist_id): ColumnSchema(name='artist_id', tags={<Tags.ITEM: 'item'>, <Tags.CATEGORICAL: 'categorical'>}, properties={'num_buckets': None, 'freq_threshold': 0.0, 'max_size': 0.0, 'cat_path': '/data/evalrs_2023_dataset_preproc/categories/unique.artist_id.parquet', 'embedding_sizes': {'cardinality': 21562.0, 'dimension': 428.0}, 'domain': {'min': 0, 'max': 21561, 'name': 'artist_id'}}, dtype=DType(name='int64', element_type=<ElementType.Int: 'int'>, element_size=64, element_unit=None, signed=True, shape=Shape(dims=(Dimension(min=0, max=None),))), is_list=False, is_ragged=False)\n",
      "                    )\n",
      "                    (table): Embedding()\n",
      "                  )\n",
      "                  (album_id): EmbeddingTable(\n",
      "                    (features): Dict(\n",
      "                      (album_id): ColumnSchema(name='album_id', tags={<Tags.ITEM: 'item'>, <Tags.CATEGORICAL: 'categorical'>}, properties={'num_buckets': None, 'freq_threshold': 0.0, 'max_size': 0.0, 'cat_path': '/data/evalrs_2023_dataset_preproc/categories/unique.album_id.parquet', 'embedding_sizes': {'cardinality': 363222.0, 'dimension': 512.0}, 'domain': {'min': 0, 'max': 363221, 'name': 'album_id'}}, dtype=DType(name='int64', element_type=<ElementType.Int: 'int'>, element_size=64, element_unit=None, signed=True, shape=Shape(dims=(Dimension(min=0, max=None),))), is_list=False, is_ragged=False)\n",
      "                    )\n",
      "                    (table): Embedding()\n",
      "                  )\n",
      "                  (has_emotion_tags): EmbeddingTable(\n",
      "                    (features): Dict(\n",
      "                      (has_emotion_tags): ColumnSchema(name='has_emotion_tags', tags={<Tags.ITEM: 'item'>, <Tags.CATEGORICAL: 'categorical'>}, properties={'num_buckets': None, 'freq_threshold': 0.0, 'max_size': 0.0, 'cat_path': '/data/evalrs_2023_dataset_preproc/categories/unique.has_emotion_tags.parquet', 'embedding_sizes': {'cardinality': 5.0, 'dimension': 16.0}, 'domain': {'min': 0, 'max': 4, 'name': 'has_emotion_tags'}}, dtype=DType(name='int64', element_type=<ElementType.Int: 'int'>, element_size=64, element_unit=None, signed=True, shape=Shape(dims=(Dimension(min=0, max=None),))), is_list=False, is_ragged=False)\n",
      "                    )\n",
      "                    (table): Embedding()\n",
      "                  )\n",
      "                  (has_social_tags): EmbeddingTable(\n",
      "                    (features): Dict(\n",
      "                      (has_social_tags): ColumnSchema(name='has_social_tags', tags={<Tags.ITEM: 'item'>, <Tags.CATEGORICAL: 'categorical'>}, properties={'num_buckets': None, 'freq_threshold': 0.0, 'max_size': 0.0, 'cat_path': '/data/evalrs_2023_dataset_preproc/categories/unique.has_social_tags.parquet', 'embedding_sizes': {'cardinality': 5.0, 'dimension': 16.0}, 'domain': {'min': 0, 'max': 4, 'name': 'has_social_tags'}}, dtype=DType(name='int64', element_type=<ElementType.Int: 'int'>, element_size=64, element_unit=None, signed=True, shape=Shape(dims=(Dimension(min=0, max=None),))), is_list=False, is_ragged=False)\n",
      "                    )\n",
      "                    (table): Embedding()\n",
      "                  )\n",
      "                  (isClassic): EmbeddingTable(\n",
      "                    (features): Dict(\n",
      "                      (isClassic): ColumnSchema(name='isClassic', tags={<Tags.ITEM: 'item'>, <Tags.CATEGORICAL: 'categorical'>}, properties={'num_buckets': None, 'freq_threshold': 0.0, 'max_size': 0.0, 'cat_path': '/data/evalrs_2023_dataset_preproc/categories/unique.isClassic.parquet', 'embedding_sizes': {'cardinality': 5.0, 'dimension': 16.0}, 'domain': {'min': 0, 'max': 4, 'name': 'isClassic'}}, dtype=DType(name='int64', element_type=<ElementType.Int: 'int'>, element_size=64, element_unit=None, signed=True, shape=Shape(dims=(Dimension(min=0, max=None),))), is_list=False, is_ragged=False)\n",
      "                    )\n",
      "                    (table): Embedding()\n",
      "                  )\n",
      "                  (urlSong): EmbeddingTable(\n",
      "                    (features): Dict(\n",
      "                      (urlSong): ColumnSchema(name='urlSong', tags={<Tags.ITEM: 'item'>, <Tags.CATEGORICAL: 'categorical'>}, properties={'num_buckets': None, 'freq_threshold': 0.0, 'max_size': 0.0, 'cat_path': '/data/evalrs_2023_dataset_preproc/categories/unique.urlSong.parquet', 'embedding_sizes': {'cardinality': 146622.0, 'dimension': 512.0}, 'domain': {'min': 0, 'max': 146621, 'name': 'urlSong'}}, dtype=DType(name='int64', element_type=<ElementType.Int: 'int'>, element_size=64, element_unit=None, signed=True, shape=Shape(dims=(Dimension(min=0, max=None),))), is_list=False, is_ragged=False)\n",
      "                    )\n",
      "                    (table): Embedding()\n",
      "                  )\n",
      "                )\n",
      "              )\n",
      "              (continuous): Continuous(\n",
      "                (feature_names): List(\n",
      "                  (0): 'arousal_predicted'\n",
      "                  (1): 'valence_predicted'\n",
      "                )\n",
      "              )\n",
      "            )\n",
      "          )\n",
      "          (1): MLPBlock(\n",
      "            (layers): List(\n",
      "              (0): _Dense(\n",
      "                (dense): Dense(256, activation=relu, use_bias=True)\n",
      "              )\n",
      "              (1): Dropout()\n",
      "              (2): _Dense(\n",
      "                (dense): Dense(128, activation=linear, use_bias=True)\n",
      "              )\n",
      "            )\n",
      "          )\n",
      "        )\n",
      "        (_prepare_features): PrepareFeatures(\n",
      "          (prepare_lists): PrepareListFeatures()\n",
      "        )\n",
      "      )\n",
      "    )\n",
      "  ), ContrastiveOutput(\n",
      "    (negative_samplers): List(\n",
      "      (0): InBatchSamplerV2()\n",
      "    )\n",
      "    (to_call): DotProduct()\n",
      "    (logits_scaler): LogitsTemperatureScaler()\n",
      "  )))\n",
      "  (context): ModelContext()\n",
      "  (_prepare_features): PrepareFeatures(\n",
      "    (prepare_lists): PrepareListFeatures()\n",
      "  )\n",
      "  (_encoder): ParallelBlock(\n",
      "    (parallel_layers): Dict(\n",
      "      (query): Encoder(\n",
      "        (blocks): List(\n",
      "          (0): ParallelBlock(\n",
      "            (_aggregation): ConcatFeatures()\n",
      "            (parallel_layers): Dict(\n",
      "              (categorical): ParallelBlock(\n",
      "                (parallel_layers): Dict(\n",
      "                  (user_id): EmbeddingTable(\n",
      "                    (features): Dict(\n",
      "                      (user_id): ColumnSchema(name='user_id', tags={<Tags.ID: 'id'>, <Tags.USER: 'user'>, <Tags.CATEGORICAL: 'categorical'>}, properties={'num_buckets': None, 'freq_threshold': 0.0, 'max_size': 0.0, 'cat_path': '/data/evalrs_2023_dataset_preproc/categories/unique.user_id.parquet', 'embedding_sizes': {'cardinality': 29725.0, 'dimension': 512.0}, 'domain': {'min': 0, 'max': 29724, 'name': 'user_id'}}, dtype=DType(name='int64', element_type=<ElementType.Int: 'int'>, element_size=64, element_unit=None, signed=True, shape=Shape(dims=(Dimension(min=0, max=None),))), is_list=False, is_ragged=False)\n",
      "                    )\n",
      "                    (table): Embedding()\n",
      "                  )\n",
      "                  (country): EmbeddingTable(\n",
      "                    (features): Dict(\n",
      "                      (country): ColumnSchema(name='country', tags={<Tags.USER: 'user'>, <Tags.CATEGORICAL: 'categorical'>}, properties={'num_buckets': None, 'freq_threshold': 0.0, 'max_size': 0.0, 'cat_path': '/data/evalrs_2023_dataset_preproc/categories/unique.country.parquet', 'embedding_sizes': {'cardinality': 165.0, 'dimension': 28.0}, 'domain': {'min': 0, 'max': 164, 'name': 'country'}}, dtype=DType(name='int64', element_type=<ElementType.Int: 'int'>, element_size=64, element_unit=None, signed=True, shape=Shape(dims=(Dimension(min=0, max=None),))), is_list=False, is_ragged=False)\n",
      "                    )\n",
      "                    (table): Embedding()\n",
      "                  )\n",
      "                  (gender): EmbeddingTable(\n",
      "                    (features): Dict(\n",
      "                      (gender): ColumnSchema(name='gender', tags={<Tags.USER: 'user'>, <Tags.CATEGORICAL: 'categorical'>}, properties={'num_buckets': None, 'freq_threshold': 0.0, 'max_size': 0.0, 'cat_path': '/data/evalrs_2023_dataset_preproc/categories/unique.gender.parquet', 'embedding_sizes': {'cardinality': 6.0, 'dimension': 16.0}, 'domain': {'min': 0, 'max': 5, 'name': 'gender'}}, dtype=DType(name='int64', element_type=<ElementType.Int: 'int'>, element_size=64, element_unit=None, signed=True, shape=Shape(dims=(Dimension(min=0, max=None),))), is_list=False, is_ragged=False)\n",
      "                    )\n",
      "                    (table): Embedding()\n",
      "                  )\n",
      "                  (age): EmbeddingTable(\n",
      "                    (features): Dict(\n",
      "                      (age): ColumnSchema(name='age', tags={<Tags.USER: 'user'>, <Tags.CATEGORICAL: 'categorical'>}, properties={'num_buckets': None, 'freq_threshold': 0.0, 'max_size': 0.0, 'cat_path': '/data/evalrs_2023_dataset_preproc/categories/unique.age.parquet', 'embedding_sizes': {'cardinality': 24.0, 'dimension': 16.0}, 'domain': {'min': 0, 'max': 23, 'name': 'age'}}, dtype=DType(name='int64', element_type=<ElementType.Int: 'int'>, element_size=64, element_unit=None, signed=True, shape=Shape(dims=(Dimension(min=0, max=None),))), is_list=False, is_ragged=False)\n",
      "                    )\n",
      "                    (table): Embedding()\n",
      "                  )\n",
      "                )\n",
      "              )\n",
      "              (continuous): Continuous(\n",
      "                (feature_names): List(\n",
      "                  (0): 'novelty_artist_avg_month'\n",
      "                  (1): 'novelty_artist_avg_6months'\n",
      "                  (2): 'novelty_artist_avg_year'\n",
      "                  (3): 'mainstreaminess_avg_month'\n",
      "                  (4): 'mainstreaminess_avg_6months'\n",
      "                  (5): 'mainstreaminess_avg_year'\n",
      "                  (6): 'mainstreaminess_global'\n",
      "                  (7): 'relative_le_per_weekday1'\n",
      "                  (8): 'relative_le_per_weekday2'\n",
      "                  (9): 'relative_le_per_weekday3'\n",
      "                  (10): 'relative_le_per_weekday4'\n",
      "                  (11): 'relative_le_per_weekday5'\n",
      "                  (12): 'relative_le_per_weekday6'\n",
      "                  (13): 'relative_le_per_weekday7'\n",
      "                  (14): 'relative_le_per_hour0'\n",
      "                  (15): 'relative_le_per_hour1'\n",
      "                  (16): 'relative_le_per_hour2'\n",
      "                  (17): 'relative_le_per_hour3'\n",
      "                  (18): 'relative_le_per_hour4'\n",
      "                  (19): 'relative_le_per_hour5'\n",
      "                  (20): 'relative_le_per_hour6'\n",
      "                  (21): 'relative_le_per_hour7'\n",
      "                  (22): 'relative_le_per_hour8'\n",
      "                  (23): 'relative_le_per_hour9'\n",
      "                  (24): 'relative_le_per_hour10'\n",
      "                  (25): 'relative_le_per_hour11'\n",
      "                  (26): 'relative_le_per_hour12'\n",
      "                  (27): 'relative_le_per_hour13'\n",
      "                  (28): 'relative_le_per_hour14'\n",
      "                  (29): 'relative_le_per_hour15'\n",
      "                  (30): 'relative_le_per_hour16'\n",
      "                  (31): 'relative_le_per_hour17'\n",
      "                  (32): 'relative_le_per_hour18'\n",
      "                  (33): 'relative_le_per_hour19'\n",
      "                  (34): 'relative_le_per_hour20'\n",
      "                  (35): 'relative_le_per_hour21'\n",
      "                  (36): 'relative_le_per_hour22'\n",
      "                  (37): 'relative_le_per_hour23'\n",
      "                  (38): 'playcount'\n",
      "                  (39): 'cnt_listeningevents'\n",
      "                  (40): 'cnt_distinct_tracks'\n",
      "                  (41): 'cnt_distinct_artists'\n",
      "                  (42): 'cnt_listeningevents_per_week'\n",
      "                )\n",
      "              )\n",
      "            )\n",
      "          )\n",
      "          (1): MLPBlock(\n",
      "            (layers): List(\n",
      "              (0): _Dense(\n",
      "                (dense): Dense(256, activation=relu, use_bias=True)\n",
      "              )\n",
      "              (1): Dropout()\n",
      "              (2): _Dense(\n",
      "                (dense): Dense(128, activation=linear, use_bias=True)\n",
      "              )\n",
      "            )\n",
      "          )\n",
      "        )\n",
      "        (_prepare_features): PrepareFeatures(\n",
      "          (prepare_lists): PrepareListFeatures()\n",
      "        )\n",
      "      )\n",
      "      (candidate): Encoder(\n",
      "        (blocks): List(\n",
      "          (0): ParallelBlock(\n",
      "            (_aggregation): ConcatFeatures()\n",
      "            (parallel_layers): Dict(\n",
      "              (categorical): ParallelBlock(\n",
      "                (parallel_layers): Dict(\n",
      "                  (track_id): EmbeddingTable(\n",
      "                    (features): Dict(\n",
      "                      (track_id): ColumnSchema(name='track_id', tags={<Tags.ITEM: 'item'>, <Tags.ID: 'id'>, <Tags.CATEGORICAL: 'categorical'>}, properties={'num_buckets': None, 'freq_threshold': 0.0, 'max_size': 0.0, 'cat_path': '/data/evalrs_2023_dataset_preproc/categories/unique.track_id.parquet', 'embedding_sizes': {'cardinality': 228047.0, 'dimension': 512.0}, 'domain': {'min': 0, 'max': 228046, 'name': 'track_id'}}, dtype=DType(name='int64', element_type=<ElementType.Int: 'int'>, element_size=64, element_unit=None, signed=True, shape=Shape(dims=(Dimension(min=0, max=None),))), is_list=False, is_ragged=False)\n",
      "                    )\n",
      "                    (table): Embedding()\n",
      "                  )\n",
      "                  (artist_id): EmbeddingTable(\n",
      "                    (features): Dict(\n",
      "                      (artist_id): ColumnSchema(name='artist_id', tags={<Tags.ITEM: 'item'>, <Tags.CATEGORICAL: 'categorical'>}, properties={'num_buckets': None, 'freq_threshold': 0.0, 'max_size': 0.0, 'cat_path': '/data/evalrs_2023_dataset_preproc/categories/unique.artist_id.parquet', 'embedding_sizes': {'cardinality': 21562.0, 'dimension': 428.0}, 'domain': {'min': 0, 'max': 21561, 'name': 'artist_id'}}, dtype=DType(name='int64', element_type=<ElementType.Int: 'int'>, element_size=64, element_unit=None, signed=True, shape=Shape(dims=(Dimension(min=0, max=None),))), is_list=False, is_ragged=False)\n",
      "                    )\n",
      "                    (table): Embedding()\n",
      "                  )\n",
      "                  (album_id): EmbeddingTable(\n",
      "                    (features): Dict(\n",
      "                      (album_id): ColumnSchema(name='album_id', tags={<Tags.ITEM: 'item'>, <Tags.CATEGORICAL: 'categorical'>}, properties={'num_buckets': None, 'freq_threshold': 0.0, 'max_size': 0.0, 'cat_path': '/data/evalrs_2023_dataset_preproc/categories/unique.album_id.parquet', 'embedding_sizes': {'cardinality': 363222.0, 'dimension': 512.0}, 'domain': {'min': 0, 'max': 363221, 'name': 'album_id'}}, dtype=DType(name='int64', element_type=<ElementType.Int: 'int'>, element_size=64, element_unit=None, signed=True, shape=Shape(dims=(Dimension(min=0, max=None),))), is_list=False, is_ragged=False)\n",
      "                    )\n",
      "                    (table): Embedding()\n",
      "                  )\n",
      "                  (has_emotion_tags): EmbeddingTable(\n",
      "                    (features): Dict(\n",
      "                      (has_emotion_tags): ColumnSchema(name='has_emotion_tags', tags={<Tags.ITEM: 'item'>, <Tags.CATEGORICAL: 'categorical'>}, properties={'num_buckets': None, 'freq_threshold': 0.0, 'max_size': 0.0, 'cat_path': '/data/evalrs_2023_dataset_preproc/categories/unique.has_emotion_tags.parquet', 'embedding_sizes': {'cardinality': 5.0, 'dimension': 16.0}, 'domain': {'min': 0, 'max': 4, 'name': 'has_emotion_tags'}}, dtype=DType(name='int64', element_type=<ElementType.Int: 'int'>, element_size=64, element_unit=None, signed=True, shape=Shape(dims=(Dimension(min=0, max=None),))), is_list=False, is_ragged=False)\n",
      "                    )\n",
      "                    (table): Embedding()\n",
      "                  )\n",
      "                  (has_social_tags): EmbeddingTable(\n",
      "                    (features): Dict(\n",
      "                      (has_social_tags): ColumnSchema(name='has_social_tags', tags={<Tags.ITEM: 'item'>, <Tags.CATEGORICAL: 'categorical'>}, properties={'num_buckets': None, 'freq_threshold': 0.0, 'max_size': 0.0, 'cat_path': '/data/evalrs_2023_dataset_preproc/categories/unique.has_social_tags.parquet', 'embedding_sizes': {'cardinality': 5.0, 'dimension': 16.0}, 'domain': {'min': 0, 'max': 4, 'name': 'has_social_tags'}}, dtype=DType(name='int64', element_type=<ElementType.Int: 'int'>, element_size=64, element_unit=None, signed=True, shape=Shape(dims=(Dimension(min=0, max=None),))), is_list=False, is_ragged=False)\n",
      "                    )\n",
      "                    (table): Embedding()\n",
      "                  )\n",
      "                  (isClassic): EmbeddingTable(\n",
      "                    (features): Dict(\n",
      "                      (isClassic): ColumnSchema(name='isClassic', tags={<Tags.ITEM: 'item'>, <Tags.CATEGORICAL: 'categorical'>}, properties={'num_buckets': None, 'freq_threshold': 0.0, 'max_size': 0.0, 'cat_path': '/data/evalrs_2023_dataset_preproc/categories/unique.isClassic.parquet', 'embedding_sizes': {'cardinality': 5.0, 'dimension': 16.0}, 'domain': {'min': 0, 'max': 4, 'name': 'isClassic'}}, dtype=DType(name='int64', element_type=<ElementType.Int: 'int'>, element_size=64, element_unit=None, signed=True, shape=Shape(dims=(Dimension(min=0, max=None),))), is_list=False, is_ragged=False)\n",
      "                    )\n",
      "                    (table): Embedding()\n",
      "                  )\n",
      "                  (urlSong): EmbeddingTable(\n",
      "                    (features): Dict(\n",
      "                      (urlSong): ColumnSchema(name='urlSong', tags={<Tags.ITEM: 'item'>, <Tags.CATEGORICAL: 'categorical'>}, properties={'num_buckets': None, 'freq_threshold': 0.0, 'max_size': 0.0, 'cat_path': '/data/evalrs_2023_dataset_preproc/categories/unique.urlSong.parquet', 'embedding_sizes': {'cardinality': 146622.0, 'dimension': 512.0}, 'domain': {'min': 0, 'max': 146621, 'name': 'urlSong'}}, dtype=DType(name='int64', element_type=<ElementType.Int: 'int'>, element_size=64, element_unit=None, signed=True, shape=Shape(dims=(Dimension(min=0, max=None),))), is_list=False, is_ragged=False)\n",
      "                    )\n",
      "                    (table): Embedding()\n",
      "                  )\n",
      "                )\n",
      "              )\n",
      "              (continuous): Continuous(\n",
      "                (feature_names): List(\n",
      "                  (0): 'arousal_predicted'\n",
      "                  (1): 'valence_predicted'\n",
      "                )\n",
      "              )\n",
      "            )\n",
      "          )\n",
      "          (1): MLPBlock(\n",
      "            (layers): List(\n",
      "              (0): _Dense(\n",
      "                (dense): Dense(256, activation=relu, use_bias=True)\n",
      "              )\n",
      "              (1): Dropout()\n",
      "              (2): _Dense(\n",
      "                (dense): Dense(128, activation=linear, use_bias=True)\n",
      "              )\n",
      "            )\n",
      "          )\n",
      "        )\n",
      "        (_prepare_features): PrepareFeatures(\n",
      "          (prepare_lists): PrepareListFeatures()\n",
      "        )\n",
      "      )\n",
      "    )\n",
      "  )\n",
      "  (_output): ContrastiveOutput(\n",
      "    (negative_samplers): List(\n",
      "      (0): InBatchSamplerV2()\n",
      "    )\n",
      "    (to_call): DotProduct()\n",
      "    (logits_scaler): LogitsTemperatureScaler()\n",
      "  )\n",
      ")\n",
      "Start training\n"
     ]
    },
    {
     "name": "stdout",
     "output_type": "stream",
     "text": [
      "Epoch 1/5\n"
     ]
    },
    {
     "name": "stderr",
     "output_type": "stream",
     "text": [
      "2023-08-01 02:27:37.895101: I tensorflow/core/common_runtime/executor.cc:1209] [/device:CPU:0] (DEBUG INFO) Executor start aborting (this does not indicate an error and you can ignore this message): INVALID_ARGUMENT: You must feed a value for placeholder tensor 'Placeholder/_0' with dtype int32\n",
      "\t [[{{node Placeholder/_0}}]]\n"
     ]
    },
    {
     "name": "stdout",
     "output_type": "stream",
     "text": [
      "839/839 [==============================] - 201s 230ms/step - loss: 7.4602 - recall_at_20: 0.0543 - mrr_at_20: 0.0129 - regularization_loss: 0.0386 - loss_batch: 7.4600\n",
      "Epoch 2/5\n",
      "839/839 [==============================] - 61s 71ms/step - loss: 6.6048 - recall_at_20: 0.2045 - mrr_at_20: 0.0645 - regularization_loss: 0.0441 - loss_batch: 6.6050\n",
      "Epoch 3/5\n",
      "839/839 [==============================] - 51s 60ms/step - loss: 6.2963 - recall_at_20: 0.2678 - mrr_at_20: 0.0980 - regularization_loss: 0.0484 - loss_batch: 6.2959\n",
      "Epoch 4/5\n",
      "839/839 [==============================] - 52s 60ms/step - loss: 6.1039 - recall_at_20: 0.3066 - mrr_at_20: 0.1220 - regularization_loss: 0.0528 - loss_batch: 6.1033\n",
      "Epoch 5/5\n",
      "839/839 [==============================] - 48s 56ms/step - loss: 5.9663 - recall_at_20: 0.3272 - mrr_at_20: 0.1374 - regularization_loss: 0.0565 - loss_batch: 5.9656\n",
      "Preparing retrieval model for prediction\n"
     ]
    },
    {
     "name": "stderr",
     "output_type": "stream",
     "text": [
      "/usr/local/lib/python3.8/dist-packages/merlin/dataloader/loader_base.py:591: UserWarning: This `schema` property is deprecated and will be removed in a future version. Please use either the `input_schema` or `output_schema` property instead.\n",
      "  warnings.warn(\n",
      "WARNING:absl:Function `_wrapped_model` contains input name(s) isClassic, urlSong with unsupported characters which will be renamed to isclassic, urlsong in the SavedModel.\n",
      "WARNING:absl:Found untraced functions such as prepare_list_features_7_layer_call_fn, prepare_list_features_7_layer_call_and_return_conditional_losses, model_context_1_layer_call_fn, model_context_1_layer_call_and_return_conditional_losses, concat_features_1_layer_call_fn while saving (showing 5 of 48). These functions will not be directly callable after loading.\n"
     ]
    },
    {
     "name": "stdout",
     "output_type": "stream",
     "text": [
      "INFO:tensorflow:Assets written to: /tmp/tmp6544i68s/assets\n"
     ]
    },
    {
     "name": "stderr",
     "output_type": "stream",
     "text": [
      "INFO:tensorflow:Assets written to: /tmp/tmp6544i68s/assets\n"
     ]
    },
    {
     "name": "stdout",
     "output_type": "stream",
     "text": [
      "WARNING:tensorflow:No training configuration found in save file, so the model was *not* compiled. Compile it manually.\n"
     ]
    },
    {
     "name": "stderr",
     "output_type": "stream",
     "text": [
      "WARNING:tensorflow:No training configuration found in save file, so the model was *not* compiled. Compile it manually.\n"
     ]
    },
    {
     "name": "stdout",
     "output_type": "stream",
     "text": [
      "WARNING:tensorflow:No training configuration found in save file, so the model was *not* compiled. Compile it manually.\n"
     ]
    },
    {
     "name": "stderr",
     "output_type": "stream",
     "text": [
      "WARNING:tensorflow:No training configuration found in save file, so the model was *not* compiled. Compile it manually.\n"
     ]
    },
    {
     "name": "stdout",
     "output_type": "stream",
     "text": [
      "Caching users transformed features\n",
      "Training completed!\n",
      "CPU times: user 10min 53s, sys: 48.7 s, total: 11min 42s\n",
      "Wall time: 9min 32s\n"
     ]
    }
   ],
   "source": [
    "%%time\n",
    "tt_model.train(train_ds)"
   ]
  },
  {
   "cell_type": "code",
   "execution_count": 40,
   "metadata": {},
   "outputs": [
    {
     "name": "stdout",
     "output_type": "stream",
     "text": [
      "Start prediction\n",
      "# users: 29722\n",
      "Predicting Top-100 items for test users\n"
     ]
    },
    {
     "name": "stderr",
     "output_type": "stream",
     "text": [
      "2023-08-01 02:37:09.322787: I tensorflow/core/common_runtime/executor.cc:1209] [/device:CPU:0] (DEBUG INFO) Executor start aborting (this does not indicate an error and you can ignore this message): INVALID_ARGUMENT: You must feed a value for placeholder tensor 'Placeholder/_0' with dtype int32\n",
      "\t [[{{node Placeholder/_0}}]]\n"
     ]
    },
    {
     "name": "stdout",
     "output_type": "stream",
     "text": [
      "Converting user ids and predicted item ids to the original ids\n",
      "Finish prediction\n",
      "CPU times: user 3.41 s, sys: 171 ms, total: 3.58 s\n",
      "Wall time: 3.11 s\n"
     ]
    },
    {
     "data": {
      "text/html": [
       "<div>\n",
       "<style scoped>\n",
       "    .dataframe tbody tr th:only-of-type {\n",
       "        vertical-align: middle;\n",
       "    }\n",
       "\n",
       "    .dataframe tbody tr th {\n",
       "        vertical-align: top;\n",
       "    }\n",
       "\n",
       "    .dataframe thead th {\n",
       "        text-align: right;\n",
       "    }\n",
       "</style>\n",
       "<table border=\"1\" class=\"dataframe\">\n",
       "  <thead>\n",
       "    <tr style=\"text-align: right;\">\n",
       "      <th></th>\n",
       "      <th>0</th>\n",
       "      <th>1</th>\n",
       "      <th>2</th>\n",
       "      <th>3</th>\n",
       "      <th>4</th>\n",
       "      <th>5</th>\n",
       "      <th>6</th>\n",
       "      <th>7</th>\n",
       "      <th>8</th>\n",
       "      <th>9</th>\n",
       "      <th>...</th>\n",
       "      <th>90</th>\n",
       "      <th>91</th>\n",
       "      <th>92</th>\n",
       "      <th>93</th>\n",
       "      <th>94</th>\n",
       "      <th>95</th>\n",
       "      <th>96</th>\n",
       "      <th>97</th>\n",
       "      <th>98</th>\n",
       "      <th>99</th>\n",
       "    </tr>\n",
       "    <tr>\n",
       "      <th>user_id</th>\n",
       "      <th></th>\n",
       "      <th></th>\n",
       "      <th></th>\n",
       "      <th></th>\n",
       "      <th></th>\n",
       "      <th></th>\n",
       "      <th></th>\n",
       "      <th></th>\n",
       "      <th></th>\n",
       "      <th></th>\n",
       "      <th></th>\n",
       "      <th></th>\n",
       "      <th></th>\n",
       "      <th></th>\n",
       "      <th></th>\n",
       "      <th></th>\n",
       "      <th></th>\n",
       "      <th></th>\n",
       "      <th></th>\n",
       "      <th></th>\n",
       "      <th></th>\n",
       "    </tr>\n",
       "  </thead>\n",
       "  <tbody>\n",
       "    <tr>\n",
       "      <th>50967444</th>\n",
       "      <td>19310</td>\n",
       "      <td>19315</td>\n",
       "      <td>29449681</td>\n",
       "      <td>314437</td>\n",
       "      <td>11285148</td>\n",
       "      <td>19353</td>\n",
       "      <td>96656</td>\n",
       "      <td>18097518</td>\n",
       "      <td>96662</td>\n",
       "      <td>94257</td>\n",
       "      <td>...</td>\n",
       "      <td>11263847</td>\n",
       "      <td>280589</td>\n",
       "      <td>280587</td>\n",
       "      <td>926040</td>\n",
       "      <td>9449257</td>\n",
       "      <td>19059517</td>\n",
       "      <td>159787</td>\n",
       "      <td>67792</td>\n",
       "      <td>697193</td>\n",
       "      <td>19697265</td>\n",
       "    </tr>\n",
       "    <tr>\n",
       "      <th>50900118</th>\n",
       "      <td>19726076</td>\n",
       "      <td>19726075</td>\n",
       "      <td>12672683</td>\n",
       "      <td>19959795</td>\n",
       "      <td>18268416</td>\n",
       "      <td>19170202</td>\n",
       "      <td>779986</td>\n",
       "      <td>16685899</td>\n",
       "      <td>17585675</td>\n",
       "      <td>172117</td>\n",
       "      <td>...</td>\n",
       "      <td>142069</td>\n",
       "      <td>63565</td>\n",
       "      <td>21894616</td>\n",
       "      <td>1635734</td>\n",
       "      <td>29455036</td>\n",
       "      <td>518973</td>\n",
       "      <td>1635733</td>\n",
       "      <td>941821</td>\n",
       "      <td>21897493</td>\n",
       "      <td>1102461</td>\n",
       "    </tr>\n",
       "    <tr>\n",
       "      <th>50086315</th>\n",
       "      <td>3051084</td>\n",
       "      <td>727747</td>\n",
       "      <td>416085</td>\n",
       "      <td>761763</td>\n",
       "      <td>382252</td>\n",
       "      <td>488836</td>\n",
       "      <td>607534</td>\n",
       "      <td>8167520</td>\n",
       "      <td>786290</td>\n",
       "      <td>570331</td>\n",
       "      <td>...</td>\n",
       "      <td>632342</td>\n",
       "      <td>2265859</td>\n",
       "      <td>419231</td>\n",
       "      <td>900557</td>\n",
       "      <td>886310</td>\n",
       "      <td>12590202</td>\n",
       "      <td>211105</td>\n",
       "      <td>1689276</td>\n",
       "      <td>950850</td>\n",
       "      <td>336750</td>\n",
       "    </tr>\n",
       "    <tr>\n",
       "      <th>50085736</th>\n",
       "      <td>102641</td>\n",
       "      <td>102642</td>\n",
       "      <td>102659</td>\n",
       "      <td>102647</td>\n",
       "      <td>28528</td>\n",
       "      <td>102648</td>\n",
       "      <td>34965</td>\n",
       "      <td>128188</td>\n",
       "      <td>13268005</td>\n",
       "      <td>7961917</td>\n",
       "      <td>...</td>\n",
       "      <td>667604</td>\n",
       "      <td>207419</td>\n",
       "      <td>7302926</td>\n",
       "      <td>67550</td>\n",
       "      <td>7996606</td>\n",
       "      <td>1139070</td>\n",
       "      <td>4404135</td>\n",
       "      <td>8062057</td>\n",
       "      <td>296501</td>\n",
       "      <td>529416</td>\n",
       "    </tr>\n",
       "    <tr>\n",
       "      <th>50083088</th>\n",
       "      <td>95974</td>\n",
       "      <td>95973</td>\n",
       "      <td>78161</td>\n",
       "      <td>754575</td>\n",
       "      <td>240869</td>\n",
       "      <td>92578</td>\n",
       "      <td>94352</td>\n",
       "      <td>94590</td>\n",
       "      <td>243270</td>\n",
       "      <td>94596</td>\n",
       "      <td>...</td>\n",
       "      <td>140812</td>\n",
       "      <td>345504</td>\n",
       "      <td>93495</td>\n",
       "      <td>143619</td>\n",
       "      <td>98676</td>\n",
       "      <td>11447688</td>\n",
       "      <td>95980</td>\n",
       "      <td>1324767</td>\n",
       "      <td>81272</td>\n",
       "      <td>483960</td>\n",
       "    </tr>\n",
       "    <tr>\n",
       "      <th>...</th>\n",
       "      <td>...</td>\n",
       "      <td>...</td>\n",
       "      <td>...</td>\n",
       "      <td>...</td>\n",
       "      <td>...</td>\n",
       "      <td>...</td>\n",
       "      <td>...</td>\n",
       "      <td>...</td>\n",
       "      <td>...</td>\n",
       "      <td>...</td>\n",
       "      <td>...</td>\n",
       "      <td>...</td>\n",
       "      <td>...</td>\n",
       "      <td>...</td>\n",
       "      <td>...</td>\n",
       "      <td>...</td>\n",
       "      <td>...</td>\n",
       "      <td>...</td>\n",
       "      <td>...</td>\n",
       "      <td>...</td>\n",
       "      <td>...</td>\n",
       "    </tr>\n",
       "    <tr>\n",
       "      <th>15067</th>\n",
       "      <td>23962088</td>\n",
       "      <td>64323</td>\n",
       "      <td>2791808</td>\n",
       "      <td>9213567</td>\n",
       "      <td>1082173</td>\n",
       "      <td>22786536</td>\n",
       "      <td>1082171</td>\n",
       "      <td>497711</td>\n",
       "      <td>29526681</td>\n",
       "      <td>8690872</td>\n",
       "      <td>...</td>\n",
       "      <td>718959</td>\n",
       "      <td>475998</td>\n",
       "      <td>799366</td>\n",
       "      <td>23245999</td>\n",
       "      <td>1004586</td>\n",
       "      <td>755856</td>\n",
       "      <td>491583</td>\n",
       "      <td>764130</td>\n",
       "      <td>1151548</td>\n",
       "      <td>1751219</td>\n",
       "    </tr>\n",
       "    <tr>\n",
       "      <th>14308</th>\n",
       "      <td>19486</td>\n",
       "      <td>155461</td>\n",
       "      <td>190992</td>\n",
       "      <td>155462</td>\n",
       "      <td>99681</td>\n",
       "      <td>2509518</td>\n",
       "      <td>38338</td>\n",
       "      <td>11176853</td>\n",
       "      <td>30103</td>\n",
       "      <td>153059</td>\n",
       "      <td>...</td>\n",
       "      <td>153194</td>\n",
       "      <td>98274</td>\n",
       "      <td>129388</td>\n",
       "      <td>38337</td>\n",
       "      <td>183170</td>\n",
       "      <td>10405664</td>\n",
       "      <td>208959</td>\n",
       "      <td>701575</td>\n",
       "      <td>184384</td>\n",
       "      <td>51570</td>\n",
       "    </tr>\n",
       "    <tr>\n",
       "      <th>12619</th>\n",
       "      <td>18265065</td>\n",
       "      <td>121454</td>\n",
       "      <td>877502</td>\n",
       "      <td>29453002</td>\n",
       "      <td>877309</td>\n",
       "      <td>877308</td>\n",
       "      <td>497711</td>\n",
       "      <td>497383</td>\n",
       "      <td>134656</td>\n",
       "      <td>193281</td>\n",
       "      <td>...</td>\n",
       "      <td>3760746</td>\n",
       "      <td>154282</td>\n",
       "      <td>470457</td>\n",
       "      <td>18573594</td>\n",
       "      <td>3063166</td>\n",
       "      <td>129619</td>\n",
       "      <td>2067835</td>\n",
       "      <td>718270</td>\n",
       "      <td>24495849</td>\n",
       "      <td>10628831</td>\n",
       "    </tr>\n",
       "    <tr>\n",
       "      <th>10879</th>\n",
       "      <td>3031</td>\n",
       "      <td>3731</td>\n",
       "      <td>161443</td>\n",
       "      <td>302717</td>\n",
       "      <td>16319</td>\n",
       "      <td>431993</td>\n",
       "      <td>1306</td>\n",
       "      <td>120573</td>\n",
       "      <td>4235</td>\n",
       "      <td>113318</td>\n",
       "      <td>...</td>\n",
       "      <td>872</td>\n",
       "      <td>9142332</td>\n",
       "      <td>88659</td>\n",
       "      <td>2860</td>\n",
       "      <td>92655</td>\n",
       "      <td>9142157</td>\n",
       "      <td>4294742</td>\n",
       "      <td>3917</td>\n",
       "      <td>337592</td>\n",
       "      <td>1616</td>\n",
       "    </tr>\n",
       "    <tr>\n",
       "      <th>384</th>\n",
       "      <td>425742</td>\n",
       "      <td>9325226</td>\n",
       "      <td>177870</td>\n",
       "      <td>9325224</td>\n",
       "      <td>70674</td>\n",
       "      <td>177871</td>\n",
       "      <td>612211</td>\n",
       "      <td>328558</td>\n",
       "      <td>15914692</td>\n",
       "      <td>339144</td>\n",
       "      <td>...</td>\n",
       "      <td>532117</td>\n",
       "      <td>1268749</td>\n",
       "      <td>25634</td>\n",
       "      <td>176965</td>\n",
       "      <td>611529</td>\n",
       "      <td>20720</td>\n",
       "      <td>1171885</td>\n",
       "      <td>160969</td>\n",
       "      <td>125278</td>\n",
       "      <td>43306</td>\n",
       "    </tr>\n",
       "  </tbody>\n",
       "</table>\n",
       "<p>29722 rows × 100 columns</p>\n",
       "</div>"
      ],
      "text/plain": [
       "                 0         1         2         3         4         5        6  \\\n",
       "user_id                                                                         \n",
       "50967444     19310     19315  29449681    314437  11285148     19353    96656   \n",
       "50900118  19726076  19726075  12672683  19959795  18268416  19170202   779986   \n",
       "50086315   3051084    727747    416085    761763    382252    488836   607534   \n",
       "50085736    102641    102642    102659    102647     28528    102648    34965   \n",
       "50083088     95974     95973     78161    754575    240869     92578    94352   \n",
       "...            ...       ...       ...       ...       ...       ...      ...   \n",
       "15067     23962088     64323   2791808   9213567   1082173  22786536  1082171   \n",
       "14308        19486    155461    190992    155462     99681   2509518    38338   \n",
       "12619     18265065    121454    877502  29453002    877309    877308   497711   \n",
       "10879         3031      3731    161443    302717     16319    431993     1306   \n",
       "384         425742   9325226    177870   9325224     70674    177871   612211   \n",
       "\n",
       "                 7         8        9  ...        90       91        92  \\\n",
       "user_id                                ...                                \n",
       "50967444  18097518     96662    94257  ...  11263847   280589    280587   \n",
       "50900118  16685899  17585675   172117  ...    142069    63565  21894616   \n",
       "50086315   8167520    786290   570331  ...    632342  2265859    419231   \n",
       "50085736    128188  13268005  7961917  ...    667604   207419   7302926   \n",
       "50083088     94590    243270    94596  ...    140812   345504     93495   \n",
       "...            ...       ...      ...  ...       ...      ...       ...   \n",
       "15067       497711  29526681  8690872  ...    718959   475998    799366   \n",
       "14308     11176853     30103   153059  ...    153194    98274    129388   \n",
       "12619       497383    134656   193281  ...   3760746   154282    470457   \n",
       "10879       120573      4235   113318  ...       872  9142332     88659   \n",
       "384         328558  15914692   339144  ...    532117  1268749     25634   \n",
       "\n",
       "                93        94        95       96       97        98        99  \n",
       "user_id                                                                       \n",
       "50967444    926040   9449257  19059517   159787    67792    697193  19697265  \n",
       "50900118   1635734  29455036    518973  1635733   941821  21897493   1102461  \n",
       "50086315    900557    886310  12590202   211105  1689276    950850    336750  \n",
       "50085736     67550   7996606   1139070  4404135  8062057    296501    529416  \n",
       "50083088    143619     98676  11447688    95980  1324767     81272    483960  \n",
       "...            ...       ...       ...      ...      ...       ...       ...  \n",
       "15067     23245999   1004586    755856   491583   764130   1151548   1751219  \n",
       "14308        38337    183170  10405664   208959   701575    184384     51570  \n",
       "12619     18573594   3063166    129619  2067835   718270  24495849  10628831  \n",
       "10879         2860     92655   9142157  4294742     3917    337592      1616  \n",
       "384         176965    611529     20720  1171885   160969    125278     43306  \n",
       "\n",
       "[29722 rows x 100 columns]"
      ]
     },
     "execution_count": 40,
     "metadata": {},
     "output_type": "execute_result"
    }
   ],
   "source": [
    "%%time\n",
    "tt_predictions_df = tt_model.predict(events_test_df[['user_id']])\n",
    "tt_predictions_df"
   ]
  },
  {
   "cell_type": "code",
   "execution_count": 41,
   "metadata": {},
   "outputs": [
    {
     "data": {
      "text/plain": [
       "0.027218895094542762"
      ]
     },
     "execution_count": 41,
     "metadata": {},
     "output_type": "execute_result"
    }
   ],
   "source": [
    "compute_recall(tt_predictions_df)"
   ]
  },
  {
   "cell_type": "code",
   "execution_count": 43,
   "metadata": {},
   "outputs": [
    {
     "data": {
      "text/html": [
       "<pre style=\"white-space:pre;overflow-x:auto;line-height:normal;font-family:Menlo,'DejaVu Sans Mono',consolas,'Courier New',monospace\">/usr/local/lib/python3.8/dist-packages/rich/live.py:231: UserWarning: install \"ipywidgets\" for Jupyter support\n",
       "  warnings.warn('install \"ipywidgets\" for Jupyter support')\n",
       "</pre>\n"
      ],
      "text/plain": [
       "/usr/local/lib/python3.8/dist-packages/rich/live.py:231: UserWarning: install \"ipywidgets\" for Jupyter support\n",
       "  warnings.warn('install \"ipywidgets\" for Jupyter support')\n"
      ]
     },
     "metadata": {},
     "output_type": "display_data"
    },
    {
     "data": {
      "text/html": [
       "<pre style=\"white-space:pre;overflow-x:auto;line-height:normal;font-family:Menlo,'DejaVu Sans Mono',consolas,'Courier New',monospace\"><span style=\"color: #800000; text-decoration-color: #800000; font-style: italic\">stats</span>:<span style=\"font-weight: bold\">{</span><span style=\"color: #008000; text-decoration-color: #008000\">'num_users'</span>: <span style=\"color: #008080; text-decoration-color: #008080; font-weight: bold\">29722</span>, <span style=\"color: #008000; text-decoration-color: #008000\">'max_items'</span>: <span style=\"color: #008080; text-decoration-color: #008080; font-weight: bold\">1</span>, <span style=\"color: #008000; text-decoration-color: #008000\">'min_items'</span>: <span style=\"color: #008080; text-decoration-color: #008080; font-weight: bold\">1</span><span style=\"font-weight: bold\">}</span>\n",
       "</pre>\n"
      ],
      "text/plain": [
       "\u001b[3;31mstats\u001b[0m:\u001b[1m{\u001b[0m\u001b[32m'num_users'\u001b[0m: \u001b[1;36m29722\u001b[0m, \u001b[32m'max_items'\u001b[0m: \u001b[1;36m1\u001b[0m, \u001b[32m'min_items'\u001b[0m: \u001b[1;36m1\u001b[0m\u001b[1m}\u001b[0m\n"
      ]
     },
     "metadata": {},
     "output_type": "display_data"
    },
    {
     "data": {
      "text/html": [
       "<pre style=\"white-space:pre;overflow-x:auto;line-height:normal;font-family:Menlo,'DejaVu Sans Mono',consolas,'Courier New',monospace\"><span style=\"color: #800000; text-decoration-color: #800000; font-style: italic\">HIT_RAT</span><span style=\"color: #800000; text-decoration-color: #800000; font-weight: bold; font-style: italic\">E</span><span style=\"color: #00ff00; text-decoration-color: #00ff00; font-weight: bold\">:0</span>.<span style=\"color: #008080; text-decoration-color: #008080; font-weight: bold\">027218895094542762</span>\n",
       "</pre>\n"
      ],
      "text/plain": [
       "\u001b[3;31mHIT_RAT\u001b[0m\u001b[1;3;31mE\u001b[0m\u001b[1;92m:0\u001b[0m.\u001b[1;36m027218895094542762\u001b[0m\n"
      ]
     },
     "metadata": {},
     "output_type": "display_data"
    },
    {
     "data": {
      "text/html": [
       "<pre style=\"white-space:pre;overflow-x:auto;line-height:normal;font-family:Menlo,'DejaVu Sans Mono',consolas,'Courier New',monospace\"><span style=\"color: #800000; text-decoration-color: #800000; font-style: italic\">MRR</span>:<span style=\"color: #008080; text-decoration-color: #008080; font-weight: bold\">0.0015844976107347265</span>\n",
       "</pre>\n"
      ],
      "text/plain": [
       "\u001b[3;31mMRR\u001b[0m:\u001b[1;36m0.0015844976107347265\u001b[0m\n"
      ]
     },
     "metadata": {},
     "output_type": "display_data"
    },
    {
     "data": {
      "text/html": [
       "<pre style=\"white-space:pre;overflow-x:auto;line-height:normal;font-family:Menlo,'DejaVu Sans Mono',consolas,'Courier New',monospace\"><span style=\"color: #800000; text-decoration-color: #800000; font-style: italic\">MRED_COUNTRY</span>:<span style=\"font-weight: bold\">{</span><span style=\"color: #008000; text-decoration-color: #008000\">'mred'</span>: <span style=\"color: #008080; text-decoration-color: #008080; font-weight: bold\">-0.005295568680057491</span>, <span style=\"color: #008000; text-decoration-color: #008000\">'mr'</span>: <span style=\"color: #008080; text-decoration-color: #008080; font-weight: bold\">0.9721409296491962</span>, <span style=\"color: #008000; text-decoration-color: #008000\">'BR'</span>: <span style=\"color: #008080; text-decoration-color: #008080; font-weight: bold\">0.9774358974358974</span>, <span style=\"color: #008000; text-decoration-color: #008000\">'CA'</span>: \n",
       "<span style=\"color: #008080; text-decoration-color: #008080; font-weight: bold\">0.9777777777777777</span>, <span style=\"color: #008000; text-decoration-color: #008000\">'DE'</span>: <span style=\"color: #008080; text-decoration-color: #008080; font-weight: bold\">0.9695613249776186</span>, <span style=\"color: #008000; text-decoration-color: #008000\">'ES'</span>: <span style=\"color: #008080; text-decoration-color: #008080; font-weight: bold\">0.975609756097561</span>, <span style=\"color: #008000; text-decoration-color: #008000\">'FI'</span>: <span style=\"color: #008080; text-decoration-color: #008080; font-weight: bold\">0.9772151898734177</span>, <span style=\"color: #008000; text-decoration-color: #008000\">'FR'</span>: \n",
       "<span style=\"color: #008080; text-decoration-color: #008080; font-weight: bold\">0.9621212121212122</span>, <span style=\"color: #008000; text-decoration-color: #008000\">'NL'</span>: <span style=\"color: #008080; text-decoration-color: #008080; font-weight: bold\">0.9809264305177112</span>, <span style=\"color: #008000; text-decoration-color: #008000\">'NaN'</span>: <span style=\"color: #008080; text-decoration-color: #008080; font-weight: bold\">0.9706362153344209</span>, <span style=\"color: #008000; text-decoration-color: #008000\">'PL'</span>: <span style=\"color: #008080; text-decoration-color: #008080; font-weight: bold\">0.9716636197440585</span>, <span style=\"color: #008000; text-decoration-color: #008000\">'RU'</span>: \n",
       "<span style=\"color: #008080; text-decoration-color: #008080; font-weight: bold\">0.9771293375394322</span>, <span style=\"color: #008000; text-decoration-color: #008000\">'SE'</span>: <span style=\"color: #008080; text-decoration-color: #008080; font-weight: bold\">0.9616724738675958</span>, <span style=\"color: #008000; text-decoration-color: #008000\">'UA'</span>: <span style=\"color: #008080; text-decoration-color: #008080; font-weight: bold\">0.9833333333333333</span>, <span style=\"color: #008000; text-decoration-color: #008000\">'UK'</span>: <span style=\"color: #008080; text-decoration-color: #008080; font-weight: bold\">0.9733096085409253</span>, <span style=\"color: #008000; text-decoration-color: #008000\">'US'</span>: \n",
       "<span style=\"color: #008080; text-decoration-color: #008080; font-weight: bold\">0.9756191950464397</span><span style=\"font-weight: bold\">}</span>\n",
       "</pre>\n"
      ],
      "text/plain": [
       "\u001b[3;31mMRED_COUNTRY\u001b[0m:\u001b[1m{\u001b[0m\u001b[32m'mred'\u001b[0m: \u001b[1;36m-0.005295568680057491\u001b[0m, \u001b[32m'mr'\u001b[0m: \u001b[1;36m0.9721409296491962\u001b[0m, \u001b[32m'BR'\u001b[0m: \u001b[1;36m0.9774358974358974\u001b[0m, \u001b[32m'CA'\u001b[0m: \n",
       "\u001b[1;36m0.9777777777777777\u001b[0m, \u001b[32m'DE'\u001b[0m: \u001b[1;36m0.9695613249776186\u001b[0m, \u001b[32m'ES'\u001b[0m: \u001b[1;36m0.975609756097561\u001b[0m, \u001b[32m'FI'\u001b[0m: \u001b[1;36m0.9772151898734177\u001b[0m, \u001b[32m'FR'\u001b[0m: \n",
       "\u001b[1;36m0.9621212121212122\u001b[0m, \u001b[32m'NL'\u001b[0m: \u001b[1;36m0.9809264305177112\u001b[0m, \u001b[32m'NaN'\u001b[0m: \u001b[1;36m0.9706362153344209\u001b[0m, \u001b[32m'PL'\u001b[0m: \u001b[1;36m0.9716636197440585\u001b[0m, \u001b[32m'RU'\u001b[0m: \n",
       "\u001b[1;36m0.9771293375394322\u001b[0m, \u001b[32m'SE'\u001b[0m: \u001b[1;36m0.9616724738675958\u001b[0m, \u001b[32m'UA'\u001b[0m: \u001b[1;36m0.9833333333333333\u001b[0m, \u001b[32m'UK'\u001b[0m: \u001b[1;36m0.9733096085409253\u001b[0m, \u001b[32m'US'\u001b[0m: \n",
       "\u001b[1;36m0.9756191950464397\u001b[0m\u001b[1m}\u001b[0m\n"
      ]
     },
     "metadata": {},
     "output_type": "display_data"
    },
    {
     "data": {
      "text/html": [
       "<pre style=\"white-space:pre;overflow-x:auto;line-height:normal;font-family:Menlo,'DejaVu Sans Mono',consolas,'Courier New',monospace\">/usr/local/lib/python3.8/dist-packages/rich/live.py:231: UserWarning: install \"ipywidgets\" for Jupyter support\n",
       "  warnings.warn('install \"ipywidgets\" for Jupyter support')\n",
       "</pre>\n"
      ],
      "text/plain": [
       "/usr/local/lib/python3.8/dist-packages/rich/live.py:231: UserWarning: install \"ipywidgets\" for Jupyter support\n",
       "  warnings.warn('install \"ipywidgets\" for Jupyter support')\n"
      ]
     },
     "metadata": {},
     "output_type": "display_data"
    },
    {
     "data": {
      "text/html": [
       "<pre style=\"white-space:pre;overflow-x:auto;line-height:normal;font-family:Menlo,'DejaVu Sans Mono',consolas,'Courier New',monospace\">/usr/local/lib/python3.8/dist-packages/rich/live.py:231: UserWarning: install \"ipywidgets\" for Jupyter support\n",
       "  warnings.warn('install \"ipywidgets\" for Jupyter support')\n",
       "</pre>\n"
      ],
      "text/plain": [
       "/usr/local/lib/python3.8/dist-packages/rich/live.py:231: UserWarning: install \"ipywidgets\" for Jupyter support\n",
       "  warnings.warn('install \"ipywidgets\" for Jupyter support')\n"
      ]
     },
     "metadata": {},
     "output_type": "display_data"
    },
    {
     "data": {
      "text/html": [
       "<pre style=\"white-space:pre;overflow-x:auto;line-height:normal;font-family:Menlo,'DejaVu Sans Mono',consolas,'Courier New',monospace\"><span style=\"color: #800000; text-decoration-color: #800000; font-style: italic\">MRED_USER_ACTIVITY</span>:<span style=\"font-weight: bold\">{</span><span style=\"color: #008000; text-decoration-color: #008000\">'mred'</span>: <span style=\"color: #008080; text-decoration-color: #008080; font-weight: bold\">-0.012354073600659765</span>, <span style=\"color: #008000; text-decoration-color: #008000\">'mr'</span>: <span style=\"color: #008080; text-decoration-color: #008080; font-weight: bold\">0.9727811049054572</span>, <span style=\"color: #008080; text-decoration-color: #008080; font-weight: bold\">1</span>: <span style=\"color: #008080; text-decoration-color: #008080; font-weight: bold\">0.9424920127795527</span>, <span style=\"color: #008080; text-decoration-color: #008080; font-weight: bold\">100</span>: \n",
       "<span style=\"color: #008080; text-decoration-color: #008080; font-weight: bold\">0.974764353041988</span>, <span style=\"color: #008080; text-decoration-color: #008080; font-weight: bold\">1000</span>: <span style=\"color: #008080; text-decoration-color: #008080; font-weight: bold\">0.9775709854450012</span><span style=\"font-weight: bold\">}</span>\n",
       "</pre>\n"
      ],
      "text/plain": [
       "\u001b[3;31mMRED_USER_ACTIVITY\u001b[0m:\u001b[1m{\u001b[0m\u001b[32m'mred'\u001b[0m: \u001b[1;36m-0.012354073600659765\u001b[0m, \u001b[32m'mr'\u001b[0m: \u001b[1;36m0.9727811049054572\u001b[0m, \u001b[1;36m1\u001b[0m: \u001b[1;36m0.9424920127795527\u001b[0m, \u001b[1;36m100\u001b[0m: \n",
       "\u001b[1;36m0.974764353041988\u001b[0m, \u001b[1;36m1000\u001b[0m: \u001b[1;36m0.9775709854450012\u001b[0m\u001b[1m}\u001b[0m\n"
      ]
     },
     "metadata": {},
     "output_type": "display_data"
    },
    {
     "data": {
      "text/html": [
       "<pre style=\"white-space:pre;overflow-x:auto;line-height:normal;font-family:Menlo,'DejaVu Sans Mono',consolas,'Courier New',monospace\">/usr/local/lib/python3.8/dist-packages/rich/live.py:231: UserWarning: install \"ipywidgets\" for Jupyter support\n",
       "  warnings.warn('install \"ipywidgets\" for Jupyter support')\n",
       "</pre>\n"
      ],
      "text/plain": [
       "/usr/local/lib/python3.8/dist-packages/rich/live.py:231: UserWarning: install \"ipywidgets\" for Jupyter support\n",
       "  warnings.warn('install \"ipywidgets\" for Jupyter support')\n"
      ]
     },
     "metadata": {},
     "output_type": "display_data"
    },
    {
     "data": {
      "text/html": [
       "<pre style=\"white-space:pre;overflow-x:auto;line-height:normal;font-family:Menlo,'DejaVu Sans Mono',consolas,'Courier New',monospace\">/usr/local/lib/python3.8/dist-packages/rich/live.py:231: UserWarning: install \"ipywidgets\" for Jupyter support\n",
       "  warnings.warn('install \"ipywidgets\" for Jupyter support')\n",
       "</pre>\n"
      ],
      "text/plain": [
       "/usr/local/lib/python3.8/dist-packages/rich/live.py:231: UserWarning: install \"ipywidgets\" for Jupyter support\n",
       "  warnings.warn('install \"ipywidgets\" for Jupyter support')\n"
      ]
     },
     "metadata": {},
     "output_type": "display_data"
    },
    {
     "data": {
      "text/html": [
       "<pre style=\"white-space:pre;overflow-x:auto;line-height:normal;font-family:Menlo,'DejaVu Sans Mono',consolas,'Courier New',monospace\"><span style=\"color: #800000; text-decoration-color: #800000; font-style: italic\">MRED_TRACK_POPULARITY</span>:<span style=\"font-weight: bold\">{</span><span style=\"color: #008000; text-decoration-color: #008000\">'mred'</span>: <span style=\"color: #008080; text-decoration-color: #008080; font-weight: bold\">-0.014173503314653058</span>, <span style=\"color: #008000; text-decoration-color: #008000\">'mr'</span>: <span style=\"color: #008080; text-decoration-color: #008080; font-weight: bold\">0.9727811049054572</span>, <span style=\"color: #008080; text-decoration-color: #008080; font-weight: bold\">1</span>: <span style=\"color: #008080; text-decoration-color: #008080; font-weight: bold\">0.9724770642201835</span>, <span style=\"color: #008080; text-decoration-color: #008080; font-weight: bold\">10</span>: \n",
       "<span style=\"color: #008080; text-decoration-color: #008080; font-weight: bold\">0.9587928735910799</span>, <span style=\"color: #008080; text-decoration-color: #008080; font-weight: bold\">100</span>: <span style=\"color: #008080; text-decoration-color: #008080; font-weight: bold\">0.9891608391608392</span>, <span style=\"color: #008080; text-decoration-color: #008080; font-weight: bold\">1000</span>: <span style=\"color: #008080; text-decoration-color: #008080; font-weight: bold\">0.9988031119090365</span><span style=\"font-weight: bold\">}</span>\n",
       "</pre>\n"
      ],
      "text/plain": [
       "\u001b[3;31mMRED_TRACK_POPULARITY\u001b[0m:\u001b[1m{\u001b[0m\u001b[32m'mred'\u001b[0m: \u001b[1;36m-0.014173503314653058\u001b[0m, \u001b[32m'mr'\u001b[0m: \u001b[1;36m0.9727811049054572\u001b[0m, \u001b[1;36m1\u001b[0m: \u001b[1;36m0.9724770642201835\u001b[0m, \u001b[1;36m10\u001b[0m: \n",
       "\u001b[1;36m0.9587928735910799\u001b[0m, \u001b[1;36m100\u001b[0m: \u001b[1;36m0.9891608391608392\u001b[0m, \u001b[1;36m1000\u001b[0m: \u001b[1;36m0.9988031119090365\u001b[0m\u001b[1m}\u001b[0m\n"
      ]
     },
     "metadata": {},
     "output_type": "display_data"
    },
    {
     "data": {
      "text/html": [
       "<pre style=\"white-space:pre;overflow-x:auto;line-height:normal;font-family:Menlo,'DejaVu Sans Mono',consolas,'Courier New',monospace\">/usr/local/lib/python3.8/dist-packages/rich/live.py:231: UserWarning: install \"ipywidgets\" for Jupyter support\n",
       "  warnings.warn('install \"ipywidgets\" for Jupyter support')\n",
       "</pre>\n"
      ],
      "text/plain": [
       "/usr/local/lib/python3.8/dist-packages/rich/live.py:231: UserWarning: install \"ipywidgets\" for Jupyter support\n",
       "  warnings.warn('install \"ipywidgets\" for Jupyter support')\n"
      ]
     },
     "metadata": {},
     "output_type": "display_data"
    },
    {
     "data": {
      "text/html": [
       "<pre style=\"white-space:pre;overflow-x:auto;line-height:normal;font-family:Menlo,'DejaVu Sans Mono',consolas,'Courier New',monospace\">/usr/local/lib/python3.8/dist-packages/rich/live.py:231: UserWarning: install \"ipywidgets\" for Jupyter support\n",
       "  warnings.warn('install \"ipywidgets\" for Jupyter support')\n",
       "</pre>\n"
      ],
      "text/plain": [
       "/usr/local/lib/python3.8/dist-packages/rich/live.py:231: UserWarning: install \"ipywidgets\" for Jupyter support\n",
       "  warnings.warn('install \"ipywidgets\" for Jupyter support')\n"
      ]
     },
     "metadata": {},
     "output_type": "display_data"
    },
    {
     "data": {
      "text/html": [
       "<pre style=\"white-space:pre;overflow-x:auto;line-height:normal;font-family:Menlo,'DejaVu Sans Mono',consolas,'Courier New',monospace\"><span style=\"color: #800000; text-decoration-color: #800000; font-style: italic\">MRED_ARTIST_POPULARITY</span>:<span style=\"font-weight: bold\">{</span><span style=\"color: #008000; text-decoration-color: #008000\">'mred'</span>: <span style=\"color: #008080; text-decoration-color: #008080; font-weight: bold\">-0.015556087082570058</span>, <span style=\"color: #008000; text-decoration-color: #008000\">'mr'</span>: <span style=\"color: #008080; text-decoration-color: #008080; font-weight: bold\">0.9727811049054572</span>, <span style=\"color: #008080; text-decoration-color: #008080; font-weight: bold\">1</span>: <span style=\"color: #008080; text-decoration-color: #008080; font-weight: bold\">0.9506545820745217</span>, <span style=\"color: #008080; text-decoration-color: #008080; font-weight: bold\">100</span>: \n",
       "<span style=\"color: #008080; text-decoration-color: #008080; font-weight: bold\">0.951885767499612</span>, <span style=\"color: #008080; text-decoration-color: #008080; font-weight: bold\">1000</span>: <span style=\"color: #008080; text-decoration-color: #008080; font-weight: bold\">0.9741259313845901</span>, <span style=\"color: #008080; text-decoration-color: #008080; font-weight: bold\">10000</span>: <span style=\"color: #008080; text-decoration-color: #008080; font-weight: bold\">0.9906387665198237</span><span style=\"font-weight: bold\">}</span>\n",
       "</pre>\n"
      ],
      "text/plain": [
       "\u001b[3;31mMRED_ARTIST_POPULARITY\u001b[0m:\u001b[1m{\u001b[0m\u001b[32m'mred'\u001b[0m: \u001b[1;36m-0.015556087082570058\u001b[0m, \u001b[32m'mr'\u001b[0m: \u001b[1;36m0.9727811049054572\u001b[0m, \u001b[1;36m1\u001b[0m: \u001b[1;36m0.9506545820745217\u001b[0m, \u001b[1;36m100\u001b[0m: \n",
       "\u001b[1;36m0.951885767499612\u001b[0m, \u001b[1;36m1000\u001b[0m: \u001b[1;36m0.9741259313845901\u001b[0m, \u001b[1;36m10000\u001b[0m: \u001b[1;36m0.9906387665198237\u001b[0m\u001b[1m}\u001b[0m\n"
      ]
     },
     "metadata": {},
     "output_type": "display_data"
    },
    {
     "data": {
      "text/html": [
       "<pre style=\"white-space:pre;overflow-x:auto;line-height:normal;font-family:Menlo,'DejaVu Sans Mono',consolas,'Courier New',monospace\">/usr/local/lib/python3.8/dist-packages/rich/live.py:231: UserWarning: install \"ipywidgets\" for Jupyter support\n",
       "  warnings.warn('install \"ipywidgets\" for Jupyter support')\n",
       "</pre>\n"
      ],
      "text/plain": [
       "/usr/local/lib/python3.8/dist-packages/rich/live.py:231: UserWarning: install \"ipywidgets\" for Jupyter support\n",
       "  warnings.warn('install \"ipywidgets\" for Jupyter support')\n"
      ]
     },
     "metadata": {},
     "output_type": "display_data"
    },
    {
     "data": {
      "text/html": [
       "<pre style=\"white-space:pre;overflow-x:auto;line-height:normal;font-family:Menlo,'DejaVu Sans Mono',consolas,'Courier New',monospace\"><span style=\"color: #800000; text-decoration-color: #800000; font-style: italic\">MRED_GENDER</span>:<span style=\"font-weight: bold\">{</span><span style=\"color: #008000; text-decoration-color: #008000\">'mred'</span>: <span style=\"color: #008080; text-decoration-color: #008080; font-weight: bold\">-0.002707459633229381</span>, <span style=\"color: #008000; text-decoration-color: #008000\">'mr'</span>: <span style=\"color: #008080; text-decoration-color: #008080; font-weight: bold\">0.9727811049054572</span>, <span style=\"color: #008000; text-decoration-color: #008000\">'f'</span>: <span style=\"color: #008080; text-decoration-color: #008080; font-weight: bold\">0.9757794382891007</span>, <span style=\"color: #008000; text-decoration-color: #008000\">'m'</span>: \n",
       "<span style=\"color: #008080; text-decoration-color: #008080; font-weight: bold\">0.9754122938530735</span>, <span style=\"color: #008000; text-decoration-color: #008000\">'n'</span>: <span style=\"color: #008080; text-decoration-color: #008080; font-weight: bold\">0.9702882483370289</span><span style=\"font-weight: bold\">}</span>\n",
       "</pre>\n"
      ],
      "text/plain": [
       "\u001b[3;31mMRED_GENDER\u001b[0m:\u001b[1m{\u001b[0m\u001b[32m'mred'\u001b[0m: \u001b[1;36m-0.002707459633229381\u001b[0m, \u001b[32m'mr'\u001b[0m: \u001b[1;36m0.9727811049054572\u001b[0m, \u001b[32m'f'\u001b[0m: \u001b[1;36m0.9757794382891007\u001b[0m, \u001b[32m'm'\u001b[0m: \n",
       "\u001b[1;36m0.9754122938530735\u001b[0m, \u001b[32m'n'\u001b[0m: \u001b[1;36m0.9702882483370289\u001b[0m\u001b[1m}\u001b[0m\n"
      ]
     },
     "metadata": {},
     "output_type": "display_data"
    },
    {
     "data": {
      "text/html": [
       "<pre style=\"white-space:pre;overflow-x:auto;line-height:normal;font-family:Menlo,'DejaVu Sans Mono',consolas,'Courier New',monospace\">/usr/local/lib/python3.8/dist-packages/rich/live.py:231: UserWarning: install \"ipywidgets\" for Jupyter support\n",
       "  warnings.warn('install \"ipywidgets\" for Jupyter support')\n",
       "</pre>\n"
      ],
      "text/plain": [
       "/usr/local/lib/python3.8/dist-packages/rich/live.py:231: UserWarning: install \"ipywidgets\" for Jupyter support\n",
       "  warnings.warn('install \"ipywidgets\" for Jupyter support')\n"
      ]
     },
     "metadata": {},
     "output_type": "display_data"
    },
    {
     "data": {
      "text/html": [
       "<pre style=\"white-space:pre;overflow-x:auto;line-height:normal;font-family:Menlo,'DejaVu Sans Mono',consolas,'Courier New',monospace\"><span style=\"color: #800000; text-decoration-color: #800000; font-style: italic\">BEING_LESS_WRONG</span>:<span style=\"color: #008080; text-decoration-color: #008080; font-weight: bold\">0.3040198087692261</span>\n",
       "</pre>\n"
      ],
      "text/plain": [
       "\u001b[3;31mBEING_LESS_WRONG\u001b[0m:\u001b[1;36m0.3040198087692261\u001b[0m\n"
      ]
     },
     "metadata": {},
     "output_type": "display_data"
    },
    {
     "data": {
      "text/html": [
       "<pre style=\"white-space:pre;overflow-x:auto;line-height:normal;font-family:Menlo,'DejaVu Sans Mono',consolas,'Courier New',monospace\"></pre>\n"
      ],
      "text/plain": []
     },
     "metadata": {},
     "output_type": "display_data"
    },
    {
     "data": {
      "text/html": [
       "<pre style=\"white-space:pre;overflow-x:auto;line-height:normal;font-family:Menlo,'DejaVu Sans Mono',consolas,'Courier New',monospace\">\n",
       "</pre>\n"
      ],
      "text/plain": [
       "\n"
      ]
     },
     "metadata": {},
     "output_type": "display_data"
    },
    {
     "data": {
      "text/html": [
       "<pre style=\"white-space:pre;overflow-x:auto;line-height:normal;font-family:Menlo,'DejaVu Sans Mono',consolas,'Courier New',monospace\"><span style=\"font-style: italic\">                                EvalRSReclist                                 </span>\n",
       "┏━━━━━━━━━━━━━━━━━━━━━━━━┳━━━━━━━━━━━━━━┳━━━━━━━━━━━━━━━━━━━━━━━━━━━━━━━━━━━━┓\n",
       "┃<span style=\"font-weight: bold\">                   Type </span>┃<span style=\"font-weight: bold\"> Description  </span>┃<span style=\"font-weight: bold\">                             Result </span>┃\n",
       "┡━━━━━━━━━━━━━━━━━━━━━━━━╇━━━━━━━━━━━━━━╇━━━━━━━━━━━━━━━━━━━━━━━━━━━━━━━━━━━━┩\n",
       "│<span style=\"color: #008080; text-decoration-color: #008080\">                  stats </span>│<span style=\"color: #800080; text-decoration-color: #800080\">              </span>│<span style=\"color: #008000; text-decoration-color: #008000\">                                  { </span>│\n",
       "│<span style=\"color: #008080; text-decoration-color: #008080\">                        </span>│<span style=\"color: #800080; text-decoration-color: #800080\">              </span>│<span style=\"color: #008000; text-decoration-color: #008000\">                \"num_users\": 29722, </span>│\n",
       "│<span style=\"color: #008080; text-decoration-color: #008080\">                        </span>│<span style=\"color: #800080; text-decoration-color: #800080\">              </span>│<span style=\"color: #008000; text-decoration-color: #008000\">                    \"max_items\": 1, </span>│\n",
       "│<span style=\"color: #008080; text-decoration-color: #008080\">                        </span>│<span style=\"color: #800080; text-decoration-color: #800080\">              </span>│<span style=\"color: #008000; text-decoration-color: #008000\">                     \"min_items\": 1 </span>│\n",
       "│<span style=\"color: #008080; text-decoration-color: #008080\">                        </span>│<span style=\"color: #800080; text-decoration-color: #800080\">              </span>│<span style=\"color: #008000; text-decoration-color: #008000\">                                  } </span>│\n",
       "│<span style=\"color: #008080; text-decoration-color: #008080\">               HIT_RATE </span>│<span style=\"color: #800080; text-decoration-color: #800080\">              </span>│<span style=\"color: #008000; text-decoration-color: #008000\">                             0.0272 </span>│\n",
       "│<span style=\"color: #008080; text-decoration-color: #008080\">                    MRR </span>│<span style=\"color: #800080; text-decoration-color: #800080\">              </span>│<span style=\"color: #008000; text-decoration-color: #008000\">                             0.0016 </span>│\n",
       "│<span style=\"color: #008080; text-decoration-color: #008080\">           MRED_COUNTRY </span>│<span style=\"color: #800080; text-decoration-color: #800080\">              </span>│<span style=\"color: #008000; text-decoration-color: #008000\">                                  { </span>│\n",
       "│<span style=\"color: #008080; text-decoration-color: #008080\">                        </span>│<span style=\"color: #800080; text-decoration-color: #800080\">              </span>│<span style=\"color: #008000; text-decoration-color: #008000\">     \"mred\": -0.005295568680057491, </span>│\n",
       "│<span style=\"color: #008080; text-decoration-color: #008080\">                        </span>│<span style=\"color: #800080; text-decoration-color: #800080\">              </span>│<span style=\"color: #008000; text-decoration-color: #008000\">          \"mr\": 0.9721409296491962, </span>│\n",
       "│<span style=\"color: #008080; text-decoration-color: #008080\">                        </span>│<span style=\"color: #800080; text-decoration-color: #800080\">              </span>│<span style=\"color: #008000; text-decoration-color: #008000\">          \"BR\": 0.9774358974358974, </span>│\n",
       "│<span style=\"color: #008080; text-decoration-color: #008080\">                        </span>│<span style=\"color: #800080; text-decoration-color: #800080\">              </span>│<span style=\"color: #008000; text-decoration-color: #008000\">          \"CA\": 0.9777777777777777, </span>│\n",
       "│<span style=\"color: #008080; text-decoration-color: #008080\">                        </span>│<span style=\"color: #800080; text-decoration-color: #800080\">              </span>│<span style=\"color: #008000; text-decoration-color: #008000\">          \"DE\": 0.9695613249776186, </span>│\n",
       "│<span style=\"color: #008080; text-decoration-color: #008080\">                        </span>│<span style=\"color: #800080; text-decoration-color: #800080\">              </span>│<span style=\"color: #008000; text-decoration-color: #008000\">           \"ES\": 0.975609756097561, </span>│\n",
       "│<span style=\"color: #008080; text-decoration-color: #008080\">                        </span>│<span style=\"color: #800080; text-decoration-color: #800080\">              </span>│<span style=\"color: #008000; text-decoration-color: #008000\">          \"FI\": 0.9772151898734177, </span>│\n",
       "│<span style=\"color: #008080; text-decoration-color: #008080\">                        </span>│<span style=\"color: #800080; text-decoration-color: #800080\">              </span>│<span style=\"color: #008000; text-decoration-color: #008000\">          \"FR\": 0.9621212121212122, </span>│\n",
       "│<span style=\"color: #008080; text-decoration-color: #008080\">                        </span>│<span style=\"color: #800080; text-decoration-color: #800080\">              </span>│<span style=\"color: #008000; text-decoration-color: #008000\">          \"NL\": 0.9809264305177112, </span>│\n",
       "│<span style=\"color: #008080; text-decoration-color: #008080\">                        </span>│<span style=\"color: #800080; text-decoration-color: #800080\">              </span>│<span style=\"color: #008000; text-decoration-color: #008000\">         \"NaN\": 0.9706362153344209, </span>│\n",
       "│<span style=\"color: #008080; text-decoration-color: #008080\">                        </span>│<span style=\"color: #800080; text-decoration-color: #800080\">              </span>│<span style=\"color: #008000; text-decoration-color: #008000\">          \"PL\": 0.9716636197440585, </span>│\n",
       "│<span style=\"color: #008080; text-decoration-color: #008080\">                        </span>│<span style=\"color: #800080; text-decoration-color: #800080\">              </span>│<span style=\"color: #008000; text-decoration-color: #008000\">          \"RU\": 0.9771293375394322, </span>│\n",
       "│<span style=\"color: #008080; text-decoration-color: #008080\">                        </span>│<span style=\"color: #800080; text-decoration-color: #800080\">              </span>│<span style=\"color: #008000; text-decoration-color: #008000\">          \"SE\": 0.9616724738675958, </span>│\n",
       "│<span style=\"color: #008080; text-decoration-color: #008080\">                        </span>│<span style=\"color: #800080; text-decoration-color: #800080\">              </span>│<span style=\"color: #008000; text-decoration-color: #008000\">          \"UA\": 0.9833333333333333, </span>│\n",
       "│<span style=\"color: #008080; text-decoration-color: #008080\">                        </span>│<span style=\"color: #800080; text-decoration-color: #800080\">              </span>│<span style=\"color: #008000; text-decoration-color: #008000\">          \"UK\": 0.9733096085409253, </span>│\n",
       "│<span style=\"color: #008080; text-decoration-color: #008080\">                        </span>│<span style=\"color: #800080; text-decoration-color: #800080\">              </span>│<span style=\"color: #008000; text-decoration-color: #008000\">           \"US\": 0.9756191950464397 </span>│\n",
       "│<span style=\"color: #008080; text-decoration-color: #008080\">                        </span>│<span style=\"color: #800080; text-decoration-color: #800080\">              </span>│<span style=\"color: #008000; text-decoration-color: #008000\">                                  } </span>│\n",
       "│<span style=\"color: #008080; text-decoration-color: #008080\">     MRED_USER_ACTIVITY </span>│<span style=\"color: #800080; text-decoration-color: #800080\">              </span>│<span style=\"color: #008000; text-decoration-color: #008000\">                                  { </span>│\n",
       "│<span style=\"color: #008080; text-decoration-color: #008080\">                        </span>│<span style=\"color: #800080; text-decoration-color: #800080\">              </span>│<span style=\"color: #008000; text-decoration-color: #008000\">     \"mred\": -0.012354073600659765, </span>│\n",
       "│<span style=\"color: #008080; text-decoration-color: #008080\">                        </span>│<span style=\"color: #800080; text-decoration-color: #800080\">              </span>│<span style=\"color: #008000; text-decoration-color: #008000\">          \"mr\": 0.9727811049054572, </span>│\n",
       "│<span style=\"color: #008080; text-decoration-color: #008080\">                        </span>│<span style=\"color: #800080; text-decoration-color: #800080\">              </span>│<span style=\"color: #008000; text-decoration-color: #008000\">           \"1\": 0.9424920127795527, </span>│\n",
       "│<span style=\"color: #008080; text-decoration-color: #008080\">                        </span>│<span style=\"color: #800080; text-decoration-color: #800080\">              </span>│<span style=\"color: #008000; text-decoration-color: #008000\">          \"100\": 0.974764353041988, </span>│\n",
       "│<span style=\"color: #008080; text-decoration-color: #008080\">                        </span>│<span style=\"color: #800080; text-decoration-color: #800080\">              </span>│<span style=\"color: #008000; text-decoration-color: #008000\">         \"1000\": 0.9775709854450012 </span>│\n",
       "│<span style=\"color: #008080; text-decoration-color: #008080\">                        </span>│<span style=\"color: #800080; text-decoration-color: #800080\">              </span>│<span style=\"color: #008000; text-decoration-color: #008000\">                                  } </span>│\n",
       "│<span style=\"color: #008080; text-decoration-color: #008080\">  MRED_TRACK_POPULARITY </span>│<span style=\"color: #800080; text-decoration-color: #800080\">              </span>│<span style=\"color: #008000; text-decoration-color: #008000\">                                  { </span>│\n",
       "│<span style=\"color: #008080; text-decoration-color: #008080\">                        </span>│<span style=\"color: #800080; text-decoration-color: #800080\">              </span>│<span style=\"color: #008000; text-decoration-color: #008000\">     \"mred\": -0.014173503314653058, </span>│\n",
       "│<span style=\"color: #008080; text-decoration-color: #008080\">                        </span>│<span style=\"color: #800080; text-decoration-color: #800080\">              </span>│<span style=\"color: #008000; text-decoration-color: #008000\">          \"mr\": 0.9727811049054572, </span>│\n",
       "│<span style=\"color: #008080; text-decoration-color: #008080\">                        </span>│<span style=\"color: #800080; text-decoration-color: #800080\">              </span>│<span style=\"color: #008000; text-decoration-color: #008000\">           \"1\": 0.9724770642201835, </span>│\n",
       "│<span style=\"color: #008080; text-decoration-color: #008080\">                        </span>│<span style=\"color: #800080; text-decoration-color: #800080\">              </span>│<span style=\"color: #008000; text-decoration-color: #008000\">          \"10\": 0.9587928735910799, </span>│\n",
       "│<span style=\"color: #008080; text-decoration-color: #008080\">                        </span>│<span style=\"color: #800080; text-decoration-color: #800080\">              </span>│<span style=\"color: #008000; text-decoration-color: #008000\">         \"100\": 0.9891608391608392, </span>│\n",
       "│<span style=\"color: #008080; text-decoration-color: #008080\">                        </span>│<span style=\"color: #800080; text-decoration-color: #800080\">              </span>│<span style=\"color: #008000; text-decoration-color: #008000\">         \"1000\": 0.9988031119090365 </span>│\n",
       "│<span style=\"color: #008080; text-decoration-color: #008080\">                        </span>│<span style=\"color: #800080; text-decoration-color: #800080\">              </span>│<span style=\"color: #008000; text-decoration-color: #008000\">                                  } </span>│\n",
       "│<span style=\"color: #008080; text-decoration-color: #008080\"> MRED_ARTIST_POPULARITY </span>│<span style=\"color: #800080; text-decoration-color: #800080\">              </span>│<span style=\"color: #008000; text-decoration-color: #008000\">                                  { </span>│\n",
       "│<span style=\"color: #008080; text-decoration-color: #008080\">                        </span>│<span style=\"color: #800080; text-decoration-color: #800080\">              </span>│<span style=\"color: #008000; text-decoration-color: #008000\">     \"mred\": -0.015556087082570058, </span>│\n",
       "│<span style=\"color: #008080; text-decoration-color: #008080\">                        </span>│<span style=\"color: #800080; text-decoration-color: #800080\">              </span>│<span style=\"color: #008000; text-decoration-color: #008000\">          \"mr\": 0.9727811049054572, </span>│\n",
       "│<span style=\"color: #008080; text-decoration-color: #008080\">                        </span>│<span style=\"color: #800080; text-decoration-color: #800080\">              </span>│<span style=\"color: #008000; text-decoration-color: #008000\">           \"1\": 0.9506545820745217, </span>│\n",
       "│<span style=\"color: #008080; text-decoration-color: #008080\">                        </span>│<span style=\"color: #800080; text-decoration-color: #800080\">              </span>│<span style=\"color: #008000; text-decoration-color: #008000\">          \"100\": 0.951885767499612, </span>│\n",
       "│<span style=\"color: #008080; text-decoration-color: #008080\">                        </span>│<span style=\"color: #800080; text-decoration-color: #800080\">              </span>│<span style=\"color: #008000; text-decoration-color: #008000\">        \"1000\": 0.9741259313845901, </span>│\n",
       "│<span style=\"color: #008080; text-decoration-color: #008080\">                        </span>│<span style=\"color: #800080; text-decoration-color: #800080\">              </span>│<span style=\"color: #008000; text-decoration-color: #008000\">        \"10000\": 0.9906387665198237 </span>│\n",
       "│<span style=\"color: #008080; text-decoration-color: #008080\">                        </span>│<span style=\"color: #800080; text-decoration-color: #800080\">              </span>│<span style=\"color: #008000; text-decoration-color: #008000\">                                  } </span>│\n",
       "│<span style=\"color: #008080; text-decoration-color: #008080\">            MRED_GENDER </span>│<span style=\"color: #800080; text-decoration-color: #800080\">              </span>│<span style=\"color: #008000; text-decoration-color: #008000\">                                  { </span>│\n",
       "│<span style=\"color: #008080; text-decoration-color: #008080\">                        </span>│<span style=\"color: #800080; text-decoration-color: #800080\">              </span>│<span style=\"color: #008000; text-decoration-color: #008000\">     \"mred\": -0.002707459633229381, </span>│\n",
       "│<span style=\"color: #008080; text-decoration-color: #008080\">                        </span>│<span style=\"color: #800080; text-decoration-color: #800080\">              </span>│<span style=\"color: #008000; text-decoration-color: #008000\">          \"mr\": 0.9727811049054572, </span>│\n",
       "│<span style=\"color: #008080; text-decoration-color: #008080\">                        </span>│<span style=\"color: #800080; text-decoration-color: #800080\">              </span>│<span style=\"color: #008000; text-decoration-color: #008000\">           \"f\": 0.9757794382891007, </span>│\n",
       "│<span style=\"color: #008080; text-decoration-color: #008080\">                        </span>│<span style=\"color: #800080; text-decoration-color: #800080\">              </span>│<span style=\"color: #008000; text-decoration-color: #008000\">           \"m\": 0.9754122938530735, </span>│\n",
       "│<span style=\"color: #008080; text-decoration-color: #008080\">                        </span>│<span style=\"color: #800080; text-decoration-color: #800080\">              </span>│<span style=\"color: #008000; text-decoration-color: #008000\">            \"n\": 0.9702882483370289 </span>│\n",
       "│<span style=\"color: #008080; text-decoration-color: #008080\">                        </span>│<span style=\"color: #800080; text-decoration-color: #800080\">              </span>│<span style=\"color: #008000; text-decoration-color: #008000\">                                  } </span>│\n",
       "│<span style=\"color: #008080; text-decoration-color: #008080\">       BEING_LESS_WRONG </span>│<span style=\"color: #800080; text-decoration-color: #800080\">              </span>│<span style=\"color: #008000; text-decoration-color: #008000\">                              0.304 </span>│\n",
       "└────────────────────────┴──────────────┴────────────────────────────────────┘\n",
       "</pre>\n"
      ],
      "text/plain": [
       "\u001b[3m                                EvalRSReclist                                 \u001b[0m\n",
       "┏━━━━━━━━━━━━━━━━━━━━━━━━┳━━━━━━━━━━━━━━┳━━━━━━━━━━━━━━━━━━━━━━━━━━━━━━━━━━━━┓\n",
       "┃\u001b[1m \u001b[0m\u001b[1m                  Type\u001b[0m\u001b[1m \u001b[0m┃\u001b[1m \u001b[0m\u001b[1mDescription \u001b[0m\u001b[1m \u001b[0m┃\u001b[1m \u001b[0m\u001b[1m                            Result\u001b[0m\u001b[1m \u001b[0m┃\n",
       "┡━━━━━━━━━━━━━━━━━━━━━━━━╇━━━━━━━━━━━━━━╇━━━━━━━━━━━━━━━━━━━━━━━━━━━━━━━━━━━━┩\n",
       "│\u001b[36m \u001b[0m\u001b[36m                 stats\u001b[0m\u001b[36m \u001b[0m│\u001b[35m \u001b[0m\u001b[35m            \u001b[0m\u001b[35m \u001b[0m│\u001b[32m \u001b[0m\u001b[32m                                 {\u001b[0m\u001b[32m \u001b[0m│\n",
       "│\u001b[36m                        \u001b[0m│\u001b[35m              \u001b[0m│\u001b[32m \u001b[0m\u001b[32m               \"num_users\": 29722,\u001b[0m\u001b[32m \u001b[0m│\n",
       "│\u001b[36m                        \u001b[0m│\u001b[35m              \u001b[0m│\u001b[32m \u001b[0m\u001b[32m                   \"max_items\": 1,\u001b[0m\u001b[32m \u001b[0m│\n",
       "│\u001b[36m                        \u001b[0m│\u001b[35m              \u001b[0m│\u001b[32m \u001b[0m\u001b[32m                    \"min_items\": 1\u001b[0m\u001b[32m \u001b[0m│\n",
       "│\u001b[36m                        \u001b[0m│\u001b[35m              \u001b[0m│\u001b[32m \u001b[0m\u001b[32m                                 }\u001b[0m\u001b[32m \u001b[0m│\n",
       "│\u001b[36m \u001b[0m\u001b[36m              HIT_RATE\u001b[0m\u001b[36m \u001b[0m│\u001b[35m \u001b[0m\u001b[35m            \u001b[0m\u001b[35m \u001b[0m│\u001b[32m \u001b[0m\u001b[32m                            0.0272\u001b[0m\u001b[32m \u001b[0m│\n",
       "│\u001b[36m \u001b[0m\u001b[36m                   MRR\u001b[0m\u001b[36m \u001b[0m│\u001b[35m \u001b[0m\u001b[35m            \u001b[0m\u001b[35m \u001b[0m│\u001b[32m \u001b[0m\u001b[32m                            0.0016\u001b[0m\u001b[32m \u001b[0m│\n",
       "│\u001b[36m \u001b[0m\u001b[36m          MRED_COUNTRY\u001b[0m\u001b[36m \u001b[0m│\u001b[35m \u001b[0m\u001b[35m            \u001b[0m\u001b[35m \u001b[0m│\u001b[32m \u001b[0m\u001b[32m                                 {\u001b[0m\u001b[32m \u001b[0m│\n",
       "│\u001b[36m                        \u001b[0m│\u001b[35m              \u001b[0m│\u001b[32m \u001b[0m\u001b[32m    \"mred\": -0.005295568680057491,\u001b[0m\u001b[32m \u001b[0m│\n",
       "│\u001b[36m                        \u001b[0m│\u001b[35m              \u001b[0m│\u001b[32m \u001b[0m\u001b[32m         \"mr\": 0.9721409296491962,\u001b[0m\u001b[32m \u001b[0m│\n",
       "│\u001b[36m                        \u001b[0m│\u001b[35m              \u001b[0m│\u001b[32m \u001b[0m\u001b[32m         \"BR\": 0.9774358974358974,\u001b[0m\u001b[32m \u001b[0m│\n",
       "│\u001b[36m                        \u001b[0m│\u001b[35m              \u001b[0m│\u001b[32m \u001b[0m\u001b[32m         \"CA\": 0.9777777777777777,\u001b[0m\u001b[32m \u001b[0m│\n",
       "│\u001b[36m                        \u001b[0m│\u001b[35m              \u001b[0m│\u001b[32m \u001b[0m\u001b[32m         \"DE\": 0.9695613249776186,\u001b[0m\u001b[32m \u001b[0m│\n",
       "│\u001b[36m                        \u001b[0m│\u001b[35m              \u001b[0m│\u001b[32m \u001b[0m\u001b[32m          \"ES\": 0.975609756097561,\u001b[0m\u001b[32m \u001b[0m│\n",
       "│\u001b[36m                        \u001b[0m│\u001b[35m              \u001b[0m│\u001b[32m \u001b[0m\u001b[32m         \"FI\": 0.9772151898734177,\u001b[0m\u001b[32m \u001b[0m│\n",
       "│\u001b[36m                        \u001b[0m│\u001b[35m              \u001b[0m│\u001b[32m \u001b[0m\u001b[32m         \"FR\": 0.9621212121212122,\u001b[0m\u001b[32m \u001b[0m│\n",
       "│\u001b[36m                        \u001b[0m│\u001b[35m              \u001b[0m│\u001b[32m \u001b[0m\u001b[32m         \"NL\": 0.9809264305177112,\u001b[0m\u001b[32m \u001b[0m│\n",
       "│\u001b[36m                        \u001b[0m│\u001b[35m              \u001b[0m│\u001b[32m \u001b[0m\u001b[32m        \"NaN\": 0.9706362153344209,\u001b[0m\u001b[32m \u001b[0m│\n",
       "│\u001b[36m                        \u001b[0m│\u001b[35m              \u001b[0m│\u001b[32m \u001b[0m\u001b[32m         \"PL\": 0.9716636197440585,\u001b[0m\u001b[32m \u001b[0m│\n",
       "│\u001b[36m                        \u001b[0m│\u001b[35m              \u001b[0m│\u001b[32m \u001b[0m\u001b[32m         \"RU\": 0.9771293375394322,\u001b[0m\u001b[32m \u001b[0m│\n",
       "│\u001b[36m                        \u001b[0m│\u001b[35m              \u001b[0m│\u001b[32m \u001b[0m\u001b[32m         \"SE\": 0.9616724738675958,\u001b[0m\u001b[32m \u001b[0m│\n",
       "│\u001b[36m                        \u001b[0m│\u001b[35m              \u001b[0m│\u001b[32m \u001b[0m\u001b[32m         \"UA\": 0.9833333333333333,\u001b[0m\u001b[32m \u001b[0m│\n",
       "│\u001b[36m                        \u001b[0m│\u001b[35m              \u001b[0m│\u001b[32m \u001b[0m\u001b[32m         \"UK\": 0.9733096085409253,\u001b[0m\u001b[32m \u001b[0m│\n",
       "│\u001b[36m                        \u001b[0m│\u001b[35m              \u001b[0m│\u001b[32m \u001b[0m\u001b[32m          \"US\": 0.9756191950464397\u001b[0m\u001b[32m \u001b[0m│\n",
       "│\u001b[36m                        \u001b[0m│\u001b[35m              \u001b[0m│\u001b[32m \u001b[0m\u001b[32m                                 }\u001b[0m\u001b[32m \u001b[0m│\n",
       "│\u001b[36m \u001b[0m\u001b[36m    MRED_USER_ACTIVITY\u001b[0m\u001b[36m \u001b[0m│\u001b[35m \u001b[0m\u001b[35m            \u001b[0m\u001b[35m \u001b[0m│\u001b[32m \u001b[0m\u001b[32m                                 {\u001b[0m\u001b[32m \u001b[0m│\n",
       "│\u001b[36m                        \u001b[0m│\u001b[35m              \u001b[0m│\u001b[32m \u001b[0m\u001b[32m    \"mred\": -0.012354073600659765,\u001b[0m\u001b[32m \u001b[0m│\n",
       "│\u001b[36m                        \u001b[0m│\u001b[35m              \u001b[0m│\u001b[32m \u001b[0m\u001b[32m         \"mr\": 0.9727811049054572,\u001b[0m\u001b[32m \u001b[0m│\n",
       "│\u001b[36m                        \u001b[0m│\u001b[35m              \u001b[0m│\u001b[32m \u001b[0m\u001b[32m          \"1\": 0.9424920127795527,\u001b[0m\u001b[32m \u001b[0m│\n",
       "│\u001b[36m                        \u001b[0m│\u001b[35m              \u001b[0m│\u001b[32m \u001b[0m\u001b[32m         \"100\": 0.974764353041988,\u001b[0m\u001b[32m \u001b[0m│\n",
       "│\u001b[36m                        \u001b[0m│\u001b[35m              \u001b[0m│\u001b[32m \u001b[0m\u001b[32m        \"1000\": 0.9775709854450012\u001b[0m\u001b[32m \u001b[0m│\n",
       "│\u001b[36m                        \u001b[0m│\u001b[35m              \u001b[0m│\u001b[32m \u001b[0m\u001b[32m                                 }\u001b[0m\u001b[32m \u001b[0m│\n",
       "│\u001b[36m \u001b[0m\u001b[36m MRED_TRACK_POPULARITY\u001b[0m\u001b[36m \u001b[0m│\u001b[35m \u001b[0m\u001b[35m            \u001b[0m\u001b[35m \u001b[0m│\u001b[32m \u001b[0m\u001b[32m                                 {\u001b[0m\u001b[32m \u001b[0m│\n",
       "│\u001b[36m                        \u001b[0m│\u001b[35m              \u001b[0m│\u001b[32m \u001b[0m\u001b[32m    \"mred\": -0.014173503314653058,\u001b[0m\u001b[32m \u001b[0m│\n",
       "│\u001b[36m                        \u001b[0m│\u001b[35m              \u001b[0m│\u001b[32m \u001b[0m\u001b[32m         \"mr\": 0.9727811049054572,\u001b[0m\u001b[32m \u001b[0m│\n",
       "│\u001b[36m                        \u001b[0m│\u001b[35m              \u001b[0m│\u001b[32m \u001b[0m\u001b[32m          \"1\": 0.9724770642201835,\u001b[0m\u001b[32m \u001b[0m│\n",
       "│\u001b[36m                        \u001b[0m│\u001b[35m              \u001b[0m│\u001b[32m \u001b[0m\u001b[32m         \"10\": 0.9587928735910799,\u001b[0m\u001b[32m \u001b[0m│\n",
       "│\u001b[36m                        \u001b[0m│\u001b[35m              \u001b[0m│\u001b[32m \u001b[0m\u001b[32m        \"100\": 0.9891608391608392,\u001b[0m\u001b[32m \u001b[0m│\n",
       "│\u001b[36m                        \u001b[0m│\u001b[35m              \u001b[0m│\u001b[32m \u001b[0m\u001b[32m        \"1000\": 0.9988031119090365\u001b[0m\u001b[32m \u001b[0m│\n",
       "│\u001b[36m                        \u001b[0m│\u001b[35m              \u001b[0m│\u001b[32m \u001b[0m\u001b[32m                                 }\u001b[0m\u001b[32m \u001b[0m│\n",
       "│\u001b[36m \u001b[0m\u001b[36mMRED_ARTIST_POPULARITY\u001b[0m\u001b[36m \u001b[0m│\u001b[35m \u001b[0m\u001b[35m            \u001b[0m\u001b[35m \u001b[0m│\u001b[32m \u001b[0m\u001b[32m                                 {\u001b[0m\u001b[32m \u001b[0m│\n",
       "│\u001b[36m                        \u001b[0m│\u001b[35m              \u001b[0m│\u001b[32m \u001b[0m\u001b[32m    \"mred\": -0.015556087082570058,\u001b[0m\u001b[32m \u001b[0m│\n",
       "│\u001b[36m                        \u001b[0m│\u001b[35m              \u001b[0m│\u001b[32m \u001b[0m\u001b[32m         \"mr\": 0.9727811049054572,\u001b[0m\u001b[32m \u001b[0m│\n",
       "│\u001b[36m                        \u001b[0m│\u001b[35m              \u001b[0m│\u001b[32m \u001b[0m\u001b[32m          \"1\": 0.9506545820745217,\u001b[0m\u001b[32m \u001b[0m│\n",
       "│\u001b[36m                        \u001b[0m│\u001b[35m              \u001b[0m│\u001b[32m \u001b[0m\u001b[32m         \"100\": 0.951885767499612,\u001b[0m\u001b[32m \u001b[0m│\n",
       "│\u001b[36m                        \u001b[0m│\u001b[35m              \u001b[0m│\u001b[32m \u001b[0m\u001b[32m       \"1000\": 0.9741259313845901,\u001b[0m\u001b[32m \u001b[0m│\n",
       "│\u001b[36m                        \u001b[0m│\u001b[35m              \u001b[0m│\u001b[32m \u001b[0m\u001b[32m       \"10000\": 0.9906387665198237\u001b[0m\u001b[32m \u001b[0m│\n",
       "│\u001b[36m                        \u001b[0m│\u001b[35m              \u001b[0m│\u001b[32m \u001b[0m\u001b[32m                                 }\u001b[0m\u001b[32m \u001b[0m│\n",
       "│\u001b[36m \u001b[0m\u001b[36m           MRED_GENDER\u001b[0m\u001b[36m \u001b[0m│\u001b[35m \u001b[0m\u001b[35m            \u001b[0m\u001b[35m \u001b[0m│\u001b[32m \u001b[0m\u001b[32m                                 {\u001b[0m\u001b[32m \u001b[0m│\n",
       "│\u001b[36m                        \u001b[0m│\u001b[35m              \u001b[0m│\u001b[32m \u001b[0m\u001b[32m    \"mred\": -0.002707459633229381,\u001b[0m\u001b[32m \u001b[0m│\n",
       "│\u001b[36m                        \u001b[0m│\u001b[35m              \u001b[0m│\u001b[32m \u001b[0m\u001b[32m         \"mr\": 0.9727811049054572,\u001b[0m\u001b[32m \u001b[0m│\n",
       "│\u001b[36m                        \u001b[0m│\u001b[35m              \u001b[0m│\u001b[32m \u001b[0m\u001b[32m          \"f\": 0.9757794382891007,\u001b[0m\u001b[32m \u001b[0m│\n",
       "│\u001b[36m                        \u001b[0m│\u001b[35m              \u001b[0m│\u001b[32m \u001b[0m\u001b[32m          \"m\": 0.9754122938530735,\u001b[0m\u001b[32m \u001b[0m│\n",
       "│\u001b[36m                        \u001b[0m│\u001b[35m              \u001b[0m│\u001b[32m \u001b[0m\u001b[32m           \"n\": 0.9702882483370289\u001b[0m\u001b[32m \u001b[0m│\n",
       "│\u001b[36m                        \u001b[0m│\u001b[35m              \u001b[0m│\u001b[32m \u001b[0m\u001b[32m                                 }\u001b[0m\u001b[32m \u001b[0m│\n",
       "│\u001b[36m \u001b[0m\u001b[36m      BEING_LESS_WRONG\u001b[0m\u001b[36m \u001b[0m│\u001b[35m \u001b[0m\u001b[35m            \u001b[0m\u001b[35m \u001b[0m│\u001b[32m \u001b[0m\u001b[32m                             0.304\u001b[0m\u001b[32m \u001b[0m│\n",
       "└────────────────────────┴──────────────┴────────────────────────────────────┘\n"
      ]
     },
     "metadata": {},
     "output_type": "display_data"
    },
    {
     "name": "stdout",
     "output_type": "stream",
     "text": [
      "CPU times: user 1.4 s, sys: 552 ms, total: 1.95 s\n",
      "Wall time: 1.41 s\n"
     ]
    },
    {
     "data": {
      "image/png": "[encoded data removed]",
      "text/plain": [
       "<Figure size 640x480 with 1 Axes>"
      ]
     },
     "metadata": {},
     "output_type": "display_data"
    },
    {
     "data": {
      "image/png": "[encoded data removed]",
      "text/plain": [
       "<Figure size 640x480 with 1 Axes>"
      ]
     },
     "metadata": {},
     "output_type": "display_data"
    },
    {
     "data": {
      "image/png": "[encoded data removed]",
      "text/plain": [
       "<Figure size 640x480 with 1 Axes>"
      ]
     },
     "metadata": {},
     "output_type": "display_data"
    },
    {
     "data": {
      "image/png": "[encoded data removed]",
      "text/plain": [
       "<Figure size 640x480 with 1 Axes>"
      ]
     },
     "metadata": {},
     "output_type": "display_data"
    },
    {
     "data": {
      "image/png": "[encoded data removed]",
      "text/plain": [
       "<Figure size 640x480 with 1 Axes>"
      ]
     },
     "metadata": {},
     "output_type": "display_data"
    }
   ],
   "source": [
    "%%time\n",
    "cdf = EvalRSReclist(\n",
    "    dataset=dataset,\n",
    "    model_name=\"Two-Tower\",\n",
    "    predictions=tt_predictions_df,\n",
    "    logger=LOGGER.LOCAL,\n",
    "    metadata_store=METADATA_STORE.LOCAL,\n",
    "    similarity_model=similarity_model,\n",
    ")\n",
    "\n",
    "# run reclist\n",
    "cdf(verbose=True)"
   ]
  },
  {
   "cell_type": "code",
   "execution_count": 44,
   "metadata": {},
   "outputs": [],
   "source": [
    "export_preds(tt_predictions_df, \"tt_test_preds.parquet\")"
   ]
  },
  {
   "cell_type": "markdown",
   "metadata": {},
   "source": [
    "## Conclusion"
   ]
  },
  {
   "cell_type": "markdown",
   "metadata": {},
   "source": [
    "In this notebook you have learned how build retrieval models (MF, Two-Tower) with the [Merlin](https://github.com/NVIDIA-Merlin/) open-source framework for the EvalRS hackaton on the LastFM dataset. \n",
    "Feel free to try improving the accuracy by feature engineering, modeling changes or hypertuning."
   ]
  },
  {
   "cell_type": "code",
   "execution_count": null,
   "metadata": {},
   "outputs": [],
   "source": []
  }
 ],
 "metadata": {
  "kernelspec": {
   "display_name": "Python 3 (ipykernel)",
   "language": "python",
   "name": "python3"
  },
  "language_info": {
   "codemirror_mode": {
    "name": "ipython",
    "version": 3
   },
   "file_extension": ".py",
   "mimetype": "text/x-python",
   "name": "python",
   "nbconvert_exporter": "python",
   "pygments_lexer": "ipython3",
   "version": "3.8.10"
  }
 },
 "nbformat": 4,
 "nbformat_minor": 1
}
