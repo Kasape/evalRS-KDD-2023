{
 "cells": [
  {
   "cell_type": "markdown",
   "id": "099d6dd8-19ec-4174-a67f-6e07c22251de",
   "metadata": {},
   "source": [
    "# Running a dummy model\n",
    "\n",
    "This notebook is a near replica of our [Colab notebook](https://colab.research.google.com/drive/1QeXglfCUEcscHB6L0Gch2qDKDDlfwLlq?usp=sharing#scrollTo=qYkGWADDxdlL) which demonstrates the same thing. \n",
    "\n",
    "This is the official repository for [EvalRS @ KDD 2023](https://reclist.io/kdd2023-cup/): _a Well-Rounded Evaluation of Recommender Systems_.\n",
    "\n",
    "During KDD 2023 we will host a pizza hackathon night, where participants will pursue innovative projects for the rounded evaluation of recommender systems. The aim of the hackathon is to evaluate recommender systems across a set of important dimensions (accuracy being _one_ of them) through a principled and re-usable sets of abstractions, as provided by [RecList](https://github.com/jacopotagliabue/reclist) 🚀.\n",
    "\n",
    "Organizers will provide in advance an open dataset and tools to help the teams, and award monetary prizes for the best projects. Everything will go back to the community as open source contributions!\n",
    "\n",
    "This is a basic notebook that should get you up to speed on how to write code and models for EvalRS2023. We suggest running this notebook using either venv or conda to manage your python dependencies. This notebook makes the following assumptions:\n",
    "\n",
    "- unix-like \n",
    "- write access to your `$HOME` dir\n",
    "- Jupyter kernel running correctly. See [this guide on Jupyter + virutal environments for setup](https://janakiev.com/blog/jupyter-virtual-envs/).\n",
    "\n",
    "\n",
    "The first cell is a setup cell that will clone the reclist repo localling and install it into your environment."
   ]
  },
  {
   "cell_type": "code",
   "execution_count": null,
   "id": "b635c71b-ac2c-4d64-af6a-fba1ff6a2f24",
   "metadata": {
    "tags": []
   },
   "outputs": [],
   "source": [
    "%%sh\n",
    "pushd $HOME/\n",
    "# make a workspace for us\n",
    "mkdir -p reclist_workspace\n",
    "cd reclist_workspace\n",
    "git clone https://github.com/Reclist/reclist/\n",
    "cd reclist\n",
    "echo \"*********installing reclist requirements**************\"\n",
    "pip install -e .\n",
    "popd\n",
    "echo \"*********installing kdd 2023 requirements**************\"\n",
    "pip install -r requirements.txt"
   ]
  },
  {
   "cell_type": "markdown",
   "id": "a1ee3b0d-1310-4c2c-9118-baaf5547583a",
   "metadata": {},
   "source": [
    "The following cell ensures that we add the `evalRS-KDD-2023` repo to the working path so our kernel can load it correctly and loads the rest of our dependencies. "
   ]
  },
  {
   "cell_type": "code",
   "execution_count": 2,
   "id": "9beab2ca-c21d-4be3-a18c-ab246693c7d4",
   "metadata": {},
   "outputs": [],
   "source": [
    "import os\n",
    "import sys\n",
    "import pandas as pd\n",
    "import numpy as np\n",
    "sys.path.append(os.path.abspath('./evaluation'))\n",
    "\n",
    "from EvalRSRunner import ChallengeDataset\n",
    "from EvalRSReclist import EvalRSReclist\n",
    "from reclist.reclist import LOGGER, METADATA_STORE\n",
    "\n"
   ]
  },
  {
   "cell_type": "code",
   "execution_count": 3,
   "id": "ab09cf41-1929-4267-a798-dcbbb70b60a5",
   "metadata": {},
   "outputs": [
    {
     "name": "stdout",
     "output_type": "stream",
     "text": [
      "LFM dataset already downloaded. Skipping download.\n",
      "Loading dataset.\n",
      "Generating Train/Test Split.\n",
      "Generating dataset hashes.\n"
     ]
    }
   ],
   "source": [
    "# will automatically load it if it finds a cached copy locally.\n",
    "dataset = ChallengeDataset()"
   ]
  },
  {
   "cell_type": "markdown",
   "id": "6f31c34c-1357-4214-a311-7589e200f6cd",
   "metadata": {},
   "source": [
    "Our basic class wrapper that shows how to define `predict`."
   ]
  },
  {
   "cell_type": "code",
   "execution_count": 4,
   "id": "01f63a6c-9eb9-49cd-a77c-a7f52ff7fc95",
   "metadata": {
    "tags": []
   },
   "outputs": [],
   "source": [
    "class EvalRSSimpleModel(object):\n",
    "    \"\"\"\n",
    "    This is a dummy model that returns random predictions on the EvalRS dataset.\n",
    "    \"\"\"\n",
    "    def __init__(self, items: pd.DataFrame, top_k: int=10, **kwargs):\n",
    "        self.items = items\n",
    "        self.top_k = top_k\n",
    "        print(\"Received additional arglol uments: {}\".format(kwargs))\n",
    "\n",
    "    def predict(self, user_ids: pd.DataFrame) -> pd.DataFrame:\n",
    "        k = self.top_k\n",
    "        num_users = len(user_ids)\n",
    "        pred = self.items.sample(n=k*num_users, replace=True).index.values\n",
    "        pred = pred.reshape(num_users, k)\n",
    "        pred = np.concatenate((user_ids[['user_id']].values, pred), axis=1)\n",
    "        return pd.DataFrame(pred, columns=['user_id', *[str(i) for i in range(k)]]).set_index('user_id')"
   ]
  },
  {
   "cell_type": "code",
   "execution_count": null,
   "id": "984f0998-0f16-4e0d-9b4b-dde8a2c6cf0c",
   "metadata": {},
   "outputs": [],
   "source": []
  },
  {
   "cell_type": "code",
   "execution_count": 5,
   "id": "bd6b06f3-a73f-4c87-b44c-a43bd7eb51c2",
   "metadata": {
    "tags": []
   },
   "outputs": [
    {
     "name": "stdout",
     "output_type": "stream",
     "text": [
      "Received additional arglol uments: {}\n"
     ]
    }
   ],
   "source": [
    "# dummy model\n",
    "my_df_model = EvalRSSimpleModel(dataset.df_tracks, top_k=100)\n",
    "# get some predictions\n",
    "df_predictions = my_df_model.predict(dataset._get_test_set(fold=0)[['user_id']])"
   ]
  },
  {
   "cell_type": "code",
   "execution_count": 7,
   "id": "84b72559-2297-4c5e-8716-7bef2cd6a299",
   "metadata": {
    "tags": []
   },
   "outputs": [
    {
     "data": {
      "text/html": [
       "<pre style=\"white-space:pre;overflow-x:auto;line-height:normal;font-family:Menlo,'DejaVu Sans Mono',consolas,'Courier New',monospace\">Running RecTests <span style=\"color: #729c1f; text-decoration-color: #729c1f\">━━━━━━━━━━━━━━━━━━━━━━━━━━━━━━━━━━━━━━━━</span> <span style=\"color: #800080; text-decoration-color: #800080\">100%</span> <span style=\"color: #808000; text-decoration-color: #808000\">0:00:18</span>\n",
       "</pre>\n"
      ],
      "text/plain": [
       "Running RecTests \u001b[38;2;114;156;31m━━━━━━━━━━━━━━━━━━━━━━━━━━━━━━━━━━━━━━━━\u001b[0m \u001b[35m100%\u001b[0m \u001b[33m0:00:18\u001b[0m\n"
      ]
     },
     "metadata": {},
     "output_type": "display_data"
    },
    {
     "data": {
      "text/html": [
       "<pre style=\"white-space:pre;overflow-x:auto;line-height:normal;font-family:Menlo,'DejaVu Sans Mono',consolas,'Courier New',monospace\"></pre>\n"
      ],
      "text/plain": []
     },
     "metadata": {},
     "output_type": "display_data"
    },
    {
     "data": {
      "text/html": [
       "<pre style=\"white-space:pre;overflow-x:auto;line-height:normal;font-family:Menlo,'DejaVu Sans Mono',consolas,'Courier New',monospace\">\n",
       "</pre>\n"
      ],
      "text/plain": [
       "\n"
      ]
     },
     "metadata": {},
     "output_type": "display_data"
    },
    {
     "data": {
      "text/html": [
       "<pre style=\"white-space:pre;overflow-x:auto;line-height:normal;font-family:Menlo,'DejaVu Sans Mono',consolas,'Courier New',monospace\"><span style=\"font-style: italic\">                                 EvalRSReclist                                  </span>\n",
       "┏━━━━━━━━━━━━━━━━━━━━━━━━┳━━━━━━━━━━━━━━┳━━━━━━━━━━━━━━━━━━━━━━━━━━━━━━━━━━━━━━┓\n",
       "┃<span style=\"font-weight: bold\">                   Type </span>┃<span style=\"font-weight: bold\"> Description  </span>┃<span style=\"font-weight: bold\">                               Result </span>┃\n",
       "┡━━━━━━━━━━━━━━━━━━━━━━━━╇━━━━━━━━━━━━━━╇━━━━━━━━━━━━━━━━━━━━━━━━━━━━━━━━━━━━━━┩\n",
       "│<span style=\"color: #008080; text-decoration-color: #008080\">                  stats </span>│<span style=\"color: #800080; text-decoration-color: #800080\">              </span>│<span style=\"color: #008000; text-decoration-color: #008000\">                                    { </span>│\n",
       "│<span style=\"color: #008080; text-decoration-color: #008080\">                        </span>│<span style=\"color: #800080; text-decoration-color: #800080\">              </span>│<span style=\"color: #008000; text-decoration-color: #008000\">                  \"num_users\": 29741, </span>│\n",
       "│<span style=\"color: #008080; text-decoration-color: #008080\">                        </span>│<span style=\"color: #800080; text-decoration-color: #800080\">              </span>│<span style=\"color: #008000; text-decoration-color: #008000\">                      \"max_items\": 1, </span>│\n",
       "│<span style=\"color: #008080; text-decoration-color: #008080\">                        </span>│<span style=\"color: #800080; text-decoration-color: #800080\">              </span>│<span style=\"color: #008000; text-decoration-color: #008000\">                       \"min_items\": 1 </span>│\n",
       "│<span style=\"color: #008080; text-decoration-color: #008080\">                        </span>│<span style=\"color: #800080; text-decoration-color: #800080\">              </span>│<span style=\"color: #008000; text-decoration-color: #008000\">                                    } </span>│\n",
       "│<span style=\"color: #008080; text-decoration-color: #008080\">               HIT_RATE </span>│<span style=\"color: #800080; text-decoration-color: #800080\">              </span>│<span style=\"color: #008000; text-decoration-color: #008000\">                               0.0001 </span>│\n",
       "│<span style=\"color: #008080; text-decoration-color: #008080\">                    MRR </span>│<span style=\"color: #800080; text-decoration-color: #800080\">              </span>│<span style=\"color: #008000; text-decoration-color: #008000\">                                  0.0 </span>│\n",
       "│<span style=\"color: #008080; text-decoration-color: #008080\">           MRED_COUNTRY </span>│<span style=\"color: #800080; text-decoration-color: #800080\">              </span>│<span style=\"color: #008000; text-decoration-color: #008000\">                                    { </span>│\n",
       "│<span style=\"color: #008080; text-decoration-color: #008080\">                        </span>│<span style=\"color: #800080; text-decoration-color: #800080\">              </span>│<span style=\"color: #008000; text-decoration-color: #008000\">      \"mred\": -0.0001503472859805201, </span>│\n",
       "│<span style=\"color: #008080; text-decoration-color: #008080\">                        </span>│<span style=\"color: #800080; text-decoration-color: #800080\">              </span>│<span style=\"color: #008000; text-decoration-color: #008000\">            \"mr\": 0.9998475261111535, </span>│\n",
       "│<span style=\"color: #008080; text-decoration-color: #008080\">                        </span>│<span style=\"color: #800080; text-decoration-color: #800080\">              </span>│<span style=\"color: #008000; text-decoration-color: #008000\">                           \"BR\": 1.0, </span>│\n",
       "│<span style=\"color: #008080; text-decoration-color: #008080\">                        </span>│<span style=\"color: #800080; text-decoration-color: #800080\">              </span>│<span style=\"color: #008000; text-decoration-color: #008000\">                           \"CA\": 1.0, </span>│\n",
       "│<span style=\"color: #008080; text-decoration-color: #008080\">                        </span>│<span style=\"color: #800080; text-decoration-color: #800080\">              </span>│<span style=\"color: #008000; text-decoration-color: #008000\">                           \"DE\": 1.0, </span>│\n",
       "│<span style=\"color: #008080; text-decoration-color: #008080\">                        </span>│<span style=\"color: #800080; text-decoration-color: #800080\">              </span>│<span style=\"color: #008000; text-decoration-color: #008000\">                           \"ES\": 1.0, </span>│\n",
       "│<span style=\"color: #008080; text-decoration-color: #008080\">                        </span>│<span style=\"color: #800080; text-decoration-color: #800080\">              </span>│<span style=\"color: #008000; text-decoration-color: #008000\">                           \"FI\": 1.0, </span>│\n",
       "│<span style=\"color: #008080; text-decoration-color: #008080\">                        </span>│<span style=\"color: #800080; text-decoration-color: #800080\">              </span>│<span style=\"color: #008000; text-decoration-color: #008000\">                           \"FR\": 1.0, </span>│\n",
       "│<span style=\"color: #008080; text-decoration-color: #008080\">                        </span>│<span style=\"color: #800080; text-decoration-color: #800080\">              </span>│<span style=\"color: #008000; text-decoration-color: #008000\">                           \"NL\": 1.0, </span>│\n",
       "│<span style=\"color: #008080; text-decoration-color: #008080\">                        </span>│<span style=\"color: #800080; text-decoration-color: #800080\">              </span>│<span style=\"color: #008000; text-decoration-color: #008000\">           \"NaN\": 0.9998128041931861, </span>│\n",
       "│<span style=\"color: #008080; text-decoration-color: #008080\">                        </span>│<span style=\"color: #800080; text-decoration-color: #800080\">              </span>│<span style=\"color: #008000; text-decoration-color: #008000\">                           \"PL\": 1.0, </span>│\n",
       "│<span style=\"color: #008080; text-decoration-color: #008080\">                        </span>│<span style=\"color: #800080; text-decoration-color: #800080\">              </span>│<span style=\"color: #008000; text-decoration-color: #008000\">                           \"RU\": 1.0, </span>│\n",
       "│<span style=\"color: #008080; text-decoration-color: #008080\">                        </span>│<span style=\"color: #800080; text-decoration-color: #800080\">              </span>│<span style=\"color: #008000; text-decoration-color: #008000\">                           \"SE\": 1.0, </span>│\n",
       "│<span style=\"color: #008080; text-decoration-color: #008080\">                        </span>│<span style=\"color: #800080; text-decoration-color: #800080\">              </span>│<span style=\"color: #008000; text-decoration-color: #008000\">                           \"UA\": 1.0, </span>│\n",
       "│<span style=\"color: #008080; text-decoration-color: #008080\">                        </span>│<span style=\"color: #800080; text-decoration-color: #800080\">              </span>│<span style=\"color: #008000; text-decoration-color: #008000\">                           \"UK\": 1.0, </span>│\n",
       "│<span style=\"color: #008080; text-decoration-color: #008080\">                        </span>│<span style=\"color: #800080; text-decoration-color: #800080\">              </span>│<span style=\"color: #008000; text-decoration-color: #008000\">              \"US\": 0.999607072691552 </span>│\n",
       "│<span style=\"color: #008080; text-decoration-color: #008080\">                        </span>│<span style=\"color: #800080; text-decoration-color: #800080\">              </span>│<span style=\"color: #008000; text-decoration-color: #008000\">                                    } </span>│\n",
       "│<span style=\"color: #008080; text-decoration-color: #008080\">     MRED_USER_ACTIVITY </span>│<span style=\"color: #800080; text-decoration-color: #800080\">              </span>│<span style=\"color: #008000; text-decoration-color: #008000\">                                    { </span>│\n",
       "│<span style=\"color: #008080; text-decoration-color: #008080\">                        </span>│<span style=\"color: #800080; text-decoration-color: #800080\">              </span>│<span style=\"color: #008000; text-decoration-color: #008000\">     \"mred\": -0.00017705539794954372, </span>│\n",
       "│<span style=\"color: #008080; text-decoration-color: #008080\">                        </span>│<span style=\"color: #800080; text-decoration-color: #800080\">              </span>│<span style=\"color: #008000; text-decoration-color: #008000\">             \"mr\": 0.999865505531085, </span>│\n",
       "│<span style=\"color: #008080; text-decoration-color: #008080\">                        </span>│<span style=\"color: #800080; text-decoration-color: #800080\">              </span>│<span style=\"color: #008000; text-decoration-color: #008000\">                            \"1\": 1.0, </span>│\n",
       "│<span style=\"color: #008080; text-decoration-color: #008080\">                        </span>│<span style=\"color: #800080; text-decoration-color: #800080\">              </span>│<span style=\"color: #008000; text-decoration-color: #008000\">            \"100\": 0.999914511647788, </span>│\n",
       "│<span style=\"color: #008080; text-decoration-color: #008080\">                        </span>│<span style=\"color: #800080; text-decoration-color: #800080\">              </span>│<span style=\"color: #008000; text-decoration-color: #008000\">           \"1000\": 0.9995178399228544 </span>│\n",
       "│<span style=\"color: #008080; text-decoration-color: #008080\">                        </span>│<span style=\"color: #800080; text-decoration-color: #800080\">              </span>│<span style=\"color: #008000; text-decoration-color: #008000\">                                    } </span>│\n",
       "│<span style=\"color: #008080; text-decoration-color: #008080\">  MRED_TRACK_POPULARITY </span>│<span style=\"color: #800080; text-decoration-color: #800080\">              </span>│<span style=\"color: #008000; text-decoration-color: #008000\">                                    { </span>│\n",
       "│<span style=\"color: #008080; text-decoration-color: #008080\">                        </span>│<span style=\"color: #800080; text-decoration-color: #800080\">              </span>│<span style=\"color: #008000; text-decoration-color: #008000\">      \"mred\": -9.447082862584777e-05, </span>│\n",
       "│<span style=\"color: #008080; text-decoration-color: #008080\">                        </span>│<span style=\"color: #800080; text-decoration-color: #800080\">              </span>│<span style=\"color: #008000; text-decoration-color: #008000\">             \"mr\": 0.999865505531085, </span>│\n",
       "│<span style=\"color: #008080; text-decoration-color: #008080\">                        </span>│<span style=\"color: #800080; text-decoration-color: #800080\">              </span>│<span style=\"color: #008000; text-decoration-color: #008000\">                            \"1\": 1.0, </span>│\n",
       "│<span style=\"color: #008080; text-decoration-color: #008080\">                        </span>│<span style=\"color: #800080; text-decoration-color: #800080\">              </span>│<span style=\"color: #008000; text-decoration-color: #008000\">            \"10\": 0.9998096325909004, </span>│\n",
       "│<span style=\"color: #008080; text-decoration-color: #008080\">                        </span>│<span style=\"color: #800080; text-decoration-color: #800080\">              </span>│<span style=\"color: #008000; text-decoration-color: #008000\">           \"100\": 0.9999185269675738, </span>│\n",
       "│<span style=\"color: #008080; text-decoration-color: #008080\">                        </span>│<span style=\"color: #800080; text-decoration-color: #800080\">              </span>│<span style=\"color: #008000; text-decoration-color: #008000\">                          \"1000\": 1.0 </span>│\n",
       "│<span style=\"color: #008080; text-decoration-color: #008080\">                        </span>│<span style=\"color: #800080; text-decoration-color: #800080\">              </span>│<span style=\"color: #008000; text-decoration-color: #008000\">                                    } </span>│\n",
       "│<span style=\"color: #008080; text-decoration-color: #008080\"> MRED_ARTIST_POPULARITY </span>│<span style=\"color: #800080; text-decoration-color: #800080\">              </span>│<span style=\"color: #008000; text-decoration-color: #008000\">                                    { </span>│\n",
       "│<span style=\"color: #008080; text-decoration-color: #008080\">                        </span>│<span style=\"color: #800080; text-decoration-color: #800080\">              </span>│<span style=\"color: #008000; text-decoration-color: #008000\">     \"mred\": -0.00019263115558071364, </span>│\n",
       "│<span style=\"color: #008080; text-decoration-color: #008080\">                        </span>│<span style=\"color: #800080; text-decoration-color: #800080\">              </span>│<span style=\"color: #008000; text-decoration-color: #008000\">             \"mr\": 0.999865505531085, </span>│\n",
       "│<span style=\"color: #008080; text-decoration-color: #008080\">                        </span>│<span style=\"color: #800080; text-decoration-color: #800080\">              </span>│<span style=\"color: #008000; text-decoration-color: #008000\">             \"1\": 0.9992277992277993, </span>│\n",
       "│<span style=\"color: #008080; text-decoration-color: #008080\">                        </span>│<span style=\"color: #800080; text-decoration-color: #800080\">              </span>│<span style=\"color: #008000; text-decoration-color: #008000\">           \"100\": 0.9998234774933804, </span>│\n",
       "│<span style=\"color: #008080; text-decoration-color: #008080\">                        </span>│<span style=\"color: #800080; text-decoration-color: #800080\">              </span>│<span style=\"color: #008000; text-decoration-color: #008000\">          \"1000\": 0.9999216914643696, </span>│\n",
       "│<span style=\"color: #008080; text-decoration-color: #008080\">                        </span>│<span style=\"color: #800080; text-decoration-color: #800080\">              </span>│<span style=\"color: #008000; text-decoration-color: #008000\">          \"10000\": 0.9999001098791329 </span>│\n",
       "│<span style=\"color: #008080; text-decoration-color: #008080\">                        </span>│<span style=\"color: #800080; text-decoration-color: #800080\">              </span>│<span style=\"color: #008000; text-decoration-color: #008000\">                                    } </span>│\n",
       "│<span style=\"color: #008080; text-decoration-color: #008080\">            MRED_GENDER </span>│<span style=\"color: #800080; text-decoration-color: #800080\">              </span>│<span style=\"color: #008000; text-decoration-color: #008000\">                                    { </span>│\n",
       "│<span style=\"color: #008080; text-decoration-color: #008080\">                        </span>│<span style=\"color: #800080; text-decoration-color: #800080\">              </span>│<span style=\"color: #008000; text-decoration-color: #008000\">     \"mred\": -0.00012935877081832192, </span>│\n",
       "│<span style=\"color: #008080; text-decoration-color: #008080\">                        </span>│<span style=\"color: #800080; text-decoration-color: #800080\">              </span>│<span style=\"color: #008000; text-decoration-color: #008000\">             \"mr\": 0.999865505531085, </span>│\n",
       "│<span style=\"color: #008080; text-decoration-color: #008080\">                        </span>│<span style=\"color: #800080; text-decoration-color: #800080\">              </span>│<span style=\"color: #008000; text-decoration-color: #008000\">                            \"f\": 1.0, </span>│\n",
       "│<span style=\"color: #008080; text-decoration-color: #008080\">                        </span>│<span style=\"color: #800080; text-decoration-color: #800080\">              </span>│<span style=\"color: #008000; text-decoration-color: #008000\">                            \"m\": 1.0, </span>│\n",
       "│<span style=\"color: #008080; text-decoration-color: #008080\">                        </span>│<span style=\"color: #800080; text-decoration-color: #800080\">              </span>│<span style=\"color: #008000; text-decoration-color: #008000\">                \"n\": 0.99974641815646 </span>│\n",
       "│<span style=\"color: #008080; text-decoration-color: #008080\">                        </span>│<span style=\"color: #800080; text-decoration-color: #800080\">              </span>│<span style=\"color: #008000; text-decoration-color: #008000\">                                    } </span>│\n",
       "└────────────────────────┴──────────────┴──────────────────────────────────────┘\n",
       "</pre>\n"
      ],
      "text/plain": [
       "\u001b[3m                                 EvalRSReclist                                  \u001b[0m\n",
       "┏━━━━━━━━━━━━━━━━━━━━━━━━┳━━━━━━━━━━━━━━┳━━━━━━━━━━━━━━━━━━━━━━━━━━━━━━━━━━━━━━┓\n",
       "┃\u001b[1m \u001b[0m\u001b[1m                  Type\u001b[0m\u001b[1m \u001b[0m┃\u001b[1m \u001b[0m\u001b[1mDescription \u001b[0m\u001b[1m \u001b[0m┃\u001b[1m \u001b[0m\u001b[1m                              Result\u001b[0m\u001b[1m \u001b[0m┃\n",
       "┡━━━━━━━━━━━━━━━━━━━━━━━━╇━━━━━━━━━━━━━━╇━━━━━━━━━━━━━━━━━━━━━━━━━━━━━━━━━━━━━━┩\n",
       "│\u001b[36m \u001b[0m\u001b[36m                 stats\u001b[0m\u001b[36m \u001b[0m│\u001b[35m \u001b[0m\u001b[35m            \u001b[0m\u001b[35m \u001b[0m│\u001b[32m \u001b[0m\u001b[32m                                   {\u001b[0m\u001b[32m \u001b[0m│\n",
       "│\u001b[36m                        \u001b[0m│\u001b[35m              \u001b[0m│\u001b[32m \u001b[0m\u001b[32m                 \"num_users\": 29741,\u001b[0m\u001b[32m \u001b[0m│\n",
       "│\u001b[36m                        \u001b[0m│\u001b[35m              \u001b[0m│\u001b[32m \u001b[0m\u001b[32m                     \"max_items\": 1,\u001b[0m\u001b[32m \u001b[0m│\n",
       "│\u001b[36m                        \u001b[0m│\u001b[35m              \u001b[0m│\u001b[32m \u001b[0m\u001b[32m                      \"min_items\": 1\u001b[0m\u001b[32m \u001b[0m│\n",
       "│\u001b[36m                        \u001b[0m│\u001b[35m              \u001b[0m│\u001b[32m \u001b[0m\u001b[32m                                   }\u001b[0m\u001b[32m \u001b[0m│\n",
       "│\u001b[36m \u001b[0m\u001b[36m              HIT_RATE\u001b[0m\u001b[36m \u001b[0m│\u001b[35m \u001b[0m\u001b[35m            \u001b[0m\u001b[35m \u001b[0m│\u001b[32m \u001b[0m\u001b[32m                              0.0001\u001b[0m\u001b[32m \u001b[0m│\n",
       "│\u001b[36m \u001b[0m\u001b[36m                   MRR\u001b[0m\u001b[36m \u001b[0m│\u001b[35m \u001b[0m\u001b[35m            \u001b[0m\u001b[35m \u001b[0m│\u001b[32m \u001b[0m\u001b[32m                                 0.0\u001b[0m\u001b[32m \u001b[0m│\n",
       "│\u001b[36m \u001b[0m\u001b[36m          MRED_COUNTRY\u001b[0m\u001b[36m \u001b[0m│\u001b[35m \u001b[0m\u001b[35m            \u001b[0m\u001b[35m \u001b[0m│\u001b[32m \u001b[0m\u001b[32m                                   {\u001b[0m\u001b[32m \u001b[0m│\n",
       "│\u001b[36m                        \u001b[0m│\u001b[35m              \u001b[0m│\u001b[32m \u001b[0m\u001b[32m     \"mred\": -0.0001503472859805201,\u001b[0m\u001b[32m \u001b[0m│\n",
       "│\u001b[36m                        \u001b[0m│\u001b[35m              \u001b[0m│\u001b[32m \u001b[0m\u001b[32m           \"mr\": 0.9998475261111535,\u001b[0m\u001b[32m \u001b[0m│\n",
       "│\u001b[36m                        \u001b[0m│\u001b[35m              \u001b[0m│\u001b[32m \u001b[0m\u001b[32m                          \"BR\": 1.0,\u001b[0m\u001b[32m \u001b[0m│\n",
       "│\u001b[36m                        \u001b[0m│\u001b[35m              \u001b[0m│\u001b[32m \u001b[0m\u001b[32m                          \"CA\": 1.0,\u001b[0m\u001b[32m \u001b[0m│\n",
       "│\u001b[36m                        \u001b[0m│\u001b[35m              \u001b[0m│\u001b[32m \u001b[0m\u001b[32m                          \"DE\": 1.0,\u001b[0m\u001b[32m \u001b[0m│\n",
       "│\u001b[36m                        \u001b[0m│\u001b[35m              \u001b[0m│\u001b[32m \u001b[0m\u001b[32m                          \"ES\": 1.0,\u001b[0m\u001b[32m \u001b[0m│\n",
       "│\u001b[36m                        \u001b[0m│\u001b[35m              \u001b[0m│\u001b[32m \u001b[0m\u001b[32m                          \"FI\": 1.0,\u001b[0m\u001b[32m \u001b[0m│\n",
       "│\u001b[36m                        \u001b[0m│\u001b[35m              \u001b[0m│\u001b[32m \u001b[0m\u001b[32m                          \"FR\": 1.0,\u001b[0m\u001b[32m \u001b[0m│\n",
       "│\u001b[36m                        \u001b[0m│\u001b[35m              \u001b[0m│\u001b[32m \u001b[0m\u001b[32m                          \"NL\": 1.0,\u001b[0m\u001b[32m \u001b[0m│\n",
       "│\u001b[36m                        \u001b[0m│\u001b[35m              \u001b[0m│\u001b[32m \u001b[0m\u001b[32m          \"NaN\": 0.9998128041931861,\u001b[0m\u001b[32m \u001b[0m│\n",
       "│\u001b[36m                        \u001b[0m│\u001b[35m              \u001b[0m│\u001b[32m \u001b[0m\u001b[32m                          \"PL\": 1.0,\u001b[0m\u001b[32m \u001b[0m│\n",
       "│\u001b[36m                        \u001b[0m│\u001b[35m              \u001b[0m│\u001b[32m \u001b[0m\u001b[32m                          \"RU\": 1.0,\u001b[0m\u001b[32m \u001b[0m│\n",
       "│\u001b[36m                        \u001b[0m│\u001b[35m              \u001b[0m│\u001b[32m \u001b[0m\u001b[32m                          \"SE\": 1.0,\u001b[0m\u001b[32m \u001b[0m│\n",
       "│\u001b[36m                        \u001b[0m│\u001b[35m              \u001b[0m│\u001b[32m \u001b[0m\u001b[32m                          \"UA\": 1.0,\u001b[0m\u001b[32m \u001b[0m│\n",
       "│\u001b[36m                        \u001b[0m│\u001b[35m              \u001b[0m│\u001b[32m \u001b[0m\u001b[32m                          \"UK\": 1.0,\u001b[0m\u001b[32m \u001b[0m│\n",
       "│\u001b[36m                        \u001b[0m│\u001b[35m              \u001b[0m│\u001b[32m \u001b[0m\u001b[32m             \"US\": 0.999607072691552\u001b[0m\u001b[32m \u001b[0m│\n",
       "│\u001b[36m                        \u001b[0m│\u001b[35m              \u001b[0m│\u001b[32m \u001b[0m\u001b[32m                                   }\u001b[0m\u001b[32m \u001b[0m│\n",
       "│\u001b[36m \u001b[0m\u001b[36m    MRED_USER_ACTIVITY\u001b[0m\u001b[36m \u001b[0m│\u001b[35m \u001b[0m\u001b[35m            \u001b[0m\u001b[35m \u001b[0m│\u001b[32m \u001b[0m\u001b[32m                                   {\u001b[0m\u001b[32m \u001b[0m│\n",
       "│\u001b[36m                        \u001b[0m│\u001b[35m              \u001b[0m│\u001b[32m \u001b[0m\u001b[32m    \"mred\": -0.00017705539794954372,\u001b[0m\u001b[32m \u001b[0m│\n",
       "│\u001b[36m                        \u001b[0m│\u001b[35m              \u001b[0m│\u001b[32m \u001b[0m\u001b[32m            \"mr\": 0.999865505531085,\u001b[0m\u001b[32m \u001b[0m│\n",
       "│\u001b[36m                        \u001b[0m│\u001b[35m              \u001b[0m│\u001b[32m \u001b[0m\u001b[32m                           \"1\": 1.0,\u001b[0m\u001b[32m \u001b[0m│\n",
       "│\u001b[36m                        \u001b[0m│\u001b[35m              \u001b[0m│\u001b[32m \u001b[0m\u001b[32m           \"100\": 0.999914511647788,\u001b[0m\u001b[32m \u001b[0m│\n",
       "│\u001b[36m                        \u001b[0m│\u001b[35m              \u001b[0m│\u001b[32m \u001b[0m\u001b[32m          \"1000\": 0.9995178399228544\u001b[0m\u001b[32m \u001b[0m│\n",
       "│\u001b[36m                        \u001b[0m│\u001b[35m              \u001b[0m│\u001b[32m \u001b[0m\u001b[32m                                   }\u001b[0m\u001b[32m \u001b[0m│\n",
       "│\u001b[36m \u001b[0m\u001b[36m MRED_TRACK_POPULARITY\u001b[0m\u001b[36m \u001b[0m│\u001b[35m \u001b[0m\u001b[35m            \u001b[0m\u001b[35m \u001b[0m│\u001b[32m \u001b[0m\u001b[32m                                   {\u001b[0m\u001b[32m \u001b[0m│\n",
       "│\u001b[36m                        \u001b[0m│\u001b[35m              \u001b[0m│\u001b[32m \u001b[0m\u001b[32m     \"mred\": -9.447082862584777e-05,\u001b[0m\u001b[32m \u001b[0m│\n",
       "│\u001b[36m                        \u001b[0m│\u001b[35m              \u001b[0m│\u001b[32m \u001b[0m\u001b[32m            \"mr\": 0.999865505531085,\u001b[0m\u001b[32m \u001b[0m│\n",
       "│\u001b[36m                        \u001b[0m│\u001b[35m              \u001b[0m│\u001b[32m \u001b[0m\u001b[32m                           \"1\": 1.0,\u001b[0m\u001b[32m \u001b[0m│\n",
       "│\u001b[36m                        \u001b[0m│\u001b[35m              \u001b[0m│\u001b[32m \u001b[0m\u001b[32m           \"10\": 0.9998096325909004,\u001b[0m\u001b[32m \u001b[0m│\n",
       "│\u001b[36m                        \u001b[0m│\u001b[35m              \u001b[0m│\u001b[32m \u001b[0m\u001b[32m          \"100\": 0.9999185269675738,\u001b[0m\u001b[32m \u001b[0m│\n",
       "│\u001b[36m                        \u001b[0m│\u001b[35m              \u001b[0m│\u001b[32m \u001b[0m\u001b[32m                         \"1000\": 1.0\u001b[0m\u001b[32m \u001b[0m│\n",
       "│\u001b[36m                        \u001b[0m│\u001b[35m              \u001b[0m│\u001b[32m \u001b[0m\u001b[32m                                   }\u001b[0m\u001b[32m \u001b[0m│\n",
       "│\u001b[36m \u001b[0m\u001b[36mMRED_ARTIST_POPULARITY\u001b[0m\u001b[36m \u001b[0m│\u001b[35m \u001b[0m\u001b[35m            \u001b[0m\u001b[35m \u001b[0m│\u001b[32m \u001b[0m\u001b[32m                                   {\u001b[0m\u001b[32m \u001b[0m│\n",
       "│\u001b[36m                        \u001b[0m│\u001b[35m              \u001b[0m│\u001b[32m \u001b[0m\u001b[32m    \"mred\": -0.00019263115558071364,\u001b[0m\u001b[32m \u001b[0m│\n",
       "│\u001b[36m                        \u001b[0m│\u001b[35m              \u001b[0m│\u001b[32m \u001b[0m\u001b[32m            \"mr\": 0.999865505531085,\u001b[0m\u001b[32m \u001b[0m│\n",
       "│\u001b[36m                        \u001b[0m│\u001b[35m              \u001b[0m│\u001b[32m \u001b[0m\u001b[32m            \"1\": 0.9992277992277993,\u001b[0m\u001b[32m \u001b[0m│\n",
       "│\u001b[36m                        \u001b[0m│\u001b[35m              \u001b[0m│\u001b[32m \u001b[0m\u001b[32m          \"100\": 0.9998234774933804,\u001b[0m\u001b[32m \u001b[0m│\n",
       "│\u001b[36m                        \u001b[0m│\u001b[35m              \u001b[0m│\u001b[32m \u001b[0m\u001b[32m         \"1000\": 0.9999216914643696,\u001b[0m\u001b[32m \u001b[0m│\n",
       "│\u001b[36m                        \u001b[0m│\u001b[35m              \u001b[0m│\u001b[32m \u001b[0m\u001b[32m         \"10000\": 0.9999001098791329\u001b[0m\u001b[32m \u001b[0m│\n",
       "│\u001b[36m                        \u001b[0m│\u001b[35m              \u001b[0m│\u001b[32m \u001b[0m\u001b[32m                                   }\u001b[0m\u001b[32m \u001b[0m│\n",
       "│\u001b[36m \u001b[0m\u001b[36m           MRED_GENDER\u001b[0m\u001b[36m \u001b[0m│\u001b[35m \u001b[0m\u001b[35m            \u001b[0m\u001b[35m \u001b[0m│\u001b[32m \u001b[0m\u001b[32m                                   {\u001b[0m\u001b[32m \u001b[0m│\n",
       "│\u001b[36m                        \u001b[0m│\u001b[35m              \u001b[0m│\u001b[32m \u001b[0m\u001b[32m    \"mred\": -0.00012935877081832192,\u001b[0m\u001b[32m \u001b[0m│\n",
       "│\u001b[36m                        \u001b[0m│\u001b[35m              \u001b[0m│\u001b[32m \u001b[0m\u001b[32m            \"mr\": 0.999865505531085,\u001b[0m\u001b[32m \u001b[0m│\n",
       "│\u001b[36m                        \u001b[0m│\u001b[35m              \u001b[0m│\u001b[32m \u001b[0m\u001b[32m                           \"f\": 1.0,\u001b[0m\u001b[32m \u001b[0m│\n",
       "│\u001b[36m                        \u001b[0m│\u001b[35m              \u001b[0m│\u001b[32m \u001b[0m\u001b[32m                           \"m\": 1.0,\u001b[0m\u001b[32m \u001b[0m│\n",
       "│\u001b[36m                        \u001b[0m│\u001b[35m              \u001b[0m│\u001b[32m \u001b[0m\u001b[32m               \"n\": 0.99974641815646\u001b[0m\u001b[32m \u001b[0m│\n",
       "│\u001b[36m                        \u001b[0m│\u001b[35m              \u001b[0m│\u001b[32m \u001b[0m\u001b[32m                                   }\u001b[0m\u001b[32m \u001b[0m│\n",
       "└────────────────────────┴──────────────┴──────────────────────────────────────┘\n"
      ]
     },
     "metadata": {},
     "output_type": "display_data"
    }
   ],
   "source": [
    "# initialize with everything\n",
    "cdf = EvalRSReclist(\n",
    "    dataset=dataset,\n",
    "    model_name=\"SimpleModel\",\n",
    "    predictions=df_predictions,\n",
    "    logger=LOGGER.LOCAL,\n",
    "    metadata_store=METADATA_STORE.LOCAL,\n",
    ")\n",
    "\n",
    "# run reclist\n",
    "cdf(verbose=True)"
   ]
  },
  {
   "cell_type": "code",
   "execution_count": null,
   "id": "10aa5bf8-747a-4641-ad8c-41a6b2eaf1d4",
   "metadata": {},
   "outputs": [],
   "source": []
  },
  {
   "cell_type": "code",
   "execution_count": null,
   "id": "903ea152-2f88-496d-8cce-65c51988fa35",
   "metadata": {},
   "outputs": [],
   "source": []
  }
 ],
 "metadata": {
  "kernelspec": {
   "display_name": "kdd_conda",
   "language": "python",
   "name": "kdd_conda"
  },
  "language_info": {
   "codemirror_mode": {
    "name": "ipython",
    "version": 3
   },
   "file_extension": ".py",
   "mimetype": "text/x-python",
   "name": "python",
   "nbconvert_exporter": "python",
   "pygments_lexer": "ipython3",
   "version": "3.11.4"
  }
 },
 "nbformat": 4,
 "nbformat_minor": 5
}
